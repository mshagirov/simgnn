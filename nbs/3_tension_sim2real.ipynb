{
 "cells": [
  {
   "cell_type": "markdown",
   "metadata": {},
   "source": [
    "# Graph Neural Network\n",
    "---\n",
    "> Graph neural network model for vertex dynamics and tension prediction"
   ]
  },
  {
   "cell_type": "code",
   "execution_count": 1,
   "metadata": {
    "ExecuteTime": {
     "end_time": "2021-08-19T05:43:54.449546Z",
     "start_time": "2021-08-19T05:43:54.418857Z"
    }
   },
   "outputs": [],
   "source": [
    "%load_ext autoreload\n",
    "%autoreload 2"
   ]
  },
  {
   "cell_type": "code",
   "execution_count": 2,
   "metadata": {
    "ExecuteTime": {
     "end_time": "2021-08-19T05:44:00.091479Z",
     "start_time": "2021-08-19T05:43:57.073791Z"
    }
   },
   "outputs": [],
   "source": [
    "import numpy as np\n",
    "import torch\n",
    "from os import path\n",
    "import datetime\n",
    "\n",
    "from torch_geometric.data import Data, DataLoader\n",
    "import torch_geometric.transforms as T\n",
    "\n",
    "from torch_geometric.utils import to_networkx, from_networkx\n",
    "import networkx as nx\n",
    "from simgnn.datautils import load_array, load_graph\n",
    "\n",
    "import matplotlib.pyplot as plt\n",
    "import matplotlib\n",
    "plt.style.use('ggplot')\n",
    "%matplotlib inline\n",
    "matplotlib.rcParams['figure.figsize'] = (10,10) # use larger for presentation\n",
    "matplotlib.rcParams['font.size']= 16 # use 14 for presentation"
   ]
  },
  {
   "cell_type": "code",
   "execution_count": 3,
   "metadata": {
    "ExecuteTime": {
     "end_time": "2021-08-18T09:11:16.433399Z",
     "start_time": "2021-08-18T09:11:16.400192Z"
    }
   },
   "outputs": [],
   "source": [
    "from simgnn.datasets import persistence_loss, VertexDynamics, HaraMovies, HaraAblation\n",
    "from simgnn.train import train_model, write_log, load_log, predict, predict_batch\n",
    "from simgnn.transforms import Pos2Vec, ScaleVelocity, ScaleTension, ScalePressure, Reshape_x\n",
    "# from torch_geometric.utils import to_undirected as T_undir"
   ]
  },
  {
   "cell_type": "code",
   "execution_count": 4,
   "metadata": {
    "ExecuteTime": {
     "end_time": "2021-08-18T09:07:06.579074Z",
     "start_time": "2021-08-18T09:07:06.545151Z"
    }
   },
   "outputs": [
    {
     "name": "stdout",
     "output_type": "stream",
     "text": [
      "Defaults:\n",
      " |-device: cuda\n",
      " |-dtype : torch.float32\n"
     ]
    }
   ],
   "source": [
    "device = torch.device('cpu')\n",
    "if torch.cuda.is_available():\n",
    "    device = torch.device('cuda')\n",
    "dtype = torch.float32\n",
    "print(f'Defaults:\\n |-device: {device}\\n |-dtype : {dtype}')"
   ]
  },
  {
   "cell_type": "markdown",
   "metadata": {},
   "source": [
    "## Training"
   ]
  },
  {
   "cell_type": "markdown",
   "metadata": {},
   "source": [
    "- Use `simgnn.transforms` to normalise real--Hara movies and ablation,  and simulated movies. Use same normalisation constants for all simulated movies.\n",
    "- For ablation movies, convert to  HaraMovies length scale (pixels) and use same `l_av` as for HaraMovies dataset.\n",
    "\n",
    "|Dataset | Details | Shortname| Avg. edge len.| Transforms (Normalisation)|\n",
    "|:---:|:---|:---|---:|:---|\n",
    "|Synthetic datasets     | vertex dynamics simulations| \"train\" and \"val\"| 1.0 a.u.| `[Pos2Vec(scale=10*1.0)`,`ScaleVelocity(0.5*1.0)`, `ScaleTension(0.634,shift=0.6)`,`ScalePressure(0.33,shift=0.1)]`|\n",
    "|Hara Movies  | no force information       | \"hara\"| 26.32 pixels|`[Pos2Vec(scale=10*26.32)`, `ScaleVelocity(0.5*26.32)]`|\n",
    "|Hara Ablation| short movies w/ recoil data| \"abln\"| 26.32*0.4/0.21 pixels| `[Pos2Vec(scale=10*50.13), ScaleVelocity(0.5*50.13)]` (frame rate:dataset contains vertex positions only from every 10th frame) |\n"
   ]
  },
  {
   "cell_type": "markdown",
   "metadata": {},
   "source": [
    "### Datasets"
   ]
  },
  {
   "cell_type": "code",
   "execution_count": 5,
   "metadata": {
    "ExecuteTime": {
     "end_time": "2021-08-18T09:07:20.046196Z",
     "start_time": "2021-08-18T09:07:19.447827Z"
    }
   },
   "outputs": [
    {
     "name": "stdout",
     "output_type": "stream",
     "text": [
      "rm: simgnn_data/unimodal_wbasetens_sims/train/processed: No such file or directory\n",
      "rm: simgnn_data/unimodal_wbasetens_sims/val/processed: No such file or directory\n"
     ]
    }
   ],
   "source": [
    "# !rm -dr simgnn_data/single_distr_sims/train/processed\n",
    "# !rm -dr simgnn_data/single_distr_sims/val/processed\n",
    "# !rm -dr simgnn_data/unimodal_wbasetens_sims/train/processed\n",
    "# !rm -dr simgnn_data/unimodal_wbasetens_sims/val/processed\n",
    "# !rm -dr simgnn_data/hara_movies/processed\n",
    "# !rm -dr simgnn_data/hara_movies_as_sep_datasets/hara_seg001/processed/\n",
    "# !rm -dr simgnn_data/hara_movies_as_sep_datasets/hara_seg003/processed/\n",
    "# !rm -dr simgnn_data/hara_movies_as_sep_datasets/hara_seg005/processed/\n",
    "# !rm -dr simgnn_data/unimodal_wbasetens_sims/val/processed/\n",
    "\n",
    "!rm -dr simgnn_data/hara_movies/processed/\n",
    "!rm -dr simgnn_data/hara_ablation/processed/"
   ]
  },
  {
   "cell_type": "code",
   "execution_count": 5,
   "metadata": {
    "ExecuteTime": {
     "end_time": "2021-08-18T09:09:42.513752Z",
     "start_time": "2021-08-18T09:09:41.734422Z"
    }
   },
   "outputs": [
    {
     "name": "stdout",
     "output_type": "stream",
     "text": [
      "cell2node.png\t    hara_movies\t\t\t single_distr_sims\n",
      "edge_tracking_gifs  hara_movies_as_sep_datasets  unimodal_wbasetens_sims\n",
      "expmodulation_sims  saved_models\n",
      "hara_ablation\t    simulation_gifs\n"
     ]
    }
   ],
   "source": [
    "!ls simgnn_data"
   ]
  },
  {
   "cell_type": "code",
   "execution_count": 13,
   "metadata": {
    "ExecuteTime": {
     "end_time": "2021-08-18T09:15:56.262624Z",
     "start_time": "2021-08-18T09:15:56.206267Z"
    }
   },
   "outputs": [],
   "source": [
    "window_size = 5\n",
    "\n",
    "# Normalisation: for simulated data (simul params ~ normal distr-s): l0=1.0, Hara_movie: l0=26.32\n",
    "Tnorm = T.Compose([Pos2Vec(scale=1.0*10.0) , ScaleVelocity(0.5*1.0),\n",
    "                   ScaleTension(0.634, shift=0.6), ScalePressure(0.33, shift=0.1 ), Reshape_x((-1,window_size*2)) ] )\n",
    "Tnorm_hara = T.Compose([Pos2Vec(scale=10*26.32) , ScaleVelocity(0.5*26.32), Reshape_x((-1,window_size*2))]) # Hara movie dataset norm\n",
    "Tnorm_abln = T.Compose([Pos2Vec(scale=10*50.21), ScaleVelocity(0.5*50.21), Reshape_x((-1,window_size*2))]) # Hara ablation norm\n",
    "\n",
    "hara_abln = HaraAblation('simgnn_data/hara_ablation/', window_size=window_size, transform=Tnorm_abln)\n",
    "\n",
    "# Hara movie datasets\n",
    "# seg001 = HaraMovies('simgnn_data/hara_movies_as_sep_datasets/hara_seg001/', window_size=window_size, transform=Tnorm_hara,smoothing=True, sma_lag_time=4)\n",
    "# seg001_raw = HaraMovies('simgnn_data/hara_movies/', window_size=window_size, transform=Tnorm_hara)\n",
    "# seg003 = HaraMovies('simgnn_data/hara_movies_as_sep_datasets/hara_seg003/', window_size=window_size, transform=Tnorm_hara,smoothing=True, sma_lag_time=4)\n",
    "# seg005 = HaraMovies('simgnn_data/hara_movies_as_sep_datasets/hara_seg005/', window_size=window_size, transform=Tnorm_hara,smoothing=True, sma_lag_time=4)\n",
    "\n",
    "# Simulation datasets\n",
    "# sim1 = VertexDynamics('./simgnn_data/unimodal_wbasetens_sims/train/', window_size=window_size, transform=Tnorm) # rand base contractility\n",
    "# sim1_val = VertexDynamics('./simgnn_data/unimodal_wbasetens_sims/val/', window_size=window_size, transform=Tnorm)\n",
    "# sim2 = VertexDynamics('./simgnn_data/single_distr_sims/train/', window_size=window_size, transform=Tnorm) # no base contractility\n",
    "# sim2_val = VertexDynamics('./simgnn_data/single_distr_sims/val/', window_size=window_size, transform=Tnorm)\n",
    "\n",
    "# datasets_dict = {'train': seg001[:20],#sim1,\n",
    "#                  'val': sim1_val,\n",
    "#                  'val2' : sim2_val,\n",
    "#                  'early' : seg001[-5:],\n",
    "#                  'mid'   : seg003[-5:],\n",
    "#                  'late'  : seg005[-5:],\n",
    "#                 'raw': seg001_raw[len(seg001_raw)//3-1-5:len(seg001_raw)//3-1]}\n",
    "# dataset_legend={'train': 'Train (Hara:early)',\n",
    "#                 'val': 'Sim(Non-zero)',\n",
    "#                 'val2': 'Sim(Zero)',\n",
    "#                'early': 'Hara (early)',\n",
    "#                 'mid': 'Hara(mid)',\n",
    "#                 'late': 'Hara(late)',\n",
    "#                'raw': 'Hara(early:raw)'}\n",
    "\n",
    "# datasets_dict = {'train': sim1,\n",
    "#                  'val': sim2,\n",
    "#                  'early' : seg001[-5:],\n",
    "#                  'mid'   : seg003[-5:],\n",
    "#                  'late'  : seg005[-5:]}\n",
    "# dataset_legend={'train': 'Train (sim1)',\n",
    "#                 'val': 'Val(sim2)',\n",
    "#                 'early': 'Hara (early)',\n",
    "#                 'mid': 'Hara(mid)',\n",
    "#                 'late': 'Hara(late)'}"
   ]
  },
  {
   "cell_type": "code",
   "execution_count": 113,
   "metadata": {
    "ExecuteTime": {
     "end_time": "2021-05-28T20:39:10.846237Z",
     "start_time": "2021-05-28T20:39:08.262162Z"
    }
   },
   "outputs": [
    {
     "name": "stdout",
     "output_type": "stream",
     "text": [
      "train : HaraMovies(20)\n",
      "size:20\n",
      "\n",
      "Frame 1:\n",
      "CellData(cell2node_index=[2, 492], edge_attr=[225, 2], edge_index=[2, 225], node2cell_index=[2, 492], pos=[164, 2], x=[164, 10], y=[164, 2])\n"
     ]
    },
    {
     "data": {
      "image/png": "[encoded data removed]",
      "text/plain": [
       "<Figure size 180x180 with 1 Axes>"
      ]
     },
     "metadata": {},
     "output_type": "display_data"
    }
   ],
   "source": [
    "k='train'\n",
    "print('{} : {}\\nsize:{}\\n\\nFrame 1:\\n{}'.format(k,datasets_dict[k],len(datasets_dict[k]),datasets_dict[k][0]))\n",
    "plt.figure(figsize=[2.5,2.5])\n",
    "nx.draw(to_networkx(datasets_dict[k][0]),pos=dict(enumerate(datasets_dict[k][0].pos.numpy())), node_size=10)"
   ]
  },
  {
   "cell_type": "markdown",
   "metadata": {},
   "source": [
    "#### Helper functions"
   ]
  },
  {
   "cell_type": "code",
   "execution_count": 114,
   "metadata": {},
   "outputs": [],
   "source": [
    "def plot_losses(train_log, loaders, dataset_legend,figsize=[15,8]):\n",
    "    if figsize is not None:\n",
    "        plt.figure(figsize=figsize)\n",
    "    training_epochs = np.arange(train_log['total_epochs'])\n",
    "    for data_name in loaders:\n",
    "        plt.plot(training_epochs, train_log[f'{data_name}_loss_tot'],lw=3,label=f'{dataset_legend[data_name]}')\n",
    "    plt.legend();\n",
    "\n",
    "\n",
    "def plot_velocity_predictions(vel_pred, vel_tgt, dataset_legend, figsize=[15,7]):\n",
    "    var_type = 0\n",
    "    var_name = '$\\Delta{}x$'\n",
    "\n",
    "    for data_name in vel_pred:\n",
    "        minY, maxY  = torch.cat(vel_tgt[data_name],dim=0).min(), torch.cat(vel_tgt[data_name],dim=0).max()\n",
    "\n",
    "        fig,axs = plt.subplots(nrows=1,ncols=2,sharex=True,sharey=True,figsize=figsize)    \n",
    "        for k,ax in enumerate(axs):\n",
    "            ax.plot([minY,maxY], [minY,maxY],'--',color='b',lw=2,alpha=.5)\n",
    "            ax.plot(torch.cat(vel_tgt[data_name], dim=0)[:,k],\n",
    "                    torch.cat(vel_pred[data_name], dim=0)[:,k], 'o',ms=10,mfc='tomato',alpha=.25)\n",
    "            ax.set_xlabel('True');\n",
    "            ax.set_ylabel('Predicted')\n",
    "            ax.set_title(f'{var_name}$_{k}$');\n",
    "        plt.suptitle(f'{dataset_legend[data_name]}')\n",
    "        plt.show()"
   ]
  },
  {
   "cell_type": "markdown",
   "metadata": {},
   "source": [
    "#### Persistence Loss"
   ]
  },
  {
   "cell_type": "code",
   "execution_count": 115,
   "metadata": {
    "ExecuteTime": {
     "end_time": "2021-05-28T20:39:12.928388Z",
     "start_time": "2021-05-28T20:39:10.849266Z"
    }
   },
   "outputs": [
    {
     "name": "stdout",
     "output_type": "stream",
     "text": [
      "Persistence:\n",
      "\t- Train (Hara:early): {'mae': 0.026774133, 'mse': 0.0012163394}\n",
      "\t- Sim(Non-zero): {'mae': 0.06426177, 'mse': 0.007703601}\n",
      "\t- Sim(Zero): {'mae': 0.063635536, 'mse': 0.008163488}\n",
      "\t- Hara (early): {'mae': 0.028903184, 'mse': 0.0013524193}\n",
      "\t- Hara(mid): {'mae': 0.021136116, 'mse': 0.00074782554}\n",
      "\t- Hara(late): {'mae': 0.018739773, 'mse': 0.0005740396}\n",
      "\t- Hara(early:raw): {'mae': 0.04471593, 'mse': 0.00466818}\n"
     ]
    }
   ],
   "source": [
    "print('Persistence:')\n",
    "for k in datasets_dict:\n",
    "    print(f'\\t- {dataset_legend[k]}: {persistence_loss(datasets_dict[k])}')"
   ]
  },
  {
   "cell_type": "code",
   "execution_count": 21,
   "metadata": {},
   "outputs": [
    {
     "data": {
      "text/plain": [
       "280"
      ]
     },
     "execution_count": 21,
     "metadata": {},
     "output_type": "execute_result"
    }
   ],
   "source": [
    "len(datasets_dict['train'])"
   ]
  },
  {
   "cell_type": "markdown",
   "metadata": {},
   "source": [
    "`CellData` prop-s (graph data objects):\n",
    "- `x` : `(#nodes, WindowWidth, 2)` *node features*\n",
    "- `y` : `(#nodes, 2)` *node targets (velocities)*.\n",
    "- `pos` : `(#nodes, 2)` *node positions*.\n",
    "- `edge_attr` : `(#edges, 2)` or `(#edges, #edge_features)` *edge features  (relative Cartesian positions of connected nodes)*.\n",
    "- `edge_index` : `(2, #edges)` *edge indices*.\n",
    "- `edge_tensions` : `(#edges,)` *edge targets (line tensions)*.\n",
    "- `node2cell_index` : `(2, #cell2node_edges)`, `node2cell`-> *first row is node indices and second row is cell indices;\n",
    "- `cell2node_index` : `(2, #cell2node_edges)`, `cell2node`-> *first row is cell indices and second row is node indices*.\n",
    "- `cell_pressures` : `(#cells,)` *cell targets (cell pressures)*."
   ]
  },
  {
   "cell_type": "markdown",
   "metadata": {},
   "source": [
    "**To-Do**👷🚧\n",
    "- need a func-n w/ a **rollout error**,\n",
    "- convert vel-y error to **position error**\n",
    "- *Training loop*:\n",
    "    - [ ] Combine `Message` and `AggregateUpdate` into a graph layer `GraphBlock`\n",
    "- [ ] Write *prediction stage*: read \\{test, val, train\\} data for rollout error measurements.\n",
    "- [ ] Experiments (**save all models** w/ backups; will need to test on the real tensions)<br>\n",
    "*Params*: edge attrib-s, cell layer, arch(skip con-s), input noise (for long term prediction). *Errors*: 1-step, and rollout error (check after training at test time).\n",
    "    1. Experiment with GN arch-s w/ *residual* (w/ skip) and *non-residual* architectures.\n",
    "    1. *Edge directions experiment*: train w/ and w/o edge dir-s, do edge dir-s help to speed up training?\n",
    "    1. *Cell layer*: does having dedicated cell processing layer help to increase the accuracy?\n",
    "    1. For best (resnet or non-resnet) run *number of layers and dim-n sizes*. Try deep nets, how does accuracy change with increasing the depth of the net?\n",
    "    1. If resnet is better: try w/and w/o edge dir-s and \"cell layers\".\n",
    "    1. Number of previous velocities (window size).\n",
    "    1. Rollout experiment 1— *input noise*: according to Sanchez-Gonzalez, *et al.* \\[ASG2020\\], Brownian noise improves rollout accuracies (long term accuracy of the whole movie, and/or prediction stability/robustness).\n",
    "    1. Rollout experiment 2— *rollout training*: train directly on rollout, i.e. use 5- and 10-step loss instead of a 1-step loss for training (slower training).\n",
    "    1. Optional:\n",
    "        - compare MLP vs CONV layers for message passing.\n",
    "        - try with dynamic graphs (construct graphs on the fly based on relative positions, and use cell edges and cell attrib only for queries on `Y_edge`, `Y_cell`).\n",
    "- [ ] Ablation dataset (*real*)."
   ]
  },
  {
   "cell_type": "markdown",
   "metadata": {},
   "source": [
    "---\n",
    "**DOING**🛠\n",
    "1. Construct graph net without skip connections.\n",
    "1. Combine Message and AggregateUpdate into a graph layer GraphNet (GN) block, a more general block, that can be composed into a deep residual network. \"AddGN\" block, w/ `AddGN(x) = f(x)+x` form (in fact, where it's possible make all blocks with this form.\n",
    "1. Construct residual net out of GNs.\n",
    "---"
   ]
  },
  {
   "cell_type": "markdown",
   "metadata": {},
   "source": [
    "- **Examples**:\n",
    "    - General \"Message Passing\" schemes: a nice example for composite graph layer –\"meta layer\" consisting of \"edge\", \"node\" and \"global\" layers [link](https://pytorch-geometric.readthedocs.io/en/latest/modules/nn.html#torch_geometric.nn.meta.MetaLayer)"
   ]
  },
  {
   "cell_type": "markdown",
   "metadata": {},
   "source": [
    "**Node-to-Cell Encoding/Pooling Layer**:\n",
    "1. Initiate node-to-cell edge attr-s as (source) node attr-s `x[node2cell_index[0]]`.\n",
    "1. Compute node-to-cell edge attr-s using MLP: `e_n2c = MLP( x[node2cell_index[0]] )`\n",
    "1. Aggregate node-to-cell edge attr-s as cell attr-s : `x_cell = Aggregate(e_n2c)`\n",
    "1. Compute new cell attr-s using (encodes `x_cell` into cell attr-s) : `h_cell = MLP_Cell_encoder( x_cell )`\n",
    "\n",
    "```python\n",
    "n2c_model = mlp(...) # \"message\", just node-wise MLP\n",
    "cell_aggr = Aggregate()\n",
    "cell_enc = mlp(...)\n",
    "\n",
    "e_n2c = n2c_model(data.x)[data.node2cell_index[0]]\n",
    "x_cell = cell_aggr(data.cell_pressures.size(0), data.node2cell_index, e_n2c)\n",
    "h_cell = cell_enc(x_cell)\n",
    "```"
   ]
  },
  {
   "cell_type": "markdown",
   "metadata": {},
   "source": [
    "---\n",
    "- **Adding noise from M steps**: Sum of M normal rand. var-s results in normal var. w/ variance M and s.t.d.=sqrt(M):\n",
    "```python\n",
    "x = np.random.normal(size=(5,1000))\n",
    "y = x.sum(axis=0)\n",
    "z = np.random.normal(size=(1,1000))*np.sqrt(5)\n",
    "plt.hist(x.ravel(),bins=50,label='x',density=True)\n",
    "plt.hist(y        ,bins=50,label='y',density=True)\n",
    "plt.hist(z.ravel(),bins=50,label='z',density=True,alpha=.5)\n",
    "plt.legend();\n",
    "```"
   ]
  },
  {
   "cell_type": "markdown",
   "metadata": {},
   "source": [
    "---"
   ]
  }
 ],
 "metadata": {
  "hide_input": false,
  "jupytext": {
   "formats": "ipynb,py:light"
  },
  "kernelspec": {
   "display_name": "Python 3",
   "language": "python",
   "name": "python3"
  },
  "language_info": {
   "codemirror_mode": {
    "name": "ipython",
    "version": 3
   },
   "file_extension": ".py",
   "mimetype": "text/x-python",
   "name": "python",
   "nbconvert_exporter": "python",
   "pygments_lexer": "ipython3",
   "version": "3.8.5"
  },
  "toc": {
   "base_numbering": 1,
   "nav_menu": {},
   "number_sections": true,
   "sideBar": true,
   "skip_h1_title": true,
   "title_cell": "Table of Contents",
   "title_sidebar": "Contents",
   "toc_cell": false,
   "toc_position": {
    "height": "calc(100% - 180px)",
    "left": "10px",
    "top": "150px",
    "width": "211.796875px"
   },
   "toc_section_display": true,
   "toc_window_display": false
  }
 },
 "nbformat": 4,
 "nbformat_minor": 4
}
