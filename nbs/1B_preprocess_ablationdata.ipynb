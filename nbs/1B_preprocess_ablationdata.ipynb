{
 "cells": [
  {
   "cell_type": "markdown",
   "metadata": {},
   "source": [
    "# Preprocessing Ablation Data\n",
    "> Preprocessing amnioserosa ablation movies from Hara et al. 2016"
   ]
  },
  {
   "cell_type": "code",
   "execution_count": 1,
   "metadata": {
    "ExecuteTime": {
     "end_time": "2021-06-23T08:17:07.067855Z",
     "start_time": "2021-06-23T08:17:07.042018Z"
    }
   },
   "outputs": [],
   "source": [
    "%load_ext autoreload\n",
    "%autoreload 2"
   ]
  },
  {
   "cell_type": "code",
   "execution_count": 2,
   "metadata": {
    "ExecuteTime": {
     "end_time": "2021-06-23T08:17:27.221594Z",
     "start_time": "2021-06-23T08:17:07.070319Z"
    }
   },
   "outputs": [],
   "source": [
    "import numpy as np\n",
    "import torch\n",
    "from os import path\n",
    "\n",
    "import networkx as nx, pandas as pd\n",
    "from simgnn.datautils import simple_moving_average,load_array, load_graph\n",
    "\n",
    "import matplotlib.pyplot as plt\n",
    "import matplotlib\n",
    "plt.style.use('ggplot')\n",
    "%matplotlib inline\n",
    "matplotlib.rcParams['figure.figsize'] = (7,7) # use larger for presentation\n",
    "matplotlib.rcParams['font.size']= 14 # use 14 for presentation"
   ]
  },
  {
   "cell_type": "code",
   "execution_count": 3,
   "metadata": {
    "ExecuteTime": {
     "end_time": "2021-06-23T08:17:32.882784Z",
     "start_time": "2021-06-23T08:17:30.751632Z"
    }
   },
   "outputs": [],
   "source": [
    "from torch_geometric.data import Data, DataLoader\n",
    "from torch_geometric.utils import to_networkx, from_networkx\n",
    "import torch_geometric.transforms as T\n",
    "\n",
    "from simgnn.datasets import VertexDynamics, HaraMovies, CellData\n",
    "from simgnn.transforms import Pos2Vec, ScaleVelocity, ScaleTension, ScalePressure"
   ]
  },
  {
   "cell_type": "code",
   "execution_count": 4,
   "metadata": {
    "ExecuteTime": {
     "end_time": "2021-06-23T08:17:35.217956Z",
     "start_time": "2021-06-23T08:17:35.176986Z"
    }
   },
   "outputs": [
    {
     "name": "stdout",
     "output_type": "stream",
     "text": [
      "Defaults:\n",
      " |-device: cpu\n",
      " |-dtype : torch.float32\n"
     ]
    }
   ],
   "source": [
    "device = torch.device('cpu')\n",
    "if torch.cuda.is_available():\n",
    "    device = torch.device('cuda')\n",
    "dtype = torch.float32\n",
    "print(f'Defaults:\\n |-device: {device}\\n |-dtype : {dtype}')"
   ]
  },
  {
   "cell_type": "code",
   "execution_count": 279,
   "metadata": {
    "ExecuteTime": {
     "end_time": "2021-06-23T19:34:56.222305Z",
     "start_time": "2021-06-23T19:34:56.174616Z"
    }
   },
   "outputs": [
    {
     "data": {
      "text/html": [
       "<div>\n",
       "<style scoped>\n",
       "    .dataframe tbody tr th:only-of-type {\n",
       "        vertical-align: middle;\n",
       "    }\n",
       "\n",
       "    .dataframe tbody tr th {\n",
       "        vertical-align: top;\n",
       "    }\n",
       "\n",
       "    .dataframe thead th {\n",
       "        text-align: right;\n",
       "    }\n",
       "</style>\n",
       "<table border=\"1\" class=\"dataframe\">\n",
       "  <thead>\n",
       "    <tr style=\"text-align: right;\">\n",
       "      <th></th>\n",
       "      <th>Main folder</th>\n",
       "      <th>embryo</th>\n",
       "      <th>Edge ID</th>\n",
       "      <th>Recoil speed [um/sec]</th>\n",
       "      <th>Edge Deformation [um/sec]</th>\n",
       "      <th>Edge Behavior</th>\n",
       "      <th>Edge Rn</th>\n",
       "      <th>Rn Category</th>\n",
       "      <th>IsRosette</th>\n",
       "      <th>AblationFrame</th>\n",
       "      <th># 1-neighbours</th>\n",
       "      <th># 2-neighbours</th>\n",
       "      <th>Notes</th>\n",
       "    </tr>\n",
       "  </thead>\n",
       "  <tbody>\n",
       "    <tr>\n",
       "      <th>0</th>\n",
       "      <td>140408_SqhGFP_UASDaCatRFP_c381Gal4</td>\n",
       "      <td>sample10</td>\n",
       "      <td>1</td>\n",
       "      <td>0.023877</td>\n",
       "      <td>0.020217</td>\n",
       "      <td>Expanding</td>\n",
       "      <td>1.104026</td>\n",
       "      <td>1.1-1.5</td>\n",
       "      <td>False</td>\n",
       "      <td>57</td>\n",
       "      <td>4</td>\n",
       "      <td>8</td>\n",
       "      <td>NaN</td>\n",
       "    </tr>\n",
       "    <tr>\n",
       "      <th>1</th>\n",
       "      <td>140411_Dacat_recoil</td>\n",
       "      <td>sample3</td>\n",
       "      <td>1</td>\n",
       "      <td>0.464255</td>\n",
       "      <td>-0.043337</td>\n",
       "      <td>Contracting</td>\n",
       "      <td>1.264302</td>\n",
       "      <td>1.1-1.5</td>\n",
       "      <td>False</td>\n",
       "      <td>47</td>\n",
       "      <td>4</td>\n",
       "      <td>9</td>\n",
       "      <td>NaN</td>\n",
       "    </tr>\n",
       "    <tr>\n",
       "      <th>2</th>\n",
       "      <td>140411_Dacat_recoil</td>\n",
       "      <td>sample5</td>\n",
       "      <td>1</td>\n",
       "      <td>0.452162</td>\n",
       "      <td>0.019286</td>\n",
       "      <td>Expanding</td>\n",
       "      <td>1.075047</td>\n",
       "      <td>1.0-1.1</td>\n",
       "      <td>False</td>\n",
       "      <td>50</td>\n",
       "      <td>4</td>\n",
       "      <td>8</td>\n",
       "      <td>NaN</td>\n",
       "    </tr>\n",
       "    <tr>\n",
       "      <th>3</th>\n",
       "      <td>140411_Dacat_recoil</td>\n",
       "      <td>sample6</td>\n",
       "      <td>1</td>\n",
       "      <td>0.283717</td>\n",
       "      <td>0.006938</td>\n",
       "      <td>Stable</td>\n",
       "      <td>1.331903</td>\n",
       "      <td>1.1-1.5</td>\n",
       "      <td>False</td>\n",
       "      <td>12</td>\n",
       "      <td>4</td>\n",
       "      <td>6</td>\n",
       "      <td>NaN</td>\n",
       "    </tr>\n",
       "    <tr>\n",
       "      <th>4</th>\n",
       "      <td>140415_Dacat_recoil</td>\n",
       "      <td>sample1</td>\n",
       "      <td>1</td>\n",
       "      <td>0.524569</td>\n",
       "      <td>-0.052628</td>\n",
       "      <td>Contracting</td>\n",
       "      <td>1.148226</td>\n",
       "      <td>1.1-1.5</td>\n",
       "      <td>False</td>\n",
       "      <td>30</td>\n",
       "      <td>4</td>\n",
       "      <td>8</td>\n",
       "      <td>NaN</td>\n",
       "    </tr>\n",
       "  </tbody>\n",
       "</table>\n",
       "</div>"
      ],
      "text/plain": [
       "                          Main folder    embryo  Edge ID  \\\n",
       "0  140408_SqhGFP_UASDaCatRFP_c381Gal4  sample10        1   \n",
       "1                 140411_Dacat_recoil   sample3        1   \n",
       "2                 140411_Dacat_recoil   sample5        1   \n",
       "3                 140411_Dacat_recoil   sample6        1   \n",
       "4                 140415_Dacat_recoil   sample1        1   \n",
       "\n",
       "   Recoil speed [um/sec]  Edge Deformation [um/sec] Edge Behavior   Edge Rn  \\\n",
       "0               0.023877                   0.020217     Expanding  1.104026   \n",
       "1               0.464255                  -0.043337   Contracting  1.264302   \n",
       "2               0.452162                   0.019286     Expanding  1.075047   \n",
       "3               0.283717                   0.006938        Stable  1.331903   \n",
       "4               0.524569                  -0.052628   Contracting  1.148226   \n",
       "\n",
       "  Rn Category  IsRosette  AblationFrame  # 1-neighbours  # 2-neighbours Notes  \n",
       "0     1.1-1.5      False             57               4               8   NaN  \n",
       "1     1.1-1.5      False             47               4               9   NaN  \n",
       "2     1.0-1.1      False             50               4               8   NaN  \n",
       "3     1.1-1.5      False             12               4               6   NaN  \n",
       "4     1.1-1.5      False             30               4               8   NaN  "
      ]
     },
     "execution_count": 279,
     "metadata": {},
     "output_type": "execute_result"
    }
   ],
   "source": [
    "ablmov_basepath = path.abspath('../../../dataDIR/Hara_ablation_movies/')\n",
    "data_base_path = './simgnn_data/hara_ablation/'\n",
    "\n",
    "recoil_df = pd.read_csv(path.join(data_base_path,'hara_ablation_data.csv'))\n",
    "recoil_df.head()"
   ]
  },
  {
   "cell_type": "code",
   "execution_count": 257,
   "metadata": {
    "ExecuteTime": {
     "end_time": "2021-06-23T18:57:48.708834Z",
     "start_time": "2021-06-23T18:57:48.672449Z"
    }
   },
   "outputs": [],
   "source": []
  },
  {
   "cell_type": "markdown",
   "metadata": {},
   "source": [
    "### Read TIF files"
   ]
  },
  {
   "cell_type": "code",
   "execution_count": 5,
   "metadata": {
    "ExecuteTime": {
     "end_time": "2021-04-27T17:45:30.532704Z",
     "start_time": "2021-04-27T17:45:29.682879Z"
    }
   },
   "outputs": [],
   "source": [
    "import glob\n",
    "from simgnn.hara import get_cell_colormap, read_tiff_stack\n",
    "\n",
    "from simgnn.datautils import write_array, mknewdir\n",
    "from simgnn.hara import label_bw_stack, extract_graph"
   ]
  },
  {
   "cell_type": "code",
   "execution_count": 28,
   "metadata": {
    "ExecuteTime": {
     "end_time": "2021-04-27T17:45:32.105838Z",
     "start_time": "2021-04-27T17:45:31.965637Z"
    }
   },
   "outputs": [
    {
     "name": "stdout",
     "output_type": "stream",
     "text": [
      "RFP channels (cell boundary):\n",
      "Image stack shape: (61, 512, 511) -- trim boundaries: True\n",
      "Image stack shape: (61, 512, 511) -- trim boundaries: True\n",
      "Image stack shape: (61, 512, 511) -- trim boundaries: True\n",
      "Segmented boundaries:\n",
      "Image stack shape: (61, 512, 511) -- trim boundaries: True\n",
      "Image stack shape: (61, 512, 511) -- trim boundaries: True\n",
      "Image stack shape: (61, 512, 511) -- trim boundaries: True\n"
     ]
    }
   ],
   "source": [
    "base_path = path.abspath('../../../dataDIR/example_segmented_data/')\n",
    "\n",
    "print('RFP channels (cell boundary):')\n",
    "rfp = {path.basename(path.dirname(fname)) : read_tiff_stack(fname) \n",
    "       for fname in glob.glob(path.join(base_path,'*Seg*','*RFP*.tif'))}\n",
    "print('Segmented boundaries:')\n",
    "seg = {path.basename(path.dirname(fname)) : read_tiff_stack(fname) \n",
    "       for fname in glob.glob(path.join(base_path,'*Seg*','*Seg*.tif'))}"
   ]
  },
  {
   "cell_type": "markdown",
   "metadata": {},
   "source": [
    "### Extract Graphs from Amnioserosa Movies"
   ]
  },
  {
   "cell_type": "code",
   "execution_count": 29,
   "metadata": {
    "ExecuteTime": {
     "end_time": "2021-04-27T17:45:34.658093Z",
     "start_time": "2021-04-27T17:45:34.628678Z"
    }
   },
   "outputs": [],
   "source": [
    "root_dir = 'simgnn_data/hara_movies/raw/'\n",
    "PROCESS_HARA_MOVIE = False # set to true to process Hara AS tissue movies\n",
    "\n",
    "if PROCESS_HARA_MOVIE:\n",
    "    for bw_img in seg:\n",
    "        edges_index, node2cell_index, v_pos = extract_graph(seg[bw_img], label_bw_stack(seg[bw_img])[0])\n",
    "        edge_lengths = np.sqrt(((v_pos[:,edges_index[1],:] - v_pos[:,edges_index[0],:])**2).sum(axis=-1,keepdims=True))\n",
    "\n",
    "        dataDir = path.join(root_dir, bw_img)\n",
    "        mknewdir(dataDir);\n",
    "\n",
    "        write_array(path.join(dataDir, 'edges_index.npy'), edges_index)\n",
    "        write_array(path.join(dataDir, 'node2cell_index.npy'), node2cell_index)\n",
    "        write_array(path.join(dataDir, 'vtx_pos.npy'), v_pos)\n",
    "        write_array(path.join(dataDir, 'edge_Length.npy'), edge_lengths)"
   ]
  },
  {
   "cell_type": "code",
   "execution_count": null,
   "metadata": {},
   "outputs": [],
   "source": []
  }
 ],
 "metadata": {
  "hide_input": false,
  "kernelspec": {
   "display_name": "Python [conda env:pytorch]",
   "language": "python",
   "name": "conda-env-pytorch-py"
  },
  "language_info": {
   "codemirror_mode": {
    "name": "ipython",
    "version": 3
   },
   "file_extension": ".py",
   "mimetype": "text/x-python",
   "name": "python",
   "nbconvert_exporter": "python",
   "pygments_lexer": "ipython3",
   "version": "3.7.4"
  },
  "toc": {
   "base_numbering": 1,
   "nav_menu": {},
   "number_sections": true,
   "sideBar": true,
   "skip_h1_title": true,
   "title_cell": "Table of Contents",
   "title_sidebar": "Contents",
   "toc_cell": false,
   "toc_position": {
    "height": "calc(100% - 180px)",
    "left": "10px",
    "top": "150px",
    "width": "233px"
   },
   "toc_section_display": true,
   "toc_window_display": false
  },
  "toc-autonumbering": true
 },
 "nbformat": 4,
 "nbformat_minor": 4
}
