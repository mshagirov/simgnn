{
 "cells": [
  {
   "cell_type": "markdown",
   "metadata": {
    "tags": []
   },
   "source": [
    "# GNN with Positional Encoding\n",
    "---\n",
    "> Graph neural network model for vertex dynamics and tension prediction"
   ]
  },
  {
   "cell_type": "code",
   "execution_count": 1,
   "metadata": {
    "ExecuteTime": {
     "end_time": "2021-11-19T04:56:35.240327Z",
     "start_time": "2021-11-19T04:56:35.218207Z"
    }
   },
   "outputs": [],
   "source": [
    "%load_ext autoreload\n",
    "%autoreload 2"
   ]
  },
  {
   "cell_type": "code",
   "execution_count": 2,
   "metadata": {
    "ExecuteTime": {
     "end_time": "2021-11-19T04:56:36.759617Z",
     "start_time": "2021-11-19T04:56:35.398099Z"
    }
   },
   "outputs": [],
   "source": [
    "from pathlib import Path\n",
    "\n",
    "import torch\n",
    "\n",
    "from torch_geometric.data import Data, DataLoader\n",
    "import torch_geometric.transforms as T"
   ]
  },
  {
   "cell_type": "code",
   "execution_count": 3,
   "metadata": {
    "ExecuteTime": {
     "end_time": "2021-11-19T04:56:39.988209Z",
     "start_time": "2021-11-19T04:56:39.954160Z"
    }
   },
   "outputs": [],
   "source": [
    "from collections import OrderedDict\n",
    "from simgnn.datasets import clear_processed, VertexDynamics, HaraMovies, HaraAblation\n",
    "from simgnn.transforms import Pos2Vec, ScaleVelocity, ScaleTension, RecoilAsTension, \\\n",
    "                              AppendReversedEdges, AppendDiff_x, Reshape_x , AppendEdgeLen, PosEnc"
   ]
  },
  {
   "cell_type": "code",
   "execution_count": 4,
   "metadata": {
    "ExecuteTime": {
     "end_time": "2021-11-19T04:56:41.898565Z",
     "start_time": "2021-11-19T04:56:41.865371Z"
    }
   },
   "outputs": [
    {
     "name": "stdout",
     "output_type": "stream",
     "text": [
      "Defaults:\n",
      " |-device: cuda\n",
      " |-dtype : torch.float32\n"
     ]
    }
   ],
   "source": [
    "device = torch.device('cuda') if torch.cuda.is_available() else torch.device('cpu')\n",
    "dtype = torch.float32\n",
    "print(f'Defaults:\\n |-device: {device}\\n |-dtype : {dtype}')"
   ]
  },
  {
   "cell_type": "markdown",
   "metadata": {},
   "source": [
    "## Data, Stat-s, Transforms"
   ]
  },
  {
   "cell_type": "markdown",
   "metadata": {},
   "source": [
    "Notes for normalisation param-s:\n",
    "\n",
    "- Use `simgnn.transforms` to normalise real--Hara movies and ablation,  and simulated movies.\n",
    "- For ablation movies, convert to  HaraMovies length scale (pixels) and use same `l_av` as for HaraMovies dataset."
   ]
  },
  {
   "cell_type": "markdown",
   "metadata": {},
   "source": [
    "---\n",
    "|Dataset| Avg. edge len.|Tension/Recoil| Transforms (Normalisation)|Notes|\n",
    "|:---:|:---:|---:|:---|:---:|\n",
    "|`single_distr_sims` | 1.08 a.u. | range = [0.00131, 4.26]; sd=0.637; median=0.305; mean=0.578; | `[Pos2Vec(scale=10*1.0)`, `ScaleVelocity(0.5*1.0)`, `ScaleTension(0.634,shift=0.6)]`| synthetic; w/o base tension |\n",
    "|`unimodal_wbasetens_sims` | 0.906 a.u. | range=[0.407, 5.47]; sd=0.729; median=1.48; mean=1.6| `[Pos2Vec(scale=10*1.0)`, `ScaleVelocity(0.5*1.0)`, `ScaleTension(0.634,shift=0.6)]`| synthetic; w/ non-zero base tension |\n",
    "|`HaraMovies`  | 26.32 pixels||`[Pos2Vec(scale=10*26.32)`, `ScaleVelocity(0.5*26.32)]`| tissue movies w/o force data|\n",
    "|`HaraAblation`|$26.32\\cdot\\frac{0.4}{0.21}$ pixels| range=[0.0239, 2.61]; sd=0.651; median=0.673; mean=0.826 | `[Pos2Vec(scale=10*50.13), ScaleVelocity(0.5*50.13)]`| short movies w/ recoil data; frame rate:dataset contains vertex positions only from every 10th frame |\n"
   ]
  },
  {
   "cell_type": "markdown",
   "metadata": {},
   "source": [
    "### Datasets"
   ]
  },
  {
   "cell_type": "markdown",
   "metadata": {},
   "source": [
    "---\n",
    "- **Input features for transforms**"
   ]
  },
  {
   "cell_type": "code",
   "execution_count": 5,
   "metadata": {
    "ExecuteTime": {
     "end_time": "2021-11-19T04:38:21.352011Z",
     "start_time": "2021-11-19T04:38:21.324365Z"
    },
    "tags": []
   },
   "outputs": [
    {
     "name": "stdout",
     "output_type": "stream",
     "text": [
      "> Set features window size to --> 5\n",
      "> Set n for SMA_n --> 5\n",
      "> Input noise --> None\n"
     ]
    }
   ],
   "source": [
    "# Data normalisation param-s : sim=\"default\" for simulation data\n",
    "# Average edge lengths\n",
    "l_0 = {'sim':1.0, 'single_distr_sims':1.1, 'unimodal_wbasetens_sims':0.91, 'hara':26.32, 'abln':50.13}\n",
    "\n",
    "# Stat-s for raw tension/recoil values\n",
    "t_av = {'sim':0.6, 'single_distr_sims': 0.58, 'unimodal_wbasetens_sims': 1.6, 'abln': 0.83}\n",
    "t_sd = {'sim':0.63, 'single_distr_sims': 0.64, 'unimodal_wbasetens_sims':0.73 , 'abln': 0.65}\n",
    "\n",
    "# Input features\n",
    "window_size = 5\n",
    "print(f'> Set features window size to --> {window_size}')\n",
    "sma_lag_time = 4 # SMA_n : n=sma_lag_time+1\n",
    "print(f'> Set n for SMA_n --> {sma_lag_time+1}')\n",
    "\n",
    "pos_noise = None\n",
    "# pos_noise = torch.normal\n",
    "# noise_args= [0, 0.01] #[0,1]\n",
    "print(f'> Input noise --> {pos_noise}')"
   ]
  },
  {
   "cell_type": "markdown",
   "metadata": {},
   "source": [
    "- **Normalisation param-s (transforms)**"
   ]
  },
  {
   "cell_type": "code",
   "execution_count": 73,
   "metadata": {
    "ExecuteTime": {
     "end_time": "2021-11-19T02:51:58.174970Z",
     "start_time": "2021-11-19T02:51:58.127408Z"
    }
   },
   "outputs": [],
   "source": [
    "# Simulation datasets\n",
    "# 'sim' : defaults for all sim-s; l_0 (same for all sim-s)\n",
    "# '***_sims' : dataset specific param-s; tension\n",
    "# Normalisation (**no input noise**)\n",
    "Tnrm = {k: [Pos2Vec(scale=l_0['sim']),\n",
    "            ScaleVelocity(l_0['sim']), # normalises x and y\n",
    "            ScaleTension(t_sd[k], shift=t_av[k])] # normalise tensions\n",
    "        for k in ['sim', 'single_distr_sims', 'unimodal_wbasetens_sims']}\n",
    "\n",
    "# Hara ablation dataset\n",
    "Tnrm['abln'] = [Pos2Vec(scale=l_0['abln']), ScaleVelocity(l_0['abln']), RecoilAsTension(), \n",
    "                ScaleTension(t_sd['abln'], shift=t_av['abln'])]\n",
    "\n",
    "# Hara movie dataset\n",
    "Tnrm['hara'] = [Pos2Vec(scale=l_0['hara']), ScaleVelocity(l_0['hara'])]\n",
    "\n",
    "\n",
    "# Node and Edge Feature Transforms\n",
    "# Convert to undirected graph and append \"edge features\"\n",
    "for k in Tnrm:\n",
    "    # Prepare inputs\n",
    "    \n",
    "    # to undirected graph: add e_ji for all e_ij\n",
    "    Tnrm[k].append(AppendReversedEdges())\n",
    "    \n",
    "    # Add edge features\n",
    "    Tnrm[k].append(AppendDiff_x()) # DiffX feature\n",
    "    \n",
    "    # # miscellaneous variables\n",
    "    Tnrm[k].append(AppendEdgeLen(norm=True, scale=l_0[k])) # for edge masks (not an edge feature)\n",
    "    \n",
    "    # flatten  node features\n",
    "    Tnrm[k].append(Reshape_x((-1,window_size*2)))\n",
    "    \n",
    "    # positional encoding (Fourier features)\n",
    "    Tnrm[k].append(PosEnc(b=4.0, m=8))\n",
    "    \n",
    "    Tnrm[k] = T.Compose(Tnrm[k])"
   ]
  },
  {
   "cell_type": "code",
   "execution_count": 74,
   "metadata": {},
   "outputs": [
    {
     "data": {
      "text/plain": [
       "Compose([\n",
       "    Pos2Vec(norm=True, scale=1.0, cat=False, pos_noise=None, noise_args=[], noise_kwargs={}),\n",
       "    ScaleVelocity(scale=1.0),\n",
       "    ScaleTension(scale=0.73, shift=1.6),\n",
       "    AppendReversedEdges(reverse_attr=True, reverse_tension=False, edge_id=True),\n",
       "    AppendDiff_x(norm=True),\n",
       "    AppendEdgeLen(keep_dir=False, aggr_edge_id=True, use_edge_attr=False, norm=True, scale=0.91),\n",
       "    Reshape_x((-1, 10)),\n",
       "    PosEnc(b=4.0, m=8),\n",
       "])"
      ]
     },
     "execution_count": 74,
     "metadata": {},
     "output_type": "execute_result"
    }
   ],
   "source": [
    "Tnrm['unimodal_wbasetens_sims']"
   ]
  },
  {
   "cell_type": "markdown",
   "metadata": {},
   "source": [
    "- **Load datasets**"
   ]
  },
  {
   "cell_type": "code",
   "execution_count": 75,
   "metadata": {},
   "outputs": [],
   "source": [
    "data_root = Path('simgnn_data')\n",
    "\n",
    "# dataset locations\n",
    "datasets = {'train' : 'unimodal_wbasetens_sims/train', \n",
    "            'val'   : 'unimodal_wbasetens_sims/val',\n",
    "            'train2': 'single_distr_sims/train', \n",
    "            'val2'  : 'single_distr_sims/val',\n",
    "            'hara'  : 'hara_movies_as_sep_datasets/hara_seg001',\n",
    "            'abln'  : 'hara_ablation',\n",
    "           }\n",
    "\n",
    "# paths to processed datasets\n",
    "dataset_paths = [data_root / datasets[dset] / 'processed' for dset in datasets]\n",
    "\n",
    "# clear processed data (required for clearing older transformations)\n",
    "# USE when changing `window_size` or `sma_lag_time`\n",
    "# clear_processed(dataset_paths, verbose=True)"
   ]
  },
  {
   "cell_type": "markdown",
   "metadata": {},
   "source": [
    "if one of these is changed: `w`, SMA `lag` time, delete the old *processed* dataset files with old `w` or `lag`"
   ]
  },
  {
   "cell_type": "code",
   "execution_count": 76,
   "metadata": {
    "ExecuteTime": {
     "end_time": "2021-10-25T14:58:32.713277Z",
     "start_time": "2021-10-25T14:58:30.420983Z"
    }
   },
   "outputs": [],
   "source": [
    "# Simulation datasets\n",
    "# rand base contractility\n",
    "sim1_val = VertexDynamics(str(data_root/datasets['val']),\n",
    "                          window_size=window_size, transform=Tnrm['unimodal_wbasetens_sims'] )\n",
    "\n",
    "# w/o base contractility\n",
    "sim2_val = VertexDynamics(str(data_root/datasets['val2']),\n",
    "                          window_size=window_size, transform=Tnrm['single_distr_sims'] )\n",
    "\n",
    "hara_abln = HaraAblation(str(data_root/datasets['abln']),\n",
    "                         window_size=window_size, transform=Tnrm['abln'],\n",
    "                         smoothing=True, sma_lag_time= 3 )\n",
    "# hara = HaraMovies('simgnn_data/hara_movies/',window_size=window_size, transform=Tnrm['hara'],\n",
    "#                   smoothing=True, sma_lag_time=sma_lag_time)\n",
    "\n",
    "\n",
    "\n",
    "datasets_dict = {'train': VertexDynamics(str(data_root/datasets['train']), window_size=window_size,\n",
    "                                         transform=Tnrm['unimodal_wbasetens_sims'] ),\n",
    "                 'val': sim1_val[:len(sim1_val)//2]+sim1_val[len(sim1_val)//2:-1],\n",
    "                 'val2': sim2_val[:len(sim2_val)//2]+sim2_val[len(sim2_val)//2:-1],\n",
    "                 'H1': HaraMovies(str(data_root/datasets['hara']), window_size=window_size, transform=Tnrm['hara'],\n",
    "                                  smoothing=True, sma_lag_time=sma_lag_time),\n",
    "                 'A': HaraAblation(str(data_root/datasets['abln']), window_size=window_size, transform=Tnrm['abln'],\n",
    "                                   smoothing=True, sma_lag_time= 3 ),\n",
    "                }\n",
    "dataset_legend={'train': 'Train(sim1)',\n",
    "                'val': r'Supervised ($\\mathcal{D}_{sim1}$)',\n",
    "                'val2': r'Sim2sim ($\\mathcal{D}_{sim2})$',\n",
    "                'H1': r'Sim2real ($\\mathcal{H}_1$)',\n",
    "                'A': r'Sim2real ($v_{recoil}$)',\n",
    "                'sim1mov': r'Supervised ($\\mathcal{D}_{sim1}$)',\n",
    "                'sim2mov': r'Sim2sim ($\\mathcal{D}_{sim2})$'\n",
    "               }"
   ]
  },
  {
   "cell_type": "code",
   "execution_count": 77,
   "metadata": {},
   "outputs": [
    {
     "data": {
      "text/plain": [
       "CellData(cell2node_index=[2, 480], cell_pressures=[80], edge_attr=[550, 272], edge_id=[550], edge_index=[2, 550], edge_length=[275], edge_tensions=[275], node2cell_index=[2, 480], pos=[196, 2], x=[196, 160], y=[196, 2])"
      ]
     },
     "execution_count": 77,
     "metadata": {},
     "output_type": "execute_result"
    }
   ],
   "source": [
    "datasets_dict['train'][0]"
   ]
  },
  {
   "cell_type": "markdown",
   "metadata": {},
   "source": [
    "---\n",
    "Positional Encoding\n",
    "\n",
    "Reading\n",
    "1. [Fourier Features Let Networks Learn High Frequency Functions in Low Dimensional Domains](https://bmild.github.io/fourfeat/index.html)\n",
    "    - colab nb https://colab.research.google.com/github/tancik/fourier-feature-networks/blob/master/Demo.ipynb\n",
    "1. [The Annotated Transformer](https://nlp.seas.harvard.edu/2018/04/03/attention.html)\n",
    "1. Related:\n",
    "    - [NeRF](https://www.matthewtancik.com/nerf)\n",
    "    - [Multi-scale NeRF](https://jonbarron.info/mipnerf/)\n",
    "    - [Learned initialisation](https://www.matthewtancik.com/learnit)"
   ]
  },
  {
   "cell_type": "markdown",
   "metadata": {},
   "source": [
    "# Build and Train GNN Model"
   ]
  },
  {
   "cell_type": "code",
   "execution_count": 78,
   "metadata": {},
   "outputs": [],
   "source": [
    "import numpy as np\n",
    "import matplotlib.pyplot as plt\n",
    "import matplotlib\n",
    "plt.style.use(['seaborn-paper', 'seaborn-ticks']) # use seaborn-talk for presentations\n",
    "%matplotlib inline\n",
    "# matplotlib.rcParams['figure.figsize'] = (10,10) # use larger for presentation\n",
    "# matplotlib.rcParams['font.size']= 16 # use 14 for presentation"
   ]
  },
  {
   "cell_type": "code",
   "execution_count": 79,
   "metadata": {},
   "outputs": [],
   "source": [
    "from simgnn.train import train_model, write_log, load_log, plot_losses\n",
    "from simgnn.train import predict, predict_batch, plot_velocity_predictions, plot_tension_prediction\n",
    "from simgnn.train import predict_abln_tension, predict_dataset_tension\n",
    "\n",
    "from scipy.stats import pearsonr\n",
    "\n",
    "\n",
    "# from simgnn.nn import mlp, IndependentBlock, MessageBlock, dims_to_dict, Encode_Process_Decode\n",
    "from simgnn.models import get_simple_gnn, construct_simple_gnn, GraphEncoder, GraphDecoder, GraphProcessor"
   ]
  },
  {
   "cell_type": "markdown",
   "metadata": {},
   "source": [
    "***Change `b` in the PosEnc to find a suitable scale for encoding features***"
   ]
  },
  {
   "cell_type": "code",
   "execution_count": 80,
   "metadata": {},
   "outputs": [],
   "source": [
    "num_x_dims = datasets_dict['train'][0].x.size(-1)\n",
    "num_edge_dims = datasets_dict['train'][0].edge_attr.size(-1)"
   ]
  },
  {
   "cell_type": "code",
   "execution_count": 81,
   "metadata": {},
   "outputs": [
    {
     "name": "stdout",
     "output_type": "stream",
     "text": [
      "unique_id: GNN3_res_DiffX\n"
     ]
    }
   ],
   "source": [
    "torch.manual_seed(42)\n",
    "\n",
    "# GNN architecture (if dim is `int` latent dims nodes=edges)\n",
    "# -----\n",
    "n_blocks = 3 # N_blocks\n",
    "dropout_p = 0 #0.05 # dropout for hidden layers & GN blocks (if any)\n",
    "is_residual = True\n",
    "\n",
    "input_dims = OrderedDict([('node', num_x_dims), ('edge', num_edge_dims)])\n",
    "\n",
    "net = get_simple_gnn(n_blocks=n_blocks, input_dims=input_dims,\n",
    "                     dropout_p=dropout_p, is_residual=is_residual, device=device)\n",
    "\n",
    "unique_id = f'GNN{n_blocks}{\"_res\" if is_residual else \"\"}'  # unique name for the model\n",
    "unique_id += f\"_DiffX\"\n",
    "#     unique_id += f\"_IgnrShrtEdge\"\n",
    "#     unique_id += f\"_noise\"\n",
    "unique_id += f\"_dropout{dropout_p}\" if dropout_p>0 else \"\"\n",
    "print('unique_id:', unique_id)"
   ]
  },
  {
   "cell_type": "code",
   "execution_count": null,
   "metadata": {},
   "outputs": [
    {
     "name": "stdout",
     "output_type": "stream",
     "text": [
      "ignore_short_edges, edge_len_threshold: False None\n",
      "GNN3_res_DiffX_bs2w5_30epochs\n",
      "---\n",
      "Training param-s: #epochs=30, metric=MSELoss(), batch_size=2, optim=Adam, sch-r=ReduceLROnPlateau, return_best=False\n",
      "---\n",
      "Epoch 0/29: train_loss_tot=  0.7672; train_loss_y= 0.00223; train_loss_T=   0.765; |val_loss_tot=  0.6533; |8s\n",
      "Epoch 1/29: train_loss_tot=  0.6439; train_loss_y=0.001563; train_loss_T=  0.6423; |val_loss_tot=  0.5932; |17s\n",
      "Epoch 2/29: train_loss_tot=  0.5759; train_loss_y= 0.00143; train_loss_T=  0.5745; |val_loss_tot=    0.55; |25s\n",
      "Epoch 3/29: "
     ]
    }
   ],
   "source": [
    "# Training param-s & Data loaders:\n",
    "# -----\n",
    "num_epochs = 30\n",
    "lr = 0.001\n",
    "bs = 2\n",
    "loss_func = torch.nn.MSELoss(reduction='mean')\n",
    "\n",
    "opt = torch.optim.Adam(net.parameters(), lr=lr) # SGD(net.parameters(), lr=0.1, momentum=0.9)\n",
    "scheduler = torch.optim.lr_scheduler.ReduceLROnPlateau(opt, mode='min')\n",
    "\n",
    "# in order to track the batch id for var-s add its key to \"follow_batch\":\n",
    "loaders = {'train' : DataLoader(datasets_dict['train'], batch_size=bs),\n",
    "           'val':    DataLoader(datasets_dict['val'],  batch_size=bs)}\n",
    "# this tracks batch id for \"cell_pressures_batch\" and \"edge_index_batch\" in addition to node batch ids\n",
    "\n",
    "model_states = list(loaders.keys())\n",
    "use_force_loss = {'train':[True,False], \n",
    "                  'val':[True, False],\n",
    "                  'val2':[True,False] ,\n",
    "                  'abln':[True,False] ,\n",
    "                  'hara' : [False, False]\n",
    "                 }# [tension, pressure]\n",
    "\n",
    "return_best = False\n",
    "# #     ignore_short_edges, edge_len_threshold = False, 10**-2\n",
    "ignore_short_edges, edge_len_threshold = False, None\n",
    "print('ignore_short_edges, edge_len_threshold:',ignore_short_edges, edge_len_threshold)\n",
    "\n",
    "\n",
    "model_name = f'{unique_id}_bs{bs}w{window_size}{\"best\" if return_best else \"\"}' # adding date: datetime.datetime.now().strftime('%d%m%Y_%H%M%S')+\n",
    "model_name = model_name+f'_{num_epochs}epochs'\n",
    "\n",
    "print(model_name,end='\\n---\\n')\n",
    "\n",
    "net, train_log = train_model(net, loaders, opt, num_epochs=num_epochs, scheduler=scheduler, device=device, model_states = model_states,\n",
    "                             loss_func = loss_func, use_force_loss=use_force_loss, return_best=return_best,\n",
    "                             ignore_short_edges = ignore_short_edges, edge_len_threshold = edge_len_threshold)\n",
    "\n",
    "# plot losses\n",
    "plot_losses(train_log, loaders, dataset_legend, figsize=[7,3])\n",
    "plt.show()"
   ]
  },
  {
   "cell_type": "code",
   "execution_count": null,
   "metadata": {},
   "outputs": [],
   "source": [
    "# # Save trained model # # #\n",
    "save_dir = 'simgnn_data/saved_models/thesis/tension_GN_sim2real/'\n",
    "gnn_fname = f'{path.join(save_dir, model_name)}_net_{k}.pkl'\n",
    "\n",
    "# write_log(f'{path.join(save_dir, model_name)}_train_log_{k}.pkl',train_log)\n",
    "# torch.save(net.state_dict(), gnn_fname)\n",
    "# print(f'Model weights saved in \\n{gnn_fname}') "
   ]
  },
  {
   "cell_type": "code",
   "execution_count": 72,
   "metadata": {},
   "outputs": [
    {
     "name": "stdout",
     "output_type": "stream",
     "text": [
      "train_loss_tot , 0.3427471945882079\n",
      "train_loss_y , 0.000751243945642904\n",
      "train_loss_T , 0.341995950642565\n",
      "train_loss_P , 0.0\n",
      "val_loss_tot , 0.43975476944852604\n",
      "val_loss_y , 0.000688663722046119\n",
      "val_loss_T , 0.4390661057264799\n",
      "val_loss_P , 0.0\n",
      "val2_loss_tot , 0.5026380648744655\n",
      "val2_loss_y , 0.000817831881163838\n",
      "val2_loss_T , 0.5018202329933017\n",
      "val2_loss_P , 0.0\n",
      "H1_loss_tot , 0.00022528934934715474\n",
      "H1_loss_y , 0.00022528934934715474\n",
      "H1_loss_T , 0.0\n",
      "H1_loss_P , 0.0\n",
      "\n"
     ]
    },
    {
     "data": {
      "image/png": "[encoded data removed]",
      "text/plain": [
       "<Figure size 432x216 with 2 Axes>"
      ]
     },
     "metadata": {
      "needs_background": "light"
     },
     "output_type": "display_data"
    },
    {
     "data": {
      "image/png": "[encoded data removed]",
      "text/plain": [
       "<Figure size 432x216 with 2 Axes>"
      ]
     },
     "metadata": {
      "needs_background": "light"
     },
     "output_type": "display_data"
    },
    {
     "data": {
      "image/png": "[encoded data removed]",
      "text/plain": [
       "<Figure size 432x216 with 2 Axes>"
      ]
     },
     "metadata": {
      "needs_background": "light"
     },
     "output_type": "display_data"
    },
    {
     "data": {
      "image/png": "[encoded data removed]",
      "text/plain": [
       "<Figure size 432x216 with 2 Axes>"
      ]
     },
     "metadata": {
      "needs_background": "light"
     },
     "output_type": "display_data"
    },
    {
     "data": {
      "image/png": "[encoded data removed]",
      "text/plain": [
       "<Figure size 216x216 with 1 Axes>"
      ]
     },
     "metadata": {
      "needs_background": "light"
     },
     "output_type": "display_data"
    },
    {
     "data": {
      "image/png": "[encoded data removed]",
      "text/plain": [
       "<Figure size 216x216 with 1 Axes>"
      ]
     },
     "metadata": {
      "needs_background": "light"
     },
     "output_type": "display_data"
    },
    {
     "data": {
      "image/png": "[encoded data removed]",
      "text/plain": [
       "<Figure size 216x216 with 1 Axes>"
      ]
     },
     "metadata": {
      "needs_background": "light"
     },
     "output_type": "display_data"
    },
    {
     "data": {
      "image/png": "[encoded data removed]",
      "text/plain": [
       "<Figure size 360x360 with 1 Axes>"
      ]
     },
     "metadata": {
      "needs_background": "light"
     },
     "output_type": "display_data"
    },
    {
     "name": "stdout",
     "output_type": "stream",
     "text": [
      "- - - - - - - - - - -\n",
      "NO___rosettes : R,p=(0.30721494513755837, 0.026733782632643078)\n",
      "WITH_rosettes : R,p=(0.2916021463746917, 0.03240120176121133)\n",
      "- - - - - - - - - - -\n"
     ]
    }
   ],
   "source": [
    "# compute predictions and plot them\n",
    "# vel-y, tens, pres\n",
    "bs = 2\n",
    "\n",
    "pred_out, tgt_out, sample_losses = predict_batch(net,\n",
    "                                                 {'train' : DataLoader(datasets_dict['train'], batch_size=bs),\n",
    "                                                  'val':    DataLoader(datasets_dict['val'],  batch_size=bs),\n",
    "                                                  'val2':   DataLoader(datasets_dict['val2'], batch_size=bs),\n",
    "                                                  'H1':   DataLoader(datasets_dict['H1'], batch_size=bs),\n",
    "#                                                   'A':   DataLoader(datasets_dict['A'], batch_size=bs)\n",
    "                                                 },\n",
    "                                                 loss_func=torch.nn.MSELoss(reduction='sum'),\n",
    "                                                 use_force_loss = {'train': True,\n",
    "                                                                   'val': True,\n",
    "                                                                   'val2': True,\n",
    "                                                                   'H1' : False,\n",
    "                                                                   'A':True\n",
    "                                                                  },\n",
    "                                                 return_losses = True, device=device)\n",
    "print(''.join([f'{k} , {sample_losses[k]}\\n' for k in sample_losses]))\n",
    "\n",
    "plot_velocity_predictions(pred_out[0], tgt_out[0], dataset_legend, subplots_kw={'figsize':[6,3]})\n",
    "\n",
    "plot_tension_prediction(pred_out[1], tgt_out[1], dataset_legend, figure_kw={'figsize':[3,3]})\n",
    "\n",
    "# # # # # # # # # # # # # #\n",
    "# # # Hara Ablation # # # #\n",
    "# # # # # # # # # # # # # #\n",
    "Abln_p, Abln_t, is_ros_ = predict_abln_tension(net, datasets_dict['A'], device=device)\n",
    "\n",
    "m1,m2 = np.polyfit(Abln_t[~is_ros_], Abln_p[~is_ros_], 1)\n",
    "y_fit = np.array([min(Abln_t),max(Abln_t)])*m1+m2\n",
    "\n",
    "plt.figure(figsize=[5,5])\n",
    "ax = plt.gca()\n",
    "ax.plot(Abln_t[~is_ros_], Abln_p[~is_ros_], 'o', mfc='tomato', ms=5, alpha=.5, label='w/o rosettes')\n",
    "ax.plot(Abln_t[is_ros_], Abln_p[is_ros_], 'd', mfc='royalblue', ms=5, alpha=.5, label='rosettes')\n",
    "\n",
    "ax.plot([min(Abln_t),max(Abln_t)], y_fit, 'k--',lw=3, alpha=.5, label=f'$f(x)={m1:.3f}x{\"+\" if m2>0 else \"-\"}{np.abs(m2):.3f}$')\n",
    "ax.set_title('Recoil vs Predicted Tension');\n",
    "ax.set_xlabel('Recoil');\n",
    "ax.set_ylabel('Tension(pred)');\n",
    "ax.legend();\n",
    "ax.axis('square')\n",
    "\n",
    "plt.show()\n",
    "print('- '*10+'-')\n",
    "print(f'NO___rosettes : R,p={pearsonr(Abln_t[~is_ros_], Abln_p[~is_ros_])}')\n",
    "print(f'WITH_rosettes : R,p={pearsonr(Abln_t, Abln_p)}')\n",
    "print('- '*10+'-')"
   ]
  },
  {
   "cell_type": "code",
   "execution_count": 166,
   "metadata": {},
   "outputs": [],
   "source": [
    "# from torch_geometric.utils import to_networkx, from_networkx\n",
    "# import networkx as nx\n",
    "# from simgnn.datautils import load_array, load_graph"
   ]
  },
  {
   "cell_type": "code",
   "execution_count": 167,
   "metadata": {
    "ExecuteTime": {
     "end_time": "2021-10-07T06:39:34.589668Z",
     "start_time": "2021-10-07T06:39:34.556697Z"
    }
   },
   "outputs": [],
   "source": [
    "# k = 'val2'\n",
    "# t = 15\n",
    "# print('{}\\n{} : {}\\nsize:{}\\n\\nFrame {}:\\n{}'.format(dataset_legend[k],k,datasets_dict[k],len(datasets_dict[k]),t,datasets_dict[k][0]))\n",
    "# plt.figure(figsize=[2.5,2.5])\n",
    "# nx.draw(to_networkx(datasets_dict[k][t]),pos=dict(enumerate(datasets_dict[k][t].pos.numpy())), node_size=10)"
   ]
  },
  {
   "cell_type": "code",
   "execution_count": 36,
   "metadata": {},
   "outputs": [],
   "source": [
    "# # NeRF used geometric sequence of increasing frequencies\n",
    "# sigma_nerf = np.pi*np.exp(np.arange(0,8,2)*np.log(2))\n",
    "\n",
    "# plt.figure(figsize=[10,3])\n",
    "# pos = np.linspace(-.02,.02,1024)\n",
    "# for s in sigma_nerf:\n",
    "#     plt.plot(pos,np.cos(s*pos), label=r'$\\sigma/\\pi=$ '+str(round(s/np.pi)))\n",
    "#     plt.plot(pos,np.sin(s*pos), ':')\n",
    "# #     plt.vlines(np.pi/s,-1,1,'k',linestyles='dotted')\n",
    "# plt.legend();"
   ]
  },
  {
   "cell_type": "markdown",
   "metadata": {},
   "source": [
    "```\n",
    "sigma_i : frequency\n",
    "k_0 : exponent for the lowest frequency (e.g. -2)\n",
    "k_f : exponent for the highest frequency (e.g. +8)\n",
    "d : number of inputs of the MLP\n",
    "i : indices of the MLP inputs, i=0,1,...,d-1\n",
    "```"
   ]
  },
  {
   "cell_type": "markdown",
   "metadata": {},
   "source": [
    "$\\sigma_i = 2^{k_0+i\\cdot (k_f-k_0)/(d - 1)}$"
   ]
  },
  {
   "cell_type": "markdown",
   "metadata": {},
   "source": [
    "```python\n",
    "sigma = np.exp(np.linspace(-2,10,5)*np.log(2)) # 2^(k_i)\n",
    "# e.g.:\n",
    "posenc(x) = lambda x: [(np.cos(2*np.pi*s_i*x), np.sin(2*np.pi*s_i*x)) for s_i in sigma]\n",
    "```"
   ]
  },
  {
   "cell_type": "code",
   "execution_count": 291,
   "metadata": {},
   "outputs": [],
   "source": [
    "# m=5\n",
    "# b=10\n",
    "\n",
    "# sigma = torch.exp(torch.arange(0, m)*math.log(b) / (m-1))\n",
    "\n",
    "\n",
    "# plt.figure(figsize=[10,3])\n",
    "# pos = np.linspace(-1/sigma.min(),1/sigma.min(),1000)\n",
    "# for s in sigma:\n",
    "#     plt.plot(pos,np.cos(2*np.pi*s*pos),'-', label=r'$\\sigma=$ '+str(s),alpha=.4)\n",
    "#     plt.plot(pos,np.sin(2*np.pi*s*pos), '-', alpha=.4)\n",
    "#     plt.vlines(1/s,-1,1,'k',linestyles='dotted')\n",
    "# # plt.legend();"
   ]
  }
 ],
 "metadata": {
  "hide_input": false,
  "kernelspec": {
   "display_name": "Python 3",
   "language": "python",
   "name": "python3"
  },
  "language_info": {
   "codemirror_mode": {
    "name": "ipython",
    "version": 3
   },
   "file_extension": ".py",
   "mimetype": "text/x-python",
   "name": "python",
   "nbconvert_exporter": "python",
   "pygments_lexer": "ipython3",
   "version": "3.8.5"
  },
  "toc": {
   "base_numbering": 1,
   "nav_menu": {},
   "number_sections": true,
   "sideBar": true,
   "skip_h1_title": true,
   "title_cell": "Table of Contents",
   "title_sidebar": "Contents",
   "toc_cell": false,
   "toc_position": {
    "height": "calc(100% - 180px)",
    "left": "10px",
    "top": "150px",
    "width": "211.796875px"
   },
   "toc_section_display": true,
   "toc_window_display": false
  }
 },
 "nbformat": 4,
 "nbformat_minor": 4
}
