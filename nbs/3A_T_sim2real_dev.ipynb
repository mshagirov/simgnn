{
 "cells": [
  {
   "cell_type": "markdown",
   "metadata": {
    "tags": []
   },
   "source": [
    "# Training Tension Models\n",
    "---\n",
    "> Graph neural network model for vertex dynamics and tension prediction"
   ]
  },
  {
   "cell_type": "markdown",
   "metadata": {},
   "source": [
    "- Uses GNN with multiple GN processing layers\n",
    "- GNN w/ Encode-Process-Decode architecture\n",
    "- No input noise\n",
    "- Same vertex features as velcocity GNN(1)\n",
    "- Explore edge features (append to old x_e) : norm, diffX etc."
   ]
  },
  {
   "cell_type": "markdown",
   "metadata": {},
   "source": [
    "---"
   ]
  },
  {
   "cell_type": "code",
   "execution_count": 1,
   "metadata": {
    "ExecuteTime": {
     "end_time": "2021-11-19T04:56:35.240327Z",
     "start_time": "2021-11-19T04:56:35.218207Z"
    }
   },
   "outputs": [],
   "source": [
    "%load_ext autoreload\n",
    "%autoreload 2"
   ]
  },
  {
   "cell_type": "code",
   "execution_count": 2,
   "metadata": {
    "ExecuteTime": {
     "end_time": "2021-11-19T04:56:36.759617Z",
     "start_time": "2021-11-19T04:56:35.398099Z"
    }
   },
   "outputs": [],
   "source": [
    "import numpy as np\n",
    "import torch\n",
    "from os import path\n",
    "import datetime\n",
    "\n",
    "from torch_geometric.data import Data, DataLoader\n",
    "import torch_geometric.transforms as T\n",
    "\n",
    "from torch_geometric.utils import to_networkx, from_networkx\n",
    "import networkx as nx\n",
    "from simgnn.datautils import load_array, load_graph\n",
    "\n",
    "import matplotlib.pyplot as plt\n",
    "import matplotlib\n",
    "plt.style.use(['seaborn-paper', 'seaborn-ticks']) # use seaborn-talk for presentations\n",
    "%matplotlib inline\n",
    "# matplotlib.rcParams['figure.figsize'] = (10,10) # use larger for presentation\n",
    "# matplotlib.rcParams['font.size']= 16 # use 14 for presentation"
   ]
  },
  {
   "cell_type": "code",
   "execution_count": 3,
   "metadata": {
    "ExecuteTime": {
     "end_time": "2021-11-19T04:56:39.988209Z",
     "start_time": "2021-11-19T04:56:39.954160Z"
    }
   },
   "outputs": [],
   "source": [
    "from collections import OrderedDict\n",
    "from simgnn.datasets import persistence_loss, VertexDynamics, HaraMovies, HaraAblation\n",
    "from simgnn.transforms import Pos2Vec, AddNoise_x, ScaleVelocity, ScaleTension, RecoilAsTension, TransformTension\n",
    "from simgnn.transforms import AppendReversedEdges, AppendEdgeNorm, AppendDiff_x, Reshape_x, AppendEdgeLen\n",
    "# from torch_geometric.utils import to_undirected as T_undir"
   ]
  },
  {
   "cell_type": "code",
   "execution_count": 4,
   "metadata": {
    "ExecuteTime": {
     "end_time": "2021-11-19T04:56:41.898565Z",
     "start_time": "2021-11-19T04:56:41.865371Z"
    }
   },
   "outputs": [
    {
     "name": "stdout",
     "output_type": "stream",
     "text": [
      "Defaults:\n",
      " |-device: cuda\n",
      " |-dtype : torch.float32\n"
     ]
    }
   ],
   "source": [
    "device = torch.device('cuda') if torch.cuda.is_available() else torch.device('cpu')\n",
    "dtype = torch.float32\n",
    "print(f'Defaults:\\n |-device: {device}\\n |-dtype : {dtype}')"
   ]
  },
  {
   "cell_type": "code",
   "execution_count": 5,
   "metadata": {},
   "outputs": [],
   "source": [
    "def clear_processed_datasets():\n",
    "    !rm -dr simgnn_data/single_distr_sims/train/processed\n",
    "    !rm -dr simgnn_data/single_distr_sims/val/processed\n",
    "\n",
    "    !rm -dr simgnn_data/unimodal_wbasetens_sims/train/processed\n",
    "    !rm -dr simgnn_data/unimodal_wbasetens_sims/val/processed\n",
    "\n",
    "    !rm -dr simgnn_data/hara_movies/processed\n",
    "    !rm -dr simgnn_data/hara_movies_as_sep_datasets/hara_seg001/processed/\n",
    "    !rm -dr simgnn_data/hara_movies_as_sep_datasets/hara_seg003/processed/\n",
    "    !rm -dr simgnn_data/hara_movies_as_sep_datasets/hara_seg005/processed/\n",
    "    \n",
    "    !rm -dr simgnn_data/hara_ablation/processed/"
   ]
  },
  {
   "cell_type": "markdown",
   "metadata": {},
   "source": [
    "## Data, Stat-s, Transforms"
   ]
  },
  {
   "cell_type": "markdown",
   "metadata": {},
   "source": [
    "Notes for normalisation param-s:\n",
    "\n",
    "- Use `simgnn.transforms` to normalise real--Hara movies and ablation,  and simulated movies.\n",
    "- For ablation movies, convert to  HaraMovies length scale (pixels) and use same `l_av` as for HaraMovies dataset."
   ]
  },
  {
   "cell_type": "markdown",
   "metadata": {},
   "source": [
    "---\n",
    "|Dataset| Avg. edge len.|Tension/Recoil| Transforms (Normalisation)|Notes|\n",
    "|:---:|:---:|---:|:---|:---:|\n",
    "|`single_distr_sims` | 1.08 a.u. | range = [0.00131, 4.26]; sd=0.637; median=0.305; mean=0.578; | `[Pos2Vec(scale=10*1.0)`, `ScaleVelocity(0.5*1.0)`, `ScaleTension(0.634,shift=0.6)]`| synthetic; w/o base tension |\n",
    "|`unimodal_wbasetens_sims` | 0.906 a.u. | range=[0.407, 5.47]; sd=0.729; median=1.48; mean=1.6| `[Pos2Vec(scale=10*1.0)`, `ScaleVelocity(0.5*1.0)`, `ScaleTension(0.634,shift=0.6)]`| synthetic; w/ non-zero base tension |\n",
    "|`HaraMovies`  | 26.32 pixels||`[Pos2Vec(scale=10*26.32)`, `ScaleVelocity(0.5*26.32)]`| tissue movies w/o force data|\n",
    "|`HaraAblation`|$26.32\\cdot\\frac{0.4}{0.21}$ pixels| range=[0.0239, 2.61]; sd=0.651; median=0.673; mean=0.826 | `[Pos2Vec(scale=10*50.13), ScaleVelocity(0.5*50.13)]`| short movies w/ recoil data; frame rate:dataset contains vertex positions only from every 10th frame |\n"
   ]
  },
  {
   "cell_type": "markdown",
   "metadata": {},
   "source": [
    "### Datasets"
   ]
  },
  {
   "cell_type": "markdown",
   "metadata": {},
   "source": [
    "---\n",
    "- **Normalisation param-s**"
   ]
  },
  {
   "cell_type": "code",
   "execution_count": 6,
   "metadata": {
    "ExecuteTime": {
     "end_time": "2021-11-19T04:38:21.352011Z",
     "start_time": "2021-11-19T04:38:21.324365Z"
    },
    "tags": []
   },
   "outputs": [
    {
     "name": "stdout",
     "output_type": "stream",
     "text": [
      "> Set features window size to --> 5\n"
     ]
    }
   ],
   "source": [
    "# Data normalisation param-s : sim=\"default\" for simulation data\n",
    "# Average edge lengths\n",
    "l_0 = {'sim':1.0, 'single_distr_sims':1.1, 'unimodal_wbasetens_sims':0.91, 'hara':26.32, 'abln':50.13}\n",
    "\n",
    "# Stat-s for raw tension/recoil values\n",
    "t_av = {'sim':0.6, 'single_distr_sims': 0.58, 'unimodal_wbasetens_sims': 1.6, 'abln': 0.83}\n",
    "t_sd = {'sim':0.63, 'single_distr_sims': 0.64, 'unimodal_wbasetens_sims':0.73 , 'abln': 0.65}\n",
    "\n",
    "# Input features\n",
    "window_size = 5\n",
    "sma_lag_time = 4 # SMA_n : n=sma_lag_time+1\n",
    "\n",
    "pos_noise = torch.normal\n",
    "noise_args= [0, 0.01] #[0,1]\n",
    "print(f'> Set features window size to --> {window_size}')"
   ]
  },
  {
   "cell_type": "markdown",
   "metadata": {},
   "source": [
    "**Input features and normalisation param-s (transforms)**"
   ]
  },
  {
   "cell_type": "code",
   "execution_count": 7,
   "metadata": {
    "ExecuteTime": {
     "end_time": "2021-11-19T02:51:58.174970Z",
     "start_time": "2021-11-19T02:51:58.127408Z"
    }
   },
   "outputs": [],
   "source": [
    "INPUT_NOISE = False # True/False\n",
    "\n",
    "# Simulation datasets\n",
    "if INPUT_NOISE:\n",
    "    # Normalisation (**input noise**; during training)\n",
    "    Tnrm = {'unimodal_wbasetens_sims': [Pos2Vec(scale=l_0['sim'], pos_noise=pos_noise, noise_args=noise_args),\n",
    "                                        AddNoise_x(pos_noise, noise_args=noise_args),\n",
    "                                        ScaleVelocity(l_0['sim']),\n",
    "                                        ScaleTension(t_sd['unimodal_wbasetens_sims'], shift=t_av['unimodal_wbasetens_sims'])]   \n",
    "           }\n",
    "    for k in ['sim', 'single_distr_sims']:\n",
    "        Tnrm[k] = [Pos2Vec(scale=l_0['sim']), ScaleVelocity(l_0['sim']), ScaleTension(t_sd[k], shift=t_av[k])]\n",
    "else:\n",
    "    # Simulation dataset\n",
    "    # Normalisation (**no input noise**)\n",
    "    Tnrm = {k: [Pos2Vec(scale=l_0['sim']), ScaleVelocity(l_0['sim']), ScaleTension(t_sd[k], shift=t_av[k])]\n",
    "            for k in ['sim', 'single_distr_sims', 'unimodal_wbasetens_sims']}\n",
    "\n",
    "\n",
    "# Hara ablation dataset\n",
    "Tnrm['abln'] = [Pos2Vec(scale=l_0['abln']), ScaleVelocity(l_0['abln']), RecoilAsTension(), \n",
    "                ScaleTension(t_sd['abln'], shift=t_av['abln'])]\n",
    "\n",
    "# Hara movie dataset\n",
    "Tnrm['hara'] = [Pos2Vec(scale=l_0['hara']), ScaleVelocity(l_0['hara'])]\n",
    "\n",
    "\n",
    "# Node and Edge Feature Transforms\n",
    "# Convert to undirected graph and append \"edge features\"\n",
    "for k in Tnrm:\n",
    "    # to undirected graph: add e_ji for all e_ij\n",
    "    Tnrm[k].append(AppendReversedEdges())\n",
    "    \n",
    "#     # Add edge features\n",
    "    Tnrm[k].append(AppendDiff_x())\n",
    "#     Tnrm[k].append(AppendEdgeNorm())\n",
    "    Tnrm[k].append(AppendEdgeLen(norm=True, scale=l_0[k])) # for edge masks\n",
    "    \n",
    "    # flatten  node features\n",
    "    Tnrm[k].append(Reshape_x((-1,window_size*2)))\n",
    "    \n",
    "    Tnrm[k] = T.Compose(Tnrm[k])"
   ]
  },
  {
   "cell_type": "code",
   "execution_count": 8,
   "metadata": {},
   "outputs": [
    {
     "data": {
      "text/plain": [
       "Compose([\n",
       "    Pos2Vec(norm=True, scale=1.0, cat=False, pos_noise=None, noise_args=[], noise_kwargs={}),\n",
       "    ScaleVelocity(scale=1.0),\n",
       "    ScaleTension(scale=0.73, shift=1.6),\n",
       "    AppendReversedEdges(reverse_attr=True, reverse_tension=False, edge_id=True),\n",
       "    AppendDiff_x(norm=True),\n",
       "    AppendEdgeLen(keep_dir=False, aggr_edge_id=True, use_edge_attr=False, norm=True, scale=0.91),\n",
       "    Reshape_x((-1, 10)),\n",
       "])"
      ]
     },
     "execution_count": 8,
     "metadata": {},
     "output_type": "execute_result"
    }
   ],
   "source": [
    "Tnrm['unimodal_wbasetens_sims']"
   ]
  },
  {
   "cell_type": "markdown",
   "metadata": {},
   "source": [
    "**Load datasets**"
   ]
  },
  {
   "cell_type": "markdown",
   "metadata": {},
   "source": [
    "if one of these is changed: `w`, SMA `lag` time, delete the old *processed* dataset files (e.g. with old `w`)"
   ]
  },
  {
   "cell_type": "code",
   "execution_count": 9,
   "metadata": {},
   "outputs": [
    {
     "name": "stdout",
     "output_type": "stream",
     "text": [
      "rm: cannot remove 'simgnn_data/single_distr_sims/train/processed': No such file or directory\n",
      "rm: cannot remove 'simgnn_data/hara_movies/processed': No such file or directory\n",
      "rm: cannot remove 'simgnn_data/hara_movies_as_sep_datasets/hara_seg003/processed/': No such file or directory\n",
      "rm: cannot remove 'simgnn_data/hara_movies_as_sep_datasets/hara_seg005/processed/': No such file or directory\n"
     ]
    }
   ],
   "source": [
    "clear_processed_datasets()"
   ]
  },
  {
   "cell_type": "code",
   "execution_count": 10,
   "metadata": {
    "ExecuteTime": {
     "end_time": "2021-10-25T14:58:32.713277Z",
     "start_time": "2021-10-25T14:58:30.420983Z"
    }
   },
   "outputs": [
    {
     "name": "stdout",
     "output_type": "stream",
     "text": [
      "Processing...\n",
      "Done!\n",
      "Processing...\n",
      "Done!\n",
      "Processing...\n",
      "Done!\n",
      "Processing...\n",
      "Done!\n",
      "Processing...\n",
      "Done!\n"
     ]
    }
   ],
   "source": [
    "hara_abln = HaraAblation('simgnn_data/hara_ablation/', window_size=window_size, transform=Tnrm['abln'],\n",
    "                         smoothing=True, sma_lag_time= 3#sma_lag_time\n",
    "                        )\n",
    "# hara = HaraMovies('simgnn_data/hara_movies/',window_size=window_size, transform=Tnrm['hara'],\n",
    "#                   smoothing=True, sma_lag_time=sma_lag_time)\n",
    "\n",
    "# Hara movie datasets\n",
    "seg001 = HaraMovies('simgnn_data/hara_movies_as_sep_datasets/hara_seg001/', window_size=window_size, transform=Tnrm['hara'], \n",
    "                    smoothing=True, sma_lag_time=sma_lag_time)\n",
    "# seg001_raw = HaraMovies('simgnn_data/hara_movies/', window_size=window_size, transform=Tnorm_hara)\n",
    "# seg003 = HaraMovies('simgnn_data/hara_movies_as_sep_datasets/hara_seg003/', window_size=window_size, transform=Tnrm['hara'],\n",
    "#                     smoothing=True, sma_lag_time=4)\n",
    "# seg005 = HaraMovies('simgnn_data/hara_movies_as_sep_datasets/hara_seg005/', window_size=window_size, transform=Tnrm['hara'],\n",
    "#                     smoothing=True, sma_lag_time=4)\n",
    "\n",
    "# Simulation datasets\n",
    "# rand base contractility\n",
    "sim1 = VertexDynamics('./simgnn_data/unimodal_wbasetens_sims/train/', window_size=window_size,\n",
    "#                       transform=Tnrm['sim']\n",
    "                      transform=Tnrm['unimodal_wbasetens_sims']\n",
    "                     )\n",
    "sim1_val = VertexDynamics('./simgnn_data/unimodal_wbasetens_sims/val/', window_size=window_size,\n",
    "#                           transform=Tnrm['sim']\n",
    "                          transform=Tnrm['unimodal_wbasetens_sims']\n",
    "                         )\n",
    "\n",
    "# w/o base contractility\n",
    "# sim2 = VertexDynamics('./simgnn_data/single_distr_sims/train/', window_size=window_size,\n",
    "# #                       transform=Tnrm['sim']\n",
    "#                       transform=Tnrm['single_distr_sims']\n",
    "#                      )\n",
    "sim2_val = VertexDynamics('./simgnn_data/single_distr_sims/val/', window_size=window_size,\n",
    "#                           transform=Tnrm['sim']\n",
    "                          transform=Tnrm['single_distr_sims']\n",
    "                         )\n",
    "\n",
    "\n",
    "datasets_dict = {'train': sim1,\n",
    "                 'val': sim1_val[:len(sim1_val)//2]+sim1_val[len(sim1_val)//2:-1],\n",
    "                 'val2': sim2_val[:len(sim2_val)//2]+sim1_val[len(sim2_val)//2:-1],\n",
    "                 'H1' : seg001,\n",
    "                 'A': hara_abln,\n",
    "                 'sim1mov': sim1_val,\n",
    "                 'sim2mov': sim2_val\n",
    "                }\n",
    "dataset_legend={'train': 'Train(sim1)',\n",
    "                'val': r'Supervised ($\\mathcal{D}_{sim1}$)',\n",
    "                'val2': r'Sim2sim ($\\mathcal{D}_{sim2})$',\n",
    "                'H1': r'Sim2real ($\\mathcal{H}_1$)',\n",
    "                'A': r'Sim2real ($v_{recoil}$)',\n",
    "                'sim1mov': r'Supervised ($\\mathcal{D}_{sim1}$)',\n",
    "                'sim2mov': r'Sim2sim ($\\mathcal{D}_{sim2})$'\n",
    "               }"
   ]
  },
  {
   "cell_type": "code",
   "execution_count": 11,
   "metadata": {
    "ExecuteTime": {
     "end_time": "2021-10-07T06:39:34.589668Z",
     "start_time": "2021-10-07T06:39:34.556697Z"
    }
   },
   "outputs": [],
   "source": [
    "# k = 'val2'\n",
    "# t = 15\n",
    "# print('{}\\n{} : {}\\nsize:{}\\n\\nFrame {}:\\n{}'.format(dataset_legend[k],k,datasets_dict[k],len(datasets_dict[k]),t,datasets_dict[k][0]))\n",
    "# plt.figure(figsize=[2.5,2.5])\n",
    "# nx.draw(to_networkx(datasets_dict[k][t]),pos=dict(enumerate(datasets_dict[k][t].pos.numpy())), node_size=10)"
   ]
  },
  {
   "cell_type": "markdown",
   "metadata": {},
   "source": [
    "**Persistence Losses**"
   ]
  },
  {
   "cell_type": "code",
   "execution_count": 12,
   "metadata": {
    "ExecuteTime": {
     "end_time": "2021-10-07T06:39:35.234134Z",
     "start_time": "2021-10-07T06:39:35.202061Z"
    }
   },
   "outputs": [],
   "source": [
    "# print('Persistence:')\n",
    "# for k in datasets_dict:\n",
    "#     if k=='abln':print('Ignoring ablation data velocity');continue\n",
    "#     print(f'\\t- {dataset_legend[k]}: {persistence_loss(datasets_dict[k])}')\n",
    "    \n",
    "# print(len(datasets_dict['train']))"
   ]
  },
  {
   "cell_type": "markdown",
   "metadata": {},
   "source": [
    "---"
   ]
  },
  {
   "cell_type": "markdown",
   "metadata": {},
   "source": [
    "## Tension Models"
   ]
  },
  {
   "cell_type": "code",
   "execution_count": 13,
   "metadata": {
    "ExecuteTime": {
     "end_time": "2021-10-07T08:21:02.184243Z",
     "start_time": "2021-10-07T08:21:02.143521Z"
    }
   },
   "outputs": [],
   "source": [
    "from simgnn.train import train_model, write_log, load_log, plot_losses\n",
    "from simgnn.train import predict, predict_batch, plot_velocity_predictions, plot_tension_prediction\n",
    "from simgnn.train import predict_abln_tension, predict_dataset_tension\n",
    "\n",
    "from scipy.stats import pearsonr\n",
    "\n",
    "\n",
    "# from simgnn.nn import mlp, IndependentBlock, MessageBlock, dims_to_dict, Encode_Process_Decode\n",
    "from simgnn.models import get_simple_gnn, construct_simple_gnn, GraphEncoder, GraphDecoder, GraphProcessor"
   ]
  },
  {
   "cell_type": "code",
   "execution_count": 14,
   "metadata": {
    "ExecuteTime": {
     "end_time": "2021-09-28T14:23:14.958823Z",
     "start_time": "2021-09-28T14:23:14.925226Z"
    }
   },
   "outputs": [],
   "source": [
    "# MessageBlock(..., hidden_dims=[16], updt='p')"
   ]
  },
  {
   "cell_type": "code",
   "execution_count": 15,
   "metadata": {},
   "outputs": [],
   "source": [
    "# next(iter(loaders['train']))"
   ]
  },
  {
   "cell_type": "markdown",
   "metadata": {},
   "source": [
    "- Construct a model\n",
    "---\n",
    "GNN(n) models\n",
    "```python\n",
    "input_dims = OrderedDict([('node', 10), ('edge', 2)]) # node_features, edge_features\n",
    "output_dims = OrderedDict([('node', 2), ('edge', 1)]) # velocity:(Nv,2), tensions:(Ne,1)\n",
    "latent_dims = 128\n",
    "\n",
    "encoder_kwrgs    = {'hidden_dims':[128, 128]}\n",
    "\n",
    "processor_kwargs = {'n_blocks': n,\n",
    "                    'block_type': 'message',\n",
    "                    'is_residual': True,\n",
    "                    'seq': 'n', # 'n', 'e', 'p'\n",
    "                    'norm_type': 'ln', # 'ln' or 'bn'\n",
    "                    'block_p': 0,  # block dropout (last layer)\n",
    "                    'dropout_p': 0.1, # dropout for hidden layers (if any)\n",
    "                    'hidden_dims':[latent_dims, latent_dims]\n",
    "                   }\n",
    "\n",
    "decoder_kwargs   = {'hidden_dims':[128, 128, 16]}\n",
    "```"
   ]
  },
  {
   "cell_type": "code",
   "execution_count": 16,
   "metadata": {},
   "outputs": [],
   "source": [
    "# import simgnn.hardcoded as hcmodels # hardcoded models for testing and experimentation\n",
    "\n",
    "# torch.manual_seed(0)\n",
    "# # net, unique_id = hcmodels.get_model_04122021()\n",
    "# net, unique_id = hcmodels.get_model_NoNrmNoDiffX(return_name=True)\n",
    "# net = net.to(device)\n",
    "# # unique_id: 'YesNrmYesDiffX', 'NoNrmNoDiffX', 'YesNrmNoDiffX', 'model_04122021'\n",
    "\n",
    "# # save_dir = './simgnn_data/saved_models/tension_test'\n",
    "# save_dir = './simgnn_data/saved_models/'\n",
    "# unique_id = unique_id #+ '_noise'"
   ]
  },
  {
   "cell_type": "markdown",
   "metadata": {},
   "source": [
    "- Training param-s and loaders:"
   ]
  },
  {
   "cell_type": "code",
   "execution_count": null,
   "metadata": {
    "scrolled": true,
    "tags": []
   },
   "outputs": [
    {
     "name": "stdout",
     "output_type": "stream",
     "text": [
      "unique_id: GNN3_res_DiffX\n",
      "ignore_short_edges, edge_len_threshold: False None\n",
      "GNN3_res_DiffX_bs2w5_1000epochs\n",
      "---\n",
      "Training param-s: #epochs=1000, metric=MSELoss(), batch_size=2, optim=Adam, sch-r=ReduceLROnPlateau, return_best=False\n",
      "---\n",
      "Epoch 0/999: train_loss_tot=  0.5996; train_loss_y=0.002392; train_loss_T=  0.5972; |val_loss_tot=  0.5046; |8s\n",
      "Epoch 1/999: train_loss_tot=  0.4705; train_loss_y=0.0009295; train_loss_T=  0.4696; |val_loss_tot=  0.4663; |14s\n",
      "Epoch 2/999: train_loss_tot=  0.4543; train_loss_y=0.0009117; train_loss_T=  0.4533; |val_loss_tot=  0.4657; |21s\n",
      "Epoch 3/999: train_loss_tot=  0.4478; train_loss_y=0.0008882; train_loss_T=  0.4469; |val_loss_tot=  0.4359; |28s\n",
      "Epoch 4/999: train_loss_tot=  0.4399; train_loss_y=0.0009549; train_loss_T=   0.439; |val_loss_tot=  0.4515; |34s\n",
      "Epoch 5/999: train_loss_tot=  0.4354; train_loss_y=0.0009597; train_loss_T=  0.4344; |val_loss_tot=  0.4348; |40s\n",
      "Epoch 6/999: train_loss_tot=  0.4206; train_loss_y=0.0007988; train_loss_T=  0.4198; |val_loss_tot=   0.425; |46s\n",
      "Epoch 7/999: train_loss_tot=  0.4138; train_loss_y=0.0007713; train_loss_T=   0.413; |val_loss_tot=  0.4299; |52s\n",
      "Epoch 8/999: train_loss_tot=  0.4082; train_loss_y=0.0007664; train_loss_T=  0.4075; |val_loss_tot=  0.4137; |59s\n",
      "Epoch 9/999: train_loss_tot=  0.4032; train_loss_y=0.0007513; train_loss_T=  0.4025; |val_loss_tot=  0.4165; |65s\n",
      "Epoch 10/999: train_loss_tot=  0.4043; train_loss_y=0.0007292; train_loss_T=  0.4036; |val_loss_tot=  0.4268; |71s\n",
      "Epoch 11/999: train_loss_tot=  0.4058; train_loss_y=0.0007452; train_loss_T=   0.405; |val_loss_tot=  0.4124; |76s\n",
      "Epoch 12/999: train_loss_tot=  0.3981; train_loss_y=0.0007423; train_loss_T=  0.3974; |val_loss_tot=   0.433; |82s\n",
      "Epoch 13/999: train_loss_tot=   0.393; train_loss_y=0.0007474; train_loss_T=  0.3923; |val_loss_tot=   0.411; |88s\n",
      "Epoch 14/999: train_loss_tot=  0.3929; train_loss_y=0.0007535; train_loss_T=  0.3921; |val_loss_tot=   0.427; |94s\n",
      "Epoch 15/999: train_loss_tot=  0.3971; train_loss_y=0.0007965; train_loss_T=  0.3963; |val_loss_tot=  0.4219; |100s\n",
      "Epoch 16/999: train_loss_tot=   0.398; train_loss_y=0.0007958; train_loss_T=  0.3972; |val_loss_tot=  0.4238; |106s\n",
      "Epoch 17/999: train_loss_tot=  0.3878; train_loss_y=0.0007612; train_loss_T=   0.387; |val_loss_tot=   0.417; |111s\n",
      "Epoch 18/999: train_loss_tot=  0.3822; train_loss_y=0.000773; train_loss_T=  0.3815; |val_loss_tot=  0.4144; |117s\n",
      "Epoch 19/999: train_loss_tot=  0.3789; train_loss_y=0.0007537; train_loss_T=  0.3781; |val_loss_tot=  0.4106; |123s\n",
      "Epoch 20/999: train_loss_tot=  0.3762; train_loss_y=0.0007657; train_loss_T=  0.3755; |val_loss_tot=  0.4149; |129s\n",
      "Epoch 21/999: train_loss_tot=  0.3831; train_loss_y=0.0007535; train_loss_T=  0.3824; |val_loss_tot=  0.4057; |134s\n",
      "Epoch 22/999: train_loss_tot=   0.373; train_loss_y=0.0007403; train_loss_T=  0.3722; |val_loss_tot=  0.4099; |140s\n",
      "Epoch 23/999: train_loss_tot=  0.3717; train_loss_y=0.0007858; train_loss_T=  0.3709; |val_loss_tot=  0.4021; |146s\n",
      "Epoch 24/999: train_loss_tot=  0.3692; train_loss_y=0.0007312; train_loss_T=  0.3685; |val_loss_tot=  0.4019; |153s\n",
      "Epoch 25/999: train_loss_tot=  0.3623; train_loss_y=0.0007185; train_loss_T=  0.3616; |val_loss_tot=   0.398; |159s\n",
      "Epoch 26/999: train_loss_tot=  0.3649; train_loss_y=0.0007088; train_loss_T=  0.3642; |val_loss_tot=  0.4107; |166s\n",
      "Epoch 27/999: train_loss_tot=  0.3693; train_loss_y=0.0007653; train_loss_T=  0.3686; |val_loss_tot=  0.4038; |172s\n",
      "Epoch 28/999: train_loss_tot=  0.3648; train_loss_y=0.0007635; train_loss_T=   0.364; |val_loss_tot=  0.4064; |178s\n",
      "Epoch 29/999: train_loss_tot=  0.3652; train_loss_y=0.0007685; train_loss_T=  0.3644; |val_loss_tot=  0.3994; |185s\n",
      "Epoch 30/999: train_loss_tot=  0.3604; train_loss_y=0.000715; train_loss_T=  0.3597; |val_loss_tot=  0.3984; |191s\n",
      "Epoch 31/999: train_loss_tot=  0.3547; train_loss_y=0.0007018; train_loss_T=   0.354; |val_loss_tot=  0.4004; |197s\n",
      "Epoch 32/999: train_loss_tot=   0.356; train_loss_y=0.000719; train_loss_T=  0.3553; |val_loss_tot=  0.3927; |203s\n",
      "Epoch 33/999: train_loss_tot=   0.345; train_loss_y=0.000704; train_loss_T=  0.3443; |val_loss_tot=  0.4056; |210s\n",
      "Epoch 34/999: train_loss_tot=   0.342; train_loss_y=0.0007271; train_loss_T=  0.3413; |val_loss_tot=  0.3957; |216s\n",
      "Epoch 35/999: train_loss_tot=  0.3414; train_loss_y=0.0007208; train_loss_T=  0.3407; |val_loss_tot=  0.3876; |222s\n",
      "Epoch 36/999: train_loss_tot=  0.3391; train_loss_y=0.0007331; train_loss_T=  0.3384; |val_loss_tot=   0.411; |228s\n",
      "Epoch 37/999: train_loss_tot=   0.336; train_loss_y=0.0007401; train_loss_T=  0.3352; |val_loss_tot=  0.4072; |234s\n",
      "Epoch 38/999: train_loss_tot=  0.3373; train_loss_y=0.0007321; train_loss_T=  0.3366; |val_loss_tot=  0.4011; |240s\n",
      "Epoch 39/999: train_loss_tot=  0.3311; train_loss_y=0.0007208; train_loss_T=  0.3304; |val_loss_tot=  0.4081; |245s\n",
      "Epoch 40/999: train_loss_tot=  0.3294; train_loss_y=0.000716; train_loss_T=  0.3287; |val_loss_tot=  0.4074; |251s\n",
      "Epoch 41/999: train_loss_tot=  0.3268; train_loss_y=0.0007068; train_loss_T=  0.3261; |val_loss_tot=   0.414; |257s\n",
      "Epoch 42/999: train_loss_tot=  0.3218; train_loss_y=0.0007071; train_loss_T=  0.3211; |val_loss_tot=  0.4184; |263s\n",
      "Epoch 43/999: train_loss_tot=  0.3189; train_loss_y=0.000717; train_loss_T=  0.3182; |val_loss_tot=  0.4162; |269s\n",
      "Epoch 44/999: train_loss_tot=  0.3122; train_loss_y=0.0006929; train_loss_T=  0.3115; |val_loss_tot=  0.4158; |275s\n",
      "Epoch 45/999: train_loss_tot=  0.3105; train_loss_y=0.0007095; train_loss_T=  0.3098; |val_loss_tot=  0.4181; |280s\n",
      "Epoch 46/999: train_loss_tot=     0.3; train_loss_y=0.0007201; train_loss_T=  0.2993; |val_loss_tot=   0.425; |286s\n",
      "Epoch 47/999: train_loss_tot=  0.3136; train_loss_y=0.0006905; train_loss_T=  0.3129; |val_loss_tot=  0.4077; |292s\n",
      "Epoch 48/999: train_loss_tot=  0.3002; train_loss_y=0.0006748; train_loss_T=  0.2995; |val_loss_tot=   0.408; |298s\n",
      "Epoch 49/999: train_loss_tot=  0.2931; train_loss_y=0.0006703; train_loss_T=  0.2925; |val_loss_tot=  0.4092; |303s\n",
      "Epoch 50/999: train_loss_tot=  0.2888; train_loss_y=0.0006667; train_loss_T=  0.2882; |val_loss_tot=  0.4089; |309s\n",
      "Epoch 51/999: train_loss_tot=  0.2839; train_loss_y=0.0006651; train_loss_T=  0.2833; |val_loss_tot=  0.4106; |315s\n",
      "Epoch 52/999: train_loss_tot=  0.2799; train_loss_y=0.0006638; train_loss_T=  0.2793; |val_loss_tot=   0.412; |321s\n",
      "Epoch 53/999: train_loss_tot=   0.277; train_loss_y=0.000662; train_loss_T=  0.2763; |val_loss_tot=  0.4134; |326s\n",
      "Epoch 54/999: train_loss_tot=  0.2742; train_loss_y=0.0006607; train_loss_T=  0.2736; |val_loss_tot=   0.415; |333s\n",
      "Epoch 55/999: train_loss_tot=  0.2717; train_loss_y=0.0006593; train_loss_T=   0.271; |val_loss_tot=  0.4164; |339s\n",
      "Epoch 56/999: train_loss_tot=  0.2692; train_loss_y=0.000658; train_loss_T=  0.2685; |val_loss_tot=  0.4175; |345s\n",
      "Epoch 57/999: train_loss_tot=  0.2664; train_loss_y=0.0006561; train_loss_T=  0.2658; |val_loss_tot=  0.4195; |350s\n",
      "Epoch 58/999: train_loss_tot=  0.2686; train_loss_y=0.0006564; train_loss_T=  0.2679; |val_loss_tot=  0.4166; |356s\n",
      "Epoch 59/999: train_loss_tot=  0.2636; train_loss_y=0.0006528; train_loss_T=  0.2629; |val_loss_tot=  0.4174; |362s\n",
      "Epoch 60/999: train_loss_tot=  0.2625; train_loss_y=0.0006521; train_loss_T=  0.2618; |val_loss_tot=  0.4174; |368s\n",
      "Epoch 61/999: train_loss_tot=  0.2614; train_loss_y=0.0006516; train_loss_T=  0.2608; |val_loss_tot=  0.4179; |373s\n",
      "Epoch 62/999: train_loss_tot=  0.2608; train_loss_y=0.0006513; train_loss_T=  0.2601; |val_loss_tot=  0.4184; |379s\n",
      "Epoch 63/999: train_loss_tot=  0.2603; train_loss_y=0.000651; train_loss_T=  0.2596; |val_loss_tot=  0.4188; |385s\n",
      "Epoch 64/999: train_loss_tot=  0.2598; train_loss_y=0.0006507; train_loss_T=  0.2591; |val_loss_tot=  0.4192; |392s\n",
      "Epoch 65/999: train_loss_tot=  0.2593; train_loss_y=0.0006502; train_loss_T=  0.2587; |val_loss_tot=  0.4194; |398s\n",
      "Epoch 66/999: train_loss_tot=  0.2589; train_loss_y=0.0006499; train_loss_T=  0.2583; |val_loss_tot=  0.4197; |403s\n",
      "Epoch 67/999: train_loss_tot=  0.2585; train_loss_y=0.0006496; train_loss_T=  0.2579; |val_loss_tot=    0.42; |409s\n",
      "Epoch 68/999: train_loss_tot=  0.2581; train_loss_y=0.0006492; train_loss_T=  0.2574; |val_loss_tot=  0.4201; |415s\n",
      "Epoch 69/999: train_loss_tot=  0.2567; train_loss_y=0.0006487; train_loss_T=   0.256; |val_loss_tot=   0.419; |421s\n",
      "Epoch 70/999: train_loss_tot=  0.2564; train_loss_y=0.0006486; train_loss_T=  0.2558; |val_loss_tot=  0.4185; |427s\n",
      "Epoch 71/999: train_loss_tot=  0.2563; train_loss_y=0.0006486; train_loss_T=  0.2556; |val_loss_tot=  0.4183; |433s\n",
      "Epoch 72/999: train_loss_tot=  0.2562; train_loss_y=0.0006486; train_loss_T=  0.2556; |val_loss_tot=  0.4183; |438s\n",
      "Epoch 73/999: train_loss_tot=  0.2562; train_loss_y=0.0006485; train_loss_T=  0.2555; |val_loss_tot=  0.4182; |444s\n",
      "Epoch 74/999: train_loss_tot=  0.2561; train_loss_y=0.0006485; train_loss_T=  0.2555; |val_loss_tot=  0.4183; |450s\n",
      "Epoch 75/999: train_loss_tot=   0.256; train_loss_y=0.0006485; train_loss_T=  0.2554; |val_loss_tot=  0.4183; |456s\n",
      "Epoch 76/999: train_loss_tot=   0.256; train_loss_y=0.0006484; train_loss_T=  0.2553; |val_loss_tot=  0.4184; |462s\n",
      "Epoch 77/999: train_loss_tot=  0.2559; train_loss_y=0.0006484; train_loss_T=  0.2553; |val_loss_tot=  0.4184; |468s\n",
      "Epoch 78/999: train_loss_tot=  0.2559; train_loss_y=0.0006484; train_loss_T=  0.2552; |val_loss_tot=  0.4185; |473s\n",
      "Epoch 79/999: train_loss_tot=  0.2558; train_loss_y=0.0006483; train_loss_T=  0.2552; |val_loss_tot=  0.4185; |479s\n",
      "Epoch 80/999: train_loss_tot=  0.2555; train_loss_y=0.0006483; train_loss_T=  0.2548; |val_loss_tot=  0.4185; |485s\n",
      "Epoch 81/999: train_loss_tot=  0.2555; train_loss_y=0.0006482; train_loss_T=  0.2548; |val_loss_tot=  0.4185; |491s\n",
      "Epoch 82/999: train_loss_tot=  0.2555; train_loss_y=0.0006482; train_loss_T=  0.2548; |val_loss_tot=  0.4185; |497s\n",
      "Epoch 83/999: train_loss_tot=  0.2555; train_loss_y=0.0006482; train_loss_T=  0.2548; |val_loss_tot=  0.4185; |502s\n",
      "Epoch 84/999: train_loss_tot=  0.2555; train_loss_y=0.0006482; train_loss_T=  0.2548; |val_loss_tot=  0.4185; |508s\n",
      "Epoch 85/999: train_loss_tot=  0.2554; train_loss_y=0.0006482; train_loss_T=  0.2548; |val_loss_tot=  0.4184; |514s\n",
      "Epoch 86/999: train_loss_tot=  0.2554; train_loss_y=0.0006482; train_loss_T=  0.2548; |val_loss_tot=  0.4184; |520s\n",
      "Epoch 87/999: train_loss_tot=  0.2554; train_loss_y=0.0006482; train_loss_T=  0.2548; |val_loss_tot=  0.4184; |525s\n",
      "Epoch 88/999: train_loss_tot=  0.2554; train_loss_y=0.0006482; train_loss_T=  0.2548; |val_loss_tot=  0.4184; |531s\n",
      "Epoch 89/999: train_loss_tot=  0.2554; train_loss_y=0.0006482; train_loss_T=  0.2548; |val_loss_tot=  0.4184; |537s\n",
      "Epoch 90/999: train_loss_tot=  0.2554; train_loss_y=0.0006482; train_loss_T=  0.2548; |val_loss_tot=  0.4184; |543s\n",
      "Epoch 91/999: train_loss_tot=  0.2554; train_loss_y=0.0006482; train_loss_T=  0.2547; |val_loss_tot=  0.4184; |549s\n",
      "Epoch 92/999: train_loss_tot=  0.2554; train_loss_y=0.0006482; train_loss_T=  0.2547; |val_loss_tot=  0.4184; |554s\n",
      "Epoch 93/999: train_loss_tot=  0.2554; train_loss_y=0.0006482; train_loss_T=  0.2547; |val_loss_tot=  0.4184; |560s\n",
      "Epoch 94/999: train_loss_tot=  0.2554; train_loss_y=0.0006482; train_loss_T=  0.2547; |val_loss_tot=  0.4184; |566s\n",
      "Epoch 95/999: train_loss_tot=  0.2554; train_loss_y=0.0006482; train_loss_T=  0.2547; |val_loss_tot=  0.4184; |572s\n",
      "Epoch 96/999: train_loss_tot=  0.2554; train_loss_y=0.0006482; train_loss_T=  0.2547; |val_loss_tot=  0.4184; |577s\n",
      "Epoch 97/999: train_loss_tot=  0.2554; train_loss_y=0.0006482; train_loss_T=  0.2547; |val_loss_tot=  0.4184; |583s\n",
      "Epoch 98/999: train_loss_tot=  0.2554; train_loss_y=0.0006482; train_loss_T=  0.2547; |val_loss_tot=  0.4184; |589s\n",
      "Epoch 99/999: train_loss_tot=  0.2554; train_loss_y=0.0006482; train_loss_T=  0.2547; |val_loss_tot=  0.4184; |595s\n",
      "Epoch 100/999: train_loss_tot=  0.2554; train_loss_y=0.0006482; train_loss_T=  0.2547; |val_loss_tot=  0.4184; |601s\n",
      "Epoch 101/999: train_loss_tot=  0.2554; train_loss_y=0.0006482; train_loss_T=  0.2547; |val_loss_tot=  0.4184; |606s\n",
      "Epoch 102/999: train_loss_tot=  0.2554; train_loss_y=0.0006482; train_loss_T=  0.2547; |val_loss_tot=  0.4184; |612s\n",
      "Epoch 103/999: train_loss_tot=  0.2554; train_loss_y=0.0006482; train_loss_T=  0.2547; |val_loss_tot=  0.4184; |618s\n",
      "Epoch 104/999: train_loss_tot=  0.2554; train_loss_y=0.0006482; train_loss_T=  0.2547; |val_loss_tot=  0.4184; |624s\n",
      "Epoch 105/999: train_loss_tot=  0.2554; train_loss_y=0.0006482; train_loss_T=  0.2547; |val_loss_tot=  0.4184; |630s\n",
      "Epoch 106/999: train_loss_tot=  0.2554; train_loss_y=0.0006482; train_loss_T=  0.2547; |val_loss_tot=  0.4184; |635s\n",
      "Epoch 107/999: train_loss_tot=  0.2554; train_loss_y=0.0006482; train_loss_T=  0.2547; |val_loss_tot=  0.4184; |641s\n",
      "Epoch 108/999: train_loss_tot=  0.2554; train_loss_y=0.0006482; train_loss_T=  0.2547; |val_loss_tot=  0.4184; |647s\n",
      "Epoch 109/999: train_loss_tot=  0.2554; train_loss_y=0.0006482; train_loss_T=  0.2547; |val_loss_tot=  0.4184; |653s\n",
      "Epoch 110/999: train_loss_tot=  0.2554; train_loss_y=0.0006482; train_loss_T=  0.2547; |val_loss_tot=  0.4184; |659s\n",
      "Epoch 111/999: train_loss_tot=  0.2554; train_loss_y=0.0006482; train_loss_T=  0.2547; |val_loss_tot=  0.4184; |665s\n",
      "Epoch 112/999: train_loss_tot=  0.2554; train_loss_y=0.0006482; train_loss_T=  0.2547; |val_loss_tot=  0.4184; |670s\n",
      "Epoch 113/999: train_loss_tot=  0.2554; train_loss_y=0.0006482; train_loss_T=  0.2547; |val_loss_tot=  0.4184; |676s\n",
      "Epoch 114/999: train_loss_tot=  0.2554; train_loss_y=0.0006482; train_loss_T=  0.2547; |val_loss_tot=  0.4184; |682s\n",
      "Epoch 115/999: train_loss_tot=  0.2554; train_loss_y=0.0006482; train_loss_T=  0.2547; |val_loss_tot=  0.4184; |687s\n",
      "Epoch 116/999: train_loss_tot=  0.2554; train_loss_y=0.0006482; train_loss_T=  0.2547; |val_loss_tot=  0.4184; |693s\n",
      "Epoch 117/999: train_loss_tot=  0.2554; train_loss_y=0.0006482; train_loss_T=  0.2547; |val_loss_tot=  0.4184; |699s\n",
      "Epoch 118/999: train_loss_tot=  0.2554; train_loss_y=0.0006482; train_loss_T=  0.2547; |val_loss_tot=  0.4184; |705s\n",
      "Epoch 119/999: train_loss_tot=  0.2554; train_loss_y=0.0006482; train_loss_T=  0.2547; |val_loss_tot=  0.4184; |710s\n",
      "Epoch 120/999: train_loss_tot=  0.2554; train_loss_y=0.0006482; train_loss_T=  0.2547; |val_loss_tot=  0.4184; |716s\n",
      "Epoch 121/999: train_loss_tot=  0.2554; train_loss_y=0.0006482; train_loss_T=  0.2547; |val_loss_tot=  0.4184; |722s\n",
      "Epoch 122/999: train_loss_tot=  0.2554; train_loss_y=0.0006482; train_loss_T=  0.2547; |val_loss_tot=  0.4184; |728s\n",
      "Epoch 123/999: train_loss_tot=  0.2554; train_loss_y=0.0006482; train_loss_T=  0.2547; |val_loss_tot=  0.4184; |733s\n",
      "Epoch 124/999: train_loss_tot=  0.2554; train_loss_y=0.0006482; train_loss_T=  0.2547; |val_loss_tot=  0.4184; |739s\n",
      "Epoch 125/999: train_loss_tot=  0.2554; train_loss_y=0.0006482; train_loss_T=  0.2547; |val_loss_tot=  0.4184; |745s\n",
      "Epoch 126/999: train_loss_tot=  0.2554; train_loss_y=0.0006482; train_loss_T=  0.2547; |val_loss_tot=  0.4184; |751s\n",
      "Epoch 127/999: train_loss_tot=  0.2554; train_loss_y=0.0006482; train_loss_T=  0.2547; |val_loss_tot=  0.4184; |757s\n",
      "Epoch 128/999: train_loss_tot=  0.2554; train_loss_y=0.0006482; train_loss_T=  0.2547; |val_loss_tot=  0.4184; |762s\n",
      "Epoch 129/999: train_loss_tot=  0.2554; train_loss_y=0.0006482; train_loss_T=  0.2547; |val_loss_tot=  0.4184; |768s\n",
      "Epoch 130/999: train_loss_tot=  0.2554; train_loss_y=0.0006482; train_loss_T=  0.2547; |val_loss_tot=  0.4184; |774s\n",
      "Epoch 131/999: train_loss_tot=  0.2554; train_loss_y=0.0006482; train_loss_T=  0.2547; |val_loss_tot=  0.4184; |780s\n",
      "Epoch 132/999: train_loss_tot=  0.2554; train_loss_y=0.0006482; train_loss_T=  0.2547; |val_loss_tot=  0.4184; |786s\n",
      "Epoch 133/999: train_loss_tot=  0.2554; train_loss_y=0.0006482; train_loss_T=  0.2547; |val_loss_tot=  0.4184; |792s\n",
      "Epoch 134/999: train_loss_tot=  0.2554; train_loss_y=0.0006482; train_loss_T=  0.2547; |val_loss_tot=  0.4184; |798s\n",
      "Epoch 135/999: train_loss_tot=  0.2554; train_loss_y=0.0006482; train_loss_T=  0.2547; |val_loss_tot=  0.4184; |804s\n",
      "Epoch 136/999: train_loss_tot=  0.2554; train_loss_y=0.0006482; train_loss_T=  0.2547; |val_loss_tot=  0.4183; |809s\n",
      "Epoch 137/999: train_loss_tot=  0.2554; train_loss_y=0.0006482; train_loss_T=  0.2547; |val_loss_tot=  0.4183; |815s\n",
      "Epoch 138/999: train_loss_tot=  0.2554; train_loss_y=0.0006482; train_loss_T=  0.2547; |val_loss_tot=  0.4183; |821s\n",
      "Epoch 139/999: train_loss_tot=  0.2554; train_loss_y=0.0006482; train_loss_T=  0.2547; |val_loss_tot=  0.4183; |826s\n",
      "Epoch 140/999: train_loss_tot=  0.2554; train_loss_y=0.0006482; train_loss_T=  0.2547; |val_loss_tot=  0.4183; |832s\n",
      "Epoch 141/999: train_loss_tot=  0.2554; train_loss_y=0.0006482; train_loss_T=  0.2547; |val_loss_tot=  0.4183; |838s\n",
      "Epoch 142/999: train_loss_tot=  0.2554; train_loss_y=0.0006482; train_loss_T=  0.2547; |val_loss_tot=  0.4183; |844s\n",
      "Epoch 143/999: train_loss_tot=  0.2554; train_loss_y=0.0006482; train_loss_T=  0.2547; |val_loss_tot=  0.4183; |850s\n",
      "Epoch 144/999: train_loss_tot=  0.2554; train_loss_y=0.0006482; train_loss_T=  0.2547; |val_loss_tot=  0.4183; |855s\n",
      "Epoch 145/999: train_loss_tot=  0.2554; train_loss_y=0.0006482; train_loss_T=  0.2547; |val_loss_tot=  0.4183; |861s\n",
      "Epoch 146/999: train_loss_tot=  0.2554; train_loss_y=0.0006482; train_loss_T=  0.2547; |val_loss_tot=  0.4183; |867s\n",
      "Epoch 147/999: train_loss_tot=  0.2554; train_loss_y=0.0006482; train_loss_T=  0.2547; |val_loss_tot=  0.4183; |873s\n",
      "Epoch 148/999: train_loss_tot=  0.2554; train_loss_y=0.0006482; train_loss_T=  0.2547; |val_loss_tot=  0.4183; |879s\n",
      "Epoch 149/999: train_loss_tot=  0.2554; train_loss_y=0.0006482; train_loss_T=  0.2547; |val_loss_tot=  0.4183; |885s\n",
      "Epoch 150/999: train_loss_tot=  0.2554; train_loss_y=0.0006482; train_loss_T=  0.2547; |val_loss_tot=  0.4183; |890s\n",
      "Epoch 151/999: train_loss_tot=  0.2554; train_loss_y=0.0006482; train_loss_T=  0.2547; |val_loss_tot=  0.4183; |897s\n",
      "Epoch 152/999: train_loss_tot=  0.2554; train_loss_y=0.0006482; train_loss_T=  0.2547; |val_loss_tot=  0.4183; |904s\n",
      "Epoch 153/999: train_loss_tot=  0.2554; train_loss_y=0.0006482; train_loss_T=  0.2547; |val_loss_tot=  0.4183; |910s\n",
      "Epoch 154/999: train_loss_tot=  0.2554; train_loss_y=0.0006482; train_loss_T=  0.2547; |val_loss_tot=  0.4183; |917s\n",
      "Epoch 155/999: train_loss_tot=  0.2554; train_loss_y=0.0006482; train_loss_T=  0.2547; |val_loss_tot=  0.4183; |923s\n",
      "Epoch 156/999: train_loss_tot=  0.2554; train_loss_y=0.0006482; train_loss_T=  0.2547; |val_loss_tot=  0.4183; |930s\n",
      "Epoch 157/999: train_loss_tot=  0.2554; train_loss_y=0.0006482; train_loss_T=  0.2547; |val_loss_tot=  0.4183; |936s\n",
      "Epoch 158/999: train_loss_tot=  0.2554; train_loss_y=0.0006482; train_loss_T=  0.2547; |val_loss_tot=  0.4183; |943s\n",
      "Epoch 159/999: train_loss_tot=  0.2554; train_loss_y=0.0006482; train_loss_T=  0.2547; |val_loss_tot=  0.4183; |950s\n",
      "Epoch 160/999: train_loss_tot=  0.2554; train_loss_y=0.0006482; train_loss_T=  0.2547; |val_loss_tot=  0.4183; |957s\n",
      "Epoch 161/999: train_loss_tot=  0.2554; train_loss_y=0.0006482; train_loss_T=  0.2547; |val_loss_tot=  0.4183; |963s\n",
      "Epoch 162/999: train_loss_tot=  0.2554; train_loss_y=0.0006482; train_loss_T=  0.2547; |val_loss_tot=  0.4183; |969s\n",
      "Epoch 163/999: train_loss_tot=  0.2554; train_loss_y=0.0006482; train_loss_T=  0.2547; |val_loss_tot=  0.4183; |975s\n",
      "Epoch 164/999: train_loss_tot=  0.2554; train_loss_y=0.0006482; train_loss_T=  0.2547; |val_loss_tot=  0.4183; |981s\n",
      "Epoch 165/999: train_loss_tot=  0.2554; train_loss_y=0.0006482; train_loss_T=  0.2547; |val_loss_tot=  0.4183; |987s\n",
      "Epoch 166/999: train_loss_tot=  0.2554; train_loss_y=0.0006482; train_loss_T=  0.2547; |val_loss_tot=  0.4183; |992s\n",
      "Epoch 167/999: train_loss_tot=  0.2554; train_loss_y=0.0006482; train_loss_T=  0.2547; |val_loss_tot=  0.4183; |998s\n",
      "Epoch 168/999: train_loss_tot=  0.2554; train_loss_y=0.0006482; train_loss_T=  0.2547; |val_loss_tot=  0.4183; |1004s\n",
      "Epoch 169/999: train_loss_tot=  0.2554; train_loss_y=0.0006482; train_loss_T=  0.2547; |val_loss_tot=  0.4183; |1010s\n",
      "Epoch 170/999: train_loss_tot=  0.2554; train_loss_y=0.0006482; train_loss_T=  0.2547; |val_loss_tot=  0.4183; |1016s\n",
      "Epoch 171/999: train_loss_tot=  0.2554; train_loss_y=0.0006482; train_loss_T=  0.2547; |val_loss_tot=  0.4183; |1022s\n",
      "Epoch 172/999: train_loss_tot=  0.2554; train_loss_y=0.0006482; train_loss_T=  0.2547; |val_loss_tot=  0.4183; |1027s\n",
      "Epoch 173/999: train_loss_tot=  0.2554; train_loss_y=0.0006482; train_loss_T=  0.2547; |val_loss_tot=  0.4183; |1033s\n",
      "Epoch 174/999: train_loss_tot=  0.2554; train_loss_y=0.0006482; train_loss_T=  0.2547; |val_loss_tot=  0.4183; |1039s\n",
      "Epoch 175/999: train_loss_tot=  0.2554; train_loss_y=0.0006482; train_loss_T=  0.2547; |val_loss_tot=  0.4183; |1045s\n",
      "Epoch 176/999: train_loss_tot=  0.2554; train_loss_y=0.0006482; train_loss_T=  0.2547; |val_loss_tot=  0.4183; |1051s\n",
      "Epoch 177/999: train_loss_tot=  0.2554; train_loss_y=0.0006482; train_loss_T=  0.2547; |val_loss_tot=  0.4183; |1056s\n",
      "Epoch 178/999: train_loss_tot=  0.2554; train_loss_y=0.0006482; train_loss_T=  0.2547; |val_loss_tot=  0.4183; |1062s\n",
      "Epoch 179/999: train_loss_tot=  0.2554; train_loss_y=0.0006482; train_loss_T=  0.2547; |val_loss_tot=  0.4183; |1069s\n",
      "Epoch 180/999: train_loss_tot=  0.2554; train_loss_y=0.0006482; train_loss_T=  0.2547; |val_loss_tot=  0.4183; |1075s\n",
      "Epoch 181/999: train_loss_tot=  0.2554; train_loss_y=0.0006482; train_loss_T=  0.2547; |val_loss_tot=  0.4183; |1080s\n",
      "Epoch 182/999: train_loss_tot=  0.2554; train_loss_y=0.0006482; train_loss_T=  0.2547; |val_loss_tot=  0.4183; |1086s\n",
      "Epoch 183/999: train_loss_tot=  0.2554; train_loss_y=0.0006482; train_loss_T=  0.2547; |val_loss_tot=  0.4183; |1092s\n",
      "Epoch 184/999: train_loss_tot=  0.2554; train_loss_y=0.0006482; train_loss_T=  0.2547; |val_loss_tot=  0.4183; |1098s\n",
      "Epoch 185/999: train_loss_tot=  0.2554; train_loss_y=0.0006482; train_loss_T=  0.2547; |val_loss_tot=  0.4183; |1103s\n",
      "Epoch 186/999: train_loss_tot=  0.2554; train_loss_y=0.0006482; train_loss_T=  0.2547; |val_loss_tot=  0.4183; |1109s\n",
      "Epoch 187/999: train_loss_tot=  0.2554; train_loss_y=0.0006482; train_loss_T=  0.2547; |val_loss_tot=  0.4183; |1115s\n",
      "Epoch 188/999: train_loss_tot=  0.2554; train_loss_y=0.0006482; train_loss_T=  0.2547; |val_loss_tot=  0.4183; |1121s\n",
      "Epoch 189/999: train_loss_tot=  0.2554; train_loss_y=0.0006482; train_loss_T=  0.2547; |val_loss_tot=  0.4183; |1126s\n",
      "Epoch 190/999: train_loss_tot=  0.2554; train_loss_y=0.0006482; train_loss_T=  0.2547; |val_loss_tot=  0.4183; |1132s\n",
      "Epoch 191/999: train_loss_tot=  0.2554; train_loss_y=0.0006482; train_loss_T=  0.2547; |val_loss_tot=  0.4183; |1138s\n",
      "Epoch 192/999: train_loss_tot=  0.2554; train_loss_y=0.0006482; train_loss_T=  0.2547; |val_loss_tot=  0.4183; |1144s\n",
      "Epoch 193/999: train_loss_tot=  0.2554; train_loss_y=0.0006482; train_loss_T=  0.2547; |val_loss_tot=  0.4183; |1149s\n",
      "Epoch 194/999: train_loss_tot=  0.2554; train_loss_y=0.0006482; train_loss_T=  0.2547; |val_loss_tot=  0.4183; |1155s\n",
      "Epoch 195/999: train_loss_tot=  0.2554; train_loss_y=0.0006482; train_loss_T=  0.2547; |val_loss_tot=  0.4183; |1161s\n",
      "Epoch 196/999: train_loss_tot=  0.2554; train_loss_y=0.0006482; train_loss_T=  0.2547; |val_loss_tot=  0.4183; |1167s\n",
      "Epoch 197/999: train_loss_tot=  0.2554; train_loss_y=0.0006482; train_loss_T=  0.2547; |val_loss_tot=  0.4183; |1172s\n",
      "Epoch 198/999: train_loss_tot=  0.2554; train_loss_y=0.0006482; train_loss_T=  0.2547; |val_loss_tot=  0.4183; |1179s\n",
      "Epoch 199/999: train_loss_tot=  0.2554; train_loss_y=0.0006482; train_loss_T=  0.2547; |val_loss_tot=  0.4183; |1185s\n",
      "Epoch 200/999: train_loss_tot=  0.2554; train_loss_y=0.0006482; train_loss_T=  0.2547; |val_loss_tot=  0.4183; |1191s\n",
      "Epoch 201/999: train_loss_tot=  0.2554; train_loss_y=0.0006482; train_loss_T=  0.2547; |val_loss_tot=  0.4183; |1196s\n",
      "Epoch 202/999: train_loss_tot=  0.2554; train_loss_y=0.0006482; train_loss_T=  0.2547; |val_loss_tot=  0.4183; |1202s\n",
      "Epoch 203/999: train_loss_tot=  0.2554; train_loss_y=0.0006482; train_loss_T=  0.2547; |val_loss_tot=  0.4183; |1208s\n",
      "Epoch 204/999: train_loss_tot=  0.2554; train_loss_y=0.0006482; train_loss_T=  0.2547; |val_loss_tot=  0.4183; |1214s\n",
      "Epoch 205/999: train_loss_tot=  0.2554; train_loss_y=0.0006482; train_loss_T=  0.2547; |val_loss_tot=  0.4183; |1219s\n",
      "Epoch 206/999: train_loss_tot=  0.2554; train_loss_y=0.0006482; train_loss_T=  0.2547; |val_loss_tot=  0.4183; |1225s\n",
      "Epoch 207/999: train_loss_tot=  0.2554; train_loss_y=0.0006482; train_loss_T=  0.2547; |val_loss_tot=  0.4183; |1231s\n",
      "Epoch 208/999: train_loss_tot=  0.2554; train_loss_y=0.0006482; train_loss_T=  0.2547; |val_loss_tot=  0.4183; |1236s\n",
      "Epoch 209/999: train_loss_tot=  0.2554; train_loss_y=0.0006482; train_loss_T=  0.2547; |val_loss_tot=  0.4183; |1242s\n",
      "Epoch 210/999: train_loss_tot=  0.2554; train_loss_y=0.0006482; train_loss_T=  0.2547; |val_loss_tot=  0.4183; |1248s\n",
      "Epoch 211/999: train_loss_tot=  0.2554; train_loss_y=0.0006482; train_loss_T=  0.2547; |val_loss_tot=  0.4183; |1254s\n",
      "Epoch 212/999: train_loss_tot=  0.2554; train_loss_y=0.0006482; train_loss_T=  0.2547; |val_loss_tot=  0.4183; |1260s\n",
      "Epoch 213/999: train_loss_tot=  0.2554; train_loss_y=0.0006482; train_loss_T=  0.2547; |val_loss_tot=  0.4183; |1266s\n",
      "Epoch 214/999: train_loss_tot=  0.2554; train_loss_y=0.0006482; train_loss_T=  0.2547; |val_loss_tot=  0.4183; |1271s\n",
      "Epoch 215/999: train_loss_tot=  0.2554; train_loss_y=0.0006482; train_loss_T=  0.2547; |val_loss_tot=  0.4183; |1277s\n",
      "Epoch 216/999: train_loss_tot=  0.2554; train_loss_y=0.0006482; train_loss_T=  0.2547; |val_loss_tot=  0.4183; |1283s\n",
      "Epoch 217/999: train_loss_tot=  0.2554; train_loss_y=0.0006482; train_loss_T=  0.2547; |val_loss_tot=  0.4183; |1288s\n",
      "Epoch 218/999: train_loss_tot=  0.2554; train_loss_y=0.0006482; train_loss_T=  0.2547; |val_loss_tot=  0.4183; |1294s\n",
      "Epoch 219/999: train_loss_tot=  0.2554; train_loss_y=0.0006482; train_loss_T=  0.2547; |val_loss_tot=  0.4183; |1300s\n",
      "Epoch 220/999: train_loss_tot=  0.2554; train_loss_y=0.0006482; train_loss_T=  0.2547; |val_loss_tot=  0.4183; |1306s\n",
      "Epoch 221/999: train_loss_tot=  0.2554; train_loss_y=0.0006482; train_loss_T=  0.2547; |val_loss_tot=  0.4183; |1311s\n",
      "Epoch 222/999: train_loss_tot=  0.2554; train_loss_y=0.0006482; train_loss_T=  0.2547; |val_loss_tot=  0.4183; |1317s\n",
      "Epoch 223/999: train_loss_tot=  0.2554; train_loss_y=0.0006482; train_loss_T=  0.2547; |val_loss_tot=  0.4183; |1323s\n",
      "Epoch 224/999: train_loss_tot=  0.2554; train_loss_y=0.0006482; train_loss_T=  0.2547; |val_loss_tot=  0.4183; |1329s\n",
      "Epoch 225/999: train_loss_tot=  0.2554; train_loss_y=0.0006482; train_loss_T=  0.2547; |val_loss_tot=  0.4183; |1335s\n",
      "Epoch 226/999: train_loss_tot=  0.2554; train_loss_y=0.0006482; train_loss_T=  0.2547; |val_loss_tot=  0.4183; |1340s\n",
      "Epoch 227/999: train_loss_tot=  0.2554; train_loss_y=0.0006482; train_loss_T=  0.2547; |val_loss_tot=  0.4183; |1346s\n",
      "Epoch 228/999: train_loss_tot=  0.2554; train_loss_y=0.0006482; train_loss_T=  0.2547; |val_loss_tot=  0.4183; |1352s\n",
      "Epoch 229/999: train_loss_tot=  0.2554; train_loss_y=0.0006482; train_loss_T=  0.2547; |val_loss_tot=  0.4183; |1358s\n",
      "Epoch 230/999: train_loss_tot=  0.2554; train_loss_y=0.0006482; train_loss_T=  0.2547; |val_loss_tot=  0.4183; |1363s\n",
      "Epoch 231/999: train_loss_tot=  0.2554; train_loss_y=0.0006482; train_loss_T=  0.2547; |val_loss_tot=  0.4183; |1369s\n",
      "Epoch 232/999: train_loss_tot=  0.2554; train_loss_y=0.0006482; train_loss_T=  0.2547; |val_loss_tot=  0.4183; |1375s\n",
      "Epoch 233/999: train_loss_tot=  0.2554; train_loss_y=0.0006482; train_loss_T=  0.2547; |val_loss_tot=  0.4183; |1381s\n",
      "Epoch 234/999: train_loss_tot=  0.2554; train_loss_y=0.0006482; train_loss_T=  0.2547; |val_loss_tot=  0.4183; |1387s\n",
      "Epoch 235/999: train_loss_tot=  0.2554; train_loss_y=0.0006482; train_loss_T=  0.2547; |val_loss_tot=  0.4183; |1392s\n",
      "Epoch 236/999: train_loss_tot=  0.2554; train_loss_y=0.0006482; train_loss_T=  0.2547; |val_loss_tot=  0.4183; |1398s\n",
      "Epoch 237/999: train_loss_tot=  0.2554; train_loss_y=0.0006482; train_loss_T=  0.2547; |val_loss_tot=  0.4183; |1404s\n",
      "Epoch 238/999: train_loss_tot=  0.2554; train_loss_y=0.0006482; train_loss_T=  0.2547; |val_loss_tot=  0.4183; |1411s\n",
      "Epoch 239/999: train_loss_tot=  0.2554; train_loss_y=0.0006482; train_loss_T=  0.2547; |val_loss_tot=  0.4183; |1418s\n",
      "Epoch 240/999: train_loss_tot=  0.2554; train_loss_y=0.0006482; train_loss_T=  0.2547; |val_loss_tot=  0.4183; |1424s\n",
      "Epoch 241/999: train_loss_tot=  0.2554; train_loss_y=0.0006482; train_loss_T=  0.2547; |val_loss_tot=  0.4183; |1429s\n",
      "Epoch 242/999: train_loss_tot=  0.2554; train_loss_y=0.0006482; train_loss_T=  0.2547; |val_loss_tot=  0.4183; |1435s\n",
      "Epoch 243/999: train_loss_tot=  0.2554; train_loss_y=0.0006482; train_loss_T=  0.2547; |val_loss_tot=  0.4183; |1441s\n",
      "Epoch 244/999: train_loss_tot=  0.2553; train_loss_y=0.0006482; train_loss_T=  0.2547; |val_loss_tot=  0.4183; |1447s\n",
      "Epoch 245/999: train_loss_tot=  0.2553; train_loss_y=0.0006482; train_loss_T=  0.2547; |val_loss_tot=  0.4183; |1452s\n",
      "Epoch 246/999: train_loss_tot=  0.2553; train_loss_y=0.0006482; train_loss_T=  0.2547; |val_loss_tot=  0.4183; |1458s\n",
      "Epoch 247/999: train_loss_tot=  0.2553; train_loss_y=0.0006482; train_loss_T=  0.2547; |val_loss_tot=  0.4183; |1464s\n",
      "Epoch 248/999: train_loss_tot=  0.2553; train_loss_y=0.0006482; train_loss_T=  0.2547; |val_loss_tot=  0.4183; |1470s\n",
      "Epoch 249/999: train_loss_tot=  0.2553; train_loss_y=0.0006482; train_loss_T=  0.2547; |val_loss_tot=  0.4183; |1475s\n",
      "Epoch 250/999: train_loss_tot=  0.2553; train_loss_y=0.0006482; train_loss_T=  0.2547; |val_loss_tot=  0.4183; |1481s\n",
      "Epoch 251/999: train_loss_tot=  0.2553; train_loss_y=0.0006482; train_loss_T=  0.2547; |val_loss_tot=  0.4183; |1487s\n",
      "Epoch 252/999: train_loss_tot=  0.2553; train_loss_y=0.0006482; train_loss_T=  0.2547; |val_loss_tot=  0.4183; |1493s\n",
      "Epoch 253/999: train_loss_tot=  0.2553; train_loss_y=0.0006482; train_loss_T=  0.2547; |val_loss_tot=  0.4183; |1498s\n",
      "Epoch 254/999: train_loss_tot=  0.2553; train_loss_y=0.0006482; train_loss_T=  0.2547; |val_loss_tot=  0.4183; |1504s\n",
      "Epoch 255/999: train_loss_tot=  0.2553; train_loss_y=0.0006482; train_loss_T=  0.2547; |val_loss_tot=  0.4183; |1510s\n",
      "Epoch 256/999: train_loss_tot=  0.2553; train_loss_y=0.0006482; train_loss_T=  0.2547; |val_loss_tot=  0.4183; |1516s\n",
      "Epoch 257/999: train_loss_tot=  0.2553; train_loss_y=0.0006482; train_loss_T=  0.2547; |val_loss_tot=  0.4183; |1521s\n",
      "Epoch 258/999: train_loss_tot=  0.2553; train_loss_y=0.0006482; train_loss_T=  0.2547; |val_loss_tot=  0.4183; |1527s\n",
      "Epoch 259/999: train_loss_tot=  0.2553; train_loss_y=0.0006482; train_loss_T=  0.2547; |val_loss_tot=  0.4183; |1533s\n",
      "Epoch 260/999: train_loss_tot=  0.2553; train_loss_y=0.0006482; train_loss_T=  0.2547; |val_loss_tot=  0.4183; |1539s\n",
      "Epoch 261/999: train_loss_tot=  0.2553; train_loss_y=0.0006482; train_loss_T=  0.2547; |val_loss_tot=  0.4183; |1545s\n",
      "Epoch 262/999: train_loss_tot=  0.2553; train_loss_y=0.0006482; train_loss_T=  0.2547; |val_loss_tot=  0.4183; |1550s\n",
      "Epoch 263/999: train_loss_tot=  0.2553; train_loss_y=0.0006482; train_loss_T=  0.2547; |val_loss_tot=  0.4183; |1556s\n",
      "Epoch 264/999: train_loss_tot=  0.2553; train_loss_y=0.0006482; train_loss_T=  0.2547; |val_loss_tot=  0.4183; |1562s\n",
      "Epoch 265/999: train_loss_tot=  0.2553; train_loss_y=0.0006482; train_loss_T=  0.2547; |val_loss_tot=  0.4183; |1568s\n",
      "Epoch 266/999: train_loss_tot=  0.2553; train_loss_y=0.0006482; train_loss_T=  0.2547; |val_loss_tot=  0.4183; |1573s\n",
      "Epoch 267/999: train_loss_tot=  0.2553; train_loss_y=0.0006482; train_loss_T=  0.2547; |val_loss_tot=  0.4183; |1579s\n",
      "Epoch 268/999: train_loss_tot=  0.2553; train_loss_y=0.0006482; train_loss_T=  0.2547; |val_loss_tot=  0.4183; |1585s\n",
      "Epoch 269/999: train_loss_tot=  0.2553; train_loss_y=0.0006482; train_loss_T=  0.2547; |val_loss_tot=  0.4183; |1591s\n",
      "Epoch 270/999: train_loss_tot=  0.2553; train_loss_y=0.0006482; train_loss_T=  0.2547; |val_loss_tot=  0.4183; |1596s\n",
      "Epoch 271/999: train_loss_tot=  0.2553; train_loss_y=0.0006482; train_loss_T=  0.2547; |val_loss_tot=  0.4183; |1602s\n",
      "Epoch 272/999: train_loss_tot=  0.2553; train_loss_y=0.0006482; train_loss_T=  0.2547; |val_loss_tot=  0.4183; |1608s\n",
      "Epoch 273/999: train_loss_tot=  0.2553; train_loss_y=0.0006482; train_loss_T=  0.2547; |val_loss_tot=  0.4183; |1614s\n",
      "Epoch 274/999: train_loss_tot=  0.2553; train_loss_y=0.0006482; train_loss_T=  0.2547; |val_loss_tot=  0.4183; |1619s\n",
      "Epoch 275/999: train_loss_tot=  0.2553; train_loss_y=0.0006482; train_loss_T=  0.2547; |val_loss_tot=  0.4183; |1625s\n",
      "Epoch 276/999: train_loss_tot=  0.2553; train_loss_y=0.0006482; train_loss_T=  0.2547; |val_loss_tot=  0.4183; |1631s\n",
      "Epoch 277/999: train_loss_tot=  0.2553; train_loss_y=0.0006482; train_loss_T=  0.2547; |val_loss_tot=  0.4183; |1636s\n",
      "Epoch 278/999: train_loss_tot=  0.2553; train_loss_y=0.0006482; train_loss_T=  0.2547; |val_loss_tot=  0.4183; |1642s\n",
      "Epoch 279/999: train_loss_tot=  0.2553; train_loss_y=0.0006482; train_loss_T=  0.2547; |val_loss_tot=  0.4183; |1648s\n",
      "Epoch 280/999: train_loss_tot=  0.2553; train_loss_y=0.0006482; train_loss_T=  0.2547; |val_loss_tot=  0.4183; |1654s\n",
      "Epoch 281/999: train_loss_tot=  0.2553; train_loss_y=0.0006482; train_loss_T=  0.2547; |val_loss_tot=  0.4183; |1660s\n",
      "Epoch 282/999: train_loss_tot=  0.2553; train_loss_y=0.0006482; train_loss_T=  0.2547; |val_loss_tot=  0.4183; |1666s\n",
      "Epoch 283/999: train_loss_tot=  0.2553; train_loss_y=0.0006482; train_loss_T=  0.2547; |val_loss_tot=  0.4183; |1672s\n",
      "Epoch 284/999: train_loss_tot=  0.2553; train_loss_y=0.0006482; train_loss_T=  0.2547; |val_loss_tot=  0.4183; |1678s\n",
      "Epoch 285/999: train_loss_tot=  0.2553; train_loss_y=0.0006482; train_loss_T=  0.2547; |val_loss_tot=  0.4183; |1683s\n",
      "Epoch 286/999: train_loss_tot=  0.2553; train_loss_y=0.0006482; train_loss_T=  0.2547; |val_loss_tot=  0.4183; |1689s\n",
      "Epoch 287/999: train_loss_tot=  0.2553; train_loss_y=0.0006482; train_loss_T=  0.2547; |val_loss_tot=  0.4183; |1695s\n",
      "Epoch 288/999: train_loss_tot=  0.2553; train_loss_y=0.0006482; train_loss_T=  0.2547; |val_loss_tot=  0.4183; |1700s\n",
      "Epoch 289/999: train_loss_tot=  0.2553; train_loss_y=0.0006482; train_loss_T=  0.2547; |val_loss_tot=  0.4183; |1706s\n",
      "Epoch 290/999: train_loss_tot=  0.2553; train_loss_y=0.0006481; train_loss_T=  0.2547; |val_loss_tot=  0.4183; |1712s\n",
      "Epoch 291/999: train_loss_tot=  0.2553; train_loss_y=0.0006481; train_loss_T=  0.2547; |val_loss_tot=  0.4183; |1718s\n",
      "Epoch 292/999: train_loss_tot=  0.2553; train_loss_y=0.0006481; train_loss_T=  0.2547; |val_loss_tot=  0.4183; |1723s\n",
      "Epoch 293/999: train_loss_tot=  0.2553; train_loss_y=0.0006481; train_loss_T=  0.2547; |val_loss_tot=  0.4183; |1729s\n",
      "Epoch 294/999: train_loss_tot=  0.2553; train_loss_y=0.0006481; train_loss_T=  0.2547; |val_loss_tot=  0.4183; |1735s\n",
      "Epoch 295/999: train_loss_tot=  0.2553; train_loss_y=0.0006481; train_loss_T=  0.2547; |val_loss_tot=  0.4183; |1740s\n",
      "Epoch 296/999: train_loss_tot=  0.2553; train_loss_y=0.0006481; train_loss_T=  0.2547; |val_loss_tot=  0.4183; |1746s\n",
      "Epoch 297/999: train_loss_tot=  0.2553; train_loss_y=0.0006481; train_loss_T=  0.2547; |val_loss_tot=  0.4183; |1752s\n",
      "Epoch 298/999: train_loss_tot=  0.2553; train_loss_y=0.0006481; train_loss_T=  0.2547; |val_loss_tot=  0.4183; |1757s\n",
      "Epoch 299/999: train_loss_tot=  0.2553; train_loss_y=0.0006481; train_loss_T=  0.2547; |val_loss_tot=  0.4183; |1763s\n",
      "Epoch 300/999: train_loss_tot=  0.2553; train_loss_y=0.0006481; train_loss_T=  0.2547; |val_loss_tot=  0.4183; |1769s\n",
      "Epoch 301/999: train_loss_tot=  0.2553; train_loss_y=0.0006481; train_loss_T=  0.2547; |val_loss_tot=  0.4183; |1774s\n",
      "Epoch 302/999: train_loss_tot=  0.2553; train_loss_y=0.0006481; train_loss_T=  0.2547; |val_loss_tot=  0.4183; |1780s\n",
      "Epoch 303/999: train_loss_tot=  0.2553; train_loss_y=0.0006481; train_loss_T=  0.2547; |val_loss_tot=  0.4183; |1786s\n",
      "Epoch 304/999: train_loss_tot=  0.2553; train_loss_y=0.0006481; train_loss_T=  0.2547; |val_loss_tot=  0.4183; |1792s\n",
      "Epoch 305/999: train_loss_tot=  0.2553; train_loss_y=0.0006481; train_loss_T=  0.2547; |val_loss_tot=  0.4183; |1798s\n",
      "Epoch 306/999: train_loss_tot=  0.2553; train_loss_y=0.0006481; train_loss_T=  0.2547; |val_loss_tot=  0.4183; |1803s\n",
      "Epoch 307/999: train_loss_tot=  0.2553; train_loss_y=0.0006481; train_loss_T=  0.2547; |val_loss_tot=  0.4183; |1809s\n",
      "Epoch 308/999: train_loss_tot=  0.2553; train_loss_y=0.0006481; train_loss_T=  0.2547; |val_loss_tot=  0.4183; |1815s\n",
      "Epoch 309/999: train_loss_tot=  0.2553; train_loss_y=0.0006481; train_loss_T=  0.2547; |val_loss_tot=  0.4183; |1820s\n",
      "Epoch 310/999: train_loss_tot=  0.2553; train_loss_y=0.0006481; train_loss_T=  0.2547; |val_loss_tot=  0.4183; |1826s\n",
      "Epoch 311/999: train_loss_tot=  0.2553; train_loss_y=0.0006481; train_loss_T=  0.2547; |val_loss_tot=  0.4183; |1832s\n",
      "Epoch 312/999: train_loss_tot=  0.2553; train_loss_y=0.0006481; train_loss_T=  0.2547; |val_loss_tot=  0.4183; |1838s\n",
      "Epoch 313/999: train_loss_tot=  0.2553; train_loss_y=0.0006481; train_loss_T=  0.2547; |val_loss_tot=  0.4183; |1843s\n",
      "Epoch 314/999: train_loss_tot=  0.2553; train_loss_y=0.0006481; train_loss_T=  0.2547; |val_loss_tot=  0.4183; |1849s\n",
      "Epoch 315/999: train_loss_tot=  0.2553; train_loss_y=0.0006481; train_loss_T=  0.2547; |val_loss_tot=  0.4183; |1855s\n",
      "Epoch 316/999: train_loss_tot=  0.2553; train_loss_y=0.0006481; train_loss_T=  0.2547; |val_loss_tot=  0.4183; |1860s\n",
      "Epoch 317/999: train_loss_tot=  0.2553; train_loss_y=0.0006481; train_loss_T=  0.2547; |val_loss_tot=  0.4183; |1866s\n",
      "Epoch 318/999: train_loss_tot=  0.2553; train_loss_y=0.0006481; train_loss_T=  0.2547; |val_loss_tot=  0.4183; |1872s\n",
      "Epoch 319/999: train_loss_tot=  0.2553; train_loss_y=0.0006481; train_loss_T=  0.2547; |val_loss_tot=  0.4183; |1877s\n",
      "Epoch 320/999: train_loss_tot=  0.2553; train_loss_y=0.0006481; train_loss_T=  0.2547; |val_loss_tot=  0.4183; |1883s\n",
      "Epoch 321/999: train_loss_tot=  0.2553; train_loss_y=0.0006481; train_loss_T=  0.2547; |val_loss_tot=  0.4183; |1889s\n",
      "Epoch 322/999: train_loss_tot=  0.2553; train_loss_y=0.0006481; train_loss_T=  0.2547; |val_loss_tot=  0.4183; |1895s\n",
      "Epoch 323/999: train_loss_tot=  0.2553; train_loss_y=0.0006481; train_loss_T=  0.2547; |val_loss_tot=  0.4183; |1901s\n",
      "Epoch 324/999: train_loss_tot=  0.2553; train_loss_y=0.0006481; train_loss_T=  0.2547; |val_loss_tot=  0.4183; |1907s\n",
      "Epoch 325/999: train_loss_tot=  0.2553; train_loss_y=0.0006481; train_loss_T=  0.2547; |val_loss_tot=  0.4183; |1912s\n",
      "Epoch 326/999: train_loss_tot=  0.2553; train_loss_y=0.0006481; train_loss_T=  0.2547; |val_loss_tot=  0.4183; |1918s\n",
      "Epoch 327/999: train_loss_tot=  0.2553; train_loss_y=0.0006481; train_loss_T=  0.2547; |val_loss_tot=  0.4183; |1924s\n",
      "Epoch 328/999: train_loss_tot=  0.2553; train_loss_y=0.0006481; train_loss_T=  0.2547; |val_loss_tot=  0.4183; |1929s\n",
      "Epoch 329/999: train_loss_tot=  0.2553; train_loss_y=0.0006481; train_loss_T=  0.2547; |val_loss_tot=  0.4183; |1935s\n",
      "Epoch 330/999: train_loss_tot=  0.2553; train_loss_y=0.0006481; train_loss_T=  0.2547; |val_loss_tot=  0.4183; |1941s\n",
      "Epoch 331/999: train_loss_tot=  0.2553; train_loss_y=0.0006481; train_loss_T=  0.2547; |val_loss_tot=  0.4183; |1946s\n",
      "Epoch 332/999: train_loss_tot=  0.2553; train_loss_y=0.0006481; train_loss_T=  0.2547; |val_loss_tot=  0.4183; |1952s\n",
      "Epoch 333/999: train_loss_tot=  0.2553; train_loss_y=0.0006481; train_loss_T=  0.2547; |val_loss_tot=  0.4183; |1958s\n",
      "Epoch 334/999: train_loss_tot=  0.2553; train_loss_y=0.0006481; train_loss_T=  0.2547; |val_loss_tot=  0.4183; |1963s\n",
      "Epoch 335/999: train_loss_tot=  0.2553; train_loss_y=0.0006481; train_loss_T=  0.2547; |val_loss_tot=  0.4183; |1969s\n",
      "Epoch 336/999: train_loss_tot=  0.2553; train_loss_y=0.0006481; train_loss_T=  0.2547; |val_loss_tot=  0.4183; |1975s\n",
      "Epoch 337/999: train_loss_tot=  0.2553; train_loss_y=0.0006481; train_loss_T=  0.2547; |val_loss_tot=  0.4183; |1980s\n",
      "Epoch 338/999: train_loss_tot=  0.2553; train_loss_y=0.0006481; train_loss_T=  0.2547; |val_loss_tot=  0.4183; |1986s\n",
      "Epoch 339/999: train_loss_tot=  0.2553; train_loss_y=0.0006481; train_loss_T=  0.2547; |val_loss_tot=  0.4183; |1992s\n",
      "Epoch 340/999: train_loss_tot=  0.2553; train_loss_y=0.0006481; train_loss_T=  0.2547; |val_loss_tot=  0.4183; |1998s\n",
      "Epoch 341/999: train_loss_tot=  0.2553; train_loss_y=0.0006481; train_loss_T=  0.2547; |val_loss_tot=  0.4183; |2004s\n",
      "Epoch 342/999: train_loss_tot=  0.2553; train_loss_y=0.0006481; train_loss_T=  0.2547; |val_loss_tot=  0.4183; |2009s\n",
      "Epoch 343/999: train_loss_tot=  0.2553; train_loss_y=0.0006481; train_loss_T=  0.2547; |val_loss_tot=  0.4183; |2015s\n",
      "Epoch 344/999: train_loss_tot=  0.2553; train_loss_y=0.0006481; train_loss_T=  0.2547; |val_loss_tot=  0.4183; |2021s\n",
      "Epoch 345/999: train_loss_tot=  0.2553; train_loss_y=0.0006481; train_loss_T=  0.2547; |val_loss_tot=  0.4183; |2026s\n",
      "Epoch 346/999: train_loss_tot=  0.2553; train_loss_y=0.0006481; train_loss_T=  0.2547; |val_loss_tot=  0.4183; |2032s\n",
      "Epoch 347/999: train_loss_tot=  0.2553; train_loss_y=0.0006481; train_loss_T=  0.2547; |val_loss_tot=  0.4183; |2038s\n",
      "Epoch 348/999: train_loss_tot=  0.2553; train_loss_y=0.0006481; train_loss_T=  0.2547; |val_loss_tot=  0.4183; |2043s\n",
      "Epoch 349/999: train_loss_tot=  0.2553; train_loss_y=0.0006481; train_loss_T=  0.2547; |val_loss_tot=  0.4183; |2050s\n",
      "Epoch 350/999: train_loss_tot=  0.2553; train_loss_y=0.0006481; train_loss_T=  0.2547; |val_loss_tot=  0.4183; |2056s\n",
      "Epoch 351/999: train_loss_tot=  0.2553; train_loss_y=0.0006481; train_loss_T=  0.2547; |val_loss_tot=  0.4183; |2062s\n",
      "Epoch 352/999: train_loss_tot=  0.2553; train_loss_y=0.0006481; train_loss_T=  0.2547; |val_loss_tot=  0.4183; |2067s\n",
      "Epoch 353/999: train_loss_tot=  0.2553; train_loss_y=0.0006481; train_loss_T=  0.2547; |val_loss_tot=  0.4183; |2073s\n",
      "Epoch 354/999: train_loss_tot=  0.2553; train_loss_y=0.0006481; train_loss_T=  0.2547; |val_loss_tot=  0.4183; |2079s\n",
      "Epoch 355/999: train_loss_tot=  0.2553; train_loss_y=0.0006481; train_loss_T=  0.2547; |val_loss_tot=  0.4183; |2085s\n",
      "Epoch 356/999: train_loss_tot=  0.2553; train_loss_y=0.0006481; train_loss_T=  0.2547; |val_loss_tot=  0.4183; |2091s\n",
      "Epoch 357/999: train_loss_tot=  0.2553; train_loss_y=0.0006481; train_loss_T=  0.2547; |val_loss_tot=  0.4183; |2097s\n",
      "Epoch 358/999: train_loss_tot=  0.2553; train_loss_y=0.0006481; train_loss_T=  0.2547; |val_loss_tot=  0.4183; |2102s\n",
      "Epoch 359/999: train_loss_tot=  0.2553; train_loss_y=0.0006481; train_loss_T=  0.2547; |val_loss_tot=  0.4183; |2108s\n",
      "Epoch 360/999: train_loss_tot=  0.2553; train_loss_y=0.0006481; train_loss_T=  0.2547; |val_loss_tot=  0.4183; |2113s\n",
      "Epoch 361/999: train_loss_tot=  0.2553; train_loss_y=0.0006481; train_loss_T=  0.2547; |val_loss_tot=  0.4183; |2119s\n",
      "Epoch 362/999: train_loss_tot=  0.2553; train_loss_y=0.0006481; train_loss_T=  0.2547; |val_loss_tot=  0.4183; |2125s\n",
      "Epoch 363/999: train_loss_tot=  0.2553; train_loss_y=0.0006481; train_loss_T=  0.2547; |val_loss_tot=  0.4183; |2131s\n",
      "Epoch 364/999: train_loss_tot=  0.2553; train_loss_y=0.0006481; train_loss_T=  0.2547; |val_loss_tot=  0.4183; |2137s\n",
      "Epoch 365/999: train_loss_tot=  0.2553; train_loss_y=0.0006481; train_loss_T=  0.2547; |val_loss_tot=  0.4183; |2143s\n",
      "Epoch 366/999: train_loss_tot=  0.2553; train_loss_y=0.0006481; train_loss_T=  0.2547; |val_loss_tot=  0.4183; |2148s\n",
      "Epoch 367/999: train_loss_tot=  0.2553; train_loss_y=0.0006481; train_loss_T=  0.2547; |val_loss_tot=  0.4183; |2154s\n",
      "Epoch 368/999: train_loss_tot=  0.2553; train_loss_y=0.0006481; train_loss_T=  0.2547; |val_loss_tot=  0.4183; |2160s\n",
      "Epoch 369/999: train_loss_tot=  0.2553; train_loss_y=0.0006481; train_loss_T=  0.2547; |val_loss_tot=  0.4183; |2166s\n",
      "Epoch 370/999: train_loss_tot=  0.2553; train_loss_y=0.0006481; train_loss_T=  0.2547; |val_loss_tot=  0.4183; |2172s\n",
      "Epoch 371/999: train_loss_tot=  0.2553; train_loss_y=0.0006481; train_loss_T=  0.2547; |val_loss_tot=  0.4183; |2177s\n",
      "Epoch 372/999: train_loss_tot=  0.2553; train_loss_y=0.0006481; train_loss_T=  0.2547; |val_loss_tot=  0.4183; |2183s\n",
      "Epoch 373/999: train_loss_tot=  0.2553; train_loss_y=0.0006481; train_loss_T=  0.2547; |val_loss_tot=  0.4183; |2189s\n",
      "Epoch 374/999: train_loss_tot=  0.2553; train_loss_y=0.0006481; train_loss_T=  0.2547; |val_loss_tot=  0.4183; |2195s\n",
      "Epoch 375/999: train_loss_tot=  0.2553; train_loss_y=0.0006481; train_loss_T=  0.2547; |val_loss_tot=  0.4183; |2200s\n",
      "Epoch 376/999: train_loss_tot=  0.2553; train_loss_y=0.0006481; train_loss_T=  0.2547; |val_loss_tot=  0.4183; |2206s\n",
      "Epoch 377/999: train_loss_tot=  0.2553; train_loss_y=0.0006481; train_loss_T=  0.2547; |val_loss_tot=  0.4183; |2212s\n",
      "Epoch 378/999: train_loss_tot=  0.2553; train_loss_y=0.0006481; train_loss_T=  0.2547; |val_loss_tot=  0.4183; |2218s\n",
      "Epoch 379/999: train_loss_tot=  0.2553; train_loss_y=0.0006481; train_loss_T=  0.2547; |val_loss_tot=  0.4183; |2224s\n",
      "Epoch 380/999: train_loss_tot=  0.2553; train_loss_y=0.0006481; train_loss_T=  0.2547; |val_loss_tot=  0.4183; |2229s\n",
      "Epoch 381/999: train_loss_tot=  0.2553; train_loss_y=0.0006481; train_loss_T=  0.2547; |val_loss_tot=  0.4183; |2235s\n",
      "Epoch 382/999: train_loss_tot=  0.2553; train_loss_y=0.0006481; train_loss_T=  0.2547; |val_loss_tot=  0.4183; |2241s\n",
      "Epoch 383/999: train_loss_tot=  0.2553; train_loss_y=0.0006481; train_loss_T=  0.2547; |val_loss_tot=  0.4183; |2247s\n",
      "Epoch 384/999: train_loss_tot=  0.2553; train_loss_y=0.0006481; train_loss_T=  0.2547; |val_loss_tot=  0.4183; |2252s\n",
      "Epoch 385/999: train_loss_tot=  0.2553; train_loss_y=0.0006481; train_loss_T=  0.2547; |val_loss_tot=  0.4183; |2258s\n",
      "Epoch 386/999: train_loss_tot=  0.2553; train_loss_y=0.0006481; train_loss_T=  0.2547; |val_loss_tot=  0.4183; |2264s\n",
      "Epoch 387/999: train_loss_tot=  0.2553; train_loss_y=0.0006481; train_loss_T=  0.2547; |val_loss_tot=  0.4183; |2270s\n",
      "Epoch 388/999: train_loss_tot=  0.2553; train_loss_y=0.0006481; train_loss_T=  0.2547; |val_loss_tot=  0.4183; |2276s\n",
      "Epoch 389/999: train_loss_tot=  0.2553; train_loss_y=0.0006481; train_loss_T=  0.2547; |val_loss_tot=  0.4183; |2281s\n",
      "Epoch 390/999: train_loss_tot=  0.2553; train_loss_y=0.0006481; train_loss_T=  0.2547; |val_loss_tot=  0.4183; |2287s\n",
      "Epoch 391/999: train_loss_tot=  0.2553; train_loss_y=0.0006481; train_loss_T=  0.2547; |val_loss_tot=  0.4183; |2293s\n",
      "Epoch 392/999: train_loss_tot=  0.2553; train_loss_y=0.0006481; train_loss_T=  0.2547; |val_loss_tot=  0.4183; |2299s\n",
      "Epoch 393/999: train_loss_tot=  0.2553; train_loss_y=0.0006481; train_loss_T=  0.2547; |val_loss_tot=  0.4183; |2304s\n",
      "Epoch 394/999: train_loss_tot=  0.2553; train_loss_y=0.0006481; train_loss_T=  0.2547; |val_loss_tot=  0.4183; |2310s\n",
      "Epoch 395/999: train_loss_tot=  0.2553; train_loss_y=0.0006481; train_loss_T=  0.2547; |val_loss_tot=  0.4183; |2316s\n",
      "Epoch 396/999: train_loss_tot=  0.2553; train_loss_y=0.0006481; train_loss_T=  0.2547; |val_loss_tot=  0.4183; |2322s\n",
      "Epoch 397/999: train_loss_tot=  0.2553; train_loss_y=0.0006481; train_loss_T=  0.2547; |val_loss_tot=  0.4183; |2327s\n",
      "Epoch 398/999: train_loss_tot=  0.2553; train_loss_y=0.0006481; train_loss_T=  0.2547; |val_loss_tot=  0.4183; |2333s\n",
      "Epoch 399/999: train_loss_tot=  0.2553; train_loss_y=0.0006481; train_loss_T=  0.2547; |val_loss_tot=  0.4183; |2339s\n",
      "Epoch 400/999: train_loss_tot=  0.2553; train_loss_y=0.0006481; train_loss_T=  0.2547; |val_loss_tot=  0.4183; |2344s\n",
      "Epoch 401/999: train_loss_tot=  0.2553; train_loss_y=0.0006481; train_loss_T=  0.2547; |val_loss_tot=  0.4183; |2350s\n",
      "Epoch 402/999: train_loss_tot=  0.2553; train_loss_y=0.0006481; train_loss_T=  0.2546; |val_loss_tot=  0.4183; |2356s\n",
      "Epoch 403/999: train_loss_tot=  0.2553; train_loss_y=0.0006481; train_loss_T=  0.2546; |val_loss_tot=  0.4183; |2361s\n",
      "Epoch 404/999: train_loss_tot=  0.2553; train_loss_y=0.0006481; train_loss_T=  0.2546; |val_loss_tot=  0.4183; |2367s\n",
      "Epoch 405/999: train_loss_tot=  0.2553; train_loss_y=0.0006481; train_loss_T=  0.2546; |val_loss_tot=  0.4183; |2373s\n",
      "Epoch 406/999: train_loss_tot=  0.2553; train_loss_y=0.0006481; train_loss_T=  0.2546; |val_loss_tot=  0.4183; |2379s\n",
      "Epoch 407/999: train_loss_tot=  0.2553; train_loss_y=0.0006481; train_loss_T=  0.2546; |val_loss_tot=  0.4183; |2384s\n",
      "Epoch 408/999: train_loss_tot=  0.2553; train_loss_y=0.0006481; train_loss_T=  0.2546; |val_loss_tot=  0.4183; |2390s\n",
      "Epoch 409/999: train_loss_tot=  0.2553; train_loss_y=0.0006481; train_loss_T=  0.2546; |val_loss_tot=  0.4183; |2396s\n",
      "Epoch 410/999: train_loss_tot=  0.2553; train_loss_y=0.0006481; train_loss_T=  0.2546; |val_loss_tot=  0.4183; |2401s\n",
      "Epoch 411/999: train_loss_tot=  0.2553; train_loss_y=0.0006481; train_loss_T=  0.2546; |val_loss_tot=  0.4183; |2407s\n",
      "Epoch 412/999: train_loss_tot=  0.2553; train_loss_y=0.0006481; train_loss_T=  0.2546; |val_loss_tot=  0.4183; |2414s\n",
      "Epoch 413/999: train_loss_tot=  0.2553; train_loss_y=0.0006481; train_loss_T=  0.2546; |val_loss_tot=  0.4183; |2420s\n",
      "Epoch 414/999: train_loss_tot=  0.2553; train_loss_y=0.0006481; train_loss_T=  0.2546; |val_loss_tot=  0.4183; |2426s\n",
      "Epoch 415/999: train_loss_tot=  0.2553; train_loss_y=0.0006481; train_loss_T=  0.2546; |val_loss_tot=  0.4183; |2431s\n",
      "Epoch 416/999: train_loss_tot=  0.2553; train_loss_y=0.0006481; train_loss_T=  0.2546; |val_loss_tot=  0.4183; |2437s\n",
      "Epoch 417/999: train_loss_tot=  0.2553; train_loss_y=0.0006481; train_loss_T=  0.2546; |val_loss_tot=  0.4183; |2443s\n",
      "Epoch 418/999: train_loss_tot=  0.2553; train_loss_y=0.0006481; train_loss_T=  0.2546; |val_loss_tot=  0.4183; |2449s\n",
      "Epoch 419/999: train_loss_tot=  0.2553; train_loss_y=0.0006481; train_loss_T=  0.2546; |val_loss_tot=  0.4183; |2454s\n",
      "Epoch 420/999: train_loss_tot=  0.2553; train_loss_y=0.0006481; train_loss_T=  0.2546; |val_loss_tot=  0.4183; |2460s\n",
      "Epoch 421/999: train_loss_tot=  0.2553; train_loss_y=0.0006481; train_loss_T=  0.2546; |val_loss_tot=  0.4183; |2466s\n",
      "Epoch 422/999: train_loss_tot=  0.2553; train_loss_y=0.0006481; train_loss_T=  0.2546; |val_loss_tot=  0.4183; |2472s\n",
      "Epoch 423/999: train_loss_tot=  0.2553; train_loss_y=0.0006481; train_loss_T=  0.2546; |val_loss_tot=  0.4183; |2477s\n",
      "Epoch 424/999: train_loss_tot=  0.2553; train_loss_y=0.0006481; train_loss_T=  0.2546; |val_loss_tot=  0.4183; |2483s\n",
      "Epoch 425/999: train_loss_tot=  0.2553; train_loss_y=0.0006481; train_loss_T=  0.2546; |val_loss_tot=  0.4183; |2489s\n",
      "Epoch 426/999: train_loss_tot=  0.2553; train_loss_y=0.0006481; train_loss_T=  0.2546; |val_loss_tot=  0.4183; |2495s\n",
      "Epoch 427/999: train_loss_tot=  0.2553; train_loss_y=0.0006481; train_loss_T=  0.2546; |val_loss_tot=  0.4183; |2501s\n",
      "Epoch 428/999: train_loss_tot=  0.2553; train_loss_y=0.0006481; train_loss_T=  0.2546; |val_loss_tot=  0.4183; |2506s\n",
      "Epoch 429/999: train_loss_tot=  0.2553; train_loss_y=0.0006481; train_loss_T=  0.2546; |val_loss_tot=  0.4183; |2512s\n",
      "Epoch 430/999: train_loss_tot=  0.2553; train_loss_y=0.0006481; train_loss_T=  0.2546; |val_loss_tot=  0.4183; |2518s\n",
      "Epoch 431/999: train_loss_tot=  0.2553; train_loss_y=0.0006481; train_loss_T=  0.2546; |val_loss_tot=  0.4183; |2523s\n",
      "Epoch 432/999: train_loss_tot=  0.2553; train_loss_y=0.0006481; train_loss_T=  0.2546; |val_loss_tot=  0.4183; |2529s\n",
      "Epoch 433/999: train_loss_tot=  0.2553; train_loss_y=0.0006481; train_loss_T=  0.2546; |val_loss_tot=  0.4183; |2535s\n",
      "Epoch 434/999: train_loss_tot=  0.2553; train_loss_y=0.0006481; train_loss_T=  0.2546; |val_loss_tot=  0.4183; |2541s\n",
      "Epoch 435/999: train_loss_tot=  0.2553; train_loss_y=0.0006481; train_loss_T=  0.2546; |val_loss_tot=  0.4183; |2546s\n",
      "Epoch 436/999: train_loss_tot=  0.2553; train_loss_y=0.0006481; train_loss_T=  0.2546; |val_loss_tot=  0.4183; |2552s\n",
      "Epoch 437/999: train_loss_tot=  0.2553; train_loss_y=0.0006481; train_loss_T=  0.2546; |val_loss_tot=  0.4183; |2558s\n",
      "Epoch 438/999: train_loss_tot=  0.2553; train_loss_y=0.0006481; train_loss_T=  0.2546; |val_loss_tot=  0.4183; |2563s\n",
      "Epoch 439/999: train_loss_tot=  0.2553; train_loss_y=0.0006481; train_loss_T=  0.2546; |val_loss_tot=  0.4183; |2569s\n",
      "Epoch 440/999: train_loss_tot=  0.2553; train_loss_y=0.0006481; train_loss_T=  0.2546; |val_loss_tot=  0.4183; |2575s\n",
      "Epoch 441/999: train_loss_tot=  0.2553; train_loss_y=0.0006481; train_loss_T=  0.2546; |val_loss_tot=  0.4183; |2580s\n",
      "Epoch 442/999: train_loss_tot=  0.2553; train_loss_y=0.0006481; train_loss_T=  0.2546; |val_loss_tot=  0.4183; |2586s\n",
      "Epoch 443/999: train_loss_tot=  0.2553; train_loss_y=0.0006481; train_loss_T=  0.2546; |val_loss_tot=  0.4183; |2592s\n",
      "Epoch 444/999: train_loss_tot=  0.2553; train_loss_y=0.0006481; train_loss_T=  0.2546; |val_loss_tot=  0.4183; |2598s\n",
      "Epoch 445/999: train_loss_tot=  0.2553; train_loss_y=0.0006481; train_loss_T=  0.2546; |val_loss_tot=  0.4183; |2604s\n",
      "Epoch 446/999: train_loss_tot=  0.2553; train_loss_y=0.0006481; train_loss_T=  0.2546; |val_loss_tot=  0.4183; |2609s\n",
      "Epoch 447/999: train_loss_tot=  0.2553; train_loss_y=0.0006481; train_loss_T=  0.2546; |val_loss_tot=  0.4183; |2615s\n",
      "Epoch 448/999: train_loss_tot=  0.2553; train_loss_y=0.0006481; train_loss_T=  0.2546; |val_loss_tot=  0.4184; |2621s\n",
      "Epoch 449/999: train_loss_tot=  0.2553; train_loss_y=0.0006481; train_loss_T=  0.2546; |val_loss_tot=  0.4184; |2627s\n",
      "Epoch 450/999: train_loss_tot=  0.2553; train_loss_y=0.0006481; train_loss_T=  0.2546; |val_loss_tot=  0.4184; |2632s\n",
      "Epoch 451/999: train_loss_tot=  0.2553; train_loss_y=0.0006481; train_loss_T=  0.2546; |val_loss_tot=  0.4184; |2638s\n",
      "Epoch 452/999: train_loss_tot=  0.2553; train_loss_y=0.0006481; train_loss_T=  0.2546; |val_loss_tot=  0.4184; |2644s\n",
      "Epoch 453/999: train_loss_tot=  0.2553; train_loss_y=0.0006481; train_loss_T=  0.2546; |val_loss_tot=  0.4184; |2650s\n",
      "Epoch 454/999: train_loss_tot=  0.2553; train_loss_y=0.0006481; train_loss_T=  0.2546; |val_loss_tot=  0.4184; |2655s\n",
      "Epoch 455/999: train_loss_tot=  0.2553; train_loss_y=0.0006481; train_loss_T=  0.2546; |val_loss_tot=  0.4184; |2661s\n",
      "Epoch 456/999: train_loss_tot=  0.2553; train_loss_y=0.0006481; train_loss_T=  0.2546; |val_loss_tot=  0.4184; |2667s\n",
      "Epoch 457/999: train_loss_tot=  0.2553; train_loss_y=0.0006481; train_loss_T=  0.2546; |val_loss_tot=  0.4184; |2673s\n",
      "Epoch 458/999: train_loss_tot=  0.2553; train_loss_y=0.0006481; train_loss_T=  0.2546; |val_loss_tot=  0.4184; |2679s\n",
      "Epoch 459/999: train_loss_tot=  0.2553; train_loss_y=0.0006481; train_loss_T=  0.2546; |val_loss_tot=  0.4184; |2685s\n",
      "Epoch 460/999: train_loss_tot=  0.2553; train_loss_y=0.0006481; train_loss_T=  0.2546; |val_loss_tot=  0.4184; |2690s\n",
      "Epoch 461/999: train_loss_tot=  0.2553; train_loss_y=0.0006481; train_loss_T=  0.2546; |val_loss_tot=  0.4184; |2696s\n",
      "Epoch 462/999: train_loss_tot=  0.2553; train_loss_y=0.0006481; train_loss_T=  0.2546; |val_loss_tot=  0.4184; |2702s\n",
      "Epoch 463/999: train_loss_tot=  0.2553; train_loss_y=0.0006481; train_loss_T=  0.2546; |val_loss_tot=  0.4184; |2708s\n",
      "Epoch 464/999: train_loss_tot=  0.2553; train_loss_y=0.0006481; train_loss_T=  0.2546; |val_loss_tot=  0.4184; |2714s\n",
      "Epoch 465/999: train_loss_tot=  0.2553; train_loss_y=0.0006481; train_loss_T=  0.2546; |val_loss_tot=  0.4184; |2720s\n",
      "Epoch 466/999: train_loss_tot=  0.2553; train_loss_y=0.0006481; train_loss_T=  0.2546; |val_loss_tot=  0.4184; |2725s\n",
      "Epoch 467/999: train_loss_tot=  0.2553; train_loss_y=0.0006481; train_loss_T=  0.2546; |val_loss_tot=  0.4184; |2731s\n",
      "Epoch 468/999: train_loss_tot=  0.2553; train_loss_y=0.0006481; train_loss_T=  0.2546; |val_loss_tot=  0.4184; |2737s\n",
      "Epoch 469/999: train_loss_tot=  0.2553; train_loss_y=0.0006481; train_loss_T=  0.2546; |val_loss_tot=  0.4184; |2743s\n",
      "Epoch 470/999: train_loss_tot=  0.2553; train_loss_y=0.0006481; train_loss_T=  0.2546; |val_loss_tot=  0.4184; |2748s\n",
      "Epoch 471/999: train_loss_tot=  0.2553; train_loss_y=0.0006481; train_loss_T=  0.2546; |val_loss_tot=  0.4184; |2754s\n",
      "Epoch 472/999: train_loss_tot=  0.2553; train_loss_y=0.0006481; train_loss_T=  0.2546; |val_loss_tot=  0.4184; |2760s\n",
      "Epoch 473/999: train_loss_tot=  0.2553; train_loss_y=0.0006481; train_loss_T=  0.2546; |val_loss_tot=  0.4184; |2766s\n",
      "Epoch 474/999: train_loss_tot=  0.2553; train_loss_y=0.0006481; train_loss_T=  0.2546; |val_loss_tot=  0.4184; |2771s\n",
      "Epoch 475/999: train_loss_tot=  0.2553; train_loss_y=0.0006481; train_loss_T=  0.2546; |val_loss_tot=  0.4184; |2778s\n",
      "Epoch 476/999: train_loss_tot=  0.2553; train_loss_y=0.0006481; train_loss_T=  0.2546; |val_loss_tot=  0.4184; |2784s\n",
      "Epoch 477/999: train_loss_tot=  0.2553; train_loss_y=0.0006481; train_loss_T=  0.2546; |val_loss_tot=  0.4184; |2790s\n",
      "Epoch 478/999: train_loss_tot=  0.2553; train_loss_y=0.0006481; train_loss_T=  0.2546; |val_loss_tot=  0.4184; |2795s\n",
      "Epoch 479/999: train_loss_tot=  0.2553; train_loss_y=0.0006481; train_loss_T=  0.2546; |val_loss_tot=  0.4184; |2801s\n",
      "Epoch 480/999: train_loss_tot=  0.2553; train_loss_y=0.0006481; train_loss_T=  0.2546; |val_loss_tot=  0.4184; |2806s\n",
      "Epoch 481/999: train_loss_tot=  0.2553; train_loss_y=0.0006481; train_loss_T=  0.2546; |val_loss_tot=  0.4184; |2812s\n",
      "Epoch 482/999: train_loss_tot=  0.2553; train_loss_y=0.0006481; train_loss_T=  0.2546; |val_loss_tot=  0.4184; |2818s\n",
      "Epoch 483/999: train_loss_tot=  0.2553; train_loss_y=0.0006481; train_loss_T=  0.2546; |val_loss_tot=  0.4184; |2824s\n",
      "Epoch 484/999: train_loss_tot=  0.2553; train_loss_y=0.0006481; train_loss_T=  0.2546; |val_loss_tot=  0.4184; |2830s\n",
      "Epoch 485/999: train_loss_tot=  0.2553; train_loss_y=0.0006481; train_loss_T=  0.2546; |val_loss_tot=  0.4184; |2836s\n",
      "Epoch 486/999: train_loss_tot=  0.2553; train_loss_y=0.0006481; train_loss_T=  0.2546; |val_loss_tot=  0.4184; |2841s\n",
      "Epoch 487/999: train_loss_tot=  0.2553; train_loss_y=0.0006481; train_loss_T=  0.2546; |val_loss_tot=  0.4184; |2847s\n",
      "Epoch 488/999: train_loss_tot=  0.2553; train_loss_y=0.0006481; train_loss_T=  0.2546; |val_loss_tot=  0.4184; |2853s\n",
      "Epoch 489/999: train_loss_tot=  0.2553; train_loss_y=0.0006481; train_loss_T=  0.2546; |val_loss_tot=  0.4184; |2859s\n",
      "Epoch 490/999: train_loss_tot=  0.2553; train_loss_y=0.0006481; train_loss_T=  0.2546; |val_loss_tot=  0.4184; |2865s\n",
      "Epoch 491/999: train_loss_tot=  0.2553; train_loss_y=0.0006481; train_loss_T=  0.2546; |val_loss_tot=  0.4184; |2870s\n",
      "Epoch 492/999: train_loss_tot=  0.2553; train_loss_y=0.0006481; train_loss_T=  0.2546; |val_loss_tot=  0.4184; |2876s\n",
      "Epoch 493/999: train_loss_tot=  0.2553; train_loss_y=0.0006481; train_loss_T=  0.2546; |val_loss_tot=  0.4184; |2882s\n",
      "Epoch 494/999: train_loss_tot=  0.2553; train_loss_y=0.0006481; train_loss_T=  0.2546; |val_loss_tot=  0.4184; |2887s\n",
      "Epoch 495/999: train_loss_tot=  0.2553; train_loss_y=0.0006481; train_loss_T=  0.2546; |val_loss_tot=  0.4184; |2893s\n",
      "Epoch 496/999: train_loss_tot=  0.2553; train_loss_y=0.0006481; train_loss_T=  0.2546; |val_loss_tot=  0.4184; |2899s\n",
      "Epoch 497/999: train_loss_tot=  0.2553; train_loss_y=0.0006481; train_loss_T=  0.2546; |val_loss_tot=  0.4184; |2904s\n",
      "Epoch 498/999: train_loss_tot=  0.2553; train_loss_y=0.0006481; train_loss_T=  0.2546; |val_loss_tot=  0.4184; |2910s\n",
      "Epoch 499/999: train_loss_tot=  0.2553; train_loss_y=0.0006481; train_loss_T=  0.2546; |val_loss_tot=  0.4184; |2916s\n",
      "Epoch 500/999: train_loss_tot=  0.2553; train_loss_y=0.0006481; train_loss_T=  0.2546; |val_loss_tot=  0.4184; |2922s\n",
      "Epoch 501/999: train_loss_tot=  0.2553; train_loss_y=0.0006481; train_loss_T=  0.2546; |val_loss_tot=  0.4184; |2927s\n",
      "Epoch 502/999: train_loss_tot=  0.2553; train_loss_y=0.0006481; train_loss_T=  0.2546; |val_loss_tot=  0.4184; |2933s\n",
      "Epoch 503/999: train_loss_tot=  0.2553; train_loss_y=0.0006481; train_loss_T=  0.2546; |val_loss_tot=  0.4184; |2939s\n",
      "Epoch 504/999: train_loss_tot=  0.2553; train_loss_y=0.0006481; train_loss_T=  0.2546; |val_loss_tot=  0.4184; |2945s\n",
      "Epoch 505/999: train_loss_tot=  0.2553; train_loss_y=0.0006481; train_loss_T=  0.2546; |val_loss_tot=  0.4184; |2950s\n",
      "Epoch 506/999: train_loss_tot=  0.2553; train_loss_y=0.0006481; train_loss_T=  0.2546; |val_loss_tot=  0.4184; |2956s\n",
      "Epoch 507/999: train_loss_tot=  0.2553; train_loss_y=0.0006481; train_loss_T=  0.2546; |val_loss_tot=  0.4184; |2962s\n",
      "Epoch 508/999: train_loss_tot=  0.2553; train_loss_y=0.0006481; train_loss_T=  0.2546; |val_loss_tot=  0.4184; |2968s\n",
      "Epoch 509/999: train_loss_tot=  0.2553; train_loss_y=0.0006481; train_loss_T=  0.2546; |val_loss_tot=  0.4184; |2974s\n",
      "Epoch 510/999: train_loss_tot=  0.2553; train_loss_y=0.0006481; train_loss_T=  0.2546; |val_loss_tot=  0.4184; |2980s\n",
      "Epoch 511/999: train_loss_tot=  0.2553; train_loss_y=0.0006481; train_loss_T=  0.2546; |val_loss_tot=  0.4184; |2986s\n",
      "Epoch 512/999: train_loss_tot=  0.2553; train_loss_y=0.0006481; train_loss_T=  0.2546; |val_loss_tot=  0.4184; |2991s\n",
      "Epoch 513/999: train_loss_tot=  0.2553; train_loss_y=0.0006481; train_loss_T=  0.2546; |val_loss_tot=  0.4184; |2997s\n",
      "Epoch 514/999: train_loss_tot=  0.2553; train_loss_y=0.0006481; train_loss_T=  0.2546; |val_loss_tot=  0.4184; |3003s\n",
      "Epoch 515/999: train_loss_tot=  0.2553; train_loss_y=0.0006481; train_loss_T=  0.2546; |val_loss_tot=  0.4184; |3009s\n",
      "Epoch 516/999: train_loss_tot=  0.2553; train_loss_y=0.0006481; train_loss_T=  0.2546; |val_loss_tot=  0.4184; |3015s\n",
      "Epoch 517/999: train_loss_tot=  0.2553; train_loss_y=0.0006481; train_loss_T=  0.2546; |val_loss_tot=  0.4184; |3020s\n",
      "Epoch 518/999: train_loss_tot=  0.2553; train_loss_y=0.0006481; train_loss_T=  0.2546; |val_loss_tot=  0.4184; |3026s\n",
      "Epoch 519/999: train_loss_tot=  0.2553; train_loss_y=0.0006481; train_loss_T=  0.2546; |val_loss_tot=  0.4184; |3032s\n",
      "Epoch 520/999: train_loss_tot=  0.2553; train_loss_y=0.0006481; train_loss_T=  0.2546; |val_loss_tot=  0.4184; |3038s\n",
      "Epoch 521/999: train_loss_tot=  0.2553; train_loss_y=0.0006481; train_loss_T=  0.2546; |val_loss_tot=  0.4184; |3044s\n",
      "Epoch 522/999: train_loss_tot=  0.2553; train_loss_y=0.0006481; train_loss_T=  0.2546; |val_loss_tot=  0.4184; |3049s\n",
      "Epoch 523/999: train_loss_tot=  0.2553; train_loss_y=0.0006481; train_loss_T=  0.2546; |val_loss_tot=  0.4184; |3055s\n",
      "Epoch 524/999: train_loss_tot=  0.2553; train_loss_y=0.0006481; train_loss_T=  0.2546; |val_loss_tot=  0.4184; |3061s\n",
      "Epoch 525/999: train_loss_tot=  0.2553; train_loss_y=0.0006481; train_loss_T=  0.2546; |val_loss_tot=  0.4184; |3067s\n",
      "Epoch 526/999: train_loss_tot=  0.2553; train_loss_y=0.0006481; train_loss_T=  0.2546; |val_loss_tot=  0.4184; |3073s\n",
      "Epoch 527/999: train_loss_tot=  0.2553; train_loss_y=0.0006481; train_loss_T=  0.2546; |val_loss_tot=  0.4184; |3079s\n",
      "Epoch 528/999: train_loss_tot=  0.2553; train_loss_y=0.0006481; train_loss_T=  0.2546; |val_loss_tot=  0.4184; |3084s\n",
      "Epoch 529/999: train_loss_tot=  0.2553; train_loss_y=0.0006481; train_loss_T=  0.2546; |val_loss_tot=  0.4184; |3090s\n",
      "Epoch 530/999: train_loss_tot=  0.2553; train_loss_y=0.0006481; train_loss_T=  0.2546; |val_loss_tot=  0.4184; |3096s\n",
      "Epoch 531/999: train_loss_tot=  0.2553; train_loss_y=0.0006481; train_loss_T=  0.2546; |val_loss_tot=  0.4184; |3102s\n",
      "Epoch 532/999: train_loss_tot=  0.2553; train_loss_y=0.0006481; train_loss_T=  0.2546; |val_loss_tot=  0.4184; |3108s\n",
      "Epoch 533/999: train_loss_tot=  0.2552; train_loss_y=0.0006481; train_loss_T=  0.2546; |val_loss_tot=  0.4184; |3114s\n",
      "Epoch 534/999: train_loss_tot=  0.2552; train_loss_y=0.0006481; train_loss_T=  0.2546; |val_loss_tot=  0.4184; |3119s\n",
      "Epoch 535/999: train_loss_tot=  0.2552; train_loss_y=0.0006481; train_loss_T=  0.2546; |val_loss_tot=  0.4184; |3125s\n",
      "Epoch 536/999: train_loss_tot=  0.2552; train_loss_y=0.0006481; train_loss_T=  0.2546; |val_loss_tot=  0.4184; |3131s\n",
      "Epoch 537/999: train_loss_tot=  0.2552; train_loss_y=0.0006481; train_loss_T=  0.2546; |val_loss_tot=  0.4184; |3137s\n",
      "Epoch 538/999: train_loss_tot=  0.2552; train_loss_y=0.0006481; train_loss_T=  0.2546; |val_loss_tot=  0.4184; |3142s\n",
      "Epoch 539/999: train_loss_tot=  0.2552; train_loss_y=0.0006481; train_loss_T=  0.2546; |val_loss_tot=  0.4184; |3148s\n",
      "Epoch 540/999: train_loss_tot=  0.2552; train_loss_y=0.0006481; train_loss_T=  0.2546; |val_loss_tot=  0.4184; |3154s\n",
      "Epoch 541/999: train_loss_tot=  0.2552; train_loss_y=0.0006481; train_loss_T=  0.2546; |val_loss_tot=  0.4184; |3159s\n",
      "Epoch 542/999: train_loss_tot=  0.2552; train_loss_y=0.0006481; train_loss_T=  0.2546; |val_loss_tot=  0.4184; |3165s\n",
      "Epoch 543/999: train_loss_tot=  0.2552; train_loss_y=0.0006481; train_loss_T=  0.2546; |val_loss_tot=  0.4184; |3171s\n",
      "Epoch 544/999: train_loss_tot=  0.2552; train_loss_y=0.0006481; train_loss_T=  0.2546; |val_loss_tot=  0.4184; |3177s\n",
      "Epoch 545/999: train_loss_tot=  0.2552; train_loss_y=0.0006481; train_loss_T=  0.2546; |val_loss_tot=  0.4184; |3182s\n",
      "Epoch 546/999: train_loss_tot=  0.2552; train_loss_y=0.0006481; train_loss_T=  0.2546; |val_loss_tot=  0.4184; |3188s\n",
      "Epoch 547/999: train_loss_tot=  0.2552; train_loss_y=0.0006481; train_loss_T=  0.2546; |val_loss_tot=  0.4184; |3194s\n",
      "Epoch 548/999: train_loss_tot=  0.2552; train_loss_y=0.0006481; train_loss_T=  0.2546; |val_loss_tot=  0.4184; |3200s\n",
      "Epoch 549/999: train_loss_tot=  0.2552; train_loss_y=0.0006481; train_loss_T=  0.2546; |val_loss_tot=  0.4184; |3206s\n",
      "Epoch 550/999: train_loss_tot=  0.2552; train_loss_y=0.0006481; train_loss_T=  0.2546; |val_loss_tot=  0.4184; |3211s\n",
      "Epoch 551/999: train_loss_tot=  0.2552; train_loss_y=0.0006481; train_loss_T=  0.2546; |val_loss_tot=  0.4184; |3217s\n",
      "Epoch 552/999: train_loss_tot=  0.2552; train_loss_y=0.0006481; train_loss_T=  0.2546; |val_loss_tot=  0.4184; |3223s\n",
      "Epoch 553/999: train_loss_tot=  0.2552; train_loss_y=0.0006481; train_loss_T=  0.2546; |val_loss_tot=  0.4184; |3228s\n",
      "Epoch 554/999: train_loss_tot=  0.2552; train_loss_y=0.0006481; train_loss_T=  0.2546; |val_loss_tot=  0.4184; |3234s\n",
      "Epoch 555/999: train_loss_tot=  0.2552; train_loss_y=0.0006481; train_loss_T=  0.2546; |val_loss_tot=  0.4184; |3240s\n",
      "Epoch 556/999: train_loss_tot=  0.2552; train_loss_y=0.0006481; train_loss_T=  0.2546; |val_loss_tot=  0.4184; |3245s\n",
      "Epoch 557/999: train_loss_tot=  0.2552; train_loss_y=0.0006481; train_loss_T=  0.2546; |val_loss_tot=  0.4184; |3251s\n",
      "Epoch 558/999: train_loss_tot=  0.2552; train_loss_y=0.0006481; train_loss_T=  0.2546; |val_loss_tot=  0.4184; |3258s\n",
      "Epoch 559/999: train_loss_tot=  0.2552; train_loss_y=0.0006481; train_loss_T=  0.2546; |val_loss_tot=  0.4184; |3265s\n",
      "Epoch 560/999: train_loss_tot=  0.2552; train_loss_y=0.0006481; train_loss_T=  0.2546; |val_loss_tot=  0.4184; |3271s\n",
      "Epoch 561/999: train_loss_tot=  0.2552; train_loss_y=0.0006481; train_loss_T=  0.2546; |val_loss_tot=  0.4184; |3277s\n",
      "Epoch 562/999: train_loss_tot=  0.2552; train_loss_y=0.0006481; train_loss_T=  0.2546; |val_loss_tot=  0.4184; |3283s\n",
      "Epoch 563/999: train_loss_tot=  0.2552; train_loss_y=0.0006481; train_loss_T=  0.2546; |val_loss_tot=  0.4184; |3289s\n",
      "Epoch 564/999: train_loss_tot=  0.2552; train_loss_y=0.0006481; train_loss_T=  0.2546; |val_loss_tot=  0.4184; |3296s\n",
      "Epoch 565/999: train_loss_tot=  0.2552; train_loss_y=0.0006481; train_loss_T=  0.2546; |val_loss_tot=  0.4184; |3303s\n",
      "Epoch 566/999: train_loss_tot=  0.2552; train_loss_y=0.0006481; train_loss_T=  0.2546; |val_loss_tot=  0.4184; |3309s\n",
      "Epoch 567/999: train_loss_tot=  0.2552; train_loss_y=0.0006481; train_loss_T=  0.2546; |val_loss_tot=  0.4184; |3315s\n",
      "Epoch 568/999: train_loss_tot=  0.2552; train_loss_y=0.0006481; train_loss_T=  0.2546; |val_loss_tot=  0.4184; |3321s\n",
      "Epoch 569/999: train_loss_tot=  0.2552; train_loss_y=0.0006481; train_loss_T=  0.2546; |val_loss_tot=  0.4184; |3326s\n",
      "Epoch 570/999: train_loss_tot=  0.2552; train_loss_y=0.0006481; train_loss_T=  0.2546; |val_loss_tot=  0.4184; |3332s\n",
      "Epoch 571/999: train_loss_tot=  0.2552; train_loss_y=0.0006481; train_loss_T=  0.2546; |val_loss_tot=  0.4184; |3338s\n",
      "Epoch 572/999: train_loss_tot=  0.2552; train_loss_y=0.0006481; train_loss_T=  0.2546; |val_loss_tot=  0.4184; |3344s\n",
      "Epoch 573/999: train_loss_tot=  0.2552; train_loss_y=0.0006481; train_loss_T=  0.2546; |val_loss_tot=  0.4184; |3349s\n",
      "Epoch 574/999: train_loss_tot=  0.2552; train_loss_y=0.0006481; train_loss_T=  0.2546; |val_loss_tot=  0.4184; |3355s\n",
      "Epoch 575/999: train_loss_tot=  0.2552; train_loss_y=0.0006481; train_loss_T=  0.2546; |val_loss_tot=  0.4184; |3361s\n",
      "Epoch 576/999: train_loss_tot=  0.2552; train_loss_y=0.0006481; train_loss_T=  0.2546; |val_loss_tot=  0.4184; |3367s\n",
      "Epoch 577/999: train_loss_tot=  0.2552; train_loss_y=0.0006481; train_loss_T=  0.2546; |val_loss_tot=  0.4184; |3372s\n",
      "Epoch 578/999: train_loss_tot=  0.2552; train_loss_y=0.0006481; train_loss_T=  0.2546; |val_loss_tot=  0.4184; |3379s\n",
      "Epoch 579/999: train_loss_tot=  0.2552; train_loss_y=0.0006481; train_loss_T=  0.2546; |val_loss_tot=  0.4184; |3386s\n",
      "Epoch 580/999: train_loss_tot=  0.2552; train_loss_y=0.0006481; train_loss_T=  0.2546; |val_loss_tot=  0.4184; |3393s\n",
      "Epoch 581/999: train_loss_tot=  0.2552; train_loss_y=0.0006481; train_loss_T=  0.2546; |val_loss_tot=  0.4184; |3400s\n",
      "Epoch 582/999: train_loss_tot=  0.2552; train_loss_y=0.0006481; train_loss_T=  0.2546; |val_loss_tot=  0.4184; |3406s\n",
      "Epoch 583/999: train_loss_tot=  0.2552; train_loss_y=0.0006481; train_loss_T=  0.2546; |val_loss_tot=  0.4184; |3412s\n",
      "Epoch 584/999: train_loss_tot=  0.2552; train_loss_y=0.0006481; train_loss_T=  0.2546; |val_loss_tot=  0.4184; |3418s\n",
      "Epoch 585/999: train_loss_tot=  0.2552; train_loss_y=0.0006481; train_loss_T=  0.2546; |val_loss_tot=  0.4184; |3423s\n",
      "Epoch 586/999: train_loss_tot=  0.2552; train_loss_y=0.0006481; train_loss_T=  0.2546; |val_loss_tot=  0.4184; |3429s\n",
      "Epoch 587/999: train_loss_tot=  0.2552; train_loss_y=0.0006481; train_loss_T=  0.2546; |val_loss_tot=  0.4184; |3435s\n",
      "Epoch 588/999: train_loss_tot=  0.2552; train_loss_y=0.0006481; train_loss_T=  0.2546; |val_loss_tot=  0.4184; |3441s\n",
      "Epoch 589/999: train_loss_tot=  0.2552; train_loss_y=0.0006481; train_loss_T=  0.2546; |val_loss_tot=  0.4184; |3447s\n",
      "Epoch 590/999: train_loss_tot=  0.2552; train_loss_y=0.0006481; train_loss_T=  0.2546; |val_loss_tot=  0.4184; |3452s\n",
      "Epoch 591/999: train_loss_tot=  0.2552; train_loss_y=0.0006481; train_loss_T=  0.2546; |val_loss_tot=  0.4184; |3458s\n",
      "Epoch 592/999: train_loss_tot=  0.2552; train_loss_y=0.0006481; train_loss_T=  0.2546; |val_loss_tot=  0.4184; |3463s\n",
      "Epoch 593/999: train_loss_tot=  0.2552; train_loss_y=0.0006481; train_loss_T=  0.2546; |val_loss_tot=  0.4184; |3469s\n",
      "Epoch 594/999: train_loss_tot=  0.2552; train_loss_y=0.0006481; train_loss_T=  0.2546; |val_loss_tot=  0.4184; |3475s\n",
      "Epoch 595/999: train_loss_tot=  0.2552; train_loss_y=0.0006481; train_loss_T=  0.2546; |val_loss_tot=  0.4184; |3481s\n",
      "Epoch 596/999: train_loss_tot=  0.2552; train_loss_y=0.0006481; train_loss_T=  0.2546; |val_loss_tot=  0.4184; |3486s\n",
      "Epoch 597/999: train_loss_tot=  0.2552; train_loss_y=0.0006481; train_loss_T=  0.2546; |val_loss_tot=  0.4184; |3492s\n",
      "Epoch 598/999: train_loss_tot=  0.2552; train_loss_y=0.0006481; train_loss_T=  0.2546; |val_loss_tot=  0.4184; |3498s\n",
      "Epoch 599/999: train_loss_tot=  0.2552; train_loss_y=0.0006481; train_loss_T=  0.2546; |val_loss_tot=  0.4184; |3504s\n",
      "Epoch 600/999: train_loss_tot=  0.2552; train_loss_y=0.0006481; train_loss_T=  0.2546; |val_loss_tot=  0.4184; |3510s\n",
      "Epoch 601/999: train_loss_tot=  0.2552; train_loss_y=0.0006481; train_loss_T=  0.2546; |val_loss_tot=  0.4184; |3516s\n",
      "Epoch 602/999: train_loss_tot=  0.2552; train_loss_y=0.0006481; train_loss_T=  0.2546; |val_loss_tot=  0.4184; |3521s\n",
      "Epoch 603/999: train_loss_tot=  0.2552; train_loss_y=0.0006481; train_loss_T=  0.2546; |val_loss_tot=  0.4184; |3527s\n",
      "Epoch 604/999: train_loss_tot=  0.2552; train_loss_y=0.0006481; train_loss_T=  0.2546; |val_loss_tot=  0.4184; |3532s\n",
      "Epoch 605/999: train_loss_tot=  0.2552; train_loss_y=0.0006481; train_loss_T=  0.2546; |val_loss_tot=  0.4184; |3538s\n",
      "Epoch 606/999: train_loss_tot=  0.2552; train_loss_y=0.0006481; train_loss_T=  0.2546; |val_loss_tot=  0.4184; |3544s\n",
      "Epoch 607/999: train_loss_tot=  0.2552; train_loss_y=0.0006481; train_loss_T=  0.2546; |val_loss_tot=  0.4184; |3550s\n",
      "Epoch 608/999: train_loss_tot=  0.2552; train_loss_y=0.0006481; train_loss_T=  0.2546; |val_loss_tot=  0.4184; |3555s\n",
      "Epoch 609/999: train_loss_tot=  0.2552; train_loss_y=0.0006481; train_loss_T=  0.2546; |val_loss_tot=  0.4184; |3561s\n",
      "Epoch 610/999: train_loss_tot=  0.2552; train_loss_y=0.0006481; train_loss_T=  0.2546; |val_loss_tot=  0.4184; |3567s\n",
      "Epoch 611/999: train_loss_tot=  0.2552; train_loss_y=0.0006481; train_loss_T=  0.2546; |val_loss_tot=  0.4184; |3572s\n",
      "Epoch 612/999: train_loss_tot=  0.2552; train_loss_y=0.0006481; train_loss_T=  0.2546; |val_loss_tot=  0.4184; |3578s\n",
      "Epoch 613/999: train_loss_tot=  0.2552; train_loss_y=0.0006481; train_loss_T=  0.2546; |val_loss_tot=  0.4184; |3584s\n",
      "Epoch 614/999: train_loss_tot=  0.2552; train_loss_y=0.0006481; train_loss_T=  0.2546; |val_loss_tot=  0.4184; |3590s\n",
      "Epoch 615/999: train_loss_tot=  0.2552; train_loss_y=0.0006481; train_loss_T=  0.2546; |val_loss_tot=  0.4184; |3595s\n",
      "Epoch 616/999: train_loss_tot=  0.2552; train_loss_y=0.0006481; train_loss_T=  0.2546; |val_loss_tot=  0.4184; |3601s\n",
      "Epoch 617/999: train_loss_tot=  0.2552; train_loss_y=0.0006481; train_loss_T=  0.2546; |val_loss_tot=  0.4184; |3607s\n",
      "Epoch 618/999: train_loss_tot=  0.2552; train_loss_y=0.0006481; train_loss_T=  0.2546; |val_loss_tot=  0.4184; |3613s\n",
      "Epoch 619/999: train_loss_tot=  0.2552; train_loss_y=0.0006481; train_loss_T=  0.2546; |val_loss_tot=  0.4184; |3618s\n",
      "Epoch 620/999: train_loss_tot=  0.2552; train_loss_y=0.0006481; train_loss_T=  0.2546; |val_loss_tot=  0.4184; |3625s\n",
      "Epoch 621/999: train_loss_tot=  0.2552; train_loss_y=0.0006481; train_loss_T=  0.2546; |val_loss_tot=  0.4184; |3631s\n",
      "Epoch 622/999: train_loss_tot=  0.2552; train_loss_y=0.0006481; train_loss_T=  0.2546; |val_loss_tot=  0.4184; |3637s\n",
      "Epoch 623/999: train_loss_tot=  0.2552; train_loss_y=0.0006481; train_loss_T=  0.2546; |val_loss_tot=  0.4184; |3642s\n",
      "Epoch 624/999: train_loss_tot=  0.2552; train_loss_y=0.0006481; train_loss_T=  0.2546; |val_loss_tot=  0.4184; |3648s\n",
      "Epoch 625/999: train_loss_tot=  0.2552; train_loss_y=0.0006481; train_loss_T=  0.2546; |val_loss_tot=  0.4184; |3654s\n",
      "Epoch 626/999: train_loss_tot=  0.2552; train_loss_y=0.0006481; train_loss_T=  0.2546; |val_loss_tot=  0.4184; |3660s\n",
      "Epoch 627/999: train_loss_tot=  0.2552; train_loss_y=0.0006481; train_loss_T=  0.2546; |val_loss_tot=  0.4184; |3666s\n",
      "Epoch 628/999: train_loss_tot=  0.2552; train_loss_y=0.0006481; train_loss_T=  0.2546; |val_loss_tot=  0.4184; |3672s\n",
      "Epoch 629/999: train_loss_tot=  0.2552; train_loss_y=0.0006481; train_loss_T=  0.2546; |val_loss_tot=  0.4184; |3677s\n",
      "Epoch 630/999: train_loss_tot=  0.2552; train_loss_y=0.0006481; train_loss_T=  0.2546; |val_loss_tot=  0.4184; |3683s\n",
      "Epoch 631/999: train_loss_tot=  0.2552; train_loss_y=0.0006481; train_loss_T=  0.2546; |val_loss_tot=  0.4184; |3689s\n",
      "Epoch 632/999: train_loss_tot=  0.2552; train_loss_y=0.0006481; train_loss_T=  0.2546; |val_loss_tot=  0.4184; |3695s\n",
      "Epoch 633/999: train_loss_tot=  0.2552; train_loss_y=0.0006481; train_loss_T=  0.2546; |val_loss_tot=  0.4184; |3701s\n",
      "Epoch 634/999: train_loss_tot=  0.2552; train_loss_y=0.0006481; train_loss_T=  0.2546; |val_loss_tot=  0.4184; |3706s\n",
      "Epoch 635/999: train_loss_tot=  0.2552; train_loss_y=0.0006481; train_loss_T=  0.2546; |val_loss_tot=  0.4184; |3712s\n",
      "Epoch 636/999: train_loss_tot=  0.2552; train_loss_y=0.0006481; train_loss_T=  0.2546; |val_loss_tot=  0.4184; |3718s\n",
      "Epoch 637/999: train_loss_tot=  0.2552; train_loss_y=0.0006481; train_loss_T=  0.2546; |val_loss_tot=  0.4184; |3723s\n",
      "Epoch 638/999: train_loss_tot=  0.2552; train_loss_y=0.0006481; train_loss_T=  0.2546; |val_loss_tot=  0.4184; |3729s\n",
      "Epoch 639/999: train_loss_tot=  0.2552; train_loss_y=0.0006481; train_loss_T=  0.2546; |val_loss_tot=  0.4184; |3735s\n",
      "Epoch 640/999: train_loss_tot=  0.2552; train_loss_y=0.0006481; train_loss_T=  0.2546; |val_loss_tot=  0.4184; |3742s\n",
      "Epoch 641/999: train_loss_tot=  0.2552; train_loss_y=0.0006481; train_loss_T=  0.2546; |val_loss_tot=  0.4184; |3748s\n",
      "Epoch 642/999: train_loss_tot=  0.2552; train_loss_y=0.0006481; train_loss_T=  0.2546; |val_loss_tot=  0.4184; |3755s\n",
      "Epoch 643/999: train_loss_tot=  0.2552; train_loss_y=0.0006481; train_loss_T=  0.2546; |val_loss_tot=  0.4184; |3761s\n",
      "Epoch 644/999: train_loss_tot=  0.2552; train_loss_y=0.0006481; train_loss_T=  0.2546; |val_loss_tot=  0.4184; |3767s\n",
      "Epoch 645/999: train_loss_tot=  0.2552; train_loss_y=0.0006481; train_loss_T=  0.2546; |val_loss_tot=  0.4184; |3772s\n",
      "Epoch 646/999: train_loss_tot=  0.2552; train_loss_y=0.0006481; train_loss_T=  0.2546; |val_loss_tot=  0.4184; |3778s\n",
      "Epoch 647/999: train_loss_tot=  0.2552; train_loss_y=0.0006481; train_loss_T=  0.2546; |val_loss_tot=  0.4184; |3784s\n",
      "Epoch 648/999: train_loss_tot=  0.2552; train_loss_y=0.0006481; train_loss_T=  0.2546; |val_loss_tot=  0.4184; |3789s\n",
      "Epoch 649/999: train_loss_tot=  0.2552; train_loss_y=0.0006481; train_loss_T=  0.2546; |val_loss_tot=  0.4184; |3795s\n",
      "Epoch 650/999: train_loss_tot=  0.2552; train_loss_y=0.0006481; train_loss_T=  0.2546; |val_loss_tot=  0.4184; |3801s\n",
      "Epoch 651/999: train_loss_tot=  0.2552; train_loss_y=0.0006481; train_loss_T=  0.2546; |val_loss_tot=  0.4184; |3806s\n",
      "Epoch 652/999: train_loss_tot=  0.2552; train_loss_y=0.0006481; train_loss_T=  0.2546; |val_loss_tot=  0.4184; |3812s\n",
      "Epoch 653/999: train_loss_tot=  0.2552; train_loss_y=0.0006481; train_loss_T=  0.2546; |val_loss_tot=  0.4184; |3818s\n",
      "Epoch 654/999: train_loss_tot=  0.2552; train_loss_y=0.0006481; train_loss_T=  0.2546; |val_loss_tot=  0.4184; |3824s\n",
      "Epoch 655/999: train_loss_tot=  0.2552; train_loss_y=0.0006481; train_loss_T=  0.2546; |val_loss_tot=  0.4184; |3829s\n",
      "Epoch 656/999: train_loss_tot=  0.2552; train_loss_y=0.0006481; train_loss_T=  0.2546; |val_loss_tot=  0.4184; |3836s\n",
      "Epoch 657/999: train_loss_tot=  0.2552; train_loss_y=0.0006481; train_loss_T=  0.2546; |val_loss_tot=  0.4184; |3842s\n",
      "Epoch 658/999: train_loss_tot=  0.2552; train_loss_y=0.0006481; train_loss_T=  0.2546; |val_loss_tot=  0.4184; |3848s\n",
      "Epoch 659/999: train_loss_tot=  0.2552; train_loss_y=0.0006481; train_loss_T=  0.2546; |val_loss_tot=  0.4184; |3854s\n",
      "Epoch 660/999: train_loss_tot=  0.2552; train_loss_y=0.0006481; train_loss_T=  0.2546; |val_loss_tot=  0.4184; |3860s\n",
      "Epoch 661/999: train_loss_tot=  0.2552; train_loss_y=0.0006481; train_loss_T=  0.2546; |val_loss_tot=  0.4184; |3867s\n",
      "Epoch 662/999: train_loss_tot=  0.2552; train_loss_y=0.0006481; train_loss_T=  0.2546; |val_loss_tot=  0.4184; |3874s\n",
      "Epoch 663/999: train_loss_tot=  0.2552; train_loss_y=0.0006481; train_loss_T=  0.2546; |val_loss_tot=  0.4184; |3881s\n",
      "Epoch 664/999: train_loss_tot=  0.2552; train_loss_y=0.0006481; train_loss_T=  0.2546; |val_loss_tot=  0.4184; |3888s\n",
      "Epoch 665/999: train_loss_tot=  0.2552; train_loss_y=0.0006481; train_loss_T=  0.2546; |val_loss_tot=  0.4184; |3896s\n",
      "Epoch 666/999: train_loss_tot=  0.2552; train_loss_y=0.0006481; train_loss_T=  0.2546; |val_loss_tot=  0.4184; |3902s\n",
      "Epoch 667/999: train_loss_tot=  0.2552; train_loss_y=0.0006481; train_loss_T=  0.2546; |val_loss_tot=  0.4184; |3909s\n",
      "Epoch 668/999: train_loss_tot=  0.2552; train_loss_y=0.0006481; train_loss_T=  0.2546; |val_loss_tot=  0.4184; |3916s\n",
      "Epoch 669/999: train_loss_tot=  0.2552; train_loss_y=0.0006481; train_loss_T=  0.2546; |val_loss_tot=  0.4184; |3922s\n",
      "Epoch 670/999: train_loss_tot=  0.2552; train_loss_y=0.0006481; train_loss_T=  0.2546; |val_loss_tot=  0.4184; |3929s\n",
      "Epoch 671/999: train_loss_tot=  0.2552; train_loss_y=0.0006481; train_loss_T=  0.2545; |val_loss_tot=  0.4184; |3936s\n",
      "Epoch 672/999: train_loss_tot=  0.2552; train_loss_y=0.0006481; train_loss_T=  0.2545; |val_loss_tot=  0.4184; |3943s\n",
      "Epoch 673/999: train_loss_tot=  0.2552; train_loss_y=0.0006481; train_loss_T=  0.2545; |val_loss_tot=  0.4184; |3950s\n",
      "Epoch 674/999: train_loss_tot=  0.2552; train_loss_y=0.0006481; train_loss_T=  0.2545; |val_loss_tot=  0.4184; |3957s\n",
      "Epoch 675/999: train_loss_tot=  0.2552; train_loss_y=0.0006481; train_loss_T=  0.2545; |val_loss_tot=  0.4184; |3963s\n",
      "Epoch 676/999: train_loss_tot=  0.2552; train_loss_y=0.0006481; train_loss_T=  0.2545; |val_loss_tot=  0.4184; |3970s\n",
      "Epoch 677/999: train_loss_tot=  0.2552; train_loss_y=0.0006481; train_loss_T=  0.2545; |val_loss_tot=  0.4184; |3977s\n",
      "Epoch 678/999: train_loss_tot=  0.2552; train_loss_y=0.0006481; train_loss_T=  0.2545; |val_loss_tot=  0.4184; |3984s\n",
      "Epoch 679/999: train_loss_tot=  0.2552; train_loss_y=0.0006481; train_loss_T=  0.2545; |val_loss_tot=  0.4184; |3990s\n",
      "Epoch 680/999: train_loss_tot=  0.2552; train_loss_y=0.0006481; train_loss_T=  0.2545; |val_loss_tot=  0.4184; |3997s\n",
      "Epoch 681/999: train_loss_tot=  0.2552; train_loss_y=0.0006481; train_loss_T=  0.2545; |val_loss_tot=  0.4184; |4004s\n",
      "Epoch 682/999: train_loss_tot=  0.2552; train_loss_y=0.0006481; train_loss_T=  0.2545; |val_loss_tot=  0.4184; |4011s\n",
      "Epoch 683/999: train_loss_tot=  0.2552; train_loss_y=0.0006481; train_loss_T=  0.2545; |val_loss_tot=  0.4184; |4018s\n",
      "Epoch 684/999: train_loss_tot=  0.2552; train_loss_y=0.0006481; train_loss_T=  0.2545; |val_loss_tot=  0.4184; |4025s\n",
      "Epoch 685/999: train_loss_tot=  0.2552; train_loss_y=0.0006481; train_loss_T=  0.2545; |val_loss_tot=  0.4184; |4032s\n",
      "Epoch 686/999: train_loss_tot=  0.2552; train_loss_y=0.0006481; train_loss_T=  0.2545; |val_loss_tot=  0.4184; |4039s\n",
      "Epoch 687/999: train_loss_tot=  0.2552; train_loss_y=0.0006481; train_loss_T=  0.2545; |val_loss_tot=  0.4184; |4046s\n",
      "Epoch 688/999: train_loss_tot=  0.2552; train_loss_y=0.0006481; train_loss_T=  0.2545; |val_loss_tot=  0.4184; |4053s\n",
      "Epoch 689/999: train_loss_tot=  0.2552; train_loss_y=0.0006481; train_loss_T=  0.2545; |val_loss_tot=  0.4184; |4058s\n",
      "Epoch 690/999: train_loss_tot=  0.2552; train_loss_y=0.0006481; train_loss_T=  0.2545; |val_loss_tot=  0.4184; |4065s\n",
      "Epoch 691/999: train_loss_tot=  0.2552; train_loss_y=0.0006481; train_loss_T=  0.2545; |val_loss_tot=  0.4184; |4072s\n",
      "Epoch 692/999: train_loss_tot=  0.2552; train_loss_y=0.0006481; train_loss_T=  0.2545; |val_loss_tot=  0.4184; |4078s\n",
      "Epoch 693/999: train_loss_tot=  0.2552; train_loss_y=0.0006481; train_loss_T=  0.2545; |val_loss_tot=  0.4184; |4085s\n",
      "Epoch 694/999: train_loss_tot=  0.2552; train_loss_y=0.0006481; train_loss_T=  0.2545; |val_loss_tot=  0.4184; |4092s\n",
      "Epoch 695/999: train_loss_tot=  0.2552; train_loss_y=0.0006481; train_loss_T=  0.2545; |val_loss_tot=  0.4184; |4099s\n",
      "Epoch 696/999: train_loss_tot=  0.2552; train_loss_y=0.0006481; train_loss_T=  0.2545; |val_loss_tot=  0.4184; |4106s\n",
      "Epoch 697/999: train_loss_tot=  0.2552; train_loss_y=0.0006481; train_loss_T=  0.2545; |val_loss_tot=  0.4185; |4113s\n",
      "Epoch 698/999: train_loss_tot=  0.2552; train_loss_y=0.0006481; train_loss_T=  0.2545; |val_loss_tot=  0.4185; |4119s\n",
      "Epoch 699/999: train_loss_tot=  0.2552; train_loss_y=0.0006481; train_loss_T=  0.2545; |val_loss_tot=  0.4185; |4126s\n",
      "Epoch 700/999: train_loss_tot=  0.2552; train_loss_y=0.0006481; train_loss_T=  0.2545; |val_loss_tot=  0.4185; |4133s\n",
      "Epoch 701/999: train_loss_tot=  0.2552; train_loss_y=0.0006481; train_loss_T=  0.2545; |val_loss_tot=  0.4185; |4139s\n",
      "Epoch 702/999: train_loss_tot=  0.2552; train_loss_y=0.0006481; train_loss_T=  0.2545; |val_loss_tot=  0.4185; |4145s\n",
      "Epoch 703/999: train_loss_tot=  0.2552; train_loss_y=0.0006481; train_loss_T=  0.2545; |val_loss_tot=  0.4185; |4151s\n",
      "Epoch 704/999: train_loss_tot=  0.2552; train_loss_y=0.0006481; train_loss_T=  0.2545; |val_loss_tot=  0.4185; |4158s\n",
      "Epoch 705/999: train_loss_tot=  0.2552; train_loss_y=0.0006481; train_loss_T=  0.2545; |val_loss_tot=  0.4185; |4165s\n",
      "Epoch 706/999: train_loss_tot=  0.2552; train_loss_y=0.0006481; train_loss_T=  0.2545; |val_loss_tot=  0.4185; |4172s\n",
      "Epoch 707/999: train_loss_tot=  0.2552; train_loss_y=0.0006481; train_loss_T=  0.2545; |val_loss_tot=  0.4185; |4179s\n",
      "Epoch 708/999: train_loss_tot=  0.2552; train_loss_y=0.0006481; train_loss_T=  0.2545; |val_loss_tot=  0.4185; |4186s\n",
      "Epoch 709/999: train_loss_tot=  0.2552; train_loss_y=0.0006481; train_loss_T=  0.2545; |val_loss_tot=  0.4185; |4193s\n",
      "Epoch 710/999: train_loss_tot=  0.2552; train_loss_y=0.0006481; train_loss_T=  0.2545; |val_loss_tot=  0.4185; |4199s\n",
      "Epoch 711/999: train_loss_tot=  0.2552; train_loss_y=0.0006481; train_loss_T=  0.2545; |val_loss_tot=  0.4185; |4205s\n",
      "Epoch 712/999: train_loss_tot=  0.2552; train_loss_y=0.0006481; train_loss_T=  0.2545; |val_loss_tot=  0.4185; |4211s\n",
      "Epoch 713/999: train_loss_tot=  0.2552; train_loss_y=0.0006481; train_loss_T=  0.2545; |val_loss_tot=  0.4185; |4217s\n",
      "Epoch 714/999: train_loss_tot=  0.2552; train_loss_y=0.0006481; train_loss_T=  0.2545; |val_loss_tot=  0.4185; |4222s\n",
      "Epoch 715/999: train_loss_tot=  0.2552; train_loss_y=0.0006481; train_loss_T=  0.2545; |val_loss_tot=  0.4185; |4229s\n",
      "Epoch 716/999: train_loss_tot=  0.2552; train_loss_y=0.0006481; train_loss_T=  0.2545; |val_loss_tot=  0.4185; |4235s\n",
      "Epoch 717/999: train_loss_tot=  0.2552; train_loss_y=0.0006481; train_loss_T=  0.2545; |val_loss_tot=  0.4185; |4241s\n",
      "Epoch 718/999: train_loss_tot=  0.2552; train_loss_y=0.0006481; train_loss_T=  0.2545; |val_loss_tot=  0.4185; |4247s\n",
      "Epoch 719/999: train_loss_tot=  0.2552; train_loss_y=0.0006481; train_loss_T=  0.2545; |val_loss_tot=  0.4185; |4253s\n",
      "Epoch 720/999: train_loss_tot=  0.2552; train_loss_y=0.0006481; train_loss_T=  0.2545; |val_loss_tot=  0.4185; |4258s\n",
      "Epoch 721/999: train_loss_tot=  0.2552; train_loss_y=0.0006481; train_loss_T=  0.2545; |val_loss_tot=  0.4185; |4264s\n",
      "Epoch 722/999: train_loss_tot=  0.2552; train_loss_y=0.0006481; train_loss_T=  0.2545; |val_loss_tot=  0.4185; |4270s\n",
      "Epoch 723/999: train_loss_tot=  0.2552; train_loss_y=0.0006481; train_loss_T=  0.2545; |val_loss_tot=  0.4185; |4276s\n",
      "Epoch 724/999: train_loss_tot=  0.2552; train_loss_y=0.0006481; train_loss_T=  0.2545; |val_loss_tot=  0.4185; |4281s\n",
      "Epoch 725/999: train_loss_tot=  0.2552; train_loss_y=0.0006481; train_loss_T=  0.2545; |val_loss_tot=  0.4185; |4287s\n",
      "Epoch 726/999: train_loss_tot=  0.2552; train_loss_y=0.0006481; train_loss_T=  0.2545; |val_loss_tot=  0.4185; |4293s\n",
      "Epoch 727/999: train_loss_tot=  0.2552; train_loss_y=0.0006481; train_loss_T=  0.2545; |val_loss_tot=  0.4185; |4299s\n",
      "Epoch 728/999: train_loss_tot=  0.2552; train_loss_y=0.0006481; train_loss_T=  0.2545; |val_loss_tot=  0.4185; |4304s\n",
      "Epoch 729/999: train_loss_tot=  0.2552; train_loss_y=0.0006481; train_loss_T=  0.2545; |val_loss_tot=  0.4185; |4311s\n",
      "Epoch 730/999: train_loss_tot=  0.2552; train_loss_y=0.0006481; train_loss_T=  0.2545; |val_loss_tot=  0.4185; |4318s\n",
      "Epoch 731/999: train_loss_tot=  0.2552; train_loss_y=0.0006481; train_loss_T=  0.2545; |val_loss_tot=  0.4185; |4324s\n",
      "Epoch 732/999: train_loss_tot=  0.2552; train_loss_y=0.0006481; train_loss_T=  0.2545; |val_loss_tot=  0.4185; |4330s\n",
      "Epoch 733/999: train_loss_tot=  0.2552; train_loss_y=0.0006481; train_loss_T=  0.2545; |val_loss_tot=  0.4185; |4337s\n",
      "Epoch 734/999: train_loss_tot=  0.2552; train_loss_y=0.0006481; train_loss_T=  0.2545; |val_loss_tot=  0.4185; |4343s\n",
      "Epoch 735/999: train_loss_tot=  0.2552; train_loss_y=0.0006481; train_loss_T=  0.2545; |val_loss_tot=  0.4185; |4349s\n",
      "Epoch 736/999: train_loss_tot=  0.2552; train_loss_y=0.0006481; train_loss_T=  0.2545; |val_loss_tot=  0.4185; |4356s\n",
      "Epoch 737/999: train_loss_tot=  0.2552; train_loss_y=0.0006481; train_loss_T=  0.2545; |val_loss_tot=  0.4185; |4363s\n",
      "Epoch 738/999: train_loss_tot=  0.2552; train_loss_y=0.0006481; train_loss_T=  0.2545; |val_loss_tot=  0.4185; |4370s\n",
      "Epoch 739/999: train_loss_tot=  0.2552; train_loss_y=0.0006481; train_loss_T=  0.2545; |val_loss_tot=  0.4185; |4377s\n",
      "Epoch 740/999: train_loss_tot=  0.2552; train_loss_y=0.0006481; train_loss_T=  0.2545; |val_loss_tot=  0.4185; |4384s\n",
      "Epoch 741/999: train_loss_tot=  0.2552; train_loss_y=0.0006481; train_loss_T=  0.2545; |val_loss_tot=  0.4185; |4391s\n",
      "Epoch 742/999: train_loss_tot=  0.2552; train_loss_y=0.0006481; train_loss_T=  0.2545; |val_loss_tot=  0.4185; |4398s\n",
      "Epoch 743/999: train_loss_tot=  0.2552; train_loss_y=0.0006481; train_loss_T=  0.2545; |val_loss_tot=  0.4185; |4405s\n",
      "Epoch 744/999: train_loss_tot=  0.2552; train_loss_y=0.0006481; train_loss_T=  0.2545; |val_loss_tot=  0.4185; |4412s\n",
      "Epoch 745/999: train_loss_tot=  0.2552; train_loss_y=0.0006481; train_loss_T=  0.2545; |val_loss_tot=  0.4185; |4419s\n",
      "Epoch 746/999: train_loss_tot=  0.2552; train_loss_y=0.0006481; train_loss_T=  0.2545; |val_loss_tot=  0.4185; |4425s\n",
      "Epoch 747/999: train_loss_tot=  0.2552; train_loss_y=0.0006481; train_loss_T=  0.2545; |val_loss_tot=  0.4185; |4432s\n",
      "Epoch 748/999: train_loss_tot=  0.2552; train_loss_y=0.0006481; train_loss_T=  0.2545; |val_loss_tot=  0.4185; |4439s\n",
      "Epoch 749/999: train_loss_tot=  0.2552; train_loss_y=0.0006481; train_loss_T=  0.2545; |val_loss_tot=  0.4185; |4445s\n",
      "Epoch 750/999: train_loss_tot=  0.2552; train_loss_y=0.0006481; train_loss_T=  0.2545; |val_loss_tot=  0.4185; |4452s\n",
      "Epoch 751/999: train_loss_tot=  0.2552; train_loss_y=0.0006481; train_loss_T=  0.2545; |val_loss_tot=  0.4185; |4460s\n",
      "Epoch 752/999: train_loss_tot=  0.2552; train_loss_y=0.0006481; train_loss_T=  0.2545; |val_loss_tot=  0.4185; |4467s\n",
      "Epoch 753/999: train_loss_tot=  0.2552; train_loss_y=0.0006481; train_loss_T=  0.2545; |val_loss_tot=  0.4185; |4472s\n",
      "Epoch 754/999: train_loss_tot=  0.2552; train_loss_y=0.0006481; train_loss_T=  0.2545; |val_loss_tot=  0.4185; |4480s\n",
      "Epoch 755/999: train_loss_tot=  0.2552; train_loss_y=0.0006481; train_loss_T=  0.2545; |val_loss_tot=  0.4185; |4486s\n",
      "Epoch 756/999: train_loss_tot=  0.2552; train_loss_y=0.0006481; train_loss_T=  0.2545; |val_loss_tot=  0.4185; |4493s\n",
      "Epoch 757/999: train_loss_tot=  0.2552; train_loss_y=0.0006481; train_loss_T=  0.2545; |val_loss_tot=  0.4185; |4500s\n",
      "Epoch 758/999: train_loss_tot=  0.2552; train_loss_y=0.0006481; train_loss_T=  0.2545; |val_loss_tot=  0.4185; |4507s\n",
      "Epoch 759/999: train_loss_tot=  0.2552; train_loss_y=0.0006481; train_loss_T=  0.2545; |val_loss_tot=  0.4185; |4514s\n",
      "Epoch 760/999: train_loss_tot=  0.2552; train_loss_y=0.0006481; train_loss_T=  0.2545; |val_loss_tot=  0.4185; |4521s\n",
      "Epoch 761/999: train_loss_tot=  0.2552; train_loss_y=0.0006481; train_loss_T=  0.2545; |val_loss_tot=  0.4185; |4528s\n",
      "Epoch 762/999: train_loss_tot=  0.2552; train_loss_y=0.0006481; train_loss_T=  0.2545; |val_loss_tot=  0.4185; |4535s\n",
      "Epoch 763/999: "
     ]
    }
   ],
   "source": [
    "torch.manual_seed(4224)\n",
    "\n",
    "# GNN architecture (if dim is `int` latent dims nodes=edges)\n",
    "# -----\n",
    "n_blocks = 3 # N_blocks\n",
    "dropout_p = 0.05 # dropout for hidden layers & GN blocks (if any)\n",
    "is_residual = True\n",
    "\n",
    "input_dims = OrderedDict([('node', 10), ('edge', 17)])\n",
    "\n",
    "net = get_simple_gnn(n_blocks=n_blocks, input_dims=input_dims,\n",
    "                     dropout_p=dropout_p, is_residual=is_residual, device=device)\n",
    "\n",
    "unique_id = f'GNN{n_blocks}{\"_res\" if is_residual else \"\"}'  # unique name for the model\n",
    "unique_id += f\"_DiffX\"\n",
    "#     unique_id += f\"_IgnrShrtEdge\"\n",
    "#     unique_id += f\"_noise\"\n",
    "unique_id += f\"_dropout{dropout_p}\" if dropout_p>0 else \"\"\n",
    "print('unique_id:', unique_id)\n",
    "\n",
    "\n",
    "# Training param-s & Data loaders:\n",
    "# -----\n",
    "num_epochs = 1000\n",
    "lr = 0.001\n",
    "bs = 2\n",
    "loss_func = torch.nn.MSELoss(reduction='mean')\n",
    "\n",
    "opt = torch.optim.Adam(net.parameters(), lr=lr) # SGD(net.parameters(), lr=0.1, momentum=0.9)\n",
    "scheduler = torch.optim.lr_scheduler.ReduceLROnPlateau(opt, mode='min')\n",
    "\n",
    "# in order to track the batch id for var-s add its key to \"follow_batch\":\n",
    "loaders = {'train' : DataLoader(datasets_dict['train'], batch_size=bs),\n",
    "           'val':    DataLoader(datasets_dict['val'],  batch_size=bs)}\n",
    "# this tracks batch id for \"cell_pressures_batch\" and \"edge_index_batch\" in addition to node batch ids\n",
    "\n",
    "model_states = list(loaders.keys())\n",
    "use_force_loss = {'train':[True,False], \n",
    "                  'val':[True, False],\n",
    "                  'val2':[True,False] ,\n",
    "                  'abln':[True,False] ,\n",
    "                  'hara' : [False, False]\n",
    "                 }# [tension, pressure]\n",
    "\n",
    "return_best = False\n",
    "# #     ignore_short_edges, edge_len_threshold = False, 10**-2\n",
    "ignore_short_edges, edge_len_threshold = False, None\n",
    "print('ignore_short_edges, edge_len_threshold:',ignore_short_edges, edge_len_threshold)\n",
    "\n",
    "\n",
    "model_name = f'{unique_id}_bs{bs}w{window_size}{\"best\" if return_best else \"\"}' # adding date: datetime.datetime.now().strftime('%d%m%Y_%H%M%S')+\n",
    "model_name = model_name+f'_{num_epochs}epochs'\n",
    "\n",
    "print(model_name,end='\\n---\\n')\n",
    "\n",
    "net, train_log = train_model(net, loaders, opt, num_epochs=num_epochs, scheduler=scheduler, device=device, model_states = model_states,\n",
    "                             loss_func = loss_func, use_force_loss=use_force_loss, return_best=return_best,\n",
    "                             ignore_short_edges = ignore_short_edges, edge_len_threshold = edge_len_threshold)\n",
    "\n",
    "# plot losses\n",
    "plot_losses(train_log, loaders, dataset_legend, figsize=[7,3])\n",
    "plt.show()\n",
    "\n",
    "# # Save trained model # # #\n",
    "save_dir = 'simgnn_data/saved_models/thesis/tension_GN_sim2real/'\n",
    "gnn_fname = f'{path.join(save_dir, model_name)}_net_{k}.pkl'\n",
    "\n",
    "write_log(f'{path.join(save_dir, model_name)}_train_log_{k}.pkl',train_log)\n",
    "torch.save(net.state_dict(), gnn_fname)\n",
    "print(f'Model weights saved in \\n{gnn_fname}') "
   ]
  },
  {
   "cell_type": "code",
   "execution_count": 17,
   "metadata": {},
   "outputs": [],
   "source": [
    "# # plot losses\n",
    "# plot_losses(train_log, loaders, dataset_legend)\n",
    "# # plt.show()"
   ]
  },
  {
   "cell_type": "code",
   "execution_count": 18,
   "metadata": {},
   "outputs": [
    {
     "name": "stdout",
     "output_type": "stream",
     "text": [
      "train_loss_tot , 0.2550703491828057\n",
      "train_loss_y , 0.0006480598068842584\n",
      "train_loss_T , 0.25442228937592143\n",
      "train_loss_P , 0.0\n",
      "val_loss_tot , 0.4185587821425017\n",
      "val_loss_y , 0.0006106437210420124\n",
      "val_loss_T , 0.41794813842145967\n",
      "val_loss_P , 0.0\n",
      "val2_loss_tot , 0.48966691437205645\n",
      "val2_loss_y , 0.0007086236871948565\n",
      "val2_loss_T , 0.4889582906848616\n",
      "val2_loss_P , 0.0\n",
      "H1_loss_tot , 0.00015166747856662174\n",
      "H1_loss_y , 0.00015166747856662174\n",
      "H1_loss_T , 0.0\n",
      "H1_loss_P , 0.0\n",
      "\n"
     ]
    },
    {
     "data": {
      "image/png": "[encoded data removed]",
      "text/plain": [
       "<Figure size 432x216 with 2 Axes>"
      ]
     },
     "metadata": {
      "needs_background": "light"
     },
     "output_type": "display_data"
    },
    {
     "data": {
      "image/png": "[encoded data removed]",
      "text/plain": [
       "<Figure size 432x216 with 2 Axes>"
      ]
     },
     "metadata": {
      "needs_background": "light"
     },
     "output_type": "display_data"
    },
    {
     "data": {
      "image/png": "[encoded data removed]",
      "text/plain": [
       "<Figure size 432x216 with 2 Axes>"
      ]
     },
     "metadata": {
      "needs_background": "light"
     },
     "output_type": "display_data"
    },
    {
     "data": {
      "image/png": "[encoded data removed]",
      "text/plain": [
       "<Figure size 432x216 with 2 Axes>"
      ]
     },
     "metadata": {
      "needs_background": "light"
     },
     "output_type": "display_data"
    },
    {
     "data": {
      "image/png": "[encoded data removed]",
      "text/plain": [
       "<Figure size 216x216 with 1 Axes>"
      ]
     },
     "metadata": {
      "needs_background": "light"
     },
     "output_type": "display_data"
    },
    {
     "data": {
      "image/png": "[encoded data removed]",
      "text/plain": [
       "<Figure size 216x216 with 1 Axes>"
      ]
     },
     "metadata": {
      "needs_background": "light"
     },
     "output_type": "display_data"
    },
    {
     "data": {
      "image/png": "[encoded data removed]",
      "text/plain": [
       "<Figure size 216x216 with 1 Axes>"
      ]
     },
     "metadata": {
      "needs_background": "light"
     },
     "output_type": "display_data"
    },
    {
     "data": {
      "image/png": "[encoded data removed]",
      "text/plain": [
       "<Figure size 360x360 with 1 Axes>"
      ]
     },
     "metadata": {
      "needs_background": "light"
     },
     "output_type": "display_data"
    },
    {
     "name": "stdout",
     "output_type": "stream",
     "text": [
      "- - - - - - - - - - -\n",
      "NO___rosettes : R,p=(0.2944670042168047, 0.034086583667561475)\n",
      "WITH_rosettes : R,p=(0.26604003662240044, 0.05184215240461617)\n",
      "- - - - - - - - - - -\n"
     ]
    }
   ],
   "source": [
    "# compute predictions and plot them\n",
    "# vel-y, tens, pres\n",
    "bs = 2\n",
    "\n",
    "pred_out, tgt_out, sample_losses = predict_batch(net,\n",
    "                                                 {'train' : DataLoader(datasets_dict['train'], batch_size=bs),\n",
    "                                                  'val':    DataLoader(datasets_dict['val'],  batch_size=bs),\n",
    "                                                  'val2':   DataLoader(datasets_dict['val2'], batch_size=bs),\n",
    "                                                  'H1':   DataLoader(datasets_dict['H1'], batch_size=bs),\n",
    "#                                                   'A':   DataLoader(datasets_dict['A'], batch_size=bs)\n",
    "                                                 },\n",
    "                                                 loss_func=torch.nn.MSELoss(reduction='sum'),\n",
    "                                                 use_force_loss = {'train': True,\n",
    "                                                                   'val': True,\n",
    "                                                                   'val2': True,\n",
    "                                                                   'H1' : False,\n",
    "                                                                   'A':True\n",
    "                                                                  },\n",
    "                                                 return_losses = True, device=device)\n",
    "print(''.join([f'{k} , {sample_losses[k]}\\n' for k in sample_losses]))\n",
    "\n",
    "plot_velocity_predictions(pred_out[0], tgt_out[0], dataset_legend, subplots_kw={'figsize':[6,3]})\n",
    "\n",
    "plot_tension_prediction(pred_out[1], tgt_out[1], dataset_legend, figure_kw={'figsize':[3,3]})\n",
    "\n",
    "# # # # # # # # # # # # # #\n",
    "# # # Hara Ablation # # # #\n",
    "# # # # # # # # # # # # # #\n",
    "Abln_p, Abln_t, is_ros_ = predict_abln_tension(net, datasets_dict['A'], device=device)\n",
    "\n",
    "m1,m2 = np.polyfit(Abln_t[~is_ros_], Abln_p[~is_ros_], 1)\n",
    "y_fit = np.array([min(Abln_t),max(Abln_t)])*m1+m2\n",
    "\n",
    "plt.figure(figsize=[5,5])\n",
    "ax = plt.gca()\n",
    "ax.plot(Abln_t[~is_ros_], Abln_p[~is_ros_], 'o', mfc='tomato', ms=5, alpha=.5, label='w/o rosettes')\n",
    "ax.plot(Abln_t[is_ros_], Abln_p[is_ros_], 'd', mfc='royalblue', ms=5, alpha=.5, label='rosettes')\n",
    "\n",
    "ax.plot([min(Abln_t),max(Abln_t)], y_fit, 'k--',lw=3, alpha=.5, label=f'$f(x)={m1:.3f}x{\"+\" if m2>0 else \"-\"}{np.abs(m2):.3f}$')\n",
    "ax.set_title('Recoil vs Predicted Tension');\n",
    "ax.set_xlabel('Recoil');\n",
    "ax.set_ylabel('Tension(pred)');\n",
    "ax.legend();\n",
    "ax.axis('square')\n",
    "\n",
    "plt.show()\n",
    "print('- '*10+'-')\n",
    "print(f'NO___rosettes : R,p={pearsonr(Abln_t[~is_ros_], Abln_p[~is_ros_])}')\n",
    "print(f'WITH_rosettes : R,p={pearsonr(Abln_t, Abln_p)}')\n",
    "print('- '*10+'-')"
   ]
  },
  {
   "cell_type": "code",
   "execution_count": 20,
   "metadata": {},
   "outputs": [
    {
     "data": {
      "image/png": "[encoded data removed]",
      "text/plain": [
       "<Figure size 284.58x265.608 with 1 Axes>"
      ]
     },
     "metadata": {
      "needs_background": "light"
     },
     "output_type": "display_data"
    },
    {
     "name": "stdout",
     "output_type": "stream",
     "text": [
      "- - - - - - - - - - -\n",
      "NO___rosettes : R,p=(0.2944670042168047, 0.034086583667561475)\n",
      "WITH_rosettes : R,p=(0.26604003662240044, 0.05184215240461617)\n",
      "- - - - - - - - - - -\n"
     ]
    }
   ],
   "source": [
    "text_width = 5.27\n",
    "\n",
    "m1,m2 = np.polyfit(Abln_t[~is_ros_], Abln_p[~is_ros_], 1)\n",
    "y_fit = np.array([min(Abln_t),max(Abln_t)])*m1+m2\n",
    "\n",
    "plt.figure(figsize=[0.75*text_width, 0.7*text_width])\n",
    "ax = plt.gca()\n",
    "ax.plot(Abln_t[~is_ros_], Abln_p[~is_ros_], 'o', mfc='tomato', ms=3, alpha=.8, label='w/o rosettes')\n",
    "ax.plot(Abln_t[is_ros_], Abln_p[is_ros_], 'd', mfc='royalblue', ms=3, alpha=.8, label='rosettes')\n",
    "\n",
    "ax.plot([min(Abln_t),max(Abln_t)], y_fit, 'k--',lw=1, alpha=.5, label=f'$f(x)={m1:.3f}x{\"+\" if m2>0 else \"-\"}{np.abs(m2):.3f}$')\n",
    "ax.set_title('Recoil vs Predicted Tension');\n",
    "ax.set_xlabel('Recoil');\n",
    "ax.set_ylabel('Tension(pred)');\n",
    "ax.legend();\n",
    "ax.axis('square')\n",
    "\n",
    "plt.ylim([-2,2.5])\n",
    "# plt.xlim([-2,2])\n",
    "\n",
    "# plt.savefig('sim2real_ablation.png', dpi=200)\n",
    "plt.show()\n",
    "print('- '*10+'-')\n",
    "print(f'NO___rosettes : R,p={pearsonr(Abln_t[~is_ros_], Abln_p[~is_ros_])}')\n",
    "print(f'WITH_rosettes : R,p={pearsonr(Abln_t, Abln_p)}')\n",
    "print('- '*10+'-')"
   ]
  },
  {
   "cell_type": "markdown",
   "metadata": {},
   "source": [
    "---"
   ]
  },
  {
   "cell_type": "markdown",
   "metadata": {},
   "source": [
    "**Check tension prediction, losses, and plots**"
   ]
  },
  {
   "cell_type": "code",
   "execution_count": 128,
   "metadata": {},
   "outputs": [],
   "source": [
    "# # # Predict for each sample w/o batching:\n",
    "\n",
    "# _, axs = plt.subplots(ncols=3, figsize=[20, 6], sharex=True, sharey=True)\n",
    "\n",
    "# tension_preds = {}\n",
    "# tension_trues = {}\n",
    "\n",
    "# for dataset_k, ax in zip(['train', 'val', 'val2'], axs):\n",
    "#     Tp, Tt =  predict_dataset_tension(net, datasets_dict[dataset_k],device=device)\n",
    "#     tension_preds[dataset_k] = Tp\n",
    "#     tension_trues[dataset_k] = Tt\n",
    "\n",
    "#     minmaxY = [np.min(np.concatenate([k.ravel() for k in Tt])),\n",
    "#                np.max(np.concatenate([k.ravel() for k in Tt]))] \n",
    "\n",
    "#     ax.plot(np.concatenate([k.ravel() for k in Tt]),\n",
    "#             np.concatenate([k.ravel() for k in Tp]),\n",
    "#             'o', ms=7, c='c', mfc='teal', alpha=.2)\n",
    "#     ax.plot(minmaxY, minmaxY, '--', color='orange', lw=3, alpha=.8)\n",
    "#     ax.set_title(dataset_legend[dataset_k]);\n",
    "#     ax.set_xlabel('True')\n",
    "#     ax.set_ylabel('Predicted')\n",
    "    \n",
    "#     sum_l2_losses, Nsamples = np.array([(((Tp_k-Tt_k)**2).sum(), Tp_k.shape[1])\n",
    "#                                     for Tp_k, Tt_k in zip(tension_preds[dataset_k], tension_trues[dataset_k])]).sum(axis=0)\n",
    "#     print(f'{dataset_k} MSE:', sum_l2_losses/Nsamples)"
   ]
  },
  {
   "cell_type": "code",
   "execution_count": 129,
   "metadata": {},
   "outputs": [],
   "source": [
    "# dataset_k = 'val2'\n",
    "\n",
    "# l2_loss = torch.nn.MSELoss(reduction='mean')\n",
    "# print('torch.nn.MSE:', l2_loss(torch.from_numpy(np.concatenate([T_k.ravel() for T_k in tension_trues[dataset_k]])),\n",
    "#                                torch.from_numpy(np.concatenate([T_k.ravel() for T_k in tension_preds[dataset_k]]))) )"
   ]
  },
  {
   "cell_type": "code",
   "execution_count": 28,
   "metadata": {},
   "outputs": [
    {
     "name": "stdout",
     "output_type": "stream",
     "text": [
      "( 10) 140529_Dacat_recoil_sample15_1.pt   [1.081]\n",
      "( 16) 140530_Dacat_recoil_sample3_1.pt    [1.534]\n",
      "( 25) 140612_Dacat_recoil_sample1_1.pt    [1.152]\n",
      "( 33) 140606_DaCat_recoil_sample1_2.pt    [1.358]\n"
     ]
    }
   ],
   "source": [
    "recoils = np.array([d.edge_recoils.numpy()[~np.isnan(d.edge_recoils.numpy())].item()\n",
    "                    for d in datasets_dict['A']])\n",
    "\n",
    "outlier_mask = np.logical_or(np.logical_and(recoils>1, Abln_p<-.9 ),\n",
    "                             np.logical_and(recoils<.45, Abln_p>.42 ))\n",
    "\n",
    "t=[]\n",
    "for k,fname_k  in enumerate(datasets_dict['A'].processed_file_names):\n",
    "    if outlier_mask[k]:\n",
    "        t.append(k)\n",
    "        print(f'({k:3}) {fname_k:35} [{recoils[k]:4.3f}]')\n",
    "\n",
    "# recoils[outlier_mask]"
   ]
  },
  {
   "cell_type": "code",
   "execution_count": 39,
   "metadata": {},
   "outputs": [],
   "source": [
    "# Normalised values\n",
    "# plt.plot(Abln_t, Abln_p, 'rx')\n",
    "# plt.plot(Abln_t[outlier_mask], Abln_p[outlier_mask], 'bo')\n",
    "# plt.plot(Abln_t[is_ros_], Abln_p[is_ros_], 'go')"
   ]
  },
  {
   "cell_type": "markdown",
   "metadata": {},
   "source": [
    "Recoil vs Predicted Tension"
   ]
  },
  {
   "cell_type": "code",
   "execution_count": 32,
   "metadata": {},
   "outputs": [
    {
     "data": {
      "image/png": "[encoded data removed]",
      "text/plain": [
       "<Figure size 432x288 with 1 Axes>"
      ]
     },
     "metadata": {
      "needs_background": "light"
     },
     "output_type": "display_data"
    }
   ],
   "source": [
    "# t=[26, 39, 16]\n",
    "plt.plot(recoils, Abln_p, 'rv')\n",
    "plt.plot(recoils[t], Abln_p[t], 'yo', ms=15, alpha=.25)\n",
    "plt.plot(recoils[outlier_mask], Abln_p[outlier_mask], 'bo')\n",
    "plt.plot(recoils[is_ros_], Abln_p[is_ros_], 'go')\n",
    "\n",
    "m1,m2 = np.polyfit(recoils[~np.logical_or(is_ros_, outlier_mask)], Abln_p[~np.logical_or(is_ros_, outlier_mask)], 1)\n",
    "y_fit = np.array([min(recoils),max(recoils)])*m1+m2\n",
    "plt.plot([min(recoils),max(recoils)], y_fit, 'r--', label=f'y={m1:.2f}x+({m2:.2f})')\n",
    "\n",
    "m1,m2 = np.polyfit(recoils, Abln_p, 1)\n",
    "y_fit = np.array([min(recoils),max(recoils)])*m1+m2\n",
    "plt.plot([min(recoils),max(recoils)], y_fit, 'b', label=f'y={m1:.2f}x+({m2:.2f})')\n",
    "\n",
    "plt.legend()\n",
    "plt.axis('equal')\n",
    "plt.ylim([-1,1.1])\n",
    "plt.show()"
   ]
  },
  {
   "cell_type": "markdown",
   "metadata": {},
   "source": [
    "- `'140530_Dacat_recoil_sample3_1.pt', 16` is systematically underestimated (potentially recoil has error)"
   ]
  },
  {
   "cell_type": "code",
   "execution_count": 148,
   "metadata": {},
   "outputs": [
    {
     "data": {
      "image/png": "[encoded data removed]",
      "text/plain": [
       "<Figure size 144x144 with 1 Axes>"
      ]
     },
     "metadata": {},
     "output_type": "display_data"
    }
   ],
   "source": [
    "t = 16\n",
    "plt.figure(figsize=[2,2])\n",
    "e_k = np.where(~np.isnan(datasets_dict['A'][t].edge_recoils.numpy()))[0].item()\n",
    "v_st_k = datasets_dict['A'][t].edge_index[:, datasets_dict['A'][t].edge_id==e_k]\n",
    "v_st_pos = datasets_dict['A'][t].pos[v_st_k[:,0]]\n",
    "\n",
    "nx.draw(to_networkx(datasets_dict['A'][t]),pos=dict(enumerate(datasets_dict['A'][t].pos.numpy())), node_size=10)\n",
    "plt.plot(v_st_pos[:,0], v_st_pos[:,1], 'r', lw=4)\n",
    "plt.title(datasets_dict['A'].processed_file_names[t]+f'\\n{datasets_dict[\"A\"][t].edge_recoils[e_k]:6.3f}');\n",
    "plt.gca().invert_yaxis();"
   ]
  },
  {
   "cell_type": "code",
   "execution_count": 30,
   "metadata": {},
   "outputs": [
    {
     "name": "stdout",
     "output_type": "stream",
     "text": [
      "R,p=(0.598268607647418, 7.092289388908155e-06)\n"
     ]
    },
    {
     "data": {
      "image/png": "[encoded data removed]",
      "text/plain": [
       "<Figure size 720x216 with 2 Axes>"
      ]
     },
     "metadata": {
      "needs_background": "light"
     },
     "output_type": "display_data"
    }
   ],
   "source": [
    "y_gt, y_pred = Abln_t[~np.logical_or(is_ros_, outlier_mask)], Abln_p[~np.logical_or(is_ros_, outlier_mask)]\n",
    "# y_gt, y_pred = Abln_t[~is_ros_], Abln_p[~is_ros_]\n",
    "# y_gt, y_pred = Abln_t, Abln_p\n",
    "\n",
    "\n",
    "y_pred_scaled = (y_pred- y_pred.mean())/y_pred.std()\n",
    "\n",
    "fig,axs = plt.subplots(nrows=1,ncols=2,figsize=[10,3])\n",
    "axs = axs.ravel()\n",
    "axs[0].plot([y_gt[~np.isnan(y_gt)].min(),y_gt[~np.isnan(y_gt)].max()],\n",
    "            [y_gt[~np.isnan(y_gt)].min(),y_gt[~np.isnan(y_gt)].max()],'--',c='orange',lw=3)\n",
    "axs[0].plot(y_gt[~np.isnan(y_gt)], y_pred_scaled, 'o',ms=5,c='teal')\n",
    "axs[0].set_aspect('equal')\n",
    "axs[0].set_xlabel('Target/Ground truth')\n",
    "axs[0].set_ylabel('Predicted')\n",
    "\n",
    "axs[1].hist(y_gt,alpha=.6, color='darkorange', label='Ground truth');\n",
    "axs[1].hist(y_pred_scaled,alpha=.8,color='teal',label='Predicted')\n",
    "axs[1].set_xlabel('Recoil (normalised)')\n",
    "axs[1].set_ylabel('Count')\n",
    "axs[1].legend();\n",
    "\n",
    "from scipy.stats import pearsonr\n",
    "print(f'R,p={pearsonr(y_gt[~np.isnan(y_gt)], y_pred)}')"
   ]
  },
  {
   "cell_type": "markdown",
   "metadata": {},
   "source": [
    "### Check saved model"
   ]
  },
  {
   "cell_type": "code",
   "execution_count": 19,
   "metadata": {},
   "outputs": [],
   "source": [
    "# Simulation dataset\n",
    "Tnrm = {k: [Pos2Vec(scale=l_0['sim']),\n",
    "            ScaleVelocity(l_0['sim']),\n",
    "            ScaleTension(t_sd[k], shift=t_av[k]),\n",
    "           ]\n",
    "        for k in ['sim', 'single_distr_sims', 'unimodal_wbasetens_sims']}\n",
    "\n",
    "# Hara ablation dataset\n",
    "Tnrm['abln'] = [Pos2Vec(scale=l_0['abln']),\n",
    "                ScaleVelocity(l_0['abln']),\n",
    "                RecoilAsTension(), \n",
    "                ScaleTension(t_sd['abln'], shift=t_av['abln']),\n",
    "               ]\n",
    "\n",
    "# Hara movie dataset\n",
    "Tnrm['hara'] = [Pos2Vec(scale=l_0['hara']), ScaleVelocity(l_0['hara'])]\n",
    "\n",
    "# Convert to undirected graph and append \"edge features\"\n",
    "#\n",
    "# Node and Edge Feature Transforms\n",
    "for k in Tnrm:\n",
    "    # to undirected graph: add e_ji for all e_ij\n",
    "    Tnrm[k].append(AppendReversedEdges())\n",
    "    \n",
    "#     # Add edge features\n",
    "    Tnrm[k].append(AppendDiff_x())\n",
    "#     Tnrm[k].append(AppendEdgeNorm())\n",
    "    Tnrm[k].append(AppendEdgeLen(norm=True, scale=l_0[k])) # for edge masks\n",
    "    \n",
    "    # flatten  node features\n",
    "    Tnrm[k].append(Reshape_x((-1,window_size*2)))\n",
    "    \n",
    "    Tnrm[k] = T.Compose(Tnrm[k])"
   ]
  },
  {
   "cell_type": "code",
   "execution_count": 20,
   "metadata": {},
   "outputs": [
    {
     "name": "stdout",
     "output_type": "stream",
     "text": [
      "rm: cannot remove 'simgnn_data/single_distr_sims/train/processed': No such file or directory\n",
      "rm: cannot remove 'simgnn_data/hara_movies/processed': No such file or directory\n",
      "rm: cannot remove 'simgnn_data/hara_movies_as_sep_datasets/hara_seg003/processed/': No such file or directory\n",
      "rm: cannot remove 'simgnn_data/hara_movies_as_sep_datasets/hara_seg005/processed/': No such file or directory\n"
     ]
    }
   ],
   "source": [
    "clear_processed_datasets()"
   ]
  },
  {
   "cell_type": "code",
   "execution_count": 21,
   "metadata": {},
   "outputs": [
    {
     "name": "stdout",
     "output_type": "stream",
     "text": [
      "Processing...\n",
      "Done!\n",
      "Processing...\n",
      "Done!\n",
      "Processing...\n",
      "Done!\n",
      "Processing...\n",
      "Done!\n",
      "Processing...\n",
      "Done!\n"
     ]
    }
   ],
   "source": [
    "hara_abln = HaraAblation('simgnn_data/hara_ablation/', window_size=window_size,\n",
    "                         transform=Tnrm['abln'], smoothing=True, sma_lag_time=3)\n",
    "\n",
    "# Hara movie datasets\n",
    "seg001 = HaraMovies('simgnn_data/hara_movies_as_sep_datasets/hara_seg001/', window_size=window_size,\n",
    "                    transform=Tnrm['hara'], smoothing=True, sma_lag_time=sma_lag_time)\n",
    "\n",
    "# Simulation datasets\n",
    "# rand base contractility\n",
    "sim1 = VertexDynamics('./simgnn_data/unimodal_wbasetens_sims/train/', window_size=window_size,\n",
    "                      transform=Tnrm['unimodal_wbasetens_sims'])\n",
    "sim1_val = VertexDynamics('./simgnn_data/unimodal_wbasetens_sims/val/', window_size=window_size,\n",
    "                          transform=Tnrm['unimodal_wbasetens_sims'])\n",
    "\n",
    "# w/o base contractility\n",
    "sim2_val = VertexDynamics('./simgnn_data/single_distr_sims/val/', window_size=window_size,\n",
    "                          transform=Tnrm['single_distr_sims']\n",
    "                         )\n",
    "\n",
    "\n",
    "datasets_dict = {'train': sim1,\n",
    "                 'val': sim1_val[:len(sim1_val)//2]+sim1_val[len(sim1_val)//2:-1],\n",
    "                 'val2': sim2_val[:len(sim2_val)//2]+sim1_val[len(sim2_val)//2:-1],\n",
    "                 'H1' : seg001,\n",
    "                 'A': hara_abln,\n",
    "                 'sim1mov': sim1_val,\n",
    "                 'sim2mov': sim2_val\n",
    "                }\n",
    "dataset_legend={'train': 'Train(sim1)',\n",
    "                'val': r'Supervised ($\\mathcal{D}_{sim1}$)',\n",
    "                'val2': r'Sim2sim ($\\mathcal{D}_{sim2})$',\n",
    "                'H1': r'Sim2real ($\\mathcal{H}_1$)',\n",
    "                'A': r'Sim2real ($v_{recoil}$)',\n",
    "                'sim1mov': r'Supervised ($\\mathcal{D}_{sim1}$)',\n",
    "                'sim2mov': r'Sim2sim ($\\mathcal{D}_{sim2})$'\n",
    "               }"
   ]
  },
  {
   "cell_type": "markdown",
   "metadata": {},
   "source": [
    "In `saved_models/thesis/tension_GN_sim2sim_x`:\n",
    "- `GNN3_res_bs2w5_30epochs_net_`: 2-dim-l edge attr `(no norm)`\n",
    "- `GNN3_res_EdgeNorm` : edge attr 3-dims `(2 spatial+norm)`\n",
    "- `GNN3_res_DiffX` : edge attr 17-dims `(2 spatial + 5x2 diff x_vert+ 5 diff_x norms)`\n",
    "- `GNN{k}_res_DiffX_dropout0.2_bs2w5_1000epochs_net_`: GNN(k) with dropout=0.2 trained for 1000 epochs \n",
    "- `GNN{k}_res_DiffX_IgnrShrtEdge_dropout0.2_bs2w5_1000epochs_net_`: GNN(k) with dropout=0.2 trained for 1000 epochs; short edges were ignored during training (threshold `l_k/l_0<1e-3`)"
   ]
  },
  {
   "cell_type": "code",
   "execution_count": 36,
   "metadata": {},
   "outputs": [
    {
     "name": "stdout",
     "output_type": "stream",
     "text": [
      "gnn_n_id: GNN50\n",
      "Loaded :\n",
      "\t GNN50_bs2w5_30epochs_net.pkl\n",
      "train_loss_tot , 1.0001459272573525\n",
      "train_loss_y , 0.002133141853646239\n",
      "train_loss_T , 0.9980127854037063\n",
      "train_loss_P , 0.0\n",
      "val_loss_tot , 0.9524898127698442\n",
      "val_loss_y , 0.0019450096843713644\n",
      "val_loss_T , 0.9505448030854728\n",
      "val_loss_P , 0.0\n",
      "val2_loss_tot , 0.9716436489416501\n",
      "val2_loss_y , 0.0020325982675958145\n",
      "val2_loss_T , 0.9696110506740543\n",
      "val2_loss_P , 0.0\n",
      "H1_loss_tot , 0.0003079240902134955\n",
      "H1_loss_y , 0.0003079240902134955\n",
      "H1_loss_T , 0.0\n",
      "H1_loss_P , 0.0\n",
      "\n"
     ]
    },
    {
     "data": {
      "image/png": "[encoded data removed]",
      "text/plain": [
       "<Figure size 432x216 with 2 Axes>"
      ]
     },
     "metadata": {
      "needs_background": "light"
     },
     "output_type": "display_data"
    },
    {
     "data": {
      "image/png": "[encoded data removed]",
      "text/plain": [
       "<Figure size 432x216 with 2 Axes>"
      ]
     },
     "metadata": {
      "needs_background": "light"
     },
     "output_type": "display_data"
    },
    {
     "data": {
      "image/png": "[encoded data removed]",
      "text/plain": [
       "<Figure size 432x216 with 2 Axes>"
      ]
     },
     "metadata": {
      "needs_background": "light"
     },
     "output_type": "display_data"
    },
    {
     "data": {
      "image/png": "[encoded data removed]",
      "text/plain": [
       "<Figure size 432x216 with 2 Axes>"
      ]
     },
     "metadata": {
      "needs_background": "light"
     },
     "output_type": "display_data"
    },
    {
     "data": {
      "image/png": "[encoded data removed]",
      "text/plain": [
       "<Figure size 216x216 with 1 Axes>"
      ]
     },
     "metadata": {
      "needs_background": "light"
     },
     "output_type": "display_data"
    },
    {
     "data": {
      "image/png": "[encoded data removed]",
      "text/plain": [
       "<Figure size 216x216 with 1 Axes>"
      ]
     },
     "metadata": {
      "needs_background": "light"
     },
     "output_type": "display_data"
    },
    {
     "data": {
      "image/png": "[encoded data removed]",
      "text/plain": [
       "<Figure size 216x216 with 1 Axes>"
      ]
     },
     "metadata": {
      "needs_background": "light"
     },
     "output_type": "display_data"
    },
    {
     "data": {
      "image/png": "[encoded data removed]",
      "text/plain": [
       "<Figure size 360x360 with 1 Axes>"
      ]
     },
     "metadata": {
      "needs_background": "light"
     },
     "output_type": "display_data"
    },
    {
     "name": "stdout",
     "output_type": "stream",
     "text": [
      "- - - - - - - - - - -\n",
      "NO___rosettes : R,p=(nan, nan)\n",
      "WITH_rosettes : R,p=(nan, nan)\n",
      "- - - - - - - - - - -\n"
     ]
    },
    {
     "name": "stderr",
     "output_type": "stream",
     "text": [
      "/mnt/mbi/home/murat/.local/lib/python3.8/site-packages/scipy/stats/stats.py:3913: PearsonRConstantInputWarning: An input array is constant; the correlation coefficent is not defined.\n",
      "  warnings.warn(PearsonRConstantInputWarning())\n"
     ]
    }
   ],
   "source": [
    "# GNN architecture (if dim is `int` latent dims nodes=edges)\n",
    "# -----\n",
    "n_blocks = 50\n",
    "dropout_p = 0 #.1 # dropout for hidden layers & GN blocks (if any)\n",
    "is_residual = False\n",
    "input_dims = OrderedDict([('node', 10), ('edge', 2)])\n",
    "\n",
    "gnn_n = get_simple_gnn(n_blocks=n_blocks, dropout_p=dropout_p, is_residual=is_residual,\n",
    "                       input_dims=input_dims, device=device)\n",
    "\n",
    "gnn_n_id = f'GNN{n_blocks}{\"_res\" if is_residual else \"\"}'  # unique name for the model\n",
    "\n",
    "print('gnn_n_id:', gnn_n_id)\n",
    "\n",
    "save_dir = path.join('simgnn_data/saved_models/thesis','tension_GN_sim2sim')\n",
    "gnn_n_name = gnn_n_id+'_bs2w5_30epochs_net.pkl'\n",
    "\n",
    "# save_dir = path.join('simgnn_data/saved_models/thesis','tension_GN_sim2sim_x')\n",
    "# gnn_n_name = 'GNN3_res_EdgeNorm_bs2w5_30epochs_net_4.pkl'\n",
    "# gnn_n_name = 'GNN3_res_bs2w5_30epochs_net_4.pkl'\n",
    "# gnn_n_name = f'GNN{n_blocks}_res_DiffX_dropout0.2_bs2w5_1000epochs_net_1.pkl'\n",
    "\n",
    "gnn_n_param_dict = torch.load(path.join(save_dir, gnn_n_name), map_location=device)\n",
    "gnn_n.load_state_dict(gnn_n_param_dict)\n",
    "gnn_n.eval();\n",
    "print('Loaded :\\n\\t', gnn_n_name)\n",
    "\n",
    "\n",
    "# compute predictions and plot them\n",
    "# vel-y, tens, pres\n",
    "bs = 2\n",
    "\n",
    "pred_out, tgt_out, sample_losses = predict_batch(gnn_n,\n",
    "                                                 {'train' : DataLoader(datasets_dict['train'], batch_size=bs),\n",
    "                                                  'val':    DataLoader(datasets_dict['val'],  batch_size=bs),\n",
    "                                                  'val2':   DataLoader(datasets_dict['val2'], batch_size=bs),\n",
    "                                                  'H1':   DataLoader(datasets_dict['H1'], batch_size=bs),\n",
    "#                                                   'A':   DataLoader(datasets_dict['A'], batch_size=bs)\n",
    "                                                 },\n",
    "                                                 loss_func=torch.nn.MSELoss(reduction='sum'),\n",
    "                                                 use_force_loss = {'train': True,\n",
    "                                                                   'val': True,\n",
    "                                                                   'val2': True,\n",
    "                                                                   'H1' : False,\n",
    "                                                                   'A':True\n",
    "                                                                  },\n",
    "                                                 return_losses = True, device=device)\n",
    "print(''.join([f'{k} , {sample_losses[k]}\\n' for k in sample_losses]))\n",
    "\n",
    "plot_velocity_predictions(pred_out[0], tgt_out[0], dataset_legend, subplots_kw={'figsize':[6,3]})\n",
    "\n",
    "plot_tension_prediction(pred_out[1], tgt_out[1], dataset_legend, figure_kw={'figsize':[3,3]})\n",
    "\n",
    "# # # # # # # # # # # # # #\n",
    "# # # Hara Ablation # # # #\n",
    "# # # # # # # # # # # # # #\n",
    "Abln_p, Abln_t, is_ros_ = predict_abln_tension(gnn_n, datasets_dict['A'], device=device)\n",
    "\n",
    "m1,m2 = np.polyfit(Abln_t[~is_ros_], Abln_p[~is_ros_], 1)\n",
    "y_fit = np.array([min(Abln_t),max(Abln_t)])*m1+m2\n",
    "\n",
    "plt.figure(figsize=[5,5])\n",
    "ax = plt.gca()\n",
    "ax.plot(Abln_t[~is_ros_], Abln_p[~is_ros_], 'o', mfc='tomato', ms=5, alpha=.5, label='w/o rosettes')\n",
    "ax.plot(Abln_t[is_ros_], Abln_p[is_ros_], 'd', mfc='royalblue', ms=5, alpha=.5, label='rosettes')\n",
    "\n",
    "ax.plot([min(Abln_t),max(Abln_t)], y_fit, 'k--',lw=3, alpha=.5, label=f'$f(x)={m1:.3f}x{\"+\" if m2>0 else \"-\"}{np.abs(m2):.3f}$')\n",
    "ax.set_title('Recoil vs Predicted Tension');\n",
    "ax.set_xlabel('Recoil');\n",
    "ax.set_ylabel('Tension(pred)');\n",
    "ax.legend();\n",
    "ax.axis('square')\n",
    "\n",
    "plt.show()\n",
    "print('- '*10+'-')\n",
    "print(f'NO___rosettes : R,p={pearsonr(Abln_t[~is_ros_], Abln_p[~is_ros_])}')\n",
    "print(f'WITH_rosettes : R,p={pearsonr(Abln_t, Abln_p)}')\n",
    "print('- '*10+'-')"
   ]
  },
  {
   "cell_type": "code",
   "execution_count": 220,
   "metadata": {},
   "outputs": [],
   "source": [
    "# gnn_n_train_log = load_log(path.join(save_dir, gnn_n_id+'_bs2w5_1000epochs_train_log.pkl'))\n",
    "\n",
    "# print(gnn_n_train_log['model'])\n",
    "\n",
    "# # plot losses\n",
    "# plot_losses(gnn_n_train_log, {'train':[],'val':[]}, dataset_legend)"
   ]
  },
  {
   "cell_type": "code",
   "execution_count": 221,
   "metadata": {},
   "outputs": [],
   "source": [
    "# recoils = np.array([d.edge_recoils.numpy()[~np.isnan(d.edge_recoils.numpy())].item()\n",
    "#                     for d in datasets_dict['A']])\n",
    "\n",
    "# outlier_mask = np.logical_or(np.logical_and(recoils>1, Abln_p<-.9 ),\n",
    "#                              np.logical_and(recoils<.45, Abln_p>.42 ))\n",
    "\n",
    "# t=[]\n",
    "# for k,fname_k  in enumerate(datasets_dict['A'].processed_file_names):\n",
    "#     if outlier_mask[k]:\n",
    "#         t.append(k)\n",
    "#         print(f'({k:3}) {fname_k:35} [{recoils[k]:4.3f}]')\n",
    "\n",
    "# # recoils[outlier_mask]"
   ]
  },
  {
   "cell_type": "code",
   "execution_count": 222,
   "metadata": {},
   "outputs": [],
   "source": [
    "# # t=[26, 39, 16]\n",
    "# plt.plot(recoils, Abln_p, 'rv')\n",
    "# plt.plot(recoils[t], Abln_p[t], 'yo', ms=15, alpha=.25)\n",
    "# plt.plot(recoils[outlier_mask], Abln_p[outlier_mask], 'bo')\n",
    "# plt.plot(recoils[is_ros_], Abln_p[is_ros_], 'go')\n",
    "\n",
    "# m1,m2 = np.polyfit(recoils[~np.logical_or(is_ros_, outlier_mask)], Abln_p[~np.logical_or(is_ros_, outlier_mask)], 1)\n",
    "# y_fit = np.array([min(recoils),max(recoils)])*m1+m2\n",
    "# plt.plot([min(recoils),max(recoils)], y_fit, 'r--', label=f'y={m1:.2f}x+({m2:.2f})')\n",
    "\n",
    "# m1,m2 = np.polyfit(recoils, Abln_p, 1)\n",
    "# y_fit = np.array([min(recoils),max(recoils)])*m1+m2\n",
    "# plt.plot([min(recoils),max(recoils)], y_fit, 'b', label=f'y={m1:.2f}x+({m2:.2f})')\n",
    "\n",
    "# plt.legend()\n",
    "# # plt.axis('equal')\n",
    "# plt.show()"
   ]
  },
  {
   "cell_type": "code",
   "execution_count": 223,
   "metadata": {},
   "outputs": [],
   "source": [
    "# y_gt, y_pred = Abln_t[~np.logical_or(is_ros_, outlier_mask)], Abln_p[~np.logical_or(is_ros_, outlier_mask)]\n",
    "# # y_gt, y_pred = Abln_t[~is_ros_], Abln_p[~is_ros_]\n",
    "# # y_gt, y_pred = Abln_t, Abln_p\n",
    "\n",
    "\n",
    "# y_pred_scaled = (y_pred- y_pred.mean())/y_pred.std()\n",
    "\n",
    "# fig,axs = plt.subplots(nrows=1,ncols=2,figsize=[10,3])\n",
    "# axs = axs.ravel()\n",
    "# axs[0].plot([y_gt[~np.isnan(y_gt)].min(),y_gt[~np.isnan(y_gt)].max()],\n",
    "#             [y_gt[~np.isnan(y_gt)].min(),y_gt[~np.isnan(y_gt)].max()],'--',c='orange',lw=3)\n",
    "# axs[0].plot(y_gt[~np.isnan(y_gt)], y_pred_scaled, 'o',ms=5,c='teal')\n",
    "# axs[0].set_aspect('equal')\n",
    "# axs[0].set_xlabel('Target/Ground truth')\n",
    "# axs[0].set_ylabel('Predicted')\n",
    "\n",
    "# axs[1].hist(y_gt,alpha=.6, color='darkorange', label='Ground truth');\n",
    "# axs[1].hist(y_pred_scaled,alpha=.8,color='teal',label='Predicted')\n",
    "# axs[1].set_xlabel('Recoil (normalised)')\n",
    "# axs[1].set_ylabel('Count')\n",
    "# axs[1].legend();\n",
    "\n",
    "# from scipy.stats import pearsonr\n",
    "# print(f'R,p={pearsonr(y_gt[~np.isnan(y_gt)], y_pred)}')"
   ]
  },
  {
   "cell_type": "markdown",
   "metadata": {
    "tags": []
   },
   "source": [
    "### Simulation Datasets as Movies"
   ]
  },
  {
   "cell_type": "code",
   "execution_count": 31,
   "metadata": {},
   "outputs": [
    {
     "name": "stdout",
     "output_type": "stream",
     "text": [
      "sim1mov\n",
      "sim2mov\n"
     ]
    },
    {
     "data": {
      "text/plain": [
       "{'sim1mov': {'sim005': VertexDynamics(56), 'sim006': VertexDynamics(56)},\n",
       " 'sim2mov': {'sim005': VertexDynamics(56), 'sim006': VertexDynamics(56)}}"
      ]
     },
     "execution_count": 31,
     "metadata": {},
     "output_type": "execute_result"
    }
   ],
   "source": [
    "dataset_mov_names = {}\n",
    "dataset_mov_idx = {}\n",
    "dataset_mov = {}\n",
    "\n",
    "for dataset_k in ['sim1mov', 'sim2mov']:\n",
    "    print(dataset_k)\n",
    "\n",
    "    d_names_list = [k.split('_')[2] for k in datasets_dict[dataset_k].processed_file_names]\n",
    "    \n",
    "    dataset_mov_names[dataset_k] = {k : ki for ki, k in enumerate(np.unique(d_names_list))}\n",
    "    \n",
    "    dataset_mov_idx[dataset_k] = torch.tensor([dataset_mov_names[dataset_k][k] for k in d_names_list])\n",
    "    \n",
    "    dataset_mov[dataset_k] = {k:datasets_dict[dataset_k][dataset_mov_names[dataset_k][k]==dataset_mov_idx[dataset_k]]\n",
    "                              for k in dataset_mov_names[dataset_k]}\n",
    "dataset_mov"
   ]
  },
  {
   "cell_type": "markdown",
   "metadata": {},
   "source": [
    "### Model Predictions for Movies\n",
    "> Predict `(Velocity[T+1], Tension[T])` for movies"
   ]
  },
  {
   "cell_type": "code",
   "execution_count": 32,
   "metadata": {},
   "outputs": [],
   "source": [
    "from simgnn.train import np_loss_wrt_time, predict_abln_tension, predict_dataset_tension, predict_dataset\n",
    "\n",
    "from scipy.stats import pearsonr"
   ]
  },
  {
   "cell_type": "code",
   "execution_count": 33,
   "metadata": {},
   "outputs": [],
   "source": [
    "velocity_scale = {'train':l_0['sim'], 'val':l_0['sim'], 'val2':l_0['sim'],\n",
    "                  'sim1mov': l_0['sim'], 'sim2mov': l_0['sim'],\n",
    "                  'H1':l_0['hara'], 'A':l_0['abln'],\n",
    "                 }"
   ]
  },
  {
   "cell_type": "code",
   "execution_count": 34,
   "metadata": {},
   "outputs": [],
   "source": [
    "ignore_short_edges, edge_len_threshold = True, 10**-3"
   ]
  },
  {
   "cell_type": "code",
   "execution_count": 35,
   "metadata": {},
   "outputs": [
    {
     "name": "stdout",
     "output_type": "stream",
     "text": [
      "----------\n",
      "sim1mov\n",
      "\t sim005 : len=56; E_n=339; V_n=240; C_n=100;\n",
      "Losses: Vel-y=0.0009; E_len=0.0013; Tension=0.4126;Tension(mask)=0.3435\n",
      "\t sim006 : len=56; E_n=275; V_n=196; C_n=80;\n",
      "Losses: Vel-y=0.0011; E_len=0.0016; Tension=0.4546;Tension(mask)=0.3698\n",
      "----------\n",
      "sim2mov\n",
      "\t sim005 : len=56; E_n=431; V_n=304; C_n=128;\n",
      "Losses: Vel-y=0.0014; E_len=0.0022; Tension=0.5504;Tension(mask)=0.3445\n",
      "\t sim006 : len=56; E_n=531; V_n=372; C_n=160;\n",
      "Losses: Vel-y=0.0012; E_len=0.0020; Tension=0.5114;Tension(mask)=0.3492\n"
     ]
    }
   ],
   "source": [
    "model_results = {}\n",
    "loss_type = 'mse'\n",
    "\n",
    "for dataset_k in dataset_mov:\n",
    "    print('-'*10+'\\n'+dataset_k)\n",
    "    model_results[dataset_k] = {}\n",
    "    for mov_k in dataset_mov[dataset_k]:\n",
    "        e_num = 0\n",
    "        if dataset_mov[dataset_k][mov_k][0].edge_tensions!=None:\n",
    "            e_num = dataset_mov[dataset_k][mov_k][0].edge_tensions.size(0)\n",
    "        \n",
    "        print('\\t',mov_k,f': len={len(dataset_mov[dataset_k][mov_k])};',\n",
    "              f'E_n={e_num};',\n",
    "              f'V_n={dataset_mov[dataset_k][mov_k][0].num_nodes};',\n",
    "              f'C_n={dataset_mov[dataset_k][mov_k][0].num_cells};')\n",
    "\n",
    "        model_results[dataset_k][mov_k] = predict_dataset(gnn_n, dataset_mov[dataset_k][mov_k],device=device, concat=True)\n",
    "        \n",
    "        edge_index = dataset_mov[dataset_k][mov_k][0].edge_index[:,torch.unique(dataset_mov[dataset_k][mov_k][0].edge_id)]\n",
    "        model_results[dataset_k][mov_k]['edge_index'] = edge_index\n",
    "        \n",
    "        pos = np.concatenate([d.pos.reshape(1,-1,2) for d in dataset_mov[dataset_k][mov_k]],axis=0)\n",
    "        model_results[dataset_k][mov_k]['targets']['pos'] = pos\n",
    "        \n",
    "        edge_lengths = np.linalg.norm(pos[:, edge_index[1],:] - pos[:, edge_index[0],:], axis=-1)\n",
    "        model_results[dataset_k][mov_k]['targets']['edge_lengths'] = edge_lengths\n",
    "        \n",
    "        dx_unnorm = velocity_scale[dataset_k]*model_results[dataset_k][mov_k]['predictions']['velocity']\n",
    "        # pos predictions w/ velocity (except for first pos)\n",
    "        pos_preds = np.concatenate([pos[:1],(pos+dx_unnorm)[:-1]], axis=0)\n",
    "        model_results[dataset_k][mov_k]['predictions']['pos'] = pos_preds\n",
    "\n",
    "        model_results[dataset_k][mov_k]['predictions']['edge_lengths'] = np.linalg.norm(pos_preds[:, edge_index[1],:] - pos_preds[:, edge_index[0],:], axis=-1)\n",
    "        if ignore_short_edges:\n",
    "            edge_mask = np.all(np.concatenate([dk.edge_length.numpy().reshape(1,-1)\n",
    "                                               for dk in dataset_mov[dataset_k][mov_k]], axis=0) > edge_len_threshold, axis=0)\n",
    "            model_results[dataset_k][mov_k]['predictions']['edge_masks'] = edge_mask\n",
    "        else:\n",
    "            model_results[dataset_k][mov_k]['predictions']['edge_masks'] = None\n",
    "        \n",
    "        model_results[dataset_k][mov_k]['loss'] = {}\n",
    "        if len(model_results[dataset_k][mov_k]['targets']['velocity'])>0:\n",
    "            model_results[dataset_k][mov_k]['loss']['velocity'] = np_loss_wrt_time(\n",
    "                model_results[dataset_k][mov_k]['predictions']['velocity'],\n",
    "                model_results[dataset_k][mov_k]['targets']['velocity'])\n",
    "        else:\n",
    "            model_results[dataset_k][mov_k]['loss']['velocity'] = np.array([np.nan])\n",
    "        \n",
    "        if len(model_results[dataset_k][mov_k]['targets']['tension'])>0:\n",
    "            model_results[dataset_k][mov_k]['loss']['tension'] = np_loss_wrt_time(\n",
    "                model_results[dataset_k][mov_k]['predictions']['tension'],\n",
    "                model_results[dataset_k][mov_k]['targets']['tension'])\n",
    "        else:\n",
    "            model_results[dataset_k][mov_k]['loss']['tension'] = np.array([np.nan])\n",
    "        \n",
    "        if ignore_short_edges:\n",
    "            model_results[dataset_k][mov_k]['loss']['tension_mask'] = model_results[dataset_k][mov_k]['loss']['tension'].copy()\n",
    "            if len(edge_mask)==len(model_results[dataset_k][mov_k]['loss']['tension_mask']):\n",
    "                model_results[dataset_k][mov_k]['loss']['tension_mask'][~edge_mask] = np.nan\n",
    "            else:\n",
    "                model_results[dataset_k][mov_k]['loss']['tension_mask'] = np.array([np.nan])\n",
    "        else:\n",
    "            model_results[dataset_k][mov_k]['loss']['tension_mask'] = None\n",
    "        model_results[dataset_k][mov_k]['loss']['edge_lengths'] = np_loss_wrt_time(model_results[dataset_k][mov_k]['predictions']['edge_lengths'],\n",
    "                                                                                   model_results[dataset_k][mov_k]['targets']['edge_lengths'])\n",
    "        print(f\"Losses: Vel-y={model_results[dataset_k][mov_k]['loss']['velocity'].mean():6.4f}; \"+\n",
    "              f\"E_len={model_results[dataset_k][mov_k]['loss']['edge_lengths'].mean():6.4f}; \"+\n",
    "              f\"Tension={model_results[dataset_k][mov_k]['loss']['tension'].mean():6.4f};\"+\n",
    "             f\"Tension(mask)={np.nanmean(model_results[dataset_k][mov_k]['loss']['tension_mask']) if ignore_short_edges else 0.0:6.4f}\")"
   ]
  },
  {
   "cell_type": "markdown",
   "metadata": {},
   "source": [
    "```\n",
    "GNN_1\n",
    "----------\n",
    "sim1mov\n",
    "\t sim005 : len=56; E_n=339; V_n=240; C_n=100;\n",
    "Losses: Vel-y=0.0008; E_len=0.0012; Tension=0.4078;Tension(mask)=0.3510\n",
    "\t sim006 : len=56; E_n=275; V_n=196; C_n=80;\n",
    "Losses: Vel-y=0.0010; E_len=0.0015; Tension=0.4332;Tension(mask)=0.3734\n",
    "----------\n",
    "sim2mov\n",
    "\t sim005 : len=56; E_n=431; V_n=304; C_n=128;\n",
    "Losses: Vel-y=0.0013; E_len=0.0021; Tension=0.5389;Tension(mask)=0.3368\n",
    "\t sim006 : len=56; E_n=531; V_n=372; C_n=160;\n",
    "Losses: Vel-y=0.0011; E_len=0.0018; Tension=0.5039;Tension(mask)=0.3381\n",
    "----------\n",
    "\n",
    "GNN_3\n",
    "----------\n",
    "sim1mov\n",
    "\t sim005 : len=56; E_n=339; V_n=240; C_n=100;\n",
    "Losses: Vel-y=0.0009; E_len=0.0013; Tension=0.4201;Tension(mask)=0.3550\n",
    "\t sim006 : len=56; E_n=275; V_n=196; C_n=80;\n",
    "Losses: Vel-y=0.0011; E_len=0.0016; Tension=0.4497;Tension(mask)=0.3790\n",
    "----------\n",
    "sim2mov\n",
    "\t sim005 : len=56; E_n=431; V_n=304; C_n=128;\n",
    "Losses: Vel-y=0.0014; E_len=0.0023; Tension=0.5496;Tension(mask)=0.3260\n",
    "\t sim006 : len=56; E_n=531; V_n=372; C_n=160;\n",
    "Losses: Vel-y=0.0012; E_len=0.0020; Tension=0.4967;Tension(mask)=0.3277\n",
    "-----------\n",
    "\n",
    "GNN_5\n",
    "----------\n",
    "sim1mov\n",
    "\t sim005 : len=56; E_n=339; V_n=240; C_n=100;\n",
    "Losses: Vel-y=0.0009; E_len=0.0013; Tension=0.4213;Tension(mask)=0.3538\n",
    "\t sim006 : len=56; E_n=275; V_n=196; C_n=80;\n",
    "Losses: Vel-y=0.0011; E_len=0.0016; Tension=0.4505;Tension(mask)=0.3741\n",
    "----------\n",
    "sim2mov\n",
    "\t sim005 : len=56; E_n=431; V_n=304; C_n=128;\n",
    "Losses: Vel-y=0.0014; E_len=0.0023; Tension=0.5056;Tension(mask)=0.2953\n",
    "\t sim006 : len=56; E_n=531; V_n=372; C_n=160;\n",
    "Losses: Vel-y=0.0012; E_len=0.0019; Tension=0.4538;Tension(mask)=0.2926\n",
    "----------\n",
    "\n",
    "GNN_10\n",
    "----------\n",
    "sim1mov\n",
    "\t sim005 : len=56; E_n=339; V_n=240; C_n=100;\n",
    "Losses: Vel-y=0.0010; E_len=0.0014; Tension=0.4306;Tension(mask)=0.3557\n",
    "\t sim006 : len=56; E_n=275; V_n=196; C_n=80;\n",
    "Losses: Vel-y=0.0011; E_len=0.0016; Tension=0.4334;Tension(mask)=0.3670\n",
    "----------\n",
    "sim2mov\n",
    "\t sim005 : len=56; E_n=431; V_n=304; C_n=128;\n",
    "Losses: Vel-y=0.0014; E_len=0.0023; Tension=0.5380;Tension(mask)=0.3405\n",
    "\t sim006 : len=56; E_n=531; V_n=372; C_n=160;\n",
    "Losses: Vel-y=0.0012; E_len=0.0020; Tension=0.5076;Tension(mask)=0.3334\n",
    "```\n"
   ]
  },
  {
   "cell_type": "markdown",
   "metadata": {},
   "source": [
    "### Predicted Dynamics"
   ]
  },
  {
   "cell_type": "code",
   "execution_count": 229,
   "metadata": {},
   "outputs": [],
   "source": [
    "# ['train', 'val', 'val2']['movie_1',...,'movie_N']['predictions', 'targets', 'edge_index']"
   ]
  },
  {
   "cell_type": "code",
   "execution_count": null,
   "metadata": {},
   "outputs": [],
   "source": [
    "dataset_names = ['sim1mov', 'sim2mov'] # list(model_results.keys())\n",
    "\n",
    "fig, axs = plt.subplots(nrows=len(dataset_names), ncols=3, figsize=[25,1+2.5*len(dataset_names)], sharex='col')\n",
    "\n",
    "dataset_var_minmax = {}\n",
    "\n",
    "for dataset_k, ax_k in zip(dataset_names, axs): #zip(, axs):\n",
    "    dataset_var_minmax[dataset_k] = {}\n",
    "    for k, var_k in enumerate(['velocity', 'edge_lengths', 'tension']):\n",
    "        dataset_var_minmax[dataset_k][var_k] = np.array([[np.quantile(model_results[dataset_k][mov_k]['targets'][var_k], 0.01),\n",
    "                                                          np.quantile(model_results[dataset_k][mov_k]['targets'][var_k], 0.995)]\n",
    "                                                         for mov_k in model_results[dataset_k]])\n",
    "        dataset_var_minmax[dataset_k][var_k] = [dataset_var_minmax[dataset_k][var_k][:,0].min(), dataset_var_minmax[dataset_k][var_k][:,1].max()]\n",
    "\n",
    "        ax_k[k].hist([model_results[dataset_k][mov_k]['loss'][var_k] for mov_k in model_results[dataset_k]],\n",
    "                     label=[mov_k for mov_k in model_results[dataset_k]], alpha=.5, density=True, stacked=False)\n",
    "        ax_k[k].legend()\n",
    "        if dataset_k==dataset_names[0]:\n",
    "            ax_k[k].set_title(f'{var_k}')\n",
    "    ax_k[0].set_ylabel(f'{dataset_k}')\n",
    "plt.suptitle('Losses')\n",
    "plt.show()\n",
    "\n",
    "var_limits = {k:np.array([dataset_var_minmax[k_up][k] for k_up in dataset_var_minmax]) for k in ['velocity', 'edge_lengths', 'tension']}\n",
    "var_limits = {var_k:[var_limits[var_k][:,0].min(), var_limits[var_k][:,1].max()] for var_k in var_limits}"
   ]
  },
  {
   "cell_type": "code",
   "execution_count": 37,
   "metadata": {},
   "outputs": [
    {
     "data": {
      "text/plain": [
       "{'velocity': [-0.12831154346466064, 0.15395249962806698],\n",
       " 'edge_lengths': [0.0004144500286201947, 3.003029745817185],\n",
       " 'tension': [-1.4892891240119934, 3.707299780845643]}"
      ]
     },
     "execution_count": 37,
     "metadata": {},
     "output_type": "execute_result"
    }
   ],
   "source": [
    "var_limits"
   ]
  },
  {
   "cell_type": "code",
   "execution_count": 38,
   "metadata": {},
   "outputs": [],
   "source": [
    "# fig, axs = plt.subplots(nrows=len(model_results), ncols=3, figsize=[15,10])\n",
    "# for dataset_k, ax_k in zip(model_results, axs):\n",
    "#     for mov_n in model_results[dataset_k]:\n",
    "#         ax_k[0].plot(model_results[dataset_k][mov_n]['targets']['velocity'][:,:,0].ravel(),\n",
    "#                      model_results[dataset_k][mov_n]['predictions']['velocity'][:,:,0].ravel(), 'o',\n",
    "#                      # label=mov_n,\n",
    "#                      c='tomato',\n",
    "#                      ms=3, alpha=.5)\n",
    "#         ax_k[0].set_ylabel('True')\n",
    "#         ax_k[0].set_xlabel('Predicted')\n",
    "#         ax_k[0].set_title(f'{dataset_k}: '+r'$\\Delta{}x_0$')\n",
    "#         ax_k[0].plot(var_limits['velocity'], var_limits['velocity'], '--', color='b', lw=3, alpha=.25)\n",
    "#         ax_k[0].axis([-.1,.1,-.1,.1])\n",
    "#         ax_k[0].set_aspect('equal')\n",
    "        \n",
    "#         ax_k[1].plot(model_results[dataset_k][mov_n]['targets']['velocity'][:,:,1].ravel(),\n",
    "#                      model_results[dataset_k][mov_n]['predictions']['velocity'][:,:,1].ravel(), 'o',\n",
    "#                      # label=mov_n,\n",
    "#                      c='tomato',\n",
    "#                      ms=3, alpha=.5)\n",
    "#         ax_k[1].set_ylabel('True')\n",
    "#         ax_k[1].set_xlabel('Predicted')\n",
    "#         ax_k[1].set_title(f'{dataset_k}: '+r'$\\Delta{}x_1$')\n",
    "#         ax_k[1].sharex(ax_k[0])\n",
    "#         ax_k[1].sharey(ax_k[0])\n",
    "#         ax_k[1].plot(var_limits['velocity'], var_limits['velocity'], '--', color='b', lw=3, alpha=.25)\n",
    "        \n",
    "#         if len(model_results[dataset_k][mov_n]['targets']['tension'])>0:\n",
    "#             ax_k[2].plot(model_results[dataset_k][mov_n]['targets']['tension'].ravel(),\n",
    "#                          model_results[dataset_k][mov_n]['predictions']['tension'].ravel(), 'd',\n",
    "#                          # label=mov_n,\n",
    "#                          c='b',\n",
    "#                          ms=5, alpha=.15)\n",
    "            \n",
    "#             edge_masks = model_results[dataset_k][mov_n]['predictions']['edge_masks']\n",
    "\n",
    "#             ax_k[2].plot(model_results[dataset_k][mov_n]['targets']['tension'][:,edge_masks].ravel(),\n",
    "#                          model_results[dataset_k][mov_n]['predictions']['tension'][:,edge_masks].ravel(), 'o',\n",
    "#                          # label=mov_n,\n",
    "#                          c='darkorange',\n",
    "#                          ms=5, alpha=.3)\n",
    "            \n",
    "#         ax_k[2].set_ylabel('True')\n",
    "#         ax_k[2].set_xlabel('Predicted')\n",
    "#         ax_k[2].set_title(f'{dataset_k}: tension')\n",
    "#         ax_k[2].plot(var_limits['tension'], var_limits['tension'], '--', color='teal', lw=3, alpha=.5)\n",
    "#         ax_k[2].set_aspect('equal')\n",
    "        \n",
    "#     # ax_k[0].legend()\n",
    "#     # ax_k[1].legend()\n",
    "#     # ax_k[2].legend()"
   ]
  },
  {
   "cell_type": "markdown",
   "metadata": {},
   "source": [
    "**Select edges based on trajectopry errors:**"
   ]
  },
  {
   "cell_type": "code",
   "execution_count": 39,
   "metadata": {},
   "outputs": [
    {
     "name": "stdout",
     "output_type": "stream",
     "text": [
      "sim1mov :\n",
      "   sim005 : [ 19  28  29  80  91 121 138 208 228 237 325]\n",
      "   sim006 : [  1  19  25  47 115 145 154 184 215]\n",
      "sim2mov :\n",
      "   sim005 : [ 29  35  53  67  73  76  87  91  92 105 139 167 170 195 196 198 199 201\n",
      " 261 276 279 280 283 306 321 332 352 354 365 370 371 419 425 428 430]\n",
      "   sim006 : [ 13  14  21  35  55  67 124 132 159 177 187 190 207 221 242 289 295 296\n",
      " 307 343 370 376 380 384 386 433 440 445 449 483 489]\n"
     ]
    }
   ],
   "source": [
    "MIN_TENSION_ERROR = 1.4\n",
    "# edge ids for selected loss thresholds\n",
    "tension_errors_model = {dataname_k:{} for dataname_k in ['sim1mov', 'sim2mov']}\n",
    "for dataname_k in ['sim1mov', 'sim2mov']:\n",
    "    print(dataname_k, ':')\n",
    "    for mov_k in model_results[dataname_k]:\n",
    "        tension_errors_model[dataname_k][mov_k] = (model_results[dataname_k][mov_k]['loss']['tension']>MIN_TENSION_ERROR).nonzero()[0]\n",
    "        print('  ',mov_k, ':', tension_errors_model[dataname_k][mov_k])"
   ]
  },
  {
   "cell_type": "code",
   "execution_count": 40,
   "metadata": {},
   "outputs": [],
   "source": [
    "# tension_errors = tension_errors_model"
   ]
  },
  {
   "cell_type": "code",
   "execution_count": 41,
   "metadata": {},
   "outputs": [],
   "source": [
    "# edge ids for selected loss >2 for model:\"07122021_202217_model_04122021_bs2w5\"\n",
    "tension_errors = {'sim1mov': {'sim005': [19, 65, 91, 121, 214, 237, 325],\n",
    "                          'sim006': [4, 17, 25, 47, 99, 115, 137, 145, 215, 256]},\n",
    "                  'sim2mov':{'sim005': [53, 73, 87, 92, 97, 105, 133, 139, 196, 199, 261, 280, 344, 352, 371, 404, 419, 425],\n",
    "                          'sim006': [21, 55, 67, 89, 159, 190, 207, 221, 242, 289, 295, 343, 370, 380, 384, 445, 483]}\n",
    "                 }"
   ]
  },
  {
   "cell_type": "code",
   "execution_count": null,
   "metadata": {},
   "outputs": [],
   "source": [
    "np.random.seed(0)\n",
    "for dataname_k in tension_errors:\n",
    "    for mov_k in tension_errors[dataname_k]:\n",
    "        print('-'*10+'\\n',f'{dataname_k}:{mov_k}\\n')\n",
    "        N_plots = min([3*(len(tension_errors[dataname_k][mov_k])//3), 15])\n",
    "        \n",
    "        e_ids = np.sort(np.random.choice(tension_errors[dataname_k][mov_k], size=(N_plots,), replace=False))\n",
    "        \n",
    "        fig, axs = plt.subplots(nrows=N_plots//3, ncols=3, figsize=[20, 6*(N_plots//3)+1], gridspec_kw={'wspace':.5, 'hspace':.5})\n",
    "\n",
    "        for k, ax in zip(e_ids, axs.ravel()):\n",
    "            # Edge tensions\n",
    "            Te_tgt = model_results[dataname_k][mov_k]['targets']['tension'][:,k]\n",
    "            Te_pred = model_results[dataname_k][mov_k]['predictions']['tension'][:,k]\n",
    "            Te_loss = model_results[dataname_k][mov_k]['loss']['tension'][k] # Tension pred-n loss\n",
    "            # Edge lengths\n",
    "            Le_tgt = model_results[dataname_k][mov_k]['targets']['edge_lengths'][:,k]\n",
    "            Le_pred = model_results[dataname_k][mov_k]['predictions']['edge_lengths'][:,k]\n",
    "            \n",
    "            p1, = ax.plot(Te_tgt, '--', c='royalblue', alpha=0.7, lw=3, label=r'$T_{tgt}$')\n",
    "            ax.plot(Te_pred, c='teal', alpha=0.4, lw=3, label=r'$T_{pred}$')\n",
    "            \n",
    "            ax2 = ax.twinx()\n",
    "            p2, = ax2.plot(Le_tgt, c='crimson', alpha=0.7, lw=3, label=r'$L_{tgt}$')\n",
    "            ax2.plot(Le_pred, c='darkorange', alpha=0.7, lw=3, label=r'$L_{pred}$')\n",
    "            \n",
    "            ax.set_xlabel(f'Frames (edge {k})', fontsize=12)\n",
    "            ax.set_title(f'MSE_t={Te_loss:.3f}', fontsize=12)\n",
    "            ax.set_ylabel(r'Tension', color=p1.get_color())\n",
    "            ax.tick_params(axis='y', labelcolor=p1.get_color())\n",
    "            ax.set_ylim(var_limits['tension'][0], var_limits['tension'][1])\n",
    "            \n",
    "            ax2.set_ylabel(r'Edge Length', color=p2.get_color())\n",
    "            ax2.tick_params(axis='y', labelcolor=p2.get_color())\n",
    "            ax2.set_ylim(var_limits['edge_lengths'][0], var_limits['edge_lengths'][1])\n",
    "            \n",
    "            ax2.legend(loc='upper right')\n",
    "            ax.legend(loc='upper left')\n",
    "        plt.suptitle(f'{dataname_k}:{mov_k}', fontsize=15, y=0.93)\n",
    "        # plt.savefig(f'./{dataname_k}_{mov_k}_tension_dynamics_prediction_LOW_error.png',dpi=100, bbox_inches=\"tight\")\n",
    "        plt.show()\n",
    "        plt.close()"
   ]
  },
  {
   "cell_type": "code",
   "execution_count": null,
   "metadata": {},
   "outputs": [],
   "source": []
  }
 ],
 "metadata": {
  "hide_input": false,
  "kernelspec": {
   "display_name": "Python 3",
   "language": "python",
   "name": "python3"
  },
  "language_info": {
   "codemirror_mode": {
    "name": "ipython",
    "version": 3
   },
   "file_extension": ".py",
   "mimetype": "text/x-python",
   "name": "python",
   "nbconvert_exporter": "python",
   "pygments_lexer": "ipython3",
   "version": "3.8.5"
  },
  "toc": {
   "base_numbering": 1,
   "nav_menu": {},
   "number_sections": true,
   "sideBar": true,
   "skip_h1_title": true,
   "title_cell": "Table of Contents",
   "title_sidebar": "Contents",
   "toc_cell": false,
   "toc_position": {
    "height": "calc(100% - 180px)",
    "left": "10px",
    "top": "150px",
    "width": "211.796875px"
   },
   "toc_section_display": true,
   "toc_window_display": false
  }
 },
 "nbformat": 4,
 "nbformat_minor": 4
}
