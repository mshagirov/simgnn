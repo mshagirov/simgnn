{
 "cells": [
  {
   "cell_type": "markdown",
   "metadata": {},
   "source": [
    "# Graph Neural Network\n",
    "---\n",
    "> Design and ideas about GNNs for vertex dynamics sim-n"
   ]
  },
  {
   "cell_type": "code",
   "execution_count": 1,
   "metadata": {},
   "outputs": [],
   "source": [
    "%load_ext autoreload\n",
    "%autoreload 2"
   ]
  },
  {
   "cell_type": "code",
   "execution_count": 2,
   "metadata": {},
   "outputs": [],
   "source": [
    "import numpy as np\n",
    "import torch\n",
    "from os import path\n",
    "\n",
    "from torch_geometric.data import Data, DataLoader\n",
    "from simgnn.datasets import VertexDynamics, CellData\n",
    "import torch_geometric.transforms as T\n",
    "\n",
    "from torch_geometric.utils import to_networkx, from_networkx\n",
    "import networkx as nx\n",
    "from simgnn.datautils import load_array, load_graph\n",
    "\n",
    "import matplotlib.pyplot as plt\n",
    "import matplotlib\n",
    "plt.style.use('ggplot')\n",
    "%matplotlib inline\n",
    "matplotlib.rcParams['figure.figsize'] = (10,10) # use larger for presentation\n",
    "matplotlib.rcParams['font.size']= 14 # use 14 for presentation"
   ]
  },
  {
   "cell_type": "code",
   "execution_count": 3,
   "metadata": {},
   "outputs": [
    {
     "name": "stdout",
     "output_type": "stream",
     "text": [
      "Defaults:\n",
      " |-device: cuda\n",
      " |-dtype : torch.float32\n"
     ]
    }
   ],
   "source": [
    "device = torch.device('cpu')\n",
    "if torch.cuda.is_available():\n",
    "    device = torch.device('cuda')\n",
    "dtype = torch.float32\n",
    "print(f'Defaults:\\n |-device: {device}\\n |-dtype : {dtype}')"
   ]
  },
  {
   "cell_type": "code",
   "execution_count": 5,
   "metadata": {},
   "outputs": [
    {
     "data": {
      "text/plain": [
       "VertexDynamics(95)"
      ]
     },
     "execution_count": 5,
     "metadata": {},
     "output_type": "execute_result"
    }
   ],
   "source": [
    "# training dataset\n",
    "vtxdata = VertexDynamics('../../../dataDIR/simgnn_data/train/')\n",
    "vtxdata"
   ]
  },
  {
   "cell_type": "code",
   "execution_count": 6,
   "metadata": {},
   "outputs": [],
   "source": [
    "# loader = DataLoader([vtxdata[0], vtxdata[25]], batch_size=2)\n",
    "# batch = next(iter(loader))\n",
    "# print(batch)\n",
    "# nx.draw(to_networkx(batch, to_undirected=True),pos=dict(enumerate(batch.pos.numpy())), node_size=60)"
   ]
  },
  {
   "cell_type": "markdown",
   "metadata": {},
   "source": [
    "Message Passing class:\n",
    "- The user only has to define the functions 𝜙, i.e. `message()` 💌, and 𝛾 , i.e. `update()` 🔃, as well as the aggregation scheme {**∑**📩} to use, i.e. `aggr=\"add\"`, `aggr=\"mean\"` or `aggr=\"max\"`.\n",
    "- a nice example for composite graph layer –\"meta layer\" consisting of \"edge\", \"node\" and \"global\" layers [link](https://pytorch-geometric.readthedocs.io/en/latest/modules/nn.html#torch_geometric.nn.meta.MetaLayer)"
   ]
  },
  {
   "cell_type": "markdown",
   "metadata": {},
   "source": [
    "👷**To-Do** 🚧<br>\n",
    "*Need to change edge,Node, global classes (below)*:\n",
    "need classes `node`, `edge`, and `cell` , instead of global should process cell-wise features."
   ]
  },
  {
   "cell_type": "code",
   "execution_count": null,
   "metadata": {},
   "outputs": [],
   "source": [
    "from torch.nn import Sequential as Seq, Linear as Lin, ReLU\n",
    "from torch_scatter import scatter_mean\n",
    "from torch_geometric.nn import MetaLayer\n",
    "\n",
    "class EdgeModel(torch.nn.Module):\n",
    "    def __init__(self):\n",
    "        super(EdgeModel, self).__init__()\n",
    "        self.edge_mlp = Seq(Lin(..., ...), ReLU(), Lin(..., ...))\n",
    "\n",
    "    def forward(self, src, dest, edge_attr, u, batch):\n",
    "        # source, target: [E, F_x], where E is the number of edges.\n",
    "        # edge_attr: [E, F_e]\n",
    "        # u: [B, F_u], where B is the number of graphs.\n",
    "        # batch: [E] with max entry B - 1.\n",
    "        out = torch.cat([src, dest, edge_attr, u[batch]], 1)\n",
    "        return self.edge_mlp(out)\n",
    "\n",
    "class NodeModel(torch.nn.Module):\n",
    "    def __init__(self):\n",
    "        super(NodeModel, self).__init__()\n",
    "        self.node_mlp_1 = Seq(Lin(..., ...), ReLU(), Lin(..., ...))\n",
    "        self.node_mlp_2 = Seq(Lin(..., ...), ReLU(), Lin(..., ...))\n",
    "\n",
    "    def forward(self, x, edge_index, edge_attr, u, batch):\n",
    "        # x: [N, F_x], where N is the number of nodes.\n",
    "        # edge_index: [2, E] with max entry N - 1.\n",
    "        # edge_attr: [E, F_e]\n",
    "        # u: [B, F_u]\n",
    "        # batch: [N] with max entry B - 1.\n",
    "        row, col = edge_index\n",
    "        out = torch.cat([x[row], edge_attr], dim=1)\n",
    "        out = self.node_mlp_1(out)\n",
    "        out = scatter_mean(out, col, dim=0, dim_size=x.size(0))\n",
    "        out = torch.cat([x, out, u[batch]], dim=1)\n",
    "        return self.node_mlp_2(out)\n",
    "\n",
    "class GlobalModel(torch.nn.Module):\n",
    "    def __init__(self):\n",
    "        super(GlobalModel, self).__init__()\n",
    "        self.global_mlp = Seq(Lin(..., ...), ReLU(), Lin(..., ...))\n",
    "\n",
    "    def forward(self, x, edge_index, edge_attr, u, batch):\n",
    "        # x: [N, F_x], where N is the number of nodes.\n",
    "        # edge_index: [2, E] with max entry N - 1.\n",
    "        # edge_attr: [E, F_e]\n",
    "        # u: [B, F_u]\n",
    "        # batch: [N] with max entry B - 1.\n",
    "        out = torch.cat([u, scatter_mean(x, batch, dim=0)], dim=1)\n",
    "        return self.global_mlp(out)\n"
   ]
  },
  {
   "cell_type": "code",
   "execution_count": null,
   "metadata": {},
   "outputs": [],
   "source": [
    "import torch\n",
    "\n",
    "class MetaLayer(torch.nn.Module):\n",
    "    r\"\"\"A meta layer for building various kinds of graph network layers\n",
    "    [link](https://pytorch-geometric.readthedocs.io/en/latest/modules/nn.html#torch_geometric.nn.meta.MetaLayer)\n",
    "\n",
    "    A graph network takes a graph as input and returns an updated graph as\n",
    "    output (with same connectivity).\n",
    "    - The input graph has\n",
    "        - node features `x`,\n",
    "        - edge features `edge_attr`, as well as\n",
    "        - global-level features `u`.\n",
    "    The output graph has the same structure, but updated features.\n",
    "\n",
    "    Edge features, node features as well as global features are updated by\n",
    "    calling the modules `edge_model`, `node_model` and `global_model`, respectively.\n",
    "\n",
    "    To allow for batch-wise graph processing, all callable functions take an\n",
    "    additional argument `batch`, which determines the assignment of\n",
    "    edges or nodes to their specific graphs.\n",
    "\n",
    "    Args:\n",
    "        edge_model (Module, optional): A callable which updates a graph's edge\n",
    "            features based on its source and target node features, its current\n",
    "            edge features and its global features. (default: `None`)\n",
    "        node_model (Module, optional): A callable which updates a graph's node\n",
    "            features based on its current node features, its graph\n",
    "            connectivity, its edge features and its global features.\n",
    "            (default: `None`)\n",
    "        global_model (Module, optional): A callable which updates a graph's\n",
    "            global features based on its node features, its graph connectivity,\n",
    "            its edge features and its current global features.\n",
    "\n",
    "        op = MetaLayer(EdgeModel(), NodeModel(), GlobalModel())\n",
    "        x, edge_attr, u = op(x, edge_index, edge_attr, u, batch)\n",
    "    \"\"\"\n",
    "    def __init__(self, edge_model=None, node_model=None, global_model=None):\n",
    "        super(MetaLayer, self).__init__()\n",
    "        self.edge_model = edge_model\n",
    "        self.node_model = node_model\n",
    "        self.global_model = global_model\n",
    "        \n",
    "        self.reset_parameters()\n",
    "    \n",
    "    def reset_parameters(self):\n",
    "        for item in [self.node_model, self.edge_model, self.global_model]:\n",
    "            if hasattr(item, 'reset_parameters'):\n",
    "                item.reset_parameters()\n",
    "    \n",
    "    def forward(self, x, edge_index, edge_attr=None, u=None, batch=None):\n",
    "        \"\"\"\"\"\"\n",
    "        row, col = edge_index\n",
    "\n",
    "        if self.edge_model is not None:\n",
    "            edge_attr = self.edge_model(x[row], x[col], edge_attr, u,\n",
    "                                        batch if batch is None else batch[row])\n",
    "\n",
    "        if self.node_model is not None:\n",
    "            x = self.node_model(x, edge_index, edge_attr, u, batch)\n",
    "\n",
    "        if self.global_model is not None:\n",
    "            u = self.global_model(x, edge_index, edge_attr, u, batch)\n",
    "\n",
    "        return x, edge_attr, u\n",
    "    \n",
    "    def __repr__(self):\n",
    "        return ('{}(\\n'\n",
    "                '    edge_model={},\\n'\n",
    "                '    node_model={},\\n'\n",
    "                '    global_model={}\\n'\n",
    "                ')').format(self.__class__.__name__, self.edge_model,\n",
    "                            self.node_model, self.global_model)"
   ]
  }
 ],
 "metadata": {
  "kernelspec": {
   "display_name": "Python 3",
   "language": "python",
   "name": "python3"
  },
  "language_info": {
   "codemirror_mode": {
    "name": "ipython",
    "version": 3
   },
   "file_extension": ".py",
   "mimetype": "text/x-python",
   "name": "python",
   "nbconvert_exporter": "python",
   "pygments_lexer": "ipython3",
   "version": "3.7.4"
  }
 },
 "nbformat": 4,
 "nbformat_minor": 4
}
