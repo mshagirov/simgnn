{
 "cells": [
  {
   "cell_type": "markdown",
   "metadata": {},
   "source": [
    "# Graph Neural Network\n",
    "---\n",
    "> Graph neural network model for vertex dynamics and tension prediction"
   ]
  },
  {
   "cell_type": "markdown",
   "metadata": {},
   "source": [
    "**To-Do**👷🚧\n",
    "\n",
    "- *Training loop*:\n",
    "    - [ ] Training loop w/ validation set error monitoring, and best model saving\n",
    "    - [ ] Combine `Message` and `AggregateUpdate` into a graph layer `GraphBlock` (a more general block/model that can be composed into a deep residual network). \"AddGN\" block, w/ `AddGN(x) = f(x)+x` form (in fact, where it's possible make all blocks with this form).\n",
    "- [ ] *Prediction stage*: read \\{test, val, train\\} data and predict w/ saving.\n",
    "- [ ] Ablation dataset (*real*).\n",
    "- [ ] Larger simul-n dataset."
   ]
  },
  {
   "cell_type": "markdown",
   "metadata": {},
   "source": [
    "**DOING**🛠\n",
    "\n",
    "1-val data `dataset` obj, and dataloder."
   ]
  },
  {
   "cell_type": "markdown",
   "metadata": {},
   "source": [
    "**Node-to-Cell Encoding/Pooling Layer**:\n",
    "1. Initiate node-to-cell edge attr-s as (source) node attr-s `x[node2cell_index[0]]`.\n",
    "1. Compute node-to-cell edge attr-s using MLP: `e_n2c = MLP( x[node2cell_index[0]] )`\n",
    "1. Aggregate node-to-cell edge attr-s as cell attr-s : `x_cell = Aggregate(e_n2c)`\n",
    "1. Compute new cell attr-s using (encodes `x_cell` into cell attr-s) : `h_cell = MLP_Cell_encoder( x_cell )`\n",
    "\n",
    "```python\n",
    "n2c_model = mlp(...) # \"message\", just node-wise MLP\n",
    "cell_aggr = Aggregate()\n",
    "cell_enc = mlp(...)\n",
    "\n",
    "e_n2c = n2c_model(data.x)[data.node2cell_index[0]]\n",
    "x_cell = cell_aggr(data.cell_pressures.size(0), data.node2cell_index, e_n2c)\n",
    "h_cell = cell_enc(x_cell)\n",
    "```"
   ]
  },
  {
   "cell_type": "markdown",
   "metadata": {},
   "source": [
    "**Examples**:\n",
    "- General \"Message Passing\" schemes: a nice example for composite graph layer –\"meta layer\" consisting of \"edge\", \"node\" and \"global\" layers [link](https://pytorch-geometric.readthedocs.io/en/latest/modules/nn.html#torch_geometric.nn.meta.MetaLayer)"
   ]
  },
  {
   "cell_type": "code",
   "execution_count": 1,
   "metadata": {
    "ExecuteTime": {
     "end_time": "2021-04-24T01:49:27.435568Z",
     "start_time": "2021-04-24T01:49:27.412672Z"
    }
   },
   "outputs": [],
   "source": [
    "%load_ext autoreload\n",
    "%autoreload 2"
   ]
  },
  {
   "cell_type": "code",
   "execution_count": 2,
   "metadata": {
    "ExecuteTime": {
     "end_time": "2021-04-24T01:49:29.447740Z",
     "start_time": "2021-04-24T01:49:27.903269Z"
    }
   },
   "outputs": [],
   "source": [
    "import numpy as np\n",
    "import torch\n",
    "from os import path\n",
    "\n",
    "from torch_geometric.data import Data, DataLoader\n",
    "import torch_geometric.transforms as T\n",
    "\n",
    "from torch_geometric.utils import to_networkx, from_networkx\n",
    "import networkx as nx\n",
    "from simgnn.datautils import load_array, load_graph\n",
    "\n",
    "import matplotlib.pyplot as plt\n",
    "import matplotlib\n",
    "plt.style.use('ggplot')\n",
    "%matplotlib inline\n",
    "matplotlib.rcParams['figure.figsize'] = (10,10) # use larger for presentation\n",
    "matplotlib.rcParams['font.size']= 14 # use 14 for presentation"
   ]
  },
  {
   "cell_type": "code",
   "execution_count": 3,
   "metadata": {
    "ExecuteTime": {
     "end_time": "2021-04-24T01:49:31.076284Z",
     "start_time": "2021-04-24T01:49:31.044290Z"
    }
   },
   "outputs": [],
   "source": [
    "from simgnn.datasets import VertexDynamics, CellData\n",
    "from simgnn.nn import mlp, Message, AggregateUpdate, Aggregate\n",
    "from simgnn.transforms import Pos2Vec, ScaleVelocity\n",
    "# from torch_geometric.utils import to_undirected as T_undir"
   ]
  },
  {
   "cell_type": "code",
   "execution_count": 4,
   "metadata": {
    "ExecuteTime": {
     "end_time": "2021-04-24T01:49:34.769536Z",
     "start_time": "2021-04-24T01:49:34.733939Z"
    }
   },
   "outputs": [
    {
     "name": "stdout",
     "output_type": "stream",
     "text": [
      "Defaults:\n",
      " |-device: cpu\n",
      " |-dtype : torch.float32\n"
     ]
    }
   ],
   "source": [
    "device = torch.device('cpu')\n",
    "if torch.cuda.is_available():\n",
    "    device = torch.device('cuda')\n",
    "dtype = torch.float32\n",
    "print(f'Defaults:\\n |-device: {device}\\n |-dtype : {dtype}')"
   ]
  },
  {
   "cell_type": "markdown",
   "metadata": {},
   "source": [
    "## Hara Movies"
   ]
  },
  {
   "cell_type": "code",
   "execution_count": 5,
   "metadata": {
    "ExecuteTime": {
     "end_time": "2021-04-24T01:49:39.786182Z",
     "start_time": "2021-04-24T01:49:39.630157Z"
    }
   },
   "outputs": [
    {
     "name": "stdout",
     "output_type": "stream",
     "text": [
      "edge_Length.npy     edges_index.npy     node2cell_index.npy vtx_pos.npy\r\n"
     ]
    }
   ],
   "source": [
    "!ls 'simgnn_data/hara_movies/raw/Seg_001/'"
   ]
  },
  {
   "cell_type": "code",
   "execution_count": 6,
   "metadata": {
    "ExecuteTime": {
     "end_time": "2021-04-24T01:49:40.364249Z",
     "start_time": "2021-04-24T01:49:40.326372Z"
    }
   },
   "outputs": [
    {
     "name": "stdout",
     "output_type": "stream",
     "text": [
      "l_ij : (61, 225, 1)\n",
      "seg001_edge_index : (2, 225)\n",
      "seg001_vtx : (61, 164, 2)\n",
      "seg001_n2c : (2, 492)\n"
     ]
    }
   ],
   "source": [
    "l_ij = load_array('simgnn_data/hara_movies/raw/Seg_001/edge_Length.npy')\n",
    "seg001_edge_index = load_array('simgnn_data/hara_movies/raw/Seg_001/edges_index.npy')\n",
    "seg001_vtx = load_array('simgnn_data/hara_movies/raw/Seg_001/vtx_pos.npy')\n",
    "seg001_n2c = load_array('simgnn_data/hara_movies/raw/Seg_001/node2cell_index.npy')\n",
    "\n",
    "print(f'l_ij : {l_ij.shape}')\n",
    "print(f'seg001_edge_index : {seg001_edge_index.shape}')\n",
    "print(f'seg001_vtx : {seg001_vtx.shape}')\n",
    "print(f'seg001_n2c : {seg001_n2c.shape}')"
   ]
  },
  {
   "cell_type": "code",
   "execution_count": 14,
   "metadata": {
    "ExecuteTime": {
     "end_time": "2021-04-24T01:51:08.378868Z",
     "start_time": "2021-04-24T01:51:08.347876Z"
    }
   },
   "outputs": [
    {
     "data": {
      "text/plain": [
       "True"
      ]
     },
     "execution_count": 14,
     "metadata": {},
     "output_type": "execute_result"
    }
   ],
   "source": [
    "n2c_ = torch.from_numpy( seg001_n2c ).type(torch.int64).contiguous()\n",
    "n2c_.is_contiguous()"
   ]
  },
  {
   "cell_type": "code",
   "execution_count": 41,
   "metadata": {
    "ExecuteTime": {
     "end_time": "2021-04-23T23:37:10.965766Z",
     "start_time": "2021-04-23T23:37:10.936803Z"
    }
   },
   "outputs": [],
   "source": [
    "# for s,t in zip(seg001_vtx[60][seg001_edge_index[0]],seg001_vtx[60][seg001_edge_index[1]]):\n",
    "#     plt.plot([s[0],t[0]],[s[1],t[1]],'gray')\n",
    "\n",
    "# for s,t in zip(seg001_vtx[0][seg001_edge_index[0]],seg001_vtx[0][seg001_edge_index[1]]):\n",
    "#     plt.plot([s[0],t[0]],[s[1],t[1]],'r')\n",
    "# plt.axis([0,511,511,0])"
   ]
  },
  {
   "cell_type": "code",
   "execution_count": 42,
   "metadata": {
    "ExecuteTime": {
     "end_time": "2021-04-23T23:43:55.361227Z",
     "start_time": "2021-04-23T23:43:55.324270Z"
    }
   },
   "outputs": [],
   "source": [
    "class HaraMovie(VertexDynamics):\n",
    "    '''\n",
    "    Docs\n",
    "    '''\n",
    "    def __init__(self, root, window_size=5, transform=None, pre_transform=None):\n",
    "        '''\n",
    "        Assumes `root` dir contains folder named `raw` with all vertex dynamics simulation results\n",
    "        for tracing vertex trajectories, building graphs, and variables for computing edge tensions \n",
    "        and cell pressures.\n",
    "        - Velocities are approximated as 1st order differences of positions `x` in subsequent frames:\n",
    "          `velocity(T+0) = x(T+1) - x(T+0)`.\n",
    "        - Use `pre_transform` for normalising and pre-processing dataset(s).\n",
    "        \n",
    "        Arg-s:\n",
    "        - root : path to a root directory that contains folder with raw dataset(s) in a folder named \"raw\".\n",
    "        Raw datasets should be placed into separate folders each containing outputs from a single simulation.\n",
    "        E.g. root contains [\"raw\", \"processed\", ...], and in folder \"raw/\" we should have [\"simul1\", \"simul2\", ...]\n",
    "        - window_size : number of past velocities to be used as node features \n",
    "        `[x(T+0)-x(T-1), x(T-1)-x(T-2),..., x(T-window_size+1)-x(T-window_size)]`, where `x(T)` is node position at time `T`.\n",
    "        - transform :  transform(s) for graph datasets (e.g. from torch_geometric.transforms ), used in parent class' loading method.\n",
    "        - pre_transform : transform(s) for data pre-processing (resulting graphs are saved in \"preprocessed\" folder)\n",
    "        and used as this dataset's sample graphs.\n",
    "        '''\n",
    "        super(HaraMovie, self).__init__(root, window_size, transform, pre_transform)\n",
    "\n",
    "    @property\n",
    "    def processed_file_names(self):\n",
    "        '''\n",
    "        Return list of pytorch-geometric data files in `root/processed` folder (`self.processed_dir`).\n",
    "        '''\n",
    "        # \"last_idx\" : last index of window in \"vertex velocity\" (for features)\n",
    "        # last_idx=T-(2+window_size) --> num of processed frames: num_of_frames=last_idx+1 \n",
    "        nums_of_frames = [ (path.basename(raw_path),\n",
    "                            load_array(path.join(raw_path,'vtx_pos.npy')).shape[0]-(2+self.window_size)+1 \n",
    "                           ) for raw_path in self.raw_paths]\n",
    "        file_names = ['data_{}_{}.pt'.format(raw_path, t)\n",
    "                      for raw_path, tmax in nums_of_frames for t in range(tmax)]\n",
    "        return file_names\n",
    "\n",
    "    def process(self):\n",
    "        '''\n",
    "        Assumptions:\n",
    "        - the parent class init runs _process() and initialises all the required dir-s.\n",
    "        - cell graph topology and number of nodes is constant w.r.t. to frames.\n",
    "        '''\n",
    "        for raw_path in self.raw_paths:\n",
    "            # a movie in \"raw_path\"\n",
    "            # monolayer graph (topology)\n",
    "            # mg_dict = load_graph(path.join(raw_path,'graph_dict.pkl'))\n",
    "            \n",
    "            # Load node positions from raw_path and convert to (windowed) node attrib-s and targets.\n",
    "            node_pos, X_node, Y_node = self.pos2nodeXY(pos_path = path.join(raw_path,'vtx_pos.npy') )\n",
    "            \n",
    "            # edge indices\n",
    "            edge_index = torch.from_numpy( load_array( path.join( raw_path, 'edges_index.npy'))\n",
    "                                         ).contiguous()\n",
    "            \n",
    "            # cell-to-node and node-to-cell \"edge indices\"\n",
    "            node2cell_index = torch.from_numpy( load_array( path.join( raw_path, 'node2cell_index.npy'))\n",
    "                                              ).contiguous() # node_id-cell_id pairs\n",
    "            cell2node_index = node2cell_index[[1,0]].contiguous() # cell_id-node_id pairs\n",
    "            \n",
    "            mov_name = path.basename(raw_path) # folder name for the files\n",
    "            N_nodes = node_pos.size(1) # assume constant w.r.t. \"t\"\n",
    "            N_cells = max(mg_dict['cells'].keys())+1 # num_of_cells assume constant w.r.t. \"t\"\n",
    "            \n",
    "#             for t in range(node_pos.size(0)):\n",
    "#                 data = CellData(num_nodes = N_nodes,\n",
    "#                                 num_cells = N_cells,\n",
    "#                                 edge_index = edge_index,\n",
    "#                                 node2cell_index = node2cell_index, cell2node_index = cell2node_index,\n",
    "#                                 pos = node_pos[t], x = X_node[t], y = Y_node[t],\n",
    "#                                 cell_pressures = cell_presrs[t],\n",
    "#                                 edge_tensions = edge_tensns[t]\n",
    "#                                )\n",
    "#                 if self.pre_filter is not None and not self.pre_filter(data):\n",
    "#                     continue\n",
    "#                 if self.pre_transform is not None:\n",
    "#                     data = self.pre_transform(data)\n",
    "#                 torch.save(data, path.join(self.processed_dir, 'data_{}_{}.pt'.format(sim_name, t)))\n",
    "\n"
   ]
  },
  {
   "cell_type": "code",
   "execution_count": 44,
   "metadata": {
    "ExecuteTime": {
     "end_time": "2021-04-23T23:44:54.057613Z",
     "start_time": "2021-04-23T23:44:53.932767Z"
    }
   },
   "outputs": [
    {
     "name": "stdout",
     "output_type": "stream",
     "text": [
      "Processing...\n",
      "Done!\n"
     ]
    }
   ],
   "source": [
    "hara_movs = HaraMovie('simgnn_data/hara_movies/')"
   ]
  },
  {
   "cell_type": "code",
   "execution_count": 66,
   "metadata": {
    "ExecuteTime": {
     "end_time": "2021-04-24T00:21:02.214324Z",
     "start_time": "2021-04-24T00:21:02.177784Z"
    }
   },
   "outputs": [
    {
     "data": {
      "text/plain": [
       "5"
      ]
     },
     "execution_count": 66,
     "metadata": {},
     "output_type": "execute_result"
    }
   ],
   "source": [
    "hara_movs."
   ]
  },
  {
   "cell_type": "code",
   "execution_count": 64,
   "metadata": {
    "ExecuteTime": {
     "end_time": "2021-04-24T00:07:43.516337Z",
     "start_time": "2021-04-24T00:07:43.481402Z"
    }
   },
   "outputs": [],
   "source": [
    "# hara_movs.processed_file_names"
   ]
  },
  {
   "cell_type": "markdown",
   "metadata": {},
   "source": [
    "## Training w/ Synthetic Data"
   ]
  },
  {
   "cell_type": "markdown",
   "metadata": {},
   "source": [
    "`CellData` prop-s (graph data objects):\n",
    "- `x` : `(#nodes, WindowWidth, 2)` *node features*\n",
    "- `y` : `(#nodes, 2)` *node targets (velocities)*.\n",
    "- `pos` : `(#nodes, 2)` *node positions*.\n",
    "- `edge_attr` : `(#edges, 2)` or `(#edges, #edge_features)` *edge features  (relative Cartesian positions of connected nodes)*.\n",
    "- `edge_index` : `(2, #edges)` *edge indices*.\n",
    "- `edge_tensions` : `(#edges,)` *edge targets (line tensions)*.\n",
    "- `node2cell_index` : `(2, #cell2node_edges)`, `node2cell`-> *first row is node indices and second row is cell indices;\n",
    "- `cell2node_index` : `(2, #cell2node_edges)`, `cell2node`-> *first row is cell indices and second row is node indices*.\n",
    "- `cell_pressures` : `(#cells,)` *cell targets (cell pressures)*."
   ]
  },
  {
   "cell_type": "code",
   "execution_count": 5,
   "metadata": {},
   "outputs": [],
   "source": [
    "# test = VertexDynamics('../../../dataDIR/simgnn_data/test/')"
   ]
  },
  {
   "cell_type": "code",
   "execution_count": 7,
   "metadata": {
    "ExecuteTime": {
     "end_time": "2021-02-08T12:34:35.832710Z",
     "start_time": "2021-02-08T12:34:35.772923Z"
    }
   },
   "outputs": [],
   "source": [
    "# Normalisation: for simulated data\n",
    "Tnorm = T.Compose([Pos2Vec(scale=20*0.857) ,\n",
    "                           ScaleVelocity(0.857)])\n",
    "# training dataset\n",
    "vtxdata = VertexDynamics('../../../dataDIR/simgnn_data/train/', transform=Tnorm)"
   ]
  },
  {
   "cell_type": "code",
   "execution_count": 12,
   "metadata": {
    "ExecuteTime": {
     "end_time": "2021-02-08T12:35:23.956412Z",
     "start_time": "2021-02-08T12:35:23.900847Z"
    }
   },
   "outputs": [
    {
     "name": "stdout",
     "output_type": "stream",
     "text": [
      " VertexDynamics(95) \n",
      " CellData(cell2node_index=[2, 600], cell_pressures=[100], edge_attr=[339, 2], edge_index=[2, 339], edge_tensions=[339], node2cell_index=[2, 600], pos=[240, 2], x=[240, 5, 2], y=[240, 2])\n"
     ]
    }
   ],
   "source": [
    "print('',vtxdata,'\\n',vtxdata[0])"
   ]
  },
  {
   "cell_type": "code",
   "execution_count": 7,
   "metadata": {},
   "outputs": [
    {
     "data": {
      "text/plain": [
       "CellData(cell2node_index=[2, 600], cell_pressures=[100], edge_index=[2, 339], edge_tensions=[339], node2cell_index=[2, 600], pos=[240, 2], x=[240, 5, 2], y=[240, 2])"
      ]
     },
     "execution_count": 7,
     "metadata": {},
     "output_type": "execute_result"
    }
   ],
   "source": [
    "data = vtxdata[0]\n",
    "data"
   ]
  },
  {
   "cell_type": "code",
   "execution_count": 2,
   "metadata": {
    "ExecuteTime": {
     "end_time": "2021-02-28T17:57:21.581398Z",
     "start_time": "2021-02-28T17:57:21.579353Z"
    }
   },
   "outputs": [],
   "source": [
    "# data.is_undirected()"
   ]
  },
  {
   "cell_type": "code",
   "execution_count": 1,
   "metadata": {
    "ExecuteTime": {
     "end_time": "2021-02-28T17:57:18.144326Z",
     "start_time": "2021-02-28T17:57:18.141230Z"
    }
   },
   "outputs": [],
   "source": [
    "# nx.draw(to_networkx(data),pos=dict(enumerate(data.pos.numpy())), node_size=60)"
   ]
  },
  {
   "cell_type": "code",
   "execution_count": 44,
   "metadata": {
    "ExecuteTime": {
     "end_time": "2021-02-08T13:02:38.730513Z",
     "start_time": "2021-02-08T13:02:38.665269Z"
    }
   },
   "outputs": [
    {
     "data": {
      "text/plain": [
       "Batch(batch=[480], cell2node_index=[2, 1200], cell_pressures=[200], cell_pressures_batch=[200], edge_attr=[678, 2], edge_index=[2, 678], edge_index_batch=[678], edge_tensions=[678], node2cell_index=[2, 1200], pos=[480, 2], x=[480, 5, 2], y=[480, 2])"
      ]
     },
     "execution_count": 44,
     "metadata": {},
     "output_type": "execute_result"
    }
   ],
   "source": [
    "# in order to track the batch id for var-s add its key to \"follow_batch\":\n",
    "loader = DataLoader(vtxdata, batch_size=2,follow_batch=['cell_pressures','edge_index'])\n",
    "# this tracks batch id for \"cell_pressures_batch\" and \"edge_index_batch\" in addition to node batch ids\n",
    "batch = next(iter(loader))\n",
    "# nx.draw( to_networkx(\n",
    "#     CellData(num_nodes = torch.sum(batch.batch==0).item(),\n",
    "#              edge_index = batch.edge_index[:,batch.edge_index_batch==0])),\n",
    "#     pos=dict(enumerate(batch.pos[batch.batch==0].numpy())),\n",
    "#     node_size=60, node_color='r',edge_color='r')\n",
    "# nx.draw( to_networkx(\n",
    "#     CellData(num_nodes = torch.sum(batch.batch==1).item(),\n",
    "#              edge_index = batch.edge_index[:,batch.edge_index_batch==1]-240)),\n",
    "#     pos=dict(enumerate(batch.pos[batch.batch==1].numpy() +1.5)),\n",
    "#     node_size=60)\n",
    "batch"
   ]
  },
  {
   "cell_type": "markdown",
   "metadata": {
    "heading_collapsed": true
   },
   "source": [
    "## Training"
   ]
  },
  {
   "cell_type": "markdown",
   "metadata": {
    "hidden": true
   },
   "source": [
    "**Training Loop**"
   ]
  },
  {
   "cell_type": "code",
   "execution_count": null,
   "metadata": {
    "hidden": true
   },
   "outputs": [],
   "source": [
    "# useful functions for model training and saving, etc.\n",
    "import time\n",
    "import copy\n",
    "import torch\n",
    "\n",
    "def train_model(model,\n",
    "                optimizer,\n",
    "                data_loaders,\n",
    "                num_epochs = 5,\n",
    "                loss_func = torch.nn.CrossEntropyLoss(),\n",
    "                device = torch.device('cpu'),\n",
    "                scheduler = None,\n",
    "                return_best = False,\n",
    "               classifier=None):\n",
    "    '''\n",
    "    docs\n",
    "    '''\n",
    "    # model states/modes\n",
    "    model_states = ['train', 'val']\n",
    "    training_model=model\n",
    "    if classifier!=None:\n",
    "        training_model=classifier # transfer learning\n",
    "    \n",
    "    curve_data = {'trainLosses':[],\n",
    "                 'trainAccs':[],\n",
    "                 'valLosses':[],\n",
    "                 'valAccs':[],\n",
    "                 'total_epochs':num_epochs}\n",
    "    \n",
    "    time_start = time.time()\n",
    "    if return_best:\n",
    "        best_model_wts = copy.deepcopy(model.state_dict())\n",
    "    best_acc = 0.0\n",
    "    \n",
    "    for epoch in range(num_epochs):\n",
    "        print(f'Epoch {epoch}/{num_epochs - 1} ---', end=' ')\n",
    "        \n",
    "        # set model state depending on training/eval stage\n",
    "        for state in model_states:\n",
    "            if state == 'train':\n",
    "                training_model.train()  # Set model to training mode\n",
    "            else:\n",
    "                training_model.eval()   # Set model to evaluation mode\n",
    "            \n",
    "            running_loss = 0.0\n",
    "            running_corrects = 0\n",
    "            \n",
    "            for samples in data_loaders[state]:\n",
    "                # input HxW depend on transform function(s), 3 Channels\n",
    "                inputs = samples['image'].to(device)\n",
    "                # labels \\in [0, 1, 2]\n",
    "                labels = samples['label'].to(device)          \n",
    "                \n",
    "                # set grad accumulator to zero\n",
    "                optimizer.zero_grad()\n",
    "\n",
    "                with torch.set_grad_enabled(state == 'train'):\n",
    "                    # grad tracking is disabled in \"eval\" mode\n",
    "                    outputs = model(inputs) # output:(batch, #classes)\n",
    "                    _, preds = torch.max(outputs, 1) # labels:(batch,)\n",
    "                    loss = loss_func(outputs, labels) #<-torch.nn.CrossEntropyLoss\n",
    "                    \n",
    "                    if state == 'train':\n",
    "                        loss.backward()\n",
    "                        optimizer.step()\n",
    "\n",
    "                # statistics\n",
    "                running_loss += loss.item() * inputs.size(0) # weighted loss\n",
    "                running_corrects += torch.sum(preds == labels.detach() )\n",
    "            \n",
    "                # apply LR schedule\n",
    "                if state == 'train' and scheduler!=None:\n",
    "                    scheduler.step()\n",
    "\n",
    "            epoch_loss = running_loss / len(data_loaders[state].dataset)\n",
    "            epoch_acc = running_corrects.double() / len(data_loaders[state].dataset)\n",
    "            \n",
    "            curve_data[f'{state}Losses'].append(epoch_loss)\n",
    "            curve_data[f'{state}Accs'].append(epoch_acc)\n",
    "            \n",
    "            print(f'{state} Loss: {epoch_loss:.4f} Acc: {epoch_acc:.4f}',end=' || ')\n",
    "            \n",
    "            # deep copy the model\n",
    "            if state == 'val' and epoch_acc > best_acc:\n",
    "                best_acc = epoch_acc\n",
    "                if return_best:\n",
    "                    # keep best weights to return\n",
    "                    best_model_wts = copy.deepcopy(model.state_dict())\n",
    "        print(f'{time.time() - time_start:.0f}s')\n",
    "    time_elapsed = time.time() - time_start\n",
    "    print(f'Training complete in {time_elapsed//60:.0f}m {time_elapsed % 60:.0f}s')\n",
    "    print(f'Best val Acc: {best_acc:4f} (return best:{return_best})')\n",
    "    \n",
    "    if return_best:\n",
    "        # load best model weights\n",
    "        model.load_state_dict(best_model_wts)\n",
    "    \n",
    "    return model, curve_data\n",
    "\n",
    "\n",
    "@torch.no_grad()\n",
    "def predict_check(data_loaders, model,device=torch.device('cpu')):\n",
    "    '''\n",
    "    Run prediction on datasets using dataloader\n",
    "    - data_loaders: data loaders (dict of torch.utils.data.DataLoader objects) with\n",
    "                    keys 'train' and 'val', for training and validation data loaders respectively.\n",
    "                    ! DISABLE SHUFFLING in both datasets in order to preserve order of IDs\n",
    "    - model: model used for prediction\n",
    "    - device: device, e.g. \"torch.device('cuda')\"\n",
    "    '''\n",
    "    loss_func = torch.nn.CrossEntropyLoss()\n",
    "    losses = {'train':0, 'val': 0}\n",
    "    accuracies = {'train':0, 'val':0}\n",
    "    pred_labels = {'train':[],'val':[]}\n",
    "    \n",
    "    model.eval()\n",
    "    default_device = next(model.parameters()).device\n",
    "    model.to(device)\n",
    "    for loader_type in data_loaders:\n",
    "        print(f'Loading: {loader_type}')\n",
    "        for samples in data_loaders[loader_type]:\n",
    "            inputs = samples['image'].to(device) # input images\n",
    "            labels = samples['label'].to(device) # labels \\in [0, 1, 2]       \n",
    "            # predict\n",
    "            outputs = model(inputs) # output:(batch, #classes)\n",
    "            _, preds = torch.max(outputs, 1) # labels:(batch,)\n",
    "            preds = preds.cpu()\n",
    "            loss = loss_func(outputs, labels) #<-torch.nn.CrossEntropyLoss\n",
    "            losses[loader_type] += loss.item() * inputs.size(0) # weighted loss\n",
    "            accuracies[loader_type] += torch.sum(preds == labels.cpu() )\n",
    "            pred_labels[loader_type].extend(preds.tolist())\n",
    "            \n",
    "        losses[loader_type] = losses[loader_type] / len(data_loaders[loader_type].dataset)\n",
    "        accuracies[loader_type] = accuracies[loader_type] / len(data_loaders[loader_type].dataset)\n",
    "    print('Losses:',losses)\n",
    "    print('Accuracies:', accuracies)\n",
    "    \n",
    "    model.to(default_device)\n",
    "    return losses, accuracies, pred_labels\n",
    "\n",
    "\n"
   ]
  },
  {
   "cell_type": "code",
   "execution_count": null,
   "metadata": {
    "hidden": true
   },
   "outputs": [],
   "source": [
    "@torch.no_grad()\n",
    "def predict_test(root_path, model, transform, batch_size=4, device=torch.device('cpu')):\n",
    "    '''Run prediction on test images.\n",
    "    - root_path: path to the folder with test images\n",
    "    - model: model used for prediction \n",
    "    - batch_size: batch size for processing\n",
    "    - device: device, e.g. \"torch.device('cuda')\"\n",
    "    '''\n",
    "    model.eval()\n",
    "    model.to(device)\n",
    "    # list of test image files\n",
    "    test_image_names= [path.split(imgname)[-1] for imgname in glob.glob(path.join(root_path,'*.png'))]\n",
    "    # sort according to image ID number\n",
    "    test_image_names.sort(key=lambda x: int(x.split('.')[0]))\n",
    "    ID = [int(imgname.split('.')[0]) for imgname in test_image_names]\n",
    "    N_samples = len(test_image_names)\n",
    "    print(f'Found {N_samples} images in test dataset folder: {path.join(*path.split(root_path)[:-1])}'+\n",
    "          f'\\n\\\"{test_image_names[0]}\\\"\\n\\\"{test_image_names[1]}\\\"\\n\\\"{test_image_names[2]}\\\"\\n. . .\\n'+\n",
    "          f'\\\"{test_image_names[-3]}\\\"\\n\\\"{test_image_names[-2]}\\\"\\n\\\"{test_image_names[-1]}\\\"]\\n')\n",
    "    \n",
    "    # iter over batches\n",
    "    pred_labels = []\n",
    "    N_batches = N_samples//batch_size + (1 if N_samples%batch_size else 0)\n",
    "    print(f'Processing {N_batches} test batches in total (batch_size={batch_size}).')\n",
    "    for b in range(N_batches):\n",
    "        last_idx = min([b*batch_size+batch_size,N_samples])\n",
    "        # read and transform images\n",
    "        img_batch = torch.stack([transform( imread(path.join(root_path,imgname)) )\n",
    "                     for imgname in test_image_names[b*batch_size:last_idx]],dim=0)\n",
    "        img_batch = img_batch.to(device)\n",
    "        # predict\n",
    "        outputs = model(img_batch) # output:(batch, #classes)\n",
    "        _, preds = torch.max(outputs, 1) # labels:(batch,)\n",
    "        preds = preds.cpu()\n",
    "        pred_labels.extend(preds.tolist())\n",
    "    print('Done.')\n",
    "    return {'ID': ID, 'Label': pred_labels}\n"
   ]
  }
 ],
 "metadata": {
  "hide_input": false,
  "kernelspec": {
   "display_name": "Python [conda env:pytorch]",
   "language": "python",
   "name": "conda-env-pytorch-py"
  },
  "language_info": {
   "codemirror_mode": {
    "name": "ipython",
    "version": 3
   },
   "file_extension": ".py",
   "mimetype": "text/x-python",
   "name": "python",
   "nbconvert_exporter": "python",
   "pygments_lexer": "ipython3",
   "version": "3.7.4"
  },
  "toc": {
   "base_numbering": 1,
   "nav_menu": {},
   "number_sections": true,
   "sideBar": true,
   "skip_h1_title": true,
   "title_cell": "Table of Contents",
   "title_sidebar": "Contents",
   "toc_cell": false,
   "toc_position": {
    "height": "calc(100% - 180px)",
    "left": "10px",
    "top": "150px",
    "width": "174.796875px"
   },
   "toc_section_display": true,
   "toc_window_display": false
  }
 },
 "nbformat": 4,
 "nbformat_minor": 4
}
