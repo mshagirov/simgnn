{
 "cells": [
  {
   "cell_type": "code",
   "execution_count": 4,
   "metadata": {
    "ExecuteTime": {
     "end_time": "2020-09-01T05:57:23.315005Z",
     "start_time": "2020-09-01T05:57:23.311715Z"
    }
   },
   "outputs": [],
   "source": [
    "import vertex_simulation.primitives as primitives\n",
    "import vertex_simulation.simulation as simulation\n",
    "import matplotlib.pyplot as plt\n",
    "import numpy as np\n",
    "import torch"
   ]
  },
  {
   "cell_type": "code",
   "execution_count": 5,
   "metadata": {
    "ExecuteTime": {
     "end_time": "2020-09-01T05:57:33.699419Z",
     "start_time": "2020-09-01T05:57:33.687835Z"
    }
   },
   "outputs": [
    {
     "name": "stdout",
     "output_type": "stream",
     "text": [
      "device: cpu\n",
      "dtype: torch.float32\n"
     ]
    }
   ],
   "source": [
    "device = torch.device('cpu')\n",
    "if torch.cuda.is_available():\n",
    "    device = torch.device('cuda')\n",
    "dtype = torch.float32\n",
    "print(f'device: {device}\\ndtype: {dtype}')"
   ]
  },
  {
   "cell_type": "code",
   "execution_count": 8,
   "metadata": {
    "ExecuteTime": {
     "end_time": "2020-09-01T05:59:16.570984Z",
     "start_time": "2020-09-01T05:59:16.562168Z"
    }
   },
   "outputs": [],
   "source": [
    "np.random.seed(42)# np RNG seed\n",
    "torch.manual_seed(0);# torch RNG seed\n",
    "v_x,regions =primitives.unit_hexagons(4,4) # unit hexagons\n",
    "v_x += np.random.randn(v_x.shape[0], v_x.shape[1])*.2 #perturb vertices\n",
    "edge_list,cells = primitives.VoronoiRegions2Edges(regions) #convert Voronoi regions to cells & edges\n",
    "# Define cell monolayer\n",
    "cell_graph = primitives.Monolayer(vertices=primitives.Vertex(v_x.copy().tolist(),dtype=dtype), \n",
    "                       edges=torch.tensor(edge_list), \n",
    "                       cells=cells)\n",
    "cell_graph.to_(device) # to plot use --> plot_graph_as_quiver(cell_graph)"
   ]
  },
  {
   "cell_type": "code",
   "execution_count": 13,
   "metadata": {
    "ExecuteTime": {
     "end_time": "2020-09-01T06:36:14.973872Z",
     "start_time": "2020-09-01T06:36:04.229804Z"
    }
   },
   "outputs": [
    {
     "name": "stdout",
     "output_type": "stream",
     "text": [
      "iter:200; t=0.199: E=23.82; max_spd = 1.3\n",
      "iter:400; t=0.399: E= 13.8; max_spd =   1\n",
      "iter:600; t=0.599: E=11.61; max_spd = 1.1\n",
      "iter:800; t=0.799: E=14.19; max_spd = 1.4\n",
      "iter:1000; t=0.999: E=18.38; max_spd = 0.95\n"
     ]
    }
   ],
   "source": [
    "omega_0 = torch.tensor([np.pi/2],dtype=dtype,device=device)\n",
    "phase = torch.rand((len(edge_list),1)).type(dtype).to(device)\n",
    "p_keep = 0.75 # fraction to keep active\n",
    "e_ij_on = (torch.rand((len(edge_list),1))<p_keep).type(dtype).to(device)\n",
    "omega = torch.randn_like(e_ij_on) + omega_0\n",
    "\n",
    "sim = simulation.Simulation_Honda(m = cell_graph, params = {'Ka':1., 'A0':2.3,'Kp':0.003,'P0':0.,\n",
    "                                                 'Lambda_ij': lambda m,t: e_ij_on*torch.cos(omega*t+phase)**2 })\n",
    "t, verts_t, Energies_maxSpeeds = sim.sample_trajectory(T=1000, delta_T=0.001, sample_freq=10, print_freq=200)"
   ]
  },
  {
   "cell_type": "code",
   "execution_count": null,
   "metadata": {},
   "outputs": [],
   "source": []
  }
 ],
 "metadata": {
  "hide_input": false,
  "kernelspec": {
   "display_name": "Python [conda env:pytorch]",
   "language": "python",
   "name": "conda-env-pytorch-py"
  },
  "language_info": {
   "codemirror_mode": {
    "name": "ipython",
    "version": 3
   },
   "file_extension": ".py",
   "mimetype": "text/x-python",
   "name": "python",
   "nbconvert_exporter": "python",
   "pygments_lexer": "ipython3",
   "version": "3.7.4"
  },
  "toc": {
   "base_numbering": 1,
   "nav_menu": {},
   "number_sections": true,
   "sideBar": true,
   "skip_h1_title": true,
   "title_cell": "Table of Contents",
   "title_sidebar": "Contents",
   "toc_cell": false,
   "toc_position": {},
   "toc_section_display": true,
   "toc_window_display": false
  }
 },
 "nbformat": 4,
 "nbformat_minor": 2
}
