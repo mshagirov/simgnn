{
 "cells": [
  {
   "cell_type": "markdown",
   "metadata": {},
   "source": [
    "# Preparing Simulation Data\n",
    "> Notebook for preparing synthetic datasets. This data will be called as a \"raw data\" in other notebooks."
   ]
  },
  {
   "cell_type": "code",
   "execution_count": 3,
   "metadata": {
    "ExecuteTime": {
     "end_time": "2020-09-02T04:22:37.945971Z",
     "start_time": "2020-09-02T04:22:36.815628Z"
    }
   },
   "outputs": [],
   "source": [
    "from vertex_simulation.primitives import unit_hexagons, VoronoiRegions2Edges, Vertex, Monolayer\n",
    "from vertex_simulation.simulation import Simulation_Honda, Simulation_Honda_t\n",
    "import numpy as np\n",
    "import torch"
   ]
  },
  {
   "cell_type": "code",
   "execution_count": 4,
   "metadata": {
    "ExecuteTime": {
     "end_time": "2020-09-02T04:22:37.952301Z",
     "start_time": "2020-09-02T04:22:37.948261Z"
    }
   },
   "outputs": [
    {
     "name": "stdout",
     "output_type": "stream",
     "text": [
      "device: cuda\n",
      "dtype: torch.float32\n"
     ]
    }
   ],
   "source": [
    "device = torch.device('cpu')\n",
    "if torch.cuda.is_available():\n",
    "    device = torch.device('cuda')\n",
    "dtype = torch.float32\n",
    "print(f'device: {device}\\ndtype: {dtype}')"
   ]
  },
  {
   "cell_type": "markdown",
   "metadata": {},
   "source": [
    "## Raw Synthetic Dataset"
   ]
  },
  {
   "cell_type": "markdown",
   "metadata": {},
   "source": [
    "Initialising cell monolayers"
   ]
  },
  {
   "cell_type": "code",
   "execution_count": 7,
   "metadata": {
    "ExecuteTime": {
     "end_time": "2020-09-02T04:31:00.085429Z",
     "start_time": "2020-09-02T04:31:00.078224Z"
    }
   },
   "outputs": [],
   "source": [
    "v_x,regions = unit_hexagons(4,4) # unit hexagons\n",
    "edge_list,cells = VoronoiRegions2Edges(regions) #convert Voronoi regions to cells & edges\n",
    "\n",
    "m = Monolayer(vertices = Vertex( v_x.copy().tolist(), dtype = dtype), edges = torch.tensor(edge_list), cells = cells)\n",
    "m.to_(device) # to plot use --> plot_graph_as_quiver(cell_graph)"
   ]
  },
  {
   "cell_type": "markdown",
   "metadata": {
    "heading_collapsed": true
   },
   "source": [
    "### Plotting Monolayer Graphs"
   ]
  },
  {
   "cell_type": "code",
   "execution_count": 8,
   "metadata": {
    "ExecuteTime": {
     "end_time": "2020-09-02T04:33:30.451876Z",
     "start_time": "2020-09-02T04:33:30.449147Z"
    },
    "hidden": true
   },
   "outputs": [],
   "source": [
    "from vertex_simulation.primitives import plot_graph_as_quiver, graph2networkx_with_pos\n",
    "import matplotlib.pyplot as plt\n",
    "import networkx as nx"
   ]
  },
  {
   "cell_type": "markdown",
   "metadata": {
    "hidden": true
   },
   "source": [
    "Using `plot_graph_as_quiver`"
   ]
  },
  {
   "cell_type": "code",
   "execution_count": 9,
   "metadata": {
    "ExecuteTime": {
     "end_time": "2020-09-02T05:42:45.932428Z",
     "start_time": "2020-09-02T05:42:45.885659Z"
    },
    "hidden": true,
    "scrolled": true
   },
   "outputs": [
    {
     "data": {
      "image/png": "[encoded data removed]",
      "text/plain": [
       "<Figure size 180x180 with 1 Axes>"
      ]
     },
     "metadata": {
      "needs_background": "light"
     },
     "output_type": "display_data"
    }
   ],
   "source": [
    "plt.figure(figsize=[2.5,2.5])\n",
    "plot_graph_as_quiver(m)\n",
    "plt.axis('equal');"
   ]
  },
  {
   "cell_type": "markdown",
   "metadata": {
    "ExecuteTime": {
     "end_time": "2020-09-02T04:33:31.960203Z",
     "start_time": "2020-09-02T04:33:31.957412Z"
    },
    "hidden": true
   },
   "source": [
    "Convert to `networkx.Graph` with `graph2networkx_with_pos` and use `networkx.draw` function"
   ]
  },
  {
   "cell_type": "code",
   "execution_count": 12,
   "metadata": {
    "ExecuteTime": {
     "end_time": "2020-09-02T05:46:29.566975Z",
     "start_time": "2020-09-02T05:46:29.459376Z"
    },
    "hidden": true
   },
   "outputs": [
    {
     "data": {
      "image/png": "[encoded data removed]",
      "text/plain": [
       "<Figure size 144x144 with 1 Axes>"
      ]
     },
     "metadata": {},
     "output_type": "display_data"
    }
   ],
   "source": [
    "plt.figure(figsize=[2,2])\n",
    "nx.draw(*graph2networkx_with_pos(m), node_size=50, width=1)\n",
    "plt.axis('equal');"
   ]
  },
  {
   "cell_type": "markdown",
   "metadata": {},
   "source": [
    "### Simulation"
   ]
  },
  {
   "cell_type": "markdown",
   "metadata": {},
   "source": [
    "Prepare an initial state"
   ]
  },
  {
   "cell_type": "code",
   "execution_count": 231,
   "metadata": {
    "ExecuteTime": {
     "end_time": "2020-09-02T08:34:54.562015Z",
     "start_time": "2020-09-02T08:34:54.543291Z"
    }
   },
   "outputs": [],
   "source": [
    "np.random.seed(42)# np RNG seed\n",
    "v_x,regions = unit_hexagons(30,30) # unit hexagons\n",
    "v_x += np.random.randn(v_x.shape[0], v_x.shape[1])*.2 #perturb vertices\n",
    "edge_list,cells = VoronoiRegions2Edges(regions) #convert Voronoi regions to cells & edges\n",
    "# Define cell monolayer\n",
    "m = Monolayer(vertices = Vertex( v_x.copy().tolist(), dtype = dtype), edges = torch.tensor(edge_list), cells = cells)\n",
    "m.to_(device) # to plot use --> plot_graph_as_quiver(cell_graph)"
   ]
  },
  {
   "cell_type": "markdown",
   "metadata": {},
   "source": [
    "Base frequency selection for $cos^2(wt)$:\n",
    "$$\\omega_0 = peaks\\_per\\_unit\\_time \\times \\pi$$\n",
    "e.g. for 5 peaks per-unit-time $\\omega_0 = 5 \\pi$. We can add random number (real number) of peaks to this \"base frequency\":\n",
    "```python\n",
    "omega0 = 5*np.pi # peak_per_unit_time * pi ==> base_frequency\n",
    "omega = omega0 + 4*np.pi*(torch.randn_like(phases)-0.5) # omega = omega0 +/-2*pi\n",
    "```\n",
    "\n",
    "Phases ($\\phi$) determine value at $t=0$ for $cos^2(wt+\\phi) \\in [0,1]$ \n",
    "$$\\phi \\sim Unif(0,\\frac{\\pi}{2}) $$"
   ]
  },
  {
   "cell_type": "code",
   "execution_count": 232,
   "metadata": {},
   "outputs": [],
   "source": [
    "torch.manual_seed(0);\n",
    "\n",
    "p_keep = 0.95\n",
    "ij_on = 2.5*(torch.rand((len(edge_list),1))< p_keep ).type(dtype).to(device) # 75% of edges are active\n",
    "phases = np.pi/2*torch.rand((len(edge_list),1)).type(dtype).to(device) # phase => cos^2(phase)@t=0\n",
    "# phase for cos(wt+phase)^2 can be sample from uniform [0,pi/2) <=> cos^2 \\in [1,0)\n",
    "# omega0 = peak_per_unit_time * pi ==> base_frequency\n",
    "omega = 5*np.pi + 4*np.pi*(torch.randn_like(phases)-0.5) # omega = omega0 +/-2*pi\n",
    "\n",
    "def Ka_t(mg,t): return 1.\n",
    "# def A0_t(mg,t):\n",
    "#     if t<0.5: C = 1.5\n",
    "#     else: C = 2.3\n",
    "#     return C - 1./ (1 + np.exp(20*(t-0.3)) ) \n",
    "def A0_t(mg,t):\n",
    "    return 2.3\n",
    "def Kp_t(mg,t): return 0.003\n",
    "def P0_t(mg,t): return 0.\n",
    "def Lambda_t(mg,t): return ij_on*torch.cos(omega*t+phases)**2"
   ]
  },
  {
   "cell_type": "code",
   "execution_count": 233,
   "metadata": {},
   "outputs": [
    {
     "name": "stdout",
     "output_type": "stream",
     "text": [
      "iter:250; t=0.249: E= 3363; max_spd =   4\n",
      "iter:500; t=0.499: E= 3388; max_spd = 3.9\n",
      "iter:750; t=0.749: E= 3242; max_spd = 4.8\n",
      "iter:1000; t=0.999: E= 3237; max_spd = 3.5\n",
      "iter:1250; t=1.249: E= 3206; max_spd = 5.4\n",
      "iter:1500; t=1.499: E= 3230; max_spd = 4.8\n",
      "iter:1750; t=1.749: E= 3195; max_spd =   5\n",
      "iter:2000; t=1.999: E= 3139; max_spd = 5.1\n",
      "iter:2250; t=2.249: E= 3242; max_spd = 5.2\n",
      "iter:2500; t=2.499: E= 3139; max_spd = 4.3\n",
      "iter:2750; t=2.749: E= 3143; max_spd = 4.8\n",
      "iter:3000; t=2.999: E= 3080; max_spd = 3.7\n",
      "iter:3250; t=3.249: E= 3098; max_spd =   4\n",
      "iter:3500; t=3.499: E= 3150; max_spd =   5\n",
      "iter:3750; t=3.749: E= 3151; max_spd = 3.8\n",
      "iter:4000; t=3.999: E= 3161; max_spd =   3\n",
      "iter:4250; t=4.249: E= 3137; max_spd = 4.9\n",
      "iter:4500; t=4.499: E= 3089; max_spd =   5\n",
      "iter:4750; t=4.749: E= 3032; max_spd = 2.9\n",
      "iter:5000; t=4.999: E= 3145; max_spd = 4.8\n"
     ]
    },
    {
     "data": {
      "image/png": "[encoded data removed]",
      "text/plain": [
       "<Figure size 360x216 with 2 Axes>"
      ]
     },
     "metadata": {
      "needs_background": "light"
     },
     "output_type": "display_data"
    }
   ],
   "source": [
    "sim_params = {'Ka':Ka_t, 'A0':A0_t, 'Kp':Kp_t, 'P0':P0_t, 'Lambda_ij':Lambda_t}\n",
    "sim = Simulation_Honda_t(m = m, params = sim_params)\n",
    "\n",
    "t, verts_t, Energies_maxSpeeds = sim.sample_trajectory(T=5000, delta_T=0.001, sample_freq=20, print_freq=250)\n",
    "\n",
    "plt.figure(figsize=[5,3])\n",
    "plt.plot(Energies_maxSpeeds[0],Energies_maxSpeeds[1]);plt.xlabel('time');plt.ylabel('energy');\n",
    "# add forces (except last frame)\n",
    "ax2=plt.gca().twinx()\n",
    "ax2.set_ylabel('Max speed',color='red')\n",
    "ax2.plot(Energies_maxSpeeds[0],Energies_maxSpeeds[2],'r-',alpha=.4,lw=2)\n",
    "plt.show()"
   ]
  },
  {
   "cell_type": "markdown",
   "metadata": {},
   "source": [
    "## Saving and Displaying Simulations"
   ]
  },
  {
   "cell_type": "markdown",
   "metadata": {},
   "source": [
    "**Function for plotting frames** (animation function)"
   ]
  },
  {
   "cell_type": "code",
   "execution_count": 11,
   "metadata": {},
   "outputs": [],
   "source": [
    "import networkx as nx\n",
    "from vertex_simulation.primitives import graph2networkx_with_pos\n",
    "# as a networkx graph\n",
    "Gnx,pos=graph2networkx_with_pos(m)\n",
    "def draw_graph(i):\n",
    "    '''Draw monolayer frames using networkx draw func-n. Assumes. Static graph, i.e. the graph `Gnx` is constant.\n",
    "    We pass this function to matplotlib.animation obj.'''\n",
    "    if isinstance(verts_t[i],  torch.Tensor):\n",
    "        pos = dict(zip(range(verts_t[i].shape[0]),verts_t[i].numpy()))\n",
    "    else:\n",
    "        pos = dict(zip(range(verts_t[i].shape[0]),verts_t[i]))\n",
    "    ax.cla()\n",
    "    ax.axis('off')\n",
    "    ax.set_title(f'Time : {t[i]:2.3f}')\n",
    "    nx.draw(Gnx,pos,node_size=5,width=1,ax=ax,node_color='#FF00FF',edge_color='#51C5FF')"
   ]
  },
  {
   "cell_type": "markdown",
   "metadata": {},
   "source": [
    "### Option 1: HTML video (for displaying) or Save as mp4"
   ]
  },
  {
   "cell_type": "markdown",
   "metadata": {},
   "source": [
    "Display as HTML video or save as mp4 using matplotlit (+ffmpeg)\n",
    "```python\n",
    "import matplotlib.animation as animation\n",
    "from IPython.display import HTML\n",
    "# create a figure\n",
    "fig = plt.figure(figsize=[10,10])\n",
    "fig.clf()\n",
    "# display (check your drawing/animation function)\n",
    "ax = fig.subplots()\n",
    "ax.axis(False);\n",
    "draw_graph(0)\n",
    "plt.show()\n",
    "plt.close()\n",
    "# Create an animation\n",
    "anim = animation.FuncAnimation(fig, draw_graph, interval=200, frames = range(50,len(verts_t)))\n",
    "# Convert animation to HTML repr-n and display w/ IPython\n",
    "HTML(anim.to_jshtml()) \n",
    "```"
   ]
  },
  {
   "cell_type": "markdown",
   "metadata": {},
   "source": [
    "### Option 2: Use PIL to save as GIF or TIFF"
   ]
  },
  {
   "cell_type": "markdown",
   "metadata": {},
   "source": [
    "1. Compile frames:\n",
    "    ```python\n",
    "    import PIL\n",
    "    pil_images=[]\n",
    "    for i in range(0,len(verts_t),5):\n",
    "        fig = plt.figure(figsize=[15,15])\n",
    "        fig.clf()\n",
    "        ax = fig.subplots()\n",
    "        ax.axis(False);\n",
    "        draw_graph(i)\n",
    "    #     plt.show()\n",
    "        canvas = plt.get_current_fig_manager().canvas\n",
    "        canvas.draw()\n",
    "        pil_images.append(PIL.Image.frombytes('RGB', canvas.get_width_height(), canvas.tostring_rgb()) )\n",
    "        plt.close()\n",
    "    ```\n",
    "2. Save as `*.gif` file (alternatively use TIFF):\n",
    "    ```python\n",
    "    pil_images[0].save('sim_oscill_2.gif', format='GIF', append_images=pil_images[1:], save_all=True, duration=100, loop=0)\n",
    "    ```\n",
    "3. Display using a markdown cell:\n",
    "    ```\n",
    "    ![](./sim_oscill_2.gif)\n",
    "    ```"
   ]
  },
  {
   "cell_type": "code",
   "execution_count": 246,
   "metadata": {},
   "outputs": [],
   "source": []
  },
  {
   "cell_type": "code",
   "execution_count": 247,
   "metadata": {},
   "outputs": [],
   "source": []
  }
 ],
 "metadata": {
  "hide_input": false,
  "kernelspec": {
   "display_name": "Python 3",
   "language": "python",
   "name": "python3"
  },
  "language_info": {
   "codemirror_mode": {
    "name": "ipython",
    "version": 3
   },
   "file_extension": ".py",
   "mimetype": "text/x-python",
   "name": "python",
   "nbconvert_exporter": "python",
   "pygments_lexer": "ipython3",
   "version": "3.7.4"
  },
  "toc": {
   "base_numbering": 1,
   "nav_menu": {},
   "number_sections": true,
   "sideBar": true,
   "skip_h1_title": true,
   "title_cell": "Table of Contents",
   "title_sidebar": "Contents",
   "toc_cell": false,
   "toc_position": {},
   "toc_section_display": true,
   "toc_window_display": false
  }
 },
 "nbformat": 4,
 "nbformat_minor": 4
}
