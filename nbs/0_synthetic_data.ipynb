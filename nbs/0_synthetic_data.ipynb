{
 "cells": [
  {
   "cell_type": "markdown",
   "metadata": {},
   "source": [
    "# Preparing Simulation Data\n",
    "> Notebook for preparing simulated (synthetic) data. This data will be called as a \"raw data\" in other notebooks."
   ]
  },
  {
   "cell_type": "code",
   "execution_count": 1,
   "metadata": {
    "ExecuteTime": {
     "end_time": "2020-09-02T04:22:37.945971Z",
     "start_time": "2020-09-02T04:22:36.815628Z"
    }
   },
   "outputs": [],
   "source": [
    "from vertex_simulation.primitives import unit_hexagons, VoronoiRegions2Edges, Vertex, Monolayer\n",
    "from vertex_simulation.simulation import Simulation_Honda, Simulation_Honda_t\n",
    "import numpy as np\n",
    "import torch"
   ]
  },
  {
   "cell_type": "code",
   "execution_count": 2,
   "metadata": {
    "ExecuteTime": {
     "end_time": "2020-09-02T04:22:37.952301Z",
     "start_time": "2020-09-02T04:22:37.948261Z"
    }
   },
   "outputs": [
    {
     "name": "stdout",
     "output_type": "stream",
     "text": [
      "device: cpu\n",
      "dtype: torch.float32\n"
     ]
    }
   ],
   "source": [
    "device = torch.device('cpu')\n",
    "if torch.cuda.is_available():\n",
    "    device = torch.device('cuda')\n",
    "dtype = torch.float32\n",
    "print(f'device: {device}\\ndtype: {dtype}')"
   ]
  },
  {
   "cell_type": "markdown",
   "metadata": {},
   "source": [
    "## Raw Synthetic Dataset"
   ]
  },
  {
   "cell_type": "markdown",
   "metadata": {},
   "source": [
    "Initialising cell monolayers"
   ]
  },
  {
   "cell_type": "code",
   "execution_count": 7,
   "metadata": {
    "ExecuteTime": {
     "end_time": "2020-09-02T04:31:00.085429Z",
     "start_time": "2020-09-02T04:31:00.078224Z"
    }
   },
   "outputs": [],
   "source": [
    "v_x,regions = unit_hexagons(4,4) # unit hexagons\n",
    "edge_list,cells = VoronoiRegions2Edges(regions) #convert Voronoi regions to cells & edges\n",
    "\n",
    "m = Monolayer(vertices = Vertex( v_x.copy().tolist(), dtype = dtype), edges = torch.tensor(edge_list), cells = cells)\n",
    "m.to_(device) # to plot use --> plot_graph_as_quiver(cell_graph)"
   ]
  },
  {
   "cell_type": "markdown",
   "metadata": {
    "heading_collapsed": true
   },
   "source": [
    "### Plotting Monolayer Graphs"
   ]
  },
  {
   "cell_type": "code",
   "execution_count": 16,
   "metadata": {
    "ExecuteTime": {
     "end_time": "2020-09-02T04:33:30.451876Z",
     "start_time": "2020-09-02T04:33:30.449147Z"
    },
    "hidden": true
   },
   "outputs": [],
   "source": [
    "from vertex_simulation.primitives import plot_graph_as_quiver, graph2networkx_with_pos\n",
    "import matplotlib.pyplot as plt\n",
    "import networkx as nx"
   ]
  },
  {
   "cell_type": "markdown",
   "metadata": {
    "hidden": true
   },
   "source": [
    "Using `plot_graph_as_quiver`"
   ]
  },
  {
   "cell_type": "code",
   "execution_count": 52,
   "metadata": {
    "ExecuteTime": {
     "end_time": "2020-09-02T05:42:45.932428Z",
     "start_time": "2020-09-02T05:42:45.885659Z"
    },
    "hidden": true,
    "scrolled": true
   },
   "outputs": [
    {
     "data": {
      "image/png": "[encoded data removed]",
      "text/plain": [
       "<Figure size 180x180 with 1 Axes>"
      ]
     },
     "metadata": {
      "needs_background": "light"
     },
     "output_type": "display_data"
    }
   ],
   "source": [
    "plt.figure(figsize=[2.5,2.5])\n",
    "plot_graph_as_quiver(m)\n",
    "plt.axis('equal');"
   ]
  },
  {
   "cell_type": "markdown",
   "metadata": {
    "ExecuteTime": {
     "end_time": "2020-09-02T04:33:31.960203Z",
     "start_time": "2020-09-02T04:33:31.957412Z"
    },
    "hidden": true
   },
   "source": [
    "Convert to `networkx.Graph` with `graph2networkx_with_pos` and use `networkx.draw` function"
   ]
  },
  {
   "cell_type": "code",
   "execution_count": 59,
   "metadata": {
    "ExecuteTime": {
     "end_time": "2020-09-02T05:46:29.566975Z",
     "start_time": "2020-09-02T05:46:29.459376Z"
    },
    "hidden": true
   },
   "outputs": [
    {
     "data": {
      "image/png": "[encoded data removed]",
      "text/plain": [
       "<Figure size 144x144 with 1 Axes>"
      ]
     },
     "metadata": {},
     "output_type": "display_data"
    }
   ],
   "source": [
    "plt.figure(figsize=[2,2])\n",
    "nx.draw(*graph2networkx_with_pos(m), node_size=50, width=1)\n",
    "plt.axis('equal');"
   ]
  },
  {
   "cell_type": "markdown",
   "metadata": {},
   "source": [
    "### Simulation"
   ]
  },
  {
   "cell_type": "markdown",
   "metadata": {},
   "source": [
    "Prepare an initial state"
   ]
  },
  {
   "cell_type": "code",
   "execution_count": 60,
   "metadata": {
    "ExecuteTime": {
     "end_time": "2020-09-02T08:34:54.562015Z",
     "start_time": "2020-09-02T08:34:54.543291Z"
    }
   },
   "outputs": [],
   "source": [
    "np.random.seed(42)# np RNG seed\n",
    "torch.manual_seed(0);# torch RNG seed\n",
    "v_x,regions = unit_hexagons(4,4) # unit hexagons\n",
    "v_x += np.random.randn(v_x.shape[0], v_x.shape[1])*.2 #perturb vertices\n",
    "edge_list,cells = VoronoiRegions2Edges(regions) #convert Voronoi regions to cells & edges\n",
    "# Define cell monolayer\n",
    "m = Monolayer(vertices = Vertex( v_x.copy().tolist(), dtype = dtype), edges = torch.tensor(edge_list), cells = cells)\n",
    "m.to_(device) # to plot use --> plot_graph_as_quiver(cell_graph)"
   ]
  },
  {
   "cell_type": "code",
   "execution_count": 61,
   "metadata": {
    "ExecuteTime": {
     "end_time": "2020-09-02T08:34:59.309149Z",
     "start_time": "2020-09-02T08:34:59.305677Z"
    }
   },
   "outputs": [
    {
     "data": {
      "text/plain": [
       "Monolayer 16 cells, Graph: 63 edges; 48 vertices"
      ]
     },
     "execution_count": 61,
     "metadata": {},
     "output_type": "execute_result"
    }
   ],
   "source": [
    "m"
   ]
  },
  {
   "cell_type": "code",
   "execution_count": 4,
   "metadata": {
    "ExecuteTime": {
     "end_time": "2020-09-01T06:52:30.530349Z",
     "start_time": "2020-09-01T06:52:30.527977Z"
    }
   },
   "outputs": [],
   "source": [
    "# omega_0 = torch.tensor([np.pi/2],dtype=dtype,device=device)\n",
    "# phase = torch.rand((len(edge_list),1)).type(dtype).to(device)\n",
    "# p_keep = 0.75 # fraction to keep active\n",
    "# e_ij_on = (torch.rand((len(edge_list),1))<p_keep).type(dtype).to(device)\n",
    "# omega = torch.randn_like(e_ij_on) + omega_0\n",
    "\n",
    "# sim = simulation.Simulation_Honda(m = cell_graph, params = {'Ka':1., 'A0':2.3,'Kp':0.003,'P0':0.,\n",
    "#                                                  'Lambda_ij': lambda m,t: e_ij_on*torch.cos(omega*t+phase)**2 })\n",
    "# t, verts_t, Energies_maxSpeeds = sim.sample_trajectory(T=1000, delta_T=0.001, sample_freq=10, print_freq=200)"
   ]
  }
 ],
 "metadata": {
  "hide_input": false,
  "kernelspec": {
   "display_name": "Python [conda env:pytorch]",
   "language": "python",
   "name": "conda-env-pytorch-py"
  },
  "language_info": {
   "codemirror_mode": {
    "name": "ipython",
    "version": 3
   },
   "file_extension": ".py",
   "mimetype": "text/x-python",
   "name": "python",
   "nbconvert_exporter": "python",
   "pygments_lexer": "ipython3",
   "version": "3.7.4"
  },
  "toc": {
   "base_numbering": 1,
   "nav_menu": {},
   "number_sections": true,
   "sideBar": true,
   "skip_h1_title": true,
   "title_cell": "Table of Contents",
   "title_sidebar": "Contents",
   "toc_cell": false,
   "toc_position": {},
   "toc_section_display": true,
   "toc_window_display": false
  }
 },
 "nbformat": 4,
 "nbformat_minor": 2
}
