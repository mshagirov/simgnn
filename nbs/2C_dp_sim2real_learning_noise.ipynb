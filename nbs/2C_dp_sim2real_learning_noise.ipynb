{
 "cells": [
  {
   "cell_type": "markdown",
   "metadata": {},
   "source": [
    "# Velocity Sim2real Transfer: Learning to Filter Noise\n",
    "---\n",
    "> Training velocity GNN(1) model with noisy input features"
   ]
  },
  {
   "cell_type": "markdown",
   "metadata": {},
   "source": [
    "- All simulated movies, regardless of their simulation param-s, use the same *normalisation constants*.\n",
    "- Hara movies (node velocity data) and ablation (recoil data) movies have different spatio-temporal resolutions:\n",
    "    - After scaling them to the same length scale and frame rate (microns/10s), we use the average edge length to normalise spatial variables (displacement and position; frame rate is assumed to be 10s for all movies including the simulated movies)\n",
    "\n",
    "|Dataset | Details | Shortname| Avg. edge len.| Transforms (Normalisation)|\n",
    "|:---:|:---|:---|---:|:---|\n",
    "|Synthetic datasets     | vertex dynamics simulations| \"train\" and \"val\"| 1.0 a.u.| `[Pos2Vec(scale=10*1.0)`, `ScaleVelocity(0.5*1.0)`, `ScaleTension(0.634,shift=0.6)`, `ScalePressure(0.33,shift=0.1)]`|\n",
    "|Hara movies    | no force information       | \"hara\"| 26.32 pixels|`[Pos2Vec(scale=10*26.32)`,`ScaleVelocity(0.5*26.32)]`|\n",
    "|Hara ablation | short movies w/ recoil data| \"abln\"| 26.32*0.4/0.21 pixels | (not used for testing velocity) |\n"
   ]
  },
  {
   "cell_type": "code",
   "execution_count": 1,
   "metadata": {
    "ExecuteTime": {
     "end_time": "2021-05-28T18:55:35.884148Z",
     "start_time": "2021-05-28T18:55:35.861325Z"
    }
   },
   "outputs": [],
   "source": [
    "%load_ext autoreload\n",
    "%autoreload 2"
   ]
  },
  {
   "cell_type": "code",
   "execution_count": 2,
   "metadata": {
    "ExecuteTime": {
     "end_time": "2021-05-28T18:55:37.881403Z",
     "start_time": "2021-05-28T18:55:36.128569Z"
    }
   },
   "outputs": [],
   "source": [
    "import numpy as np\n",
    "import torch\n",
    "from os import path\n",
    "import datetime\n",
    "\n",
    "from torch_geometric.data import Data, DataLoader\n",
    "import torch_geometric.transforms as T\n",
    "\n",
    "from torch_geometric.utils import to_networkx, from_networkx\n",
    "import networkx as nx\n",
    "from simgnn.datautils import load_array, load_graph\n",
    "\n",
    "import matplotlib.pyplot as plt\n",
    "import matplotlib\n",
    "plt.style.use(['seaborn-paper', 'seaborn-ticks'])\n",
    "# import seaborn as sns\n",
    "# sns.set_theme(context='paper', style='ticks')\n",
    "\n",
    "%matplotlib inline\n",
    "# matplotlib.rcParams['figure.figsize'] = (10,10) # use larger for presentation\n",
    "# matplotlib.rcParams['font.size']= 16 # use 14 for presentation"
   ]
  },
  {
   "cell_type": "code",
   "execution_count": 3,
   "metadata": {
    "ExecuteTime": {
     "end_time": "2021-05-28T18:55:37.928373Z",
     "start_time": "2021-05-28T18:55:37.884677Z"
    }
   },
   "outputs": [],
   "source": [
    "from simgnn.datasets import persistence_loss, VertexDynamics, HaraMovies\n",
    "from simgnn.train import train_model, write_log, load_log, predict, predict_batch\n",
    "from simgnn.train import plot_velocity_predictions, plot_losses\n",
    "from simgnn.transforms import Pos2Vec, ScaleVelocity, Reshape_x, AddPosNoise #, ScaleTension, ScalePressure,\n",
    "# from torch_geometric.utils import to_undirected as T_undir"
   ]
  },
  {
   "cell_type": "code",
   "execution_count": 4,
   "metadata": {
    "ExecuteTime": {
     "end_time": "2021-05-28T18:55:39.295243Z",
     "start_time": "2021-05-28T18:55:39.253612Z"
    }
   },
   "outputs": [
    {
     "name": "stdout",
     "output_type": "stream",
     "text": [
      "Defaults:\n",
      " |-- device: cuda\n",
      " |-- dtype : torch.float32\n"
     ]
    }
   ],
   "source": [
    "device = torch.device('cpu')\n",
    "if torch.cuda.is_available():\n",
    "    device = torch.device('cuda')\n",
    "dtype = torch.float32\n",
    "print(f'Defaults:\\n |-- device: {device}\\n |-- dtype : {dtype}')"
   ]
  },
  {
   "cell_type": "markdown",
   "metadata": {},
   "source": [
    "---"
   ]
  },
  {
   "cell_type": "markdown",
   "metadata": {
    "tags": []
   },
   "source": [
    "# GNN(1) Training w/ Noisy Simul-n Data"
   ]
  },
  {
   "cell_type": "markdown",
   "metadata": {},
   "source": [
    "## Datasets"
   ]
  },
  {
   "cell_type": "markdown",
   "metadata": {},
   "source": [
    "`CellData` prop-s (graph data objects):\n",
    "- `x` : `(#nodes, WindowWidth, 2)` *node features*\n",
    "- `y` : `(#nodes, 2)` *node targets (velocities)*.\n",
    "- `pos` : `(#nodes, 2)` *node positions*.\n",
    "- `edge_attr` : `(#edges, 2)` or `(#edges, #edge_features)` *edge features  (relative Cartesian positions of connected nodes)*.\n",
    "- `edge_index` : `(2, #edges)` *edge indices*.\n",
    "- `edge_tensions` : `(#edges,)` *edge targets (line tensions)*.\n",
    "- `node2cell_index` : `(2, #cell2node_edges)`, `node2cell`-> *first row is node indices and second row is cell indices;\n",
    "- `cell2node_index` : `(2, #cell2node_edges)`, `cell2node`-> *first row is cell indices and second row is node indices*.\n",
    "- `cell_pressures` : `(#cells,)` *cell targets (cell pressures)*."
   ]
  },
  {
   "cell_type": "code",
   "execution_count": 10,
   "metadata": {},
   "outputs": [],
   "source": [
    "def clear_processed_datasets():\n",
    "    !rm -dr simgnn_data/single_distr_sims/train/processed\n",
    "    !rm -dr simgnn_data/single_distr_sims/val/processed\n",
    "\n",
    "    !rm -dr simgnn_data/unimodal_wbasetens_sims/train/processed\n",
    "    !rm -dr simgnn_data/unimodal_wbasetens_sims/val/processed\n",
    "\n",
    "    !rm -dr simgnn_data/hara_movies_as_sep_datasets/hara_seg001/processed/\n",
    "    !rm -dr simgnn_data/hara_movies_as_sep_datasets/hara_seg003/processed/\n",
    "    !rm -dr simgnn_data/hara_movies_as_sep_datasets/hara_seg005/processed/\n",
    "    \n",
    "    !rm -dr simgnn_data/hara_movies_as_sep_datasets_copy/hara_seg001/processed/\n",
    "    !rm -dr simgnn_data/hara_movies_as_sep_datasets_copy/hara_seg003/processed/\n",
    "    !rm -dr simgnn_data/hara_movies_as_sep_datasets_copy/hara_seg005/processed/"
   ]
  },
  {
   "cell_type": "code",
   "execution_count": 11,
   "metadata": {},
   "outputs": [],
   "source": [
    "# clear_processed_datasets()"
   ]
  },
  {
   "cell_type": "markdown",
   "metadata": {},
   "source": [
    "- Average lengths"
   ]
  },
  {
   "cell_type": "code",
   "execution_count": 12,
   "metadata": {},
   "outputs": [],
   "source": [
    "window_size = 5\n",
    "n_hidden_layers = 10\n",
    "\n",
    "sma_lag_time = 4\n",
    "\n",
    "# average edge lengths\n",
    "l_0 = {'sim':1.0, 'single_distr_sims':1.1, 'unimodal_wbasetens_sims':0.91, 'hara':26.32, 'abln':50.13}"
   ]
  },
  {
   "cell_type": "code",
   "execution_count": 13,
   "metadata": {},
   "outputs": [],
   "source": [
    "# Noise for training data\n",
    "pos_noise = torch.normal\n",
    "noise_args= [0, 0.03] #[0,1]\n",
    "frac  = 1 # 100%*frac of nodes\n",
    "coeffs = {'x': np.sqrt(2)*l_0['sim'], 'pos':1.0*l_0['sim']}\n",
    "# coeffs = l_0['sim']\n",
    "coeff_name = 'cxSqrt2' if isinstance(coeffs, dict) else ''"
   ]
  },
  {
   "cell_type": "code",
   "execution_count": 154,
   "metadata": {},
   "outputs": [],
   "source": [
    "# Normalisation: for simulated data (simul params ~ normal distr-s): l0=1.0, Hara_movie: l0=26.32\n",
    "# Tnorm = T.Compose([Pos2Vec(scale=1.0*10.0) , ScaleVelocity(1.0*0.5), Reshape_x((-1,window_size*2)) ] )\n",
    "# Hara movie normalisation\n",
    "# Tnorm_hara = T.Compose([Pos2Vec(scale=10*26.32) , ScaleVelocity(0.5*26.32), Reshape_x((-1,window_size*2))])\n",
    "\n",
    "# Use mean edge len w/o additional scaling for vel-y and edge len-s\n",
    "Tnorms = {}\n",
    "\n",
    "Tnorms['hara'] = T.Compose([ Pos2Vec(scale=l_0['hara']), ScaleVelocity(l_0['hara']), Reshape_x((-1,window_size*2))])\n",
    "\n",
    "Tnorms['sim'] = T.Compose([ AddPosNoise(pos_noise, frac=frac, coeffs=coeffs, noise_args=noise_args),\n",
    "                         Pos2Vec(scale=l_0['sim']) , ScaleVelocity(l_0['sim']), Reshape_x((-1,window_size*2)) ] )\n",
    "\n",
    "Tnorms['sim_val'] = T.Compose([ Pos2Vec(scale=l_0['sim']) , ScaleVelocity(l_0['sim']), Reshape_x((-1,window_size*2)) ] )\n",
    "\n",
    "velocity_scale = {'train':l_0['sim'], 'val':l_0['sim'], 'val2':l_0['sim'], 'hara':l_0['hara']}"
   ]
  },
  {
   "cell_type": "code",
   "execution_count": 155,
   "metadata": {
    "ExecuteTime": {
     "end_time": "2021-05-28T20:39:07.612583Z",
     "start_time": "2021-05-28T20:39:07.565628Z"
    }
   },
   "outputs": [
    {
     "name": "stdout",
     "output_type": "stream",
     "text": [
      "rm: cannot remove 'simgnn_data/single_distr_sims/train/processed': No such file or directory\n",
      "rm: cannot remove 'simgnn_data/hara_movies_as_sep_datasets/hara_seg003/processed/': No such file or directory\n",
      "rm: cannot remove 'simgnn_data/hara_movies_as_sep_datasets/hara_seg005/processed/': No such file or directory\n",
      "rm: cannot remove 'simgnn_data/hara_movies_as_sep_datasets_copy/hara_seg003/processed/': No such file or directory\n",
      "rm: cannot remove 'simgnn_data/hara_movies_as_sep_datasets_copy/hara_seg005/processed/': No such file or directory\n",
      "Processing...\n",
      "Done!\n",
      "Processing...\n",
      "Done!\n",
      "Processing...\n",
      "Done!\n",
      "Processing...\n",
      "Done!\n",
      "Processing...\n",
      "Done!\n"
     ]
    }
   ],
   "source": [
    "clear_processed_datasets()\n",
    "\n",
    "# Hara movie datasets (denoised)\n",
    "seg001 = HaraMovies('simgnn_data/hara_movies_as_sep_datasets/hara_seg001/', window_size=window_size,\n",
    "                    transform=Tnorms['hara'], smoothing=True, sma_lag_time=sma_lag_time)\n",
    "# seg003 = HaraMovies('simgnn_data/hara_movies_as_sep_datasets/hara_seg003/', window_size=window_size,\n",
    "#                     transform=Tnorms['hara'],smoothing=True, sma_lag_time=sma_lag_time)\n",
    "# seg005 = HaraMovies('simgnn_data/hara_movies_as_sep_datasets/hara_seg005/', window_size=window_size,\n",
    "#                     transform=Tnorms['hara'],smoothing=True, sma_lag_time=sma_lag_time)\n",
    "\n",
    "seg001_raw = HaraMovies('simgnn_data/hara_movies_as_sep_datasets_copy/hara_seg001/', window_size=window_size,\n",
    "                    transform=Tnorms['hara'], smoothing=False)\n",
    "\n",
    "# Simulation datasets\n",
    "sim1 = VertexDynamics('./simgnn_data/unimodal_wbasetens_sims/train/', window_size=window_size, transform=Tnorms['sim'])\n",
    "sim1_val = VertexDynamics('./simgnn_data/unimodal_wbasetens_sims/val/', window_size=window_size, transform=Tnorms['sim_val'])\n",
    "# sim2 = VertexDynamics('./simgnn_data/single_distr_sims/train/', window_size=window_size, transform=Tnorms['sim'])\n",
    "sim2_val = VertexDynamics('./simgnn_data/single_distr_sims/val/', window_size=window_size, transform=Tnorms['sim_val'])\n",
    "\n",
    "datasets_dict = {'train': sim1,\n",
    "                 'val': sim1_val,\n",
    "                 'val2' : sim2_val,\n",
    "                 'H1' : seg001,\n",
    "                 'H1raw' : seg001_raw,\n",
    "#                  'hara' : hara,\n",
    "                }\n",
    "dataset_legend={'train': 'Train($\\mathcal{H}_1$)',\n",
    "                'val': 'Supervised($\\mathcal{D}_{sim1}$)',\n",
    "                'val2': 'Sim2sim($\\mathcal{D}_{sim2}$)',\n",
    "                'H1': 'Sim2real($\\mathcal{H}_1$)',\n",
    "                'H1raw': 'Sim2real($\\mathcal{H}_1$); raw'\n",
    "                }"
   ]
  },
  {
   "cell_type": "code",
   "execution_count": 156,
   "metadata": {},
   "outputs": [],
   "source": [
    "# datasets_dict[k][0].pos.numpy() - datasets_dict[k][0].pos.numpy()"
   ]
  },
  {
   "cell_type": "code",
   "execution_count": 157,
   "metadata": {},
   "outputs": [],
   "source": [
    "# datasets_dict['train'].processed_file_names"
   ]
  },
  {
   "cell_type": "code",
   "execution_count": 158,
   "metadata": {
    "ExecuteTime": {
     "end_time": "2021-05-28T20:39:10.846237Z",
     "start_time": "2021-05-28T20:39:08.262162Z"
    }
   },
   "outputs": [],
   "source": [
    "# k='train'\n",
    "# print('{} : {}\\nsize:{}\\n\\nFrame 1:\\n{}'.format(k,datasets_dict[k],len(datasets_dict[k]),datasets_dict[k][0]))\n",
    "# plt.figure(figsize=[2.5,2.5])\n",
    "# nx.draw(to_networkx(datasets_dict[k][0]),pos=dict(enumerate(datasets_dict[k][0].pos.numpy())), node_size=10)"
   ]
  },
  {
   "cell_type": "markdown",
   "metadata": {
    "heading_collapsed": true,
    "jp-MarkdownHeadingCollapsed": true,
    "tags": []
   },
   "source": [
    "## Single Message Passing Step\n",
    "> Single MP step, uses graph and relative node positions w.r.t. connected neighbouring nodes"
   ]
  },
  {
   "cell_type": "markdown",
   "metadata": {
    "hidden": true
   },
   "source": [
    "- Single MP step w/ a very simple Update mlp. Update stage is equivalent to the node model (plain mlp) w/ an additional edge features as messages."
   ]
  },
  {
   "cell_type": "code",
   "execution_count": 16,
   "metadata": {
    "hidden": true
   },
   "outputs": [],
   "source": [
    "from simgnn.models import Single_MP_step"
   ]
  },
  {
   "cell_type": "code",
   "execution_count": 164,
   "metadata": {},
   "outputs": [],
   "source": [
    "dropout_p = 0.1\n",
    "num_epochs = 1000\n",
    "lr = 0.001\n",
    "\n",
    "bs = 2\n",
    "\n",
    "loaders = {'train' : DataLoader(datasets_dict['train'], batch_size=bs, shuffle=True),\n",
    "           'val': DataLoader(datasets_dict['val'], batch_size=bs),\n",
    "#            'val2': DataLoader(datasets_dict['val2'], batch_size=bs),\n",
    "#           'hara': DataLoader(datasets_dict['hara'], batch_size=bs)\n",
    "          }\n",
    "\n",
    "model_states = list(loaders.keys())\n",
    "use_force_loss = {k:[False,False] for k in loaders}\n",
    "\n",
    "loss_func = torch.nn.MSELoss(reduction='mean')\n",
    "\n",
    "GNN_save_dir = './simgnn_data/saved_models/thesis/2C_dp_sim2real_learning_noise/'"
   ]
  },
  {
   "cell_type": "markdown",
   "metadata": {},
   "source": [
    "### GNN(1) aka single graph layer (message and update) sizes\n",
    "> The output layer of the message MLP in a 1-layer GNN model counted as a hidden layer"
   ]
  },
  {
   "cell_type": "code",
   "execution_count": null,
   "metadata": {},
   "outputs": [],
   "source": [
    "torch.manual_seed(42)\n",
    "\n",
    "msg_dim = 32  # message MLP latent dim-s\n",
    "upd_dim = 128  # update MLP latent dim-s\n",
    "\n",
    "upd_h_layers = max([0, n_hidden_layers//2])# Update MLP hidden_layers\n",
    "update_hidden_dims=[upd_dim for k in range(upd_h_layers-1)]+[16]\n",
    "\n",
    "msg_h_layers = max([0, n_hidden_layers - upd_h_layers])# Message MLP hidden_layers\n",
    "message_hidden_dims = [msg_dim for k in range(msg_h_layers-1)] # assume output layer is hidden for MP step model\n",
    "\n",
    "\n",
    "print(f'{k}: N(h_dims)={n_hidden_layers}')\n",
    "\n",
    "net = Single_MP_step(node_in_features=window_size*2, node_out_features=2, edge_in_features=2,\n",
    "                     message_out_features=msg_dim, message_hidden_dims=message_hidden_dims,\n",
    "                     aggr='mean', update_hidden_dims=update_hidden_dims,\n",
    "                     dropout_p=dropout_p).to(device)\n",
    "\n",
    "opt = torch.optim.Adam(net.parameters(), lr=lr)\n",
    "scheduler = None\n",
    "\n",
    "return_best = False\n",
    "model_name = f'{net.__class__.__name__}_sd{noise_args[1]}f{frac}{coeff_name}_epochs{num_epochs}'\n",
    "\n",
    "print(model_name,end='\\n---\\n')\n",
    "net, train_log = train_model(net, loaders, opt, num_epochs=num_epochs, scheduler=None, device=device,\n",
    "                             model_states = model_states, loss_func = loss_func,\n",
    "                             use_force_loss=use_force_loss, return_best=return_best)\n",
    "\n",
    "# plot losses\n",
    "plot_losses(train_log, loaders, dataset_legend, figsize=[7,4]); plt.show()\n",
    "\n",
    "\n",
    "# MODEL SAVING:\n",
    "\n",
    "write_log(f'{path.join(GNN_save_dir, model_name)}_log.pkl',train_log)\n",
    "model_save_path = path.join(GNN_save_dir, model_name+'.pkl')\n",
    "torch.save(net.state_dict(), model_save_path)\n",
    "print(f'Model weights saved in \\n{model_save_path}\\n---\\n')"
   ]
  },
  {
   "cell_type": "code",
   "execution_count": null,
   "metadata": {},
   "outputs": [],
   "source": [
    "pred_loaders = {\n",
    "#     'train' : DataLoader(datasets_dict['train'], batch_size=bs, shuffle=True),\n",
    "                'val': DataLoader(datasets_dict['val'], batch_size=bs),\n",
    "                'val2': DataLoader(datasets_dict['val2'], batch_size=bs),\n",
    "                'H1': DataLoader(datasets_dict['H1'], batch_size=bs),\n",
    "                'H1raw': DataLoader(datasets_dict['H1raw'], batch_size=bs),\n",
    "               }\n",
    "# compute predictions and plot them\n",
    "pred_out, tgt_out, sample_losses = predict_batch(net, pred_loaders,\n",
    "                                                 loss_func=torch.nn.MSELoss(reduction='sum'),\n",
    "                                                 use_force_loss = {k: False for k in pred_loaders},\n",
    "                                                 return_losses = True, device=device)\n",
    "print(''.join([f'- {k} ={sample_losses[k]};\\n' for k in sample_losses]))\n",
    "\n",
    "plot_velocity_predictions(pred_out[0], tgt_out[0], dataset_legend, subplots_kw={'figsize':[8,3.5]})"
   ]
  },
  {
   "cell_type": "markdown",
   "metadata": {},
   "source": [
    "```\n",
    "coeff = {'x': np.sqrt(2)*l_0['sim'], 'pos':1.0*l_0['sim']}\n",
    "f=0.3; sd=0.01\n",
    "- val_loss_y =0.00014772496279573182;\n",
    "- val2_loss_y =0.0002205065226801124;\n",
    "- H1_loss_y =0.00010273008609392955;\n",
    "- H1raw_loss_y =0.0018718269209639724;\n",
    "f=1.0; sd=0.03 # HIGH BIAS--> Noise injection acts as a regularisation constraint!\n",
    "- val_loss_y =0.0005726190656179448;\n",
    "- val2_loss_y =0.0006900143062511644;\n",
    "- H1_loss_y =0.00016935544290854504;\n",
    "- H1raw_loss_y =0.0011007516915412278;\n",
    "```"
   ]
  },
  {
   "cell_type": "markdown",
   "metadata": {},
   "source": [
    "---\n",
    "```\n",
    "f=0.2; sd=0.001;\n",
    "- val_loss_y =0.00011222623120798079;\n",
    "- val2_loss_y =0.00017364779707683615;\n",
    "- H1_loss_y =0.00021233829832790696;\n",
    "- H1raw_loss_y =0.005644451527796405;\n",
    "\n",
    "sd=0.01\n",
    "- val_loss_y =0.0001295140943200685;\n",
    "- val2_loss_y =0.00019427845789873793;\n",
    "- H1_loss_y =0.00010998991613344449;\n",
    "- H1raw_loss_y =0.0028997599814260615;\n",
    "sd=0.03\n",
    "- val_loss_y =0.0001380167705303505;\n",
    "- val2_loss_y =0.00021085752404923926;\n",
    "- H1_loss_y =0.00011749314949610282;\n",
    "- H1raw_loss_y =0.0013095034364850452;\n",
    "sd=0.1\n",
    "- val_loss_y =0.00014190938946855686;\n",
    "- val2_loss_y =0.0002178387277124297;\n",
    "- H1_loss_y =0.00016547521852997612;\n",
    "- H1raw_loss_y =0.0018628526057742388;\n",
    "sd=0.3\n",
    "- val_loss_y =0.00013540205493847672;\n",
    "- val2_loss_y =0.00021272544872680157;\n",
    "- H1_loss_y =0.00018553323548146732;\n",
    "- H1raw_loss_y =0.003279668165416252;\n",
    "```"
   ]
  },
  {
   "cell_type": "markdown",
   "metadata": {},
   "source": [
    "---\n",
    "```\n",
    "f=0.05; sd=0.01\n",
    "- val_loss_y =0.000117523342948944;\n",
    "- val2_loss_y =0.0001772897342016837;\n",
    "- H1_loss_y =0.00015277827154440256;\n",
    "- H1raw_loss_y =0.003758851361116126;\n",
    "f=0.1\n",
    "- val_loss_y =0.00012324319625710325;\n",
    "- val2_loss_y =0.00018600442813629077;\n",
    "- H1_loss_y =0.00013637467413446855;\n",
    "- H1raw_loss_y =0.0032307971475393966;\n",
    "f=0.3\n",
    "- val_loss_y =0.00014252006564518805;\n",
    "- val2_loss_y =0.00021017055733354536;\n",
    "- H1_loss_y =9.706326886317683e-05;\n",
    "- H1raw_loss_y =0.0027630896367413504;\n",
    "f=0.5\n",
    "- val_loss_y =0.00015945568910237222;\n",
    "- val2_loss_y =0.00023085957185214895;\n",
    "- H1_loss_y =8.360448844747375e-05;\n",
    "- H1raw_loss_y =0.002515228730347627;\n",
    "f=1.0\n",
    "- val_loss_y =0.00019442476622081638;\n",
    "- val2_loss_y =0.00027197577328510135;\n",
    "- H1_loss_y =8.42321765280748e-05;\n",
    "- H1raw_loss_y =0.002145789206820951;\n",
    "```"
   ]
  },
  {
   "cell_type": "markdown",
   "metadata": {},
   "source": [
    "## Longer training test for corrupting a smaller portion"
   ]
  },
  {
   "cell_type": "markdown",
   "metadata": {},
   "source": [
    "```\n",
    "Corrupting 30 % of nodes\n",
    "========================\n",
    "f=0.3; sd=0.03\n",
    "Single_MP_step_sd0.03f0.3cxSqrt2_epochs1000.pkl\n",
    "---\n",
    "- val_loss_y =0.00014857835332261274;\n",
    "- val2_loss_y =0.00022444450288589034;\n",
    "- H1_loss_y =0.00014537067798910014;\n",
    "- H1raw_loss_y =0.0011164773693370185;\n",
    "\n",
    "f=0.5; sd=0.03\n",
    "Single_MP_step_sd0.03f0.5cxSqrt2_epochs1000.pkl\n",
    "---\n",
    "- val_loss_y =0.00015593221857240557;\n",
    "- val2_loss_y =0.00023825398830512723;\n",
    "- H1_loss_y =0.00014722830411501047;\n",
    "- H1raw_loss_y =0.0011049167379043054;\n",
    "\n",
    "f=1.0; sd=0.03\n",
    "Single_MP_step_sd0.03f1.0cxSqrt2_epochs1000.pkl\n",
    "---\n",
    "- val_loss_y =0.0006464833307029925;\n",
    "- val2_loss_y =0.0007694661404720224;\n",
    "- H1_loss_y =0.00017218155303181144;\n",
    "- H1raw_loss_y =0.001068703876498533;\n",
    "```"
   ]
  },
  {
   "cell_type": "code",
   "execution_count": 20,
   "metadata": {},
   "outputs": [],
   "source": [
    "from simgnn.models import Single_MP_step"
   ]
  },
  {
   "cell_type": "code",
   "execution_count": 22,
   "metadata": {},
   "outputs": [],
   "source": [
    "# Noise for training data\n",
    "pos_noise = torch.normal\n",
    "noise_args= [0, 0.01] #[0,1]\n",
    "fracs  = [0.3, 0.5, 1.0] # 100%*frac of nodes\n",
    "coeffs = {'x': np.sqrt(2)*l_0['sim'], 'pos':1.0*l_0['sim']}\n",
    "coeff_name = 'cxSqrt2' if isinstance(coeffs, dict) else ''\n",
    "\n",
    "velocity_scale = {'train':l_0['sim'], 'val':l_0['sim'], 'val2':l_0['sim'], 'hara':l_0['hara']}\n"
   ]
  },
  {
   "cell_type": "code",
   "execution_count": null,
   "metadata": {
    "ExecuteTime": {
     "end_time": "2021-05-28T20:39:07.612583Z",
     "start_time": "2021-05-28T20:39:07.565628Z"
    },
    "scrolled": true
   },
   "outputs": [
    {
     "name": "stdout",
     "output_type": "stream",
     "text": [
      "0: N(h_dims)=10\n",
      "Single_MP_step_sd0.01f0.3cxSqrt2_epochs1000\n",
      "---\n",
      "Training param-s: #epochs=1000, metric=MSELoss(), batch_size=2, optim=Adam, sch-r=none, return_best=False\n",
      "---\n",
      "Epoch 0/999: train_loss_tot=0.004826; train_loss_y=0.004826; |val_loss_tot=0.001293; |3s\n",
      "Epoch 1/999: train_loss_tot=0.001765; train_loss_y=0.001765; |val_loss_tot=0.0005297; |7s\n",
      "Epoch 2/999: train_loss_tot=0.001079; train_loss_y=0.001079; |val_loss_tot=0.0003696; |10s\n",
      "Epoch 3/999: train_loss_tot=0.0008959; train_loss_y=0.0008959; |val_loss_tot=0.0003856; |13s\n",
      "Epoch 4/999: train_loss_tot=0.0007884; train_loss_y=0.0007884; |val_loss_tot=0.0003293; |16s\n",
      "Epoch 5/999: train_loss_tot=0.0007072; train_loss_y=0.0007072; |val_loss_tot=0.000291; |19s\n",
      "Epoch 6/999: train_loss_tot=0.0006495; train_loss_y=0.0006495; |val_loss_tot=0.000295; |22s\n",
      "Epoch 7/999: train_loss_tot=0.0006096; train_loss_y=0.0006096; |val_loss_tot=0.0002863; |26s\n",
      "Epoch 8/999: train_loss_tot=0.0005754; train_loss_y=0.0005754; |val_loss_tot=0.0002786; |29s\n",
      "Epoch 9/999: train_loss_tot=0.0005585; train_loss_y=0.0005585; |val_loss_tot=0.0002675; |32s\n",
      "Epoch 10/999: train_loss_tot=0.000534; train_loss_y=0.000534; |"
     ]
    }
   ],
   "source": [
    "for k, frac in enumerate(fracs):\n",
    "    # clear_processed_datasets()\n",
    "    # Use mean edge len w/o additional scaling for vel-y and edge len-s\n",
    "    Tnorms = {}\n",
    "\n",
    "    Tnorms['hara'] = T.Compose([ Pos2Vec(scale=l_0['hara']), ScaleVelocity(l_0['hara']), Reshape_x((-1,window_size*2))])\n",
    "\n",
    "    Tnorms['sim'] = T.Compose([ AddPosNoise(pos_noise, frac=frac, coeffs=coeffs, noise_args=noise_args),\n",
    "                             Pos2Vec(scale=l_0['sim']) , ScaleVelocity(l_0['sim']), Reshape_x((-1,window_size*2)) ] )\n",
    "\n",
    "    Tnorms['sim_val'] = T.Compose([ Pos2Vec(scale=l_0['sim']) , ScaleVelocity(l_0['sim']), Reshape_x((-1,window_size*2)) ] )\n",
    "\n",
    "    # Hara movie datasets (denoised)\n",
    "    seg001 = HaraMovies('simgnn_data/hara_movies_as_sep_datasets/hara_seg001/', window_size=window_size,\n",
    "                        transform=Tnorms['hara'], smoothing=True, sma_lag_time=sma_lag_time)\n",
    "    # seg003 = HaraMovies('simgnn_data/hara_movies_as_sep_datasets/hara_seg003/', window_size=window_size,\n",
    "    #                     transform=Tnorms['hara'],smoothing=True, sma_lag_time=sma_lag_time)\n",
    "    # seg005 = HaraMovies('simgnn_data/hara_movies_as_sep_datasets/hara_seg005/', window_size=window_size,\n",
    "    #                     transform=Tnorms['hara'],smoothing=True, sma_lag_time=sma_lag_time)\n",
    "\n",
    "    seg001_raw = HaraMovies('simgnn_data/hara_movies_as_sep_datasets_copy/hara_seg001/', window_size=window_size,\n",
    "                        transform=Tnorms['hara'], smoothing=False)\n",
    "\n",
    "    # Simulation datasets\n",
    "    sim1 = VertexDynamics('./simgnn_data/unimodal_wbasetens_sims/train/', window_size=window_size, transform=Tnorms['sim'])\n",
    "    sim1_val = VertexDynamics('./simgnn_data/unimodal_wbasetens_sims/val/', window_size=window_size, transform=Tnorms['sim_val'])\n",
    "    # sim2 = VertexDynamics('./simgnn_data/single_distr_sims/train/', window_size=window_size, transform=Tnorms['sim'])\n",
    "    sim2_val = VertexDynamics('./simgnn_data/single_distr_sims/val/', window_size=window_size, transform=Tnorms['sim_val'])\n",
    "\n",
    "    datasets_dict = {'train': sim1,\n",
    "                     'val': sim1_val,\n",
    "                     'val2' : sim2_val,\n",
    "                     'H1' : seg001,\n",
    "                     'H1raw' : seg001_raw,\n",
    "    #                  'hara' : hara,\n",
    "                    }\n",
    "    dataset_legend={'train': 'Train($\\mathcal{H}_1$)',\n",
    "                    'val': 'Supervised($\\mathcal{D}_{sim1}$)',\n",
    "                    'val2': 'Sim2sim($\\mathcal{D}_{sim2}$)',\n",
    "                    'H1': 'Sim2real($\\mathcal{H}_1$)',\n",
    "                    'H1raw': 'Sim2real($\\mathcal{H}_1$); raw'\n",
    "                    }\n",
    "    \n",
    "    torch.manual_seed(420+k)\n",
    "\n",
    "    dropout_p = 0.1\n",
    "    num_epochs = 1000\n",
    "    lr = 0.001\n",
    "    bs = 2\n",
    "    \n",
    "    loaders = {'train' : DataLoader(datasets_dict['train'], batch_size=bs, shuffle=True),\n",
    "               'val': DataLoader(datasets_dict['val'], batch_size=bs)}\n",
    "\n",
    "    model_states = list(loaders.keys())\n",
    "    use_force_loss = {k:[False,False] for k in loaders}\n",
    "\n",
    "    loss_func = torch.nn.MSELoss(reduction='mean')\n",
    "\n",
    "    GNN_save_dir = './simgnn_data/saved_models/thesis/2C_dp_sim2real_learning_noise/sd0.01_1000epochs/'\n",
    "\n",
    "    # # # #\n",
    "\n",
    "    msg_dim = 32  # message MLP latent dim-s\n",
    "    upd_dim = 128  # update MLP latent dim-s\n",
    "\n",
    "    upd_h_layers = max([0, n_hidden_layers//2])# Update MLP hidden_layers\n",
    "    update_hidden_dims=[upd_dim for k in range(upd_h_layers-1)]+[16]\n",
    "\n",
    "    msg_h_layers = max([0, n_hidden_layers - upd_h_layers])# Message MLP hidden_layers\n",
    "    message_hidden_dims = [msg_dim for k in range(msg_h_layers-1)] # assume output layer is hidden for MP step model\n",
    "\n",
    "\n",
    "    print(f'{k}: N(h_dims)={n_hidden_layers}')\n",
    "\n",
    "    net = Single_MP_step(node_in_features=window_size*2, node_out_features=2, edge_in_features=2,\n",
    "                         message_out_features=msg_dim, message_hidden_dims=message_hidden_dims,\n",
    "                         aggr='mean', update_hidden_dims=update_hidden_dims,\n",
    "                         dropout_p=dropout_p).to(device)\n",
    "\n",
    "    opt = torch.optim.Adam(net.parameters(), lr=lr)\n",
    "    scheduler = None\n",
    "\n",
    "    return_best = False\n",
    "    model_name = f'{net.__class__.__name__}_sd{noise_args[1]}f{frac}{coeff_name}_epochs{num_epochs}'\n",
    "\n",
    "    print(model_name,end='\\n---\\n')\n",
    "    net, train_log = train_model(net, loaders, opt, num_epochs=num_epochs, scheduler=None, device=device,\n",
    "                                 model_states = model_states, loss_func = loss_func,\n",
    "                                 use_force_loss=use_force_loss, return_best=return_best)\n",
    "\n",
    "    # plot losses\n",
    "    plot_losses(train_log, loaders, dataset_legend, figsize=[7,4]); plt.show()\n",
    "\n",
    "\n",
    "    # MODEL SAVING:\n",
    "\n",
    "    write_log(f'{path.join(GNN_save_dir, model_name)}_log.pkl',train_log)\n",
    "    model_save_path = path.join(GNN_save_dir, model_name+'.pkl')\n",
    "    torch.save(net.state_dict(), model_save_path)\n",
    "    print(f'Model weights saved in \\n{model_save_path}\\n---\\n')\n",
    "    \n",
    "    pred_loaders = {\n",
    "    #     'train' : DataLoader(datasets_dict['train'], batch_size=bs, shuffle=True),\n",
    "                    'val': DataLoader(datasets_dict['val'], batch_size=bs),\n",
    "                    'val2': DataLoader(datasets_dict['val2'], batch_size=bs),\n",
    "                    'H1': DataLoader(datasets_dict['H1'], batch_size=bs),\n",
    "                    'H1raw': DataLoader(datasets_dict['H1raw'], batch_size=bs),\n",
    "                   }\n",
    "    # compute predictions and plot them\n",
    "    pred_out, tgt_out, sample_losses = predict_batch(net, pred_loaders,\n",
    "                                                     loss_func=torch.nn.MSELoss(reduction='sum'),\n",
    "                                                     use_force_loss = {k: False for k in pred_loaders},\n",
    "                                                     return_losses = True, device=device)\n",
    "    print(''.join([f'- {k} ={sample_losses[k]};\\n' for k in sample_losses]))\n",
    "\n",
    "    plot_velocity_predictions(pred_out[0], tgt_out[0], dataset_legend, subplots_kw={'figsize':[8,3.5]})"
   ]
  },
  {
   "cell_type": "code",
   "execution_count": null,
   "metadata": {},
   "outputs": [],
   "source": []
  },
  {
   "cell_type": "markdown",
   "metadata": {},
   "source": [
    "---"
   ]
  },
  {
   "cell_type": "markdown",
   "metadata": {},
   "source": [
    "## Load Model and Check Performance"
   ]
  },
  {
   "cell_type": "code",
   "execution_count": 13,
   "metadata": {},
   "outputs": [],
   "source": [
    "bs = 2\n",
    "pred_loaders = {'train' : DataLoader(datasets_dict['train'], batch_size=bs, shuffle=True),\n",
    "           'val': DataLoader(datasets_dict['val'], batch_size=bs),\n",
    "           'val2': DataLoader(datasets_dict['val2'], batch_size=bs),\n",
    "          'hara': DataLoader(datasets_dict['hara'], batch_size=bs)\n",
    "          }"
   ]
  },
  {
   "cell_type": "markdown",
   "metadata": {},
   "source": [
    "### Simple GNN (1-MP layer)"
   ]
  },
  {
   "cell_type": "code",
   "execution_count": 100,
   "metadata": {},
   "outputs": [],
   "source": [
    "from simgnn.models import Single_MP_step"
   ]
  },
  {
   "cell_type": "code",
   "execution_count": 101,
   "metadata": {},
   "outputs": [
    {
     "name": "stdout",
     "output_type": "stream",
     "text": [
      "Loading:\n",
      "\tSingle_MP_step_h10_dp0.1bs2w5.pkl\n",
      "- train_loss_tot =0.00017289492619655482;\n",
      "- train_loss_y =0.00017289492619655482;\n",
      "- train_loss_T =0.0;\n",
      "- train_loss_P =0.0;\n",
      "- val_loss_tot =0.00021682040902172646;\n",
      "- val_loss_y =0.00021682040902172646;\n",
      "- val_loss_T =0.0;\n",
      "- val_loss_P =0.0;\n",
      "- mid_loss_tot =0.00010372566669678488;\n",
      "- mid_loss_y =0.00010372566669678488;\n",
      "- mid_loss_T =0.0;\n",
      "- mid_loss_P =0.0;\n",
      "- late_loss_tot =0.00010987656334271798;\n",
      "- late_loss_y =0.00010987656334271798;\n",
      "- late_loss_T =0.0;\n",
      "- late_loss_P =0.0;\n",
      "\n"
     ]
    }
   ],
   "source": [
    "save_dir = './simgnn_data/saved_models/thesis/velocity_MP_real2real/'\n",
    "\n",
    "num_layers = 10\n",
    "\n",
    "dropout_p = 0.1\n",
    "\n",
    "upd_h_layers = max([0, num_layers//2])# Update MLP hidden_layers\n",
    "update_hidden_dims=[128 for k in range(upd_h_layers-1)]+[16]\n",
    "msg_h_layers = max([0, num_layers - upd_h_layers])# Message MLP hidden_layers\n",
    "message_hidden_dims = [32 for k in range(msg_h_layers-1)] # assume output layer is hidden for MP step model\n",
    "\n",
    "model_name = f'Single_MP_step_h{num_layers}_dp{dropout_p}bs2w5.pkl'\n",
    "print(f'Loading:\\n\\t{model_name}')\n",
    "\n",
    "net = Single_MP_step(node_in_features=window_size*2, node_out_features=2, edge_in_features=2,\n",
    "                     message_out_features=32, message_hidden_dims=message_hidden_dims,\n",
    "                     aggr='mean', update_hidden_dims=update_hidden_dims, dropout_p=dropout_p).to(device)\n",
    "net_weights_dict = torch.load(path.join(save_dir, model_name), map_location=device)\n",
    "net.load_state_dict(net_weights_dict)\n",
    "net.eval();\n",
    "\n",
    "# compute predictions and plot them\n",
    "pred_out, tgt_out, sample_losses = predict_batch(net, pred_loaders,\n",
    "                                                 loss_func=torch.nn.MSELoss(reduction='sum'),\n",
    "                                                 use_force_loss = {k: False for k in pred_loaders},\n",
    "                                                 return_losses = True, device=device)\n",
    "print(''.join([f'- {k} ={sample_losses[k]};\\n' for k in sample_losses]))"
   ]
  },
  {
   "cell_type": "markdown",
   "metadata": {},
   "source": [
    "---"
   ]
  },
  {
   "cell_type": "markdown",
   "metadata": {},
   "source": [
    "## Movie Predictions"
   ]
  },
  {
   "cell_type": "code",
   "execution_count": 102,
   "metadata": {},
   "outputs": [],
   "source": [
    "!rm -dr simgnn_data/hara_movies/processed"
   ]
  },
  {
   "cell_type": "code",
   "execution_count": 103,
   "metadata": {},
   "outputs": [
    {
     "name": "stdout",
     "output_type": "stream",
     "text": [
      "Processing...\n",
      "Done!\n"
     ]
    }
   ],
   "source": [
    "hara = HaraMovies('simgnn_data/hara_movies/', window_size=window_size, transform=Tnorms['hara'], smoothing=True, sma_lag_time=4)"
   ]
  },
  {
   "cell_type": "code",
   "execution_count": 133,
   "metadata": {},
   "outputs": [
    {
     "data": {
      "text/plain": [
       "{'hara': {'001': HaraMovies(55), '003': HaraMovies(55), '005': HaraMovies(55)}}"
      ]
     },
     "execution_count": 133,
     "metadata": {},
     "output_type": "execute_result"
    }
   ],
   "source": [
    "dataset_mov_names = {}\n",
    "dataset_mov_idx = {}\n",
    "dataset_mov = {}\n",
    "\n",
    "d_names_list = [k.split('_')[2] for k in hara.processed_file_names]\n",
    "    \n",
    "dataset_mov_names['hara'] = {k : ki for ki, k in enumerate(np.unique(d_names_list))}\n",
    "    \n",
    "dataset_mov_idx['hara'] = torch.tensor([dataset_mov_names['hara'][k] for k in d_names_list])\n",
    "    \n",
    "dataset_mov['hara'] = {k:hara[dataset_mov_names['hara'][k]==dataset_mov_idx['hara']]\n",
    "                              for k in dataset_mov_names['hara']}\n",
    "dataset_mov"
   ]
  },
  {
   "cell_type": "markdown",
   "metadata": {},
   "source": [
    "- **Model Predictions for Movies**; Predict `Velocity[T+1]` for movies"
   ]
  },
  {
   "cell_type": "code",
   "execution_count": 134,
   "metadata": {},
   "outputs": [],
   "source": [
    "from simgnn.train import np_loss_wrt_time, predict_dataset\n",
    "\n",
    "from scipy.stats import pearsonr"
   ]
  },
  {
   "cell_type": "code",
   "execution_count": 135,
   "metadata": {},
   "outputs": [
    {
     "data": {
      "text/plain": [
       "{'train': 1.0, 'val': 1.0, 'val2': 1.0, 'hara': 26.32}"
      ]
     },
     "execution_count": 135,
     "metadata": {},
     "output_type": "execute_result"
    }
   ],
   "source": [
    "velocity_scale"
   ]
  },
  {
   "cell_type": "code",
   "execution_count": 136,
   "metadata": {},
   "outputs": [],
   "source": [
    "ignore_short_edges, edge_len_threshold = False, 10**-4"
   ]
  },
  {
   "cell_type": "code",
   "execution_count": 137,
   "metadata": {},
   "outputs": [
    {
     "name": "stdout",
     "output_type": "stream",
     "text": [
      "----------\n",
      "hara\n",
      "\t 001 : len=55; E_n=225; V_n=164; C_n=128; Losses: Vel-y=0.0001; E_len=0.0862; Tension(mask)=0.0000\n",
      "\t 003 : len=55; E_n=149; V_n=119; C_n=124; Losses: Vel-y=0.0001; E_len=0.0657; Tension(mask)=0.0000\n",
      "\t 005 : len=55; E_n=164; V_n=130; C_n=114; Losses: Vel-y=0.0001; E_len=0.0986; Tension(mask)=0.0000\n"
     ]
    }
   ],
   "source": [
    "model_results = {}\n",
    "loss_type = 'mse'\n",
    "\n",
    "for dataset_k in dataset_mov:\n",
    "    print('-'*10+'\\n'+dataset_k)\n",
    "    model_results[dataset_k] = {}\n",
    "    for mov_i in dataset_mov[dataset_k]:\n",
    "        if None != dataset_mov[dataset_k][mov_i][0].edge_id:\n",
    "            num_edges = torch.unique(dataset_mov[dataset_k][mov_i][0].edge_id).size(0)\n",
    "        else:\n",
    "            num_edges = dataset_mov[dataset_k][mov_i][0].num_edges\n",
    "        print('\\t',mov_i,f': len={len(dataset_mov[dataset_k][mov_i])};',\n",
    "              f'E_n={num_edges};',\n",
    "              f'V_n={dataset_mov[dataset_k][mov_i][0].num_nodes};',\n",
    "              f'C_n={dataset_mov[dataset_k][mov_i][0].num_cells};', end=' ')\n",
    "\n",
    "        model_results[dataset_k][mov_i] = predict_dataset(net, dataset_mov[dataset_k][mov_i],device=device, concat=True)\n",
    "\n",
    "\n",
    "        # Edge indices\n",
    "        if None != dataset_mov[dataset_k][mov_i][0].edge_id:\n",
    "            edge_index = dataset_mov[dataset_k][mov_i][0].edge_index[:,torch.unique(dataset_mov[dataset_k][mov_i][0].edge_id)]\n",
    "        else:\n",
    "            edge_index = dataset_mov[dataset_k][mov_i][0].edge_index\n",
    "\n",
    "        model_results[dataset_k][mov_i]['edge_index'] = edge_index\n",
    "        \n",
    "        # Vertex pos [targets]\n",
    "        pos = np.concatenate([d.pos.reshape(1,-1,2) for d in dataset_mov[dataset_k][mov_i]],axis=0)\n",
    "        model_results[dataset_k][mov_i]['targets']['pos'] = pos\n",
    "        \n",
    "        # Edge lengths [targets]\n",
    "        edge_lengths = np.linalg.norm(pos[:, edge_index[1],:] - pos[:, edge_index[0],:], axis=-1)\n",
    "        model_results[dataset_k][mov_i]['targets']['edge_lengths'] = edge_lengths\n",
    "        \n",
    "        # Compute predicted vertex pos, edge lengths\n",
    "        dx_unnorm = velocity_scale[dataset_k]*model_results[dataset_k][mov_i]['predictions']['velocity']\n",
    "        # pos predictions w/ velocity (except for first pos)\n",
    "        pos_preds = np.concatenate([pos[:1],(pos+dx_unnorm)[:-1]], axis=0)\n",
    "        model_results[dataset_k][mov_i]['predictions']['pos'] = pos_preds\n",
    "\n",
    "        model_results[dataset_k][mov_i]['predictions']['edge_lengths'] = np.linalg.norm(pos_preds[:, edge_index[1],:] - pos_preds[:, edge_index[0],:], axis=-1)\n",
    "        if ignore_short_edges:\n",
    "            edge_mask = np.all(np.concatenate([dk.edge_length.numpy().reshape(1,-1)\n",
    "                                               for dk in dataset_mov[dataset_k][mov_i]], axis=0) > edge_len_threshold, axis=0)\n",
    "            model_results[dataset_k][mov_i]['predictions']['edge_masks'] = edge_mask\n",
    "        else:\n",
    "            model_results[dataset_k][mov_i]['predictions']['edge_masks'] = None\n",
    "        \n",
    "        model_results[dataset_k][mov_i]['loss'] = {}\n",
    "        \n",
    "        # velocity losses\n",
    "        if len(model_results[dataset_k][mov_i]['targets']['velocity']) > 0:\n",
    "            model_results[dataset_k][mov_i]['loss']['velocity'] = np_loss_wrt_time(model_results[dataset_k][mov_i]['predictions']['velocity'],\n",
    "                                                                                   model_results[dataset_k][mov_i]['targets']['velocity'])\n",
    "        else:\n",
    "            model_results[dataset_k][mov_i]['loss']['velocity'] = np.full((model_results[dataset_k][mov_i]['predictions']['velocity'].shape[1],), np.nan)\n",
    "        \n",
    "#         # tension losses\n",
    "#         if len(model_results[dataset_k][mov_i]['targets']['tension']) > 0:\n",
    "#             model_results[dataset_k][mov_i]['loss']['tension'] = np_loss_wrt_time(model_results[dataset_k][mov_i]['predictions']['tension'],\n",
    "#                                                                                   model_results[dataset_k][mov_i]['targets']['tension'])\n",
    "#         else:\n",
    "#             model_results[dataset_k][mov_i]['loss']['tension'] = np.full((model_results[dataset_k][mov_i]['predictions']['tension'].shape[1],), np.nan)\n",
    "\n",
    "#         if ignore_short_edges:\n",
    "#             model_results[dataset_k][mov_i]['loss']['tension_mask'] = model_results[dataset_k][mov_i]['loss']['tension'].copy()\n",
    "#             model_results[dataset_k][mov_i]['loss']['tension_mask'][~edge_mask] = np.nan\n",
    "#         else:\n",
    "#             model_results[dataset_k][mov_i]['loss']['tension_mask'] = None\n",
    "        model_results[dataset_k][mov_i]['loss']['edge_lengths'] = np_loss_wrt_time(model_results[dataset_k][mov_i]['predictions']['edge_lengths'],\n",
    "                                                                                   model_results[dataset_k][mov_i]['targets']['edge_lengths'])\n",
    "        \n",
    "        print(f\"Losses: Vel-y={np.nanmean(model_results[dataset_k][mov_i]['loss']['velocity']):6.4f}; \"+\n",
    "              f\"E_len={np.nanmean(model_results[dataset_k][mov_i]['loss']['edge_lengths']):6.4f}; \"+\n",
    "#               f\"Tension={np.nanmean(model_results[dataset_k][mov_i]['loss']['tension']):6.4f};\"+\n",
    "             f\"Tension(mask)={np.nanmean(model_results[dataset_k][mov_i]['loss']['tension_mask']) if ignore_short_edges else 0.0:6.4f}\")"
   ]
  },
  {
   "cell_type": "code",
   "execution_count": 138,
   "metadata": {},
   "outputs": [
    {
     "data": {
      "image/png": "[encoded data removed]",
      "text/plain": [
       "<Figure size 288x288 with 1 Axes>"
      ]
     },
     "metadata": {
      "needs_background": "light"
     },
     "output_type": "display_data"
    }
   ],
   "source": [
    "dataset_k, mov_i = 'hara', '001'  # ['val2']['sim005']\n",
    "\n",
    "# Lij = model_results['targets']['edge_lengths']\n",
    "# Lij_p = model_results['val2']['sim005']['predictions']['edge_lengths']\n",
    "Lij = model_results[dataset_k][mov_i]['targets']['edge_lengths']\n",
    "Lij_p = model_results[dataset_k][mov_i]['predictions']['edge_lengths']\n",
    "\n",
    "k=[101]\n",
    "plt.figure(figsize=[4,4])\n",
    "plt.plot(Lij[:,k], 'o-', c='orange', ms=7, alpha=.9,label=['gt']+[None for ki in k[1:]])\n",
    "plt.plot(Lij_p[:,k], '-',c='royalblue', lw=2, alpha=.8, label=['pred']+[None for ki in k[1:]]);\n",
    "plt.title(f'{dataset_k}({mov_i}); Edge:{k}, lengths')\n",
    "plt.legend();"
   ]
  },
  {
   "cell_type": "code",
   "execution_count": 139,
   "metadata": {},
   "outputs": [
    {
     "data": {
      "image/png": "[encoded data removed]",
      "text/plain": [
       "<Figure size 504x504 with 1 Axes>"
      ]
     },
     "metadata": {
      "needs_background": "light"
     },
     "output_type": "display_data"
    }
   ],
   "source": [
    "pos = model_results[dataset_k][mov_i]['targets']['pos']\n",
    "pos_p = model_results[dataset_k][mov_i]['predictions']['pos']\n",
    "\n",
    "e_st = model_results[dataset_k][mov_i]['edge_index'][:,k]\n",
    "e_st_list = e_st.ravel().tolist()\n",
    "plt.figure(figsize=[7,7])\n",
    "plt.plot(pos[:,e_st_list,0],pos[:,e_st_list,1], '-', c='orange', lw=3, alpha=.9,label=['gt']+[None for k in range(len(e_st_list)-1)])\n",
    "plt.plot(pos_p[:,e_st_list,0],pos_p[:,e_st_list,1], '-',c='royalblue', lw=2, alpha=.8, label=['pred']+[None for k in range(len(e_st_list)-1)]);\n",
    "\n",
    "plt.plot(pos[0,e_st_list,0],pos[0,e_st_list,1], 'o', c='orange', ms=10, alpha=.8,label='start')\n",
    "# for e_k in range(e_st.shape[1]):\n",
    "#     plt.plot(pos[-1,e_st[:,e_k],0],pos[-1,e_st[:,e_k],1], '-', c='orange', lw=4, alpha=.5)\n",
    "#     plt.plot(pos_p[-1,e_st[:,e_k],0],pos_p[-1,e_st[:,e_k],1], '-',c='navy', lw=4, alpha=.4);\n",
    "plt.title(f'{dataset_k}({mov_i}); V:{e_st_list}, position')\n",
    "# plt.xlim([340, 380])\n",
    "# plt.ylim([240, 200])\n",
    "# plt.axis(False)\n",
    "plt.legend();"
   ]
  },
  {
   "cell_type": "markdown",
   "metadata": {},
   "source": [
    "**Noise training noisy eval**"
   ]
  },
  {
   "cell_type": "code",
   "execution_count": 90,
   "metadata": {},
   "outputs": [
    {
     "data": {
      "image/png": "[encoded data removed]",
      "text/plain": [
       "<Figure size 288x288 with 1 Axes>"
      ]
     },
     "metadata": {
      "needs_background": "light"
     },
     "output_type": "display_data"
    }
   ],
   "source": [
    "dataset_k, mov_i = 'hara', '001'  # ['val2']['sim005']\n",
    "\n",
    "# Lij = model_results['targets']['edge_lengths']\n",
    "# Lij_p = model_results['val2']['sim005']['predictions']['edge_lengths']\n",
    "Lij = model_results[dataset_k][mov_i]['targets']['edge_lengths']\n",
    "Lij_p = model_results[dataset_k][mov_i]['predictions']['edge_lengths']\n",
    "\n",
    "k=[101]\n",
    "plt.figure(figsize=[4,4])\n",
    "plt.plot(Lij[:,k], 'o-', c='orange', ms=7, alpha=.9,label=['gt']+[None for ki in k[1:]])\n",
    "plt.plot(Lij_p[:,k], '-',c='royalblue', lw=2, alpha=.8, label=['pred']+[None for ki in k[1:]]);\n",
    "plt.title(f'{dataset_k}({mov_i}); Edge:{k}, lengths')\n",
    "plt.legend();"
   ]
  },
  {
   "cell_type": "code",
   "execution_count": 52,
   "metadata": {},
   "outputs": [
    {
     "data": {
      "image/png": "[encoded data removed]",
      "text/plain": [
       "<Figure size 504x504 with 1 Axes>"
      ]
     },
     "metadata": {
      "needs_background": "light"
     },
     "output_type": "display_data"
    }
   ],
   "source": [
    "pos = model_results[dataset_k][mov_i]['targets']['pos']\n",
    "pos_p = model_results[dataset_k][mov_i]['predictions']['pos']\n",
    "\n",
    "e_st = model_results[dataset_k][mov_i]['edge_index'][:,k]\n",
    "e_st_list = e_st.ravel().tolist()\n",
    "plt.figure(figsize=[7,7])\n",
    "plt.plot(pos[:,e_st_list,0],pos[:,e_st_list,1], '-', c='orange', lw=3, alpha=.9,label=['gt']+[None for k in range(len(e_st_list)-1)])\n",
    "plt.plot(pos_p[:,e_st_list,0],pos_p[:,e_st_list,1], '-',c='royalblue', lw=2, alpha=.8, label=['pred']+[None for k in range(len(e_st_list)-1)]);\n",
    "\n",
    "plt.plot(pos[0,e_st_list,0],pos[0,e_st_list,1], 'o', c='orange', ms=10, alpha=.8,label='start')\n",
    "# for e_k in range(e_st.shape[1]):\n",
    "#     plt.plot(pos[-1,e_st[:,e_k],0],pos[-1,e_st[:,e_k],1], '-', c='orange', lw=4, alpha=.5)\n",
    "#     plt.plot(pos_p[-1,e_st[:,e_k],0],pos_p[-1,e_st[:,e_k],1], '-',c='navy', lw=4, alpha=.4);\n",
    "plt.title(f'{dataset_k}({mov_i}); V:{e_st_list}, position')\n",
    "# plt.xlim([340, 380])\n",
    "# plt.ylim([240, 200])\n",
    "# plt.axis(False)\n",
    "plt.legend();"
   ]
  }
 ],
 "metadata": {
  "hide_input": false,
  "kernelspec": {
   "display_name": "Python 3",
   "language": "python",
   "name": "python3"
  },
  "language_info": {
   "codemirror_mode": {
    "name": "ipython",
    "version": 3
   },
   "file_extension": ".py",
   "mimetype": "text/x-python",
   "name": "python",
   "nbconvert_exporter": "python",
   "pygments_lexer": "ipython3",
   "version": "3.8.5"
  },
  "toc": {
   "base_numbering": 1,
   "nav_menu": {},
   "number_sections": true,
   "sideBar": true,
   "skip_h1_title": true,
   "title_cell": "Table of Contents",
   "title_sidebar": "Contents",
   "toc_cell": false,
   "toc_position": {
    "height": "calc(100% - 180px)",
    "left": "10px",
    "top": "150px",
    "width": "211.796875px"
   },
   "toc_section_display": true,
   "toc_window_display": false
  }
 },
 "nbformat": 4,
 "nbformat_minor": 4
}
