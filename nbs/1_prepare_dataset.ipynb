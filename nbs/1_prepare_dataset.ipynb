{
 "cells": [
  {
   "cell_type": "markdown",
   "metadata": {},
   "source": [
    "# Graph Dataset Loading and Batching\n",
    "---"
   ]
  },
  {
   "cell_type": "code",
   "execution_count": 5,
   "metadata": {
    "ExecuteTime": {
     "end_time": "2021-02-02T15:56:24.633488Z",
     "start_time": "2021-02-02T15:56:24.605558Z"
    }
   },
   "outputs": [
    {
     "name": "stdout",
     "output_type": "stream",
     "text": [
      "The autoreload extension is already loaded. To reload it, use:\n",
      "  %reload_ext autoreload\n"
     ]
    }
   ],
   "source": [
    "%load_ext autoreload\n",
    "%autoreload 2"
   ]
  },
  {
   "cell_type": "code",
   "execution_count": 6,
   "metadata": {
    "ExecuteTime": {
     "end_time": "2021-02-02T15:56:26.439646Z",
     "start_time": "2021-02-02T15:56:24.990226Z"
    }
   },
   "outputs": [],
   "source": [
    "import numpy as np\n",
    "import torch\n",
    "from os import path\n",
    "\n",
    "import networkx as nx\n",
    "from simgnn.datautils import load_array, load_graph\n",
    "\n",
    "import matplotlib.pyplot as plt\n",
    "import matplotlib\n",
    "plt.style.use('ggplot')\n",
    "%matplotlib inline\n",
    "matplotlib.rcParams['figure.figsize'] = (10,10) # use larger for presentation\n",
    "matplotlib.rcParams['font.size']= 14 # use 14 for presentation"
   ]
  },
  {
   "cell_type": "code",
   "execution_count": 88,
   "metadata": {
    "ExecuteTime": {
     "end_time": "2021-02-02T15:56:33.063372Z",
     "start_time": "2021-02-02T15:56:30.494267Z"
    }
   },
   "outputs": [],
   "source": [
    "from torch_geometric.data import Data, DataLoader\n",
    "from torch_geometric.utils import to_networkx, from_networkx\n",
    "import torch_geometric.transforms as T\n",
    "\n",
    "from simgnn.datasets import VertexDynamics, CellData\n",
    "from simgnn.transforms import Pos2Vec, ScaleVelocity"
   ]
  },
  {
   "cell_type": "code",
   "execution_count": 8,
   "metadata": {
    "ExecuteTime": {
     "end_time": "2021-02-02T15:56:26.469816Z",
     "start_time": "2021-02-02T15:56:26.441952Z"
    }
   },
   "outputs": [
    {
     "name": "stdout",
     "output_type": "stream",
     "text": [
      "Defaults:\n",
      " |-device: cuda\n",
      " |-dtype : torch.float32\n"
     ]
    }
   ],
   "source": [
    "device = torch.device('cpu')\n",
    "if torch.cuda.is_available():\n",
    "    device = torch.device('cuda')\n",
    "dtype = torch.float32\n",
    "print(f'Defaults:\\n |-device: {device}\\n |-dtype : {dtype}')"
   ]
  },
  {
   "cell_type": "markdown",
   "metadata": {},
   "source": [
    "---\n",
    "Edge (Line) **TENSION** and cell **PRESSURE** attributes"
   ]
  },
  {
   "cell_type": "markdown",
   "metadata": {},
   "source": [
    "- Edge tensions\n",
    "$$T_{edge:(i,j)} = \\Lambda_{ij}(t)+\\sum_{k\\in\\{cells\\ for\\ (i,j)\\}}K_p^{(k)}(p^{(k)}-p_0^{(k)})$$\n",
    "- Cell pressures\n",
    "$$\\pi_{cell:k} = -2K_a^{(k)}(a^{(k)}-a_0^{(k)})$$"
   ]
  },
  {
   "cell_type": "markdown",
   "metadata": {},
   "source": [
    "---\n",
    "**Adding noise from M steps**: Sum of M normal rand. var-s results in normal var. w/ variance M and s.t.d.=sqrt(M):\n",
    "```python\n",
    "x = np.random.normal(size=(5,1000))\n",
    "y = x.sum(axis=0)\n",
    "z = np.random.normal(size=(1,1000))*np.sqrt(5)\n",
    "plt.hist(x.ravel(),bins=50,label='x',density=True)\n",
    "plt.hist(y        ,bins=50,label='y',density=True)\n",
    "plt.hist(z.ravel(),bins=50,label='z',density=True,alpha=.5)\n",
    "plt.legend();\n",
    "```"
   ]
  },
  {
   "cell_type": "markdown",
   "metadata": {},
   "source": [
    "---"
   ]
  },
  {
   "cell_type": "markdown",
   "metadata": {
    "heading_collapsed": true
   },
   "source": [
    "## Working with PyTorch Geometric"
   ]
  },
  {
   "cell_type": "markdown",
   "metadata": {
    "hidden": true
   },
   "source": [
    "- **Node features** : velocities from previous frames (~ 5 frames--> Alvaro Sanchez-Gonzalez, *et al.* 2020 \\[ASG2020\\])\n",
    "- **Edge features** : can use edge directions (optional, might help to speed up training)\n",
    "- **Current position** : technically a node feature, and needs to be normalized but not processed by the network.\n",
    "- Positions (Cartesian) to polar edge attributes: `transforms.Polar` \\[[link](https://pytorch-geometric.readthedocs.io/en/latest/modules/transforms.html#torch_geometric.transforms.Polar)\\], I can also implement or use the `transforms.Cartesian` which computes direction vectors (position pairs -to- normalized direction vectors).\n",
    "- need transform for velocity noise (use src from example transforms above and ASG2020 paper)\n",
    "- Train-g movie: max edge length ~ 3.25 a.u."
   ]
  },
  {
   "cell_type": "markdown",
   "metadata": {
    "hidden": true
   },
   "source": [
    "- `simgnn.datasets.VertexDynamics` (child of `torch_geometric.data.Dataset`)"
   ]
  },
  {
   "cell_type": "code",
   "execution_count": 90,
   "metadata": {
    "ExecuteTime": {
     "end_time": "2021-02-02T15:56:34.536975Z",
     "start_time": "2021-02-02T15:56:34.480323Z"
    },
    "hidden": true
   },
   "outputs": [
    {
     "data": {
      "text/plain": [
       "VertexDynamics(95)"
      ]
     },
     "execution_count": 90,
     "metadata": {},
     "output_type": "execute_result"
    }
   ],
   "source": [
    "gnnTransforms = T.Compose([Pos2Vec(scale=20*0.857) ,\n",
    "                           ScaleVelocity(0.857)])\n",
    "\n",
    "vtxdata = VertexDynamics('../../../dataDIR/simgnn_data/train/', transform=gnnTransforms)\n",
    "vtxdata"
   ]
  },
  {
   "cell_type": "code",
   "execution_count": 91,
   "metadata": {
    "hidden": true
   },
   "outputs": [],
   "source": [
    "data=vtxdata[0]"
   ]
  },
  {
   "cell_type": "code",
   "execution_count": 92,
   "metadata": {
    "hidden": true
   },
   "outputs": [
    {
     "data": {
      "text/plain": [
       "CellData(cell2node_index=[2, 600], cell_pressures=[100], edge_attr=[339, 2], edge_index=[2, 339], edge_tensions=[339], node2cell_index=[2, 600], pos=[240, 2], x=[240, 5, 2], y=[240, 2])"
      ]
     },
     "execution_count": 92,
     "metadata": {},
     "output_type": "execute_result"
    }
   ],
   "source": [
    "data"
   ]
  },
  {
   "cell_type": "code",
   "execution_count": 85,
   "metadata": {},
   "outputs": [],
   "source": [
    "# e_x = torch.cat([d.edge_attr for d in vtxdata],0)\n",
    "# print(f'> Edge attr\\n\\trange: [{e_x.min():4.3g} {e_x.max():4.3g}]; s.d.: {e_x.std():4.3g} ||'+\n",
    "#       f' median: {e_x.median():4.3g}; mean: {e_x.mean():4.3g};')\n",
    "# plt.hist(e_x.view(-1,).numpy(),bins=30); plt.title('Edge Vec-s(norm)');"
   ]
  },
  {
   "cell_type": "code",
   "execution_count": 86,
   "metadata": {
    "hidden": true
   },
   "outputs": [
    {
     "name": "stdout",
     "output_type": "stream",
     "text": [
      "Batch(batch=[480], cell2node_index=[2, 1200], cell_pressures=[200], edge_attr=[678, 2], edge_index=[2, 678], edge_tensions=[678], node2cell_index=[2, 1200], pos=[480, 2], x=[480, 5, 2], y=[480, 2])\n"
     ]
    }
   ],
   "source": [
    "loader = DataLoader([vtxdata[0], vtxdata[25]], batch_size=2)\n",
    "batch = next(iter(loader))\n",
    "print(batch)\n",
    "# nx.draw(to_networkx(batch, to_undirected=True),pos=dict(enumerate(batch.pos.numpy())), node_size=60)"
   ]
  },
  {
   "cell_type": "code",
   "execution_count": 10,
   "metadata": {
    "hidden": true
   },
   "outputs": [],
   "source": [
    "# data = vtxdata[0]\n",
    "# print(data)\n",
    "# plt.figure(figsize=[10,10])\n",
    "# plt.title('Monolayer Graph with Cell-to-Nodes Edges')\n",
    "# nx.draw(to_networkx(data), pos=dict(enumerate(data.pos.numpy())), node_size=30)\n",
    "# for ci in range(data.num_cells):\n",
    "#     c_vxpos = data.pos[data.node2cell_index[0][data.node2cell_index[1]==ci]]\n",
    "#     cpos = c_vxpos.mean(dim=0)\n",
    "#     for vi in c_vxpos:\n",
    "#         plt.plot([vi[0],cpos[0]],[vi[1],cpos[1]],lw=3,alpha=.5)\n",
    "#     plt.plot(cpos[0],cpos[1],'bo',ms=10,alpha=.5)\n",
    "# # plt.savefig('cell2node.png',dpi=100)"
   ]
  },
  {
   "cell_type": "code",
   "execution_count": 85,
   "metadata": {
    "hidden": true
   },
   "outputs": [],
   "source": [
    "# cell_pos = np.stack([d1.pos[d1.cell2node_index[1,d1.cell2node_index[0]==c]].mean(dim=0).numpy() for c in range(d1.num_cells)])\n",
    "# plt.figure(figsize=[20,20])\n",
    "# nx.draw(to_networkx(d1),pos=dict(enumerate(d1.pos.numpy())), node_size=60)\n",
    "# plt.plot(cell_pos[:,0],cell_pos[:,1],'ro',ms=10, alpha=.5)\n",
    "# for c, c_pos in enumerate(cell_pos):\n",
    "#     plt.text(c_pos[0],c_pos[1], f'{d1.cell_pressures[c]:.3f}') "
   ]
  },
  {
   "cell_type": "code",
   "execution_count": 21,
   "metadata": {
    "hidden": true
   },
   "outputs": [],
   "source": [
    "# t=5\n",
    "# Dt = 1\n",
    "# # plt.figure(figsize=[25,25])\n",
    "# nx.draw(to_networkx(vtxdata[t], to_undirected=True),pos=dict(enumerate(vtxdata[t].pos.numpy())), node_size=60)\n",
    "# nx.draw(to_networkx(vtxdata[t+Dt], to_undirected=True),pos=dict(enumerate(vtxdata[t+Dt].pos.numpy())),\n",
    "#         node_size=20,width=4,\n",
    "#         node_color='#FF00FF',edge_color='#51C5FF',alpha=.5)\n",
    "# plt.quiver(vtxdata[t].pos.numpy()[:,0], vtxdata[t].pos.numpy()[:,1],\n",
    "#            vtxdata[t].y.numpy()[:,0],vtxdata[t].y.numpy()[:,1],\n",
    "#            units='xy',angles='xy',scale=.25,color='r')"
   ]
  },
  {
   "cell_type": "code",
   "execution_count": 24,
   "metadata": {
    "hidden": true
   },
   "outputs": [],
   "source": [
    "# Compare computed and original *edge lengths*\n",
    "# dist_fn = T.Distance(norm=False)\n",
    "# compute cartesian distances\n",
    "# dist_fn(data);"
   ]
  },
  {
   "cell_type": "markdown",
   "metadata": {},
   "source": [
    "## Data Normalisation"
   ]
  },
  {
   "cell_type": "markdown",
   "metadata": {},
   "source": [
    "**Length unit** = average edge length (over whole dataset)\n",
    "- divide all \"edge lengths\", node \"speeds\" and \"velocities\" by mean edge length $l_0$, this measures all len-s in $l_0$ units. \n",
    "- the real and the simulation datasets each will have its own average len. : $l^{(real)}_0$ and $l^{(sim)}_0$"
   ]
  },
  {
   "cell_type": "markdown",
   "metadata": {},
   "source": [
    "**Normalisation** <br>\n",
    "Normalising lengths, velocities (and areas) requires speacial considerations, since relative edge lengths and node vel-s are inputs to the GNN model and need to be same for the *simulated* and the *real* datasets.\n",
    "- `[ data.edge_attr ]` *edge directions* $e_i$, and *edge lens* $l_i$: since lengths are in range `[0, l_max]`, scale by 20 average lengths and no mean shift to zero. We get\n",
    "$$l^{norm}_i = \\frac{l_i}{20\\cdot{}l_0}$$\n",
    "this scales lengths to values comparable to node velocity magnitudes which are about 1/20's of length or 5% of $l_0$ (do the same for $e^{norm}_i$).\n",
    "- `[ data.x, data.y ]` *node velocities* $\\Delta{}v_i$: scale by one average edge length, $$\\Delta{}v_i^{norm} = \\frac{\\Delta{}v_i}{l_0}$$\n",
    "this applies to both *node attributes and targets*."
   ]
  },
  {
   "cell_type": "markdown",
   "metadata": {},
   "source": [
    "- `l_0 = 0.857 (average edge length, simulated data)`"
   ]
  },
  {
   "cell_type": "code",
   "execution_count": 101,
   "metadata": {
    "ExecuteTime": {
     "end_time": "2021-02-02T15:57:07.232782Z",
     "start_time": "2021-02-02T15:57:07.181816Z"
    }
   },
   "outputs": [
    {
     "data": {
      "text/plain": [
       "CellData(cell2node_index=[2, 600], cell_pressures=[100], edge_index=[2, 339], edge_tensions=[339], node2cell_index=[2, 600], pos=[240, 2], x=[240, 5, 2], y=[240, 2])"
      ]
     },
     "execution_count": 101,
     "metadata": {},
     "output_type": "execute_result"
    }
   ],
   "source": [
    "vtxdata = VertexDynamics('../../../dataDIR/simgnn_data/train/')\n",
    "vtxdata[0]"
   ]
  },
  {
   "cell_type": "code",
   "execution_count": 102,
   "metadata": {},
   "outputs": [
    {
     "data": {
      "text/plain": [
       "CellData(cell2node_index=[2, 600], cell_pressures=[100], edge_attr=[339, 2], edge_index=[2, 339], edge_tensions=[339], node2cell_index=[2, 600], pos=[240, 2], x=[240, 5, 2], y=[240, 2])"
      ]
     },
     "execution_count": 102,
     "metadata": {},
     "output_type": "execute_result"
    }
   ],
   "source": [
    "gnnTransforms = T.Compose([Pos2Vec(scale=20*0.857) ,\n",
    "                           ScaleVelocity(0.857)])\n",
    "vtxdata_norm = VertexDynamics('../../../dataDIR/simgnn_data/train/',transform=gnnTransforms)\n",
    "vtxdata_norm[0]"
   ]
  },
  {
   "cell_type": "code",
   "execution_count": 103,
   "metadata": {
    "ExecuteTime": {
     "end_time": "2021-02-02T16:38:17.695158Z",
     "start_time": "2021-02-02T16:38:17.647844Z"
    }
   },
   "outputs": [
    {
     "data": {
      "text/plain": [
       "CellData(cell2node_index=[2, 600], cell_pressures=[100], edge_index=[2, 339], edge_tensions=[339], node2cell_index=[2, 600], pos=[240, 2], x=[240, 5, 2], y=[240, 2])"
      ]
     },
     "execution_count": 103,
     "metadata": {},
     "output_type": "execute_result"
    }
   ],
   "source": [
    "data = vtxdata[0]\n",
    "data"
   ]
  },
  {
   "cell_type": "code",
   "execution_count": 128,
   "metadata": {
    "ExecuteTime": {
     "end_time": "2021-02-02T16:12:48.572635Z",
     "start_time": "2021-02-02T16:12:48.225847Z"
    }
   },
   "outputs": [
    {
     "name": "stdout",
     "output_type": "stream",
     "text": [
      "> Edge len\n",
      "\trange: [2.86e-06 3.27]; s.d.:  0.5 || median: 0.875; mean: 0.857;\n",
      "> Node speed\n",
      "\trange: [1.35e-05 0.147]; s.d.: 0.019 || median: 0.024; mean: 0.0281;\n",
      "Edge vect-s\n",
      "\trange: [-3.25 2.62]; s.d.: 0.702 || median: -0.000488; mean: -0.0101;\n",
      "Node velocity\n",
      "\trange: [-0.134 0.139]; s.d.: 0.024 || median: 0.000116; mean: 6.59e-09;\n",
      "Edge vect-s (transform)\n",
      "\trange: [-0.19 0.153]; s.d.: 0.0409 || median: -2.85e-05; mean: -0.000588;\n",
      "Node velocity (transform)\n",
      "\trange: [-0.157 0.162]; s.d.: 0.028 || median: 0.000136; mean: 7.66e-09;\n"
     ]
    },
    {
     "data": {
      "image/png": "[encoded data removed]",
      "text/plain": [
       "<Figure size 1656x216 with 4 Axes>"
      ]
     },
     "metadata": {
      "needs_background": "light"
     },
     "output_type": "display_data"
    }
   ],
   "source": [
    "v_vel = torch.cat([d.y for d in vtxdata],0)\n",
    "e_vec = torch.cat([(d.pos[d.edge_index[1]]-d.pos[d.edge_index[0]]) for d in vtxdata],0)\n",
    "\n",
    "v_spd = v_vel.pow(2).sum(dim=1).sqrt()\n",
    "e_len = e_vec.pow(2).sum(dim=1).sqrt()\n",
    "\n",
    "print(f'> Edge len\\n\\trange: [{e_len.min():4.3g} {e_len.max():4.3g}]; s.d.: {e_len.std():4.3g} ||'+\n",
    "      f' median: {e_len.median():4.3g}; mean: {e_len.mean():4.3g};')\n",
    "print(f'> Node speed\\n\\trange: [{v_spd.min():4.3g} {v_spd.max():4.3g}]; s.d.: {v_spd.std():4.3g} ||'+\n",
    "      f' median: {v_spd.median():4.3g}; mean: {v_spd.mean():4.3g};')\n",
    "\n",
    "print(f'Edge vect-s\\n\\trange: [{e_vec.min():4.3g} {e_vec.max():4.3g}]; s.d.: {e_vec.std():4.3g} ||'+\n",
    "      f' median: {e_vec.median():4.3g}; mean: {e_vec.mean():4.3g};')\n",
    "print(f'Node velocity\\n\\trange: [{v_vel.min():4.3g} {v_vel.max():4.3g}]; s.d.: {v_vel.std():4.3g} ||'+\n",
    "      f' median: {v_vel.median():4.3g}; mean: {v_vel.mean():4.3g};')\n",
    "\n",
    "# After transforms (normalisation and scaling)\n",
    "v_vel2 = torch.cat([d.y for d in vtxdata_norm],0)\n",
    "e_vec2 = torch.cat([d.edge_attr for d in vtxdata_norm],0)\n",
    "\n",
    "print(f'Edge vect-s (transform)\\n\\trange: [{e_vec2.min():4.3g} {e_vec2.max():4.3g}]; s.d.: {e_vec2.std():4.3g} ||'+\n",
    "      f' median: {e_vec2.median():4.3g}; mean: {e_vec2.mean():4.3g};')\n",
    "print(f'Node velocity (transform)\\n\\trange: [{v_vel2.min():4.3g} {v_vel2.max():4.3g}]; s.d.: {v_vel2.std():4.3g} ||'+\n",
    "      f' median: {v_vel2.median():4.3g}; mean: {v_vel2.mean():4.3g};')\n",
    "\n",
    "plt.figure(figsize=[23,3])\n",
    "ax1 = plt.subplot(1,4,1)\n",
    "ax1.hist(e_vec.view(-1,).numpy(),bins=30,color='salmon',alpha=.6);\n",
    "ax1.set_title('(Raw) Edge vec-s')\n",
    "\n",
    "ax2 = plt.subplot(1,4,2)\n",
    "ax2.hist(v_vel.view(-1,).numpy(),bins=30,color='c',alpha=.6);\n",
    "ax2.set_title('(Raw) Node vel-s')\n",
    "\n",
    "ax3 = plt.subplot(1,4,3)\n",
    "ax3.hist(e_vec2.view(-1,).numpy(),bins=30,color='salmon');\n",
    "ax3.set_title('(Norm) Edge vec-s')\n",
    "\n",
    "ax4 = plt.subplot(1,4,4, sharex=ax3)\n",
    "ax4.hist(v_vel2.view(-1,).numpy(),bins=30,color='c');\n",
    "ax4.set_title('(Norm) Node Vel-s');"
   ]
  },
  {
   "cell_type": "code",
   "execution_count": 115,
   "metadata": {
    "ExecuteTime": {
     "end_time": "2021-02-02T16:34:09.669797Z",
     "start_time": "2021-02-02T16:34:09.030298Z"
    }
   },
   "outputs": [
    {
     "name": "stdout",
     "output_type": "stream",
     "text": [
      "> Cell Pressures\n",
      "\trange: [-0.069 2.41]; s.d.:  0.4 || median: 1.05; mean: 1.06;\n",
      "> Edge Tensions\n",
      "\trange: [0.0167 3.83]; s.d.: 0.53 || median: 1.32; mean: 1.42;\n"
     ]
    },
    {
     "data": {
      "image/png": "[encoded data removed]",
      "text/plain": [
       "<Figure size 720x216 with 2 Axes>"
      ]
     },
     "metadata": {
      "needs_background": "light"
     },
     "output_type": "display_data"
    }
   ],
   "source": [
    "c_pres = torch.cat([d.cell_pressures for d in vtxdata],0)\n",
    "e_tens = torch.cat([d.edge_tensions for d in vtxdata],0)\n",
    "\n",
    "print(f'> Cell Pressures\\n\\trange: [{c_pres.min():4.3g} {c_pres.max():4.3g}]; s.d.: {c_pres.std():4.3g} ||'+\n",
    "      f' median: {c_pres.median():4.3g}; mean: {c_pres.mean():4.3g};')\n",
    "print(f'> Edge Tensions\\n\\trange: [{e_tens.min():4.3g} {e_tens.max():4.3g}]; s.d.: {e_tens.std():4.3g} ||'+\n",
    "      f' median: {e_tens.median():4.3g}; mean: {e_tens.mean():4.3g};')\n",
    "\n",
    "plt.figure(figsize=[10,3])\n",
    "ax1 = plt.subplot(1,2,1)\n",
    "ax1.hist(c_pres.view(-1,).numpy(),bins=30,color='salmon');\n",
    "ax1.set_title('Cell Pressures')\n",
    "\n",
    "ax2 = plt.subplot(1,2,2)\n",
    "ax2.hist(e_tens.view(-1,).numpy(),bins=30,color='c');\n",
    "ax2.set_title('Edge Tensions');"
   ]
  },
  {
   "cell_type": "code",
   "execution_count": 137,
   "metadata": {},
   "outputs": [
    {
     "data": {
      "text/plain": [
       "Compose([\n",
       "    Pos2Vec(norm=True, scale=17.14, cat=False),\n",
       "    ScaleVelocity(scale=0.857),\n",
       "])"
      ]
     },
     "execution_count": 137,
     "metadata": {},
     "output_type": "execute_result"
    }
   ],
   "source": [
    "gnnTransforms"
   ]
  },
  {
   "cell_type": "code",
   "execution_count": null,
   "metadata": {},
   "outputs": [],
   "source": []
  }
 ],
 "metadata": {
  "hide_input": false,
  "kernelspec": {
   "display_name": "Python 3",
   "language": "python",
   "name": "python3"
  },
  "language_info": {
   "codemirror_mode": {
    "name": "ipython",
    "version": 3
   },
   "file_extension": ".py",
   "mimetype": "text/x-python",
   "name": "python",
   "nbconvert_exporter": "python",
   "pygments_lexer": "ipython3",
   "version": "3.7.8"
  },
  "toc": {
   "base_numbering": 1,
   "nav_menu": {},
   "number_sections": true,
   "sideBar": true,
   "skip_h1_title": true,
   "title_cell": "Table of Contents",
   "title_sidebar": "Contents",
   "toc_cell": false,
   "toc_position": {},
   "toc_section_display": true,
   "toc_window_display": false
  },
  "toc-autonumbering": true
 },
 "nbformat": 4,
 "nbformat_minor": 4
}
