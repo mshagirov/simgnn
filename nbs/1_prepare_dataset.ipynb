{
 "cells": [
  {
   "cell_type": "markdown",
   "metadata": {},
   "source": [
    "# Graph Dataset Loading and Batching\n",
    "---"
   ]
  },
  {
   "cell_type": "code",
   "execution_count": 1,
   "metadata": {},
   "outputs": [],
   "source": [
    "%load_ext autoreload\n",
    "%autoreload 2"
   ]
  },
  {
   "cell_type": "code",
   "execution_count": 2,
   "metadata": {},
   "outputs": [],
   "source": [
    "import numpy as np\n",
    "import torch\n",
    "from os import path\n",
    "\n",
    "import networkx as nx\n",
    "from simgnn.datautils import load_array, load_graph\n",
    "\n",
    "import matplotlib.pyplot as plt\n",
    "import matplotlib\n",
    "plt.style.use('ggplot')\n",
    "%matplotlib inline\n",
    "matplotlib.rcParams['figure.figsize'] = (10,10) # use larger for presentation\n",
    "matplotlib.rcParams['font.size']= 14 # use 14 for presentation"
   ]
  },
  {
   "cell_type": "code",
   "execution_count": 3,
   "metadata": {},
   "outputs": [
    {
     "name": "stdout",
     "output_type": "stream",
     "text": [
      "Defaults:\n",
      " |-device: cuda\n",
      " |-dtype : torch.float32\n"
     ]
    }
   ],
   "source": [
    "device = torch.device('cpu')\n",
    "if torch.cuda.is_available():\n",
    "    device = torch.device('cuda')\n",
    "dtype = torch.float32\n",
    "print(f'Defaults:\\n |-device: {device}\\n |-dtype : {dtype}')"
   ]
  },
  {
   "cell_type": "markdown",
   "metadata": {},
   "source": [
    "**Add TENSION(edge) and PRESSURE(cell) attr**"
   ]
  },
  {
   "cell_type": "markdown",
   "metadata": {},
   "source": [
    "- Edge tensions\n",
    "$$T_{edge:(i,j)} = \\Lambda_{ij}(t)+\\sum_{k\\in\\{cells\\ for\\ (i,j)\\}}K_p^{(k)}(p^{(k)}-p_0^{(k)})$$\n",
    "- Cell pressures\n",
    "$$\\pi_{cell:k} = -2K_a^{(k)}(a^{(k)}-a_0^{(k)})$$"
   ]
  },
  {
   "cell_type": "markdown",
   "metadata": {},
   "source": [
    "**Adding noise from M steps**: Sum of M normal rand. var-s results in normal var. w/ variance M and s.t.d.=sqrt(M):\n",
    "```python\n",
    "x = np.random.normal(size=(5,1000))\n",
    "y = x.sum(axis=0)\n",
    "z = np.random.normal(size=(1,1000))*np.sqrt(5)\n",
    "plt.hist(x.ravel(),bins=50,label='x',density=True)\n",
    "plt.hist(y        ,bins=50,label='y',density=True)\n",
    "plt.hist(z.ravel(),bins=50,label='z',density=True,alpha=.5)\n",
    "plt.legend();\n",
    "```"
   ]
  },
  {
   "cell_type": "markdown",
   "metadata": {},
   "source": [
    "## Working with PyTorch Geometric"
   ]
  },
  {
   "cell_type": "markdown",
   "metadata": {},
   "source": [
    "- **Node features** : velocities from previous frames (~ 5 frames--> Alvaro Sanchez-Gonzalez, *et al.* 2020 \\[ASG2020\\])\n",
    "- **Edge features** : can use edge directions (optional, might help to speed up training)\n",
    "- **Current position** : technically a node feature, and needs to be normalized but not processed by the network.\n",
    "- Positions (Cartesian) to polar edge attributes: `transforms.Polar` \\[[link](https://pytorch-geometric.readthedocs.io/en/latest/modules/transforms.html#torch_geometric.transforms.Polar)\\], I can also implement or use the `transforms.Cartesian` which computes direction vectors (position pairs -to- normalized direction vectors).\n",
    "- need transform for velocity noise (use src from example transforms above and ASG2020 paper)\n",
    "- Train-g movie: max edge length ~ 3.25 a.u."
   ]
  },
  {
   "cell_type": "code",
   "execution_count": 4,
   "metadata": {},
   "outputs": [],
   "source": [
    "from torch_geometric.data import Data, DataLoader\n",
    "from torch_geometric.utils import to_networkx, from_networkx\n",
    "import torch_geometric.transforms as T"
   ]
  },
  {
   "cell_type": "code",
   "execution_count": 5,
   "metadata": {},
   "outputs": [],
   "source": [
    "from simgnn.datasets import VertexDynamics, CellData"
   ]
  },
  {
   "cell_type": "markdown",
   "metadata": {},
   "source": [
    "- `simgnn.datasets.VertexDynamics` (child of `torch_geometric.data.Dataset`)"
   ]
  },
  {
   "cell_type": "code",
   "execution_count": 7,
   "metadata": {},
   "outputs": [
    {
     "name": "stdout",
     "output_type": "stream",
     "text": [
      "Processing...\n",
      "Done!\n"
     ]
    },
    {
     "data": {
      "text/plain": [
       "VertexDynamics(95)"
      ]
     },
     "execution_count": 7,
     "metadata": {},
     "output_type": "execute_result"
    }
   ],
   "source": [
    "vtxdata = VertexDynamics('../../../dataDIR/simgnn_data/train/')\n",
    "vtxdata"
   ]
  },
  {
   "cell_type": "code",
   "execution_count": 8,
   "metadata": {},
   "outputs": [],
   "source": [
    "data=vtxdata[0]"
   ]
  },
  {
   "cell_type": "code",
   "execution_count": 9,
   "metadata": {},
   "outputs": [
    {
     "data": {
      "text/plain": [
       "CellData(cell2node_index=[2, 600], cell_pressures=[100], edge_index=[2, 678], edge_tensions=[339], node2cell_index=[2, 600], pos=[240, 2], x=[240, 5, 2], y=[240, 2])"
      ]
     },
     "execution_count": 9,
     "metadata": {},
     "output_type": "execute_result"
    }
   ],
   "source": [
    "data"
   ]
  },
  {
   "cell_type": "code",
   "execution_count": 83,
   "metadata": {},
   "outputs": [
    {
     "name": "stdout",
     "output_type": "stream",
     "text": [
      "Batch(batch=[480], cell2node_index=[2, 1200], cell_pressures=[200], edge_index=[2, 1356], edge_tensions=[678], node2cell_index=[2, 1200], pos=[480, 2], x=[480, 5, 2], y=[480, 2])\n"
     ]
    }
   ],
   "source": [
    "loader = DataLoader([vtxdata[0], vtxdata[25]], batch_size=2)\n",
    "batch = next(iter(loader))\n",
    "print(batch)\n",
    "# nx.draw(to_networkx(batch, to_undirected=True),pos=dict(enumerate(batch.pos.numpy())), node_size=60)"
   ]
  },
  {
   "cell_type": "code",
   "execution_count": 10,
   "metadata": {},
   "outputs": [],
   "source": [
    "# data = vtxdata[0]\n",
    "# print(data)\n",
    "# plt.figure(figsize=[10,10])\n",
    "# plt.title('Monolayer Graph with Cell-to-Nodes Edges')\n",
    "# nx.draw(to_networkx(data), pos=dict(enumerate(data.pos.numpy())), node_size=30)\n",
    "# for ci in range(data.num_cells):\n",
    "#     c_vxpos = data.pos[data.node2cell_index[0][data.node2cell_index[1]==ci]]\n",
    "#     cpos = c_vxpos.mean(dim=0)\n",
    "#     for vi in c_vxpos:\n",
    "#         plt.plot([vi[0],cpos[0]],[vi[1],cpos[1]],lw=3,alpha=.5)\n",
    "#     plt.plot(cpos[0],cpos[1],'bo',ms=10,alpha=.5)\n",
    "# # plt.savefig('cell2node.png',dpi=100)"
   ]
  },
  {
   "cell_type": "code",
   "execution_count": 85,
   "metadata": {},
   "outputs": [],
   "source": [
    "# cell_pos = np.stack([d1.pos[d1.cell2node_index[1,d1.cell2node_index[0]==c]].mean(dim=0).numpy() for c in range(d1.num_cells)])\n",
    "# plt.figure(figsize=[20,20])\n",
    "# nx.draw(to_networkx(d1),pos=dict(enumerate(d1.pos.numpy())), node_size=60)\n",
    "# plt.plot(cell_pos[:,0],cell_pos[:,1],'ro',ms=10, alpha=.5)\n",
    "# for c, c_pos in enumerate(cell_pos):\n",
    "#     plt.text(c_pos[0],c_pos[1], f'{d1.cell_pressures[c]:.3f}') "
   ]
  },
  {
   "cell_type": "code",
   "execution_count": 21,
   "metadata": {},
   "outputs": [],
   "source": [
    "# t=5\n",
    "# Dt = 1\n",
    "# # plt.figure(figsize=[25,25])\n",
    "# nx.draw(to_networkx(vtxdata[t], to_undirected=True),pos=dict(enumerate(vtxdata[t].pos.numpy())), node_size=60)\n",
    "# nx.draw(to_networkx(vtxdata[t+Dt], to_undirected=True),pos=dict(enumerate(vtxdata[t+Dt].pos.numpy())),\n",
    "#         node_size=20,width=4,\n",
    "#         node_color='#FF00FF',edge_color='#51C5FF',alpha=.5)\n",
    "# plt.quiver(vtxdata[t].pos.numpy()[:,0], vtxdata[t].pos.numpy()[:,1],\n",
    "#            vtxdata[t].y.numpy()[:,0],vtxdata[t].y.numpy()[:,1],\n",
    "#            units='xy',angles='xy',scale=.25,color='r')"
   ]
  },
  {
   "cell_type": "code",
   "execution_count": 24,
   "metadata": {},
   "outputs": [],
   "source": [
    "# Compare computed and original *edge lengths*\n",
    "# dist_fn = T.Distance(norm=False)\n",
    "# compute cartesian distances\n",
    "# dist_fn(data);"
   ]
  }
 ],
 "metadata": {
  "hide_input": false,
  "kernelspec": {
   "display_name": "Python 3",
   "language": "python",
   "name": "python3"
  },
  "language_info": {
   "codemirror_mode": {
    "name": "ipython",
    "version": 3
   },
   "file_extension": ".py",
   "mimetype": "text/x-python",
   "name": "python",
   "nbconvert_exporter": "python",
   "pygments_lexer": "ipython3",
   "version": "3.7.4"
  },
  "toc": {
   "base_numbering": 1,
   "nav_menu": {},
   "number_sections": true,
   "sideBar": true,
   "skip_h1_title": true,
   "title_cell": "Table of Contents",
   "title_sidebar": "Contents",
   "toc_cell": false,
   "toc_position": {},
   "toc_section_display": true,
   "toc_window_display": false
  },
  "toc-autonumbering": true
 },
 "nbformat": 4,
 "nbformat_minor": 4
}
