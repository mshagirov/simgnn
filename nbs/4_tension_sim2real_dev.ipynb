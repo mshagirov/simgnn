{
 "cells": [
  {
   "cell_type": "markdown",
   "metadata": {
    "tags": []
   },
   "source": [
    "# Training Tension Models\n",
    "---\n",
    "> Graph neural network model for vertex dynamics and tension prediction"
   ]
  },
  {
   "cell_type": "markdown",
   "metadata": {},
   "source": [
    "**To-Do**👷🚧\n",
    "- Find good features `x_v` (nodes) and `x_e` (edges)\n",
    "    - `x_v`:node features to try:\n",
    "        - [ ] The **Cartesian `u=(x,y)` coordinates**: find number of past velocities (window size `w`). \n",
    "        - [ ] The **append norm `[|u|, u_1, u_2]`**, where I separate length from direction (vector). Same `w`.\n",
    "    - `x_e`: edge features to try:\n",
    "        - [ ] add **edge length changes** (ie `x_e = dl(t; t=T-1...T-w), e[s,t]` ); edge vector (`e[s,t] = v_pos[t]-v_pos[s]`).\n",
    "        $\\{l_{ij}(t)\\}_{t=T-1...T-w } = (x_v[tgt]- x_v[src])$\n",
    "- Model architecture:\n",
    "    - [ ] add *Cell layer* processor\n",
    "- Rollout error (tension, position/velocity)\n",
    "    - rollout vs 1-step losses\n",
    "    - train for single step with velocity noise (Brownian noise: Sanchez-Gonzalez, *et al.* \\[ASG2020\\])\n",
    "    - train for rollout (multi-step loss)\n",
    "    - convert vel-y error to **position error**, e.g. \"speed\"+\"direction\"(angle/dot product etc.)\n",
    "- compare MLP vs CONV layers for message passing.\n",
    "- try with dynamic graphs (construct graphs on the fly based on relative positions, and use cell edges and cell attrib only for queries on `Y_edge`, `Y_cell`)."
   ]
  },
  {
   "cell_type": "markdown",
   "metadata": {},
   "source": [
    "**Node-to-Cell Encoding/Pooling Layer**:\n",
    "1. Initiate node-to-cell edge attr-s as (source) node attr-s `x[node2cell_index[0]]`.\n",
    "1. Compute node-to-cell edge attr-s using MLP: `e_n2c = MLP( x[node2cell_index[0]] )`\n",
    "1. Aggregate node-to-cell edge attr-s as cell attr-s : `x_cell = Aggregate(e_n2c)`\n",
    "1. Compute new cell attr-s using (encodes `x_cell` into cell attr-s) : `h_cell = MLP_Cell_encoder( x_cell )`\n",
    "\n",
    "```python\n",
    "n2c_model = mlp(...) # \"message\", just node-wise MLP\n",
    "cell_aggr = Aggregate()\n",
    "cell_enc = mlp(...)\n",
    "\n",
    "e_n2c = n2c_model(data.x)[data.node2cell_index[0]]\n",
    "x_cell = cell_aggr(data.cell_pressures.size(0), data.node2cell_index, e_n2c)\n",
    "h_cell = cell_enc(x_cell)\n",
    "```"
   ]
  },
  {
   "cell_type": "markdown",
   "metadata": {},
   "source": [
    "---\n",
    "- **Adding noise from M steps**: Sum of M normal rand. var-s results in normal var. w/ variance M and s.t.d.=sqrt(M):\n",
    "```python\n",
    "x = np.random.normal(size=(5,1000))\n",
    "y = x.sum(axis=0)\n",
    "z = np.random.normal(size=(1,1000))*np.sqrt(5)\n",
    "plt.hist(x.ravel(),bins=50,label='x',density=True)\n",
    "plt.hist(y        ,bins=50,label='y',density=True)\n",
    "plt.hist(z.ravel(),bins=50,label='z',density=True,alpha=.5)\n",
    "plt.legend();\n",
    "```"
   ]
  },
  {
   "cell_type": "markdown",
   "metadata": {},
   "source": [
    "---"
   ]
  },
  {
   "cell_type": "code",
   "execution_count": 1,
   "metadata": {
    "ExecuteTime": {
     "end_time": "2021-11-19T04:56:35.240327Z",
     "start_time": "2021-11-19T04:56:35.218207Z"
    }
   },
   "outputs": [],
   "source": [
    "%load_ext autoreload\n",
    "%autoreload 2"
   ]
  },
  {
   "cell_type": "code",
   "execution_count": 2,
   "metadata": {
    "ExecuteTime": {
     "end_time": "2021-11-19T04:56:36.759617Z",
     "start_time": "2021-11-19T04:56:35.398099Z"
    }
   },
   "outputs": [],
   "source": [
    "import numpy as np\n",
    "import torch\n",
    "from os import path\n",
    "import datetime\n",
    "\n",
    "from torch_geometric.data import Data, DataLoader\n",
    "import torch_geometric.transforms as T\n",
    "\n",
    "from torch_geometric.utils import to_networkx, from_networkx\n",
    "import networkx as nx\n",
    "from simgnn.datautils import load_array, load_graph\n",
    "\n",
    "import matplotlib.pyplot as plt\n",
    "import matplotlib\n",
    "plt.style.use(['seaborn-paper', 'seaborn-ticks']) # use seaborn-talk for presentations\n",
    "%matplotlib inline\n",
    "# matplotlib.rcParams['figure.figsize'] = (10,10) # use larger for presentation\n",
    "# matplotlib.rcParams['font.size']= 16 # use 14 for presentation"
   ]
  },
  {
   "cell_type": "code",
   "execution_count": 3,
   "metadata": {
    "ExecuteTime": {
     "end_time": "2021-11-19T04:56:39.988209Z",
     "start_time": "2021-11-19T04:56:39.954160Z"
    }
   },
   "outputs": [],
   "source": [
    "from collections import OrderedDict\n",
    "from simgnn.datasets import persistence_loss, VertexDynamics, HaraMovies, HaraAblation\n",
    "from simgnn.transforms import Pos2Vec, AddNoise_x, ScaleVelocity, ScaleTension, RecoilAsTension, TransformTension\n",
    "from simgnn.transforms import AppendReversedEdges, AppendEdgeNorm, AppendDiff_x, Reshape_x, AppendEdgeLen\n",
    "# from torch_geometric.utils import to_undirected as T_undir"
   ]
  },
  {
   "cell_type": "code",
   "execution_count": 4,
   "metadata": {
    "ExecuteTime": {
     "end_time": "2021-11-19T04:56:41.898565Z",
     "start_time": "2021-11-19T04:56:41.865371Z"
    }
   },
   "outputs": [
    {
     "name": "stdout",
     "output_type": "stream",
     "text": [
      "Defaults:\n",
      " |-device: cuda\n",
      " |-dtype : torch.float32\n"
     ]
    }
   ],
   "source": [
    "device = torch.device('cuda') if torch.cuda.is_available() else torch.device('cpu')\n",
    "dtype = torch.float32\n",
    "print(f'Defaults:\\n |-device: {device}\\n |-dtype : {dtype}')"
   ]
  },
  {
   "cell_type": "code",
   "execution_count": 5,
   "metadata": {},
   "outputs": [],
   "source": [
    "def clear_processed_datasets():\n",
    "    !rm -dr simgnn_data/single_distr_sims/train/processed\n",
    "    !rm -dr simgnn_data/single_distr_sims/val/processed\n",
    "\n",
    "    !rm -dr simgnn_data/unimodal_wbasetens_sims/train/processed\n",
    "    !rm -dr simgnn_data/unimodal_wbasetens_sims/val/processed\n",
    "\n",
    "    !rm -dr simgnn_data/hara_movies/processed\n",
    "    !rm -dr simgnn_data/hara_movies_as_sep_datasets/hara_seg001/processed/\n",
    "    !rm -dr simgnn_data/hara_movies_as_sep_datasets/hara_seg003/processed/\n",
    "    !rm -dr simgnn_data/hara_movies_as_sep_datasets/hara_seg005/processed/\n",
    "    \n",
    "    !rm -dr simgnn_data/hara_ablation/processed/"
   ]
  },
  {
   "cell_type": "markdown",
   "metadata": {},
   "source": [
    "## Data, Stat-s, Transforms"
   ]
  },
  {
   "cell_type": "markdown",
   "metadata": {},
   "source": [
    "Notes for normalisation param-s:\n",
    "\n",
    "- Use `simgnn.transforms` to normalise real--Hara movies and ablation,  and simulated movies.\n",
    "- For ablation movies, convert to  HaraMovies length scale (pixels) and use same `l_av` as for HaraMovies dataset."
   ]
  },
  {
   "cell_type": "markdown",
   "metadata": {},
   "source": [
    "---\n",
    "|Dataset| Avg. edge len.|Tension/Recoil| Transforms (Normalisation)|Notes|\n",
    "|:---:|:---:|---:|:---|:---:|\n",
    "|`single_distr_sims` | 1.08 a.u. | range = [0.00131, 4.26]; sd=0.637; median=0.305; mean=0.578; | `[Pos2Vec(scale=10*1.0)`, `ScaleVelocity(0.5*1.0)`, `ScaleTension(0.634,shift=0.6)]`| synthetic; w/o base tension |\n",
    "|`unimodal_wbasetens_sims` | 0.906 a.u. | range=[0.407, 5.47]; sd=0.729; median=1.48; mean=1.6| `[Pos2Vec(scale=10*1.0)`, `ScaleVelocity(0.5*1.0)`, `ScaleTension(0.634,shift=0.6)]`| synthetic; w/ non-zero base tension |\n",
    "|`HaraMovies`  | 26.32 pixels||`[Pos2Vec(scale=10*26.32)`, `ScaleVelocity(0.5*26.32)]`| tissue movies w/o force data|\n",
    "|`HaraAblation`|$26.32\\cdot\\frac{0.4}{0.21}$ pixels| range=[0.0239, 2.61]; sd=0.651; median=0.673; mean=0.826 | `[Pos2Vec(scale=10*50.13), ScaleVelocity(0.5*50.13)]`| short movies w/ recoil data; frame rate:dataset contains vertex positions only from every 10th frame |\n"
   ]
  },
  {
   "cell_type": "markdown",
   "metadata": {},
   "source": [
    "### Datasets"
   ]
  },
  {
   "cell_type": "markdown",
   "metadata": {},
   "source": [
    "---\n",
    "- **Normalisation param-s**"
   ]
  },
  {
   "cell_type": "code",
   "execution_count": 9,
   "metadata": {
    "ExecuteTime": {
     "end_time": "2021-11-19T04:38:21.352011Z",
     "start_time": "2021-11-19T04:38:21.324365Z"
    },
    "tags": []
   },
   "outputs": [
    {
     "name": "stdout",
     "output_type": "stream",
     "text": [
      "> Set features window size to --> 5\n"
     ]
    }
   ],
   "source": [
    "# Data normalisation param-s : sim=\"default\" for simulation data\n",
    "# Average edge lengths\n",
    "l_0 = {'sim':1.0, 'single_distr_sims':1.1, 'unimodal_wbasetens_sims':0.91, 'hara':26.32, 'abln':50.13}\n",
    "\n",
    "# Stat-s for raw tension/recoil values\n",
    "t_av = {'sim':0.6, 'single_distr_sims': 0.58, 'unimodal_wbasetens_sims': 1.6, 'abln': 0.83}\n",
    "t_sd = {'sim':0.63, 'single_distr_sims': 0.64, 'unimodal_wbasetens_sims':0.73 , 'abln': 0.65}\n",
    "\n",
    "# Input features\n",
    "window_size = 5\n",
    "sma_lag_time = 4 # SMA_n : n=sma_lag_time+1\n",
    "\n",
    "pos_noise = torch.normal\n",
    "noise_args= [0, 0.01] #[0,1]\n",
    "print(f'> Set features window size to --> {window_size}')"
   ]
  },
  {
   "cell_type": "markdown",
   "metadata": {},
   "source": [
    "**Input features and normalisation param-s (transforms)**"
   ]
  },
  {
   "cell_type": "code",
   "execution_count": 10,
   "metadata": {
    "ExecuteTime": {
     "end_time": "2021-11-19T02:51:58.174970Z",
     "start_time": "2021-11-19T02:51:58.127408Z"
    }
   },
   "outputs": [],
   "source": [
    "INPUT_NOISE = True # True/False\n",
    "\n",
    "# Simulation datasets\n",
    "if INPUT_NOISE:\n",
    "    # Normalisation (**input noise**; during training)\n",
    "    Tnrm = {'unimodal_wbasetens_sims': [Pos2Vec(scale=l_0['sim'], pos_noise=pos_noise, noise_args=noise_args),\n",
    "                                        AddNoise_x(pos_noise, noise_args=noise_args),\n",
    "                                        ScaleVelocity(l_0['sim']),\n",
    "                                        ScaleTension(t_sd['unimodal_wbasetens_sims'], shift=t_av['unimodal_wbasetens_sims'])]   \n",
    "           }\n",
    "    for k in ['sim', 'single_distr_sims']:\n",
    "        Tnrm[k] = [Pos2Vec(scale=l_0['sim']), ScaleVelocity(l_0['sim']), ScaleTension(t_sd[k], shift=t_av[k])]\n",
    "else:\n",
    "    # Simulation dataset\n",
    "    # Normalisation (**no input noise**)\n",
    "    Tnrm = {k: [Pos2Vec(scale=l_0['sim']), ScaleVelocity(l_0['sim']), ScaleTension(t_sd[k], shift=t_av[k])]\n",
    "            for k in ['sim', 'single_distr_sims', 'unimodal_wbasetens_sims']}\n",
    "\n",
    "\n",
    "# Hara ablation dataset\n",
    "Tnrm['abln'] = [Pos2Vec(scale=l_0['abln']), ScaleVelocity(l_0['abln']), RecoilAsTension(), \n",
    "                ScaleTension(t_sd['abln'], shift=t_av['abln'])]\n",
    "\n",
    "# Hara movie dataset\n",
    "Tnrm['hara'] = [Pos2Vec(scale=l_0['hara']), ScaleVelocity(l_0['hara'])]\n",
    "\n",
    "\n",
    "# Node and Edge Feature Transforms\n",
    "# Convert to undirected graph and append \"edge features\"\n",
    "for k in Tnrm:\n",
    "    # to undirected graph: add e_ji for all e_ij\n",
    "    Tnrm[k].append(AppendReversedEdges())\n",
    "    \n",
    "#     # Add edge features\n",
    "    Tnrm[k].append(AppendDiff_x())\n",
    "#     Tnrm[k].append(AppendEdgeNorm())\n",
    "    Tnrm[k].append(AppendEdgeLen(norm=True, scale=l_0[k])) # for edge masks\n",
    "    \n",
    "    # flatten  node features\n",
    "    Tnrm[k].append(Reshape_x((-1,window_size*2)))\n",
    "    \n",
    "    Tnrm[k] = T.Compose(Tnrm[k])"
   ]
  },
  {
   "cell_type": "code",
   "execution_count": 11,
   "metadata": {},
   "outputs": [
    {
     "data": {
      "text/plain": [
       "Compose([\n",
       "    Pos2Vec(norm=True, scale=1.0, cat=False, pos_noise=normal, noise_args=[0, 0.01], noise_kwargs={}),\n",
       "    AddNoise_x(pos_noise=normal, noise_args=[0, 0.01], noise_kwargs={}),\n",
       "    ScaleVelocity(scale=1.0),\n",
       "    ScaleTension(scale=0.73, shift=1.6),\n",
       "    AppendReversedEdges(reverse_attr=True, reverse_tension=False, edge_id=True),\n",
       "    AppendDiff_x(norm=True),\n",
       "    AppendEdgeLen(keep_dir=False, aggr_edge_id=True, use_edge_attr=False, norm=True, scale=0.91),\n",
       "    Reshape_x((-1, 10)),\n",
       "])"
      ]
     },
     "execution_count": 11,
     "metadata": {},
     "output_type": "execute_result"
    }
   ],
   "source": [
    "Tnrm['unimodal_wbasetens_sims']"
   ]
  },
  {
   "cell_type": "markdown",
   "metadata": {},
   "source": [
    "**Load datasets**"
   ]
  },
  {
   "cell_type": "markdown",
   "metadata": {},
   "source": [
    "if one of these is changed: `w`, SMA `lag` time, delete the old *processed* dataset files (e.g. with old `w`)"
   ]
  },
  {
   "cell_type": "code",
   "execution_count": 12,
   "metadata": {},
   "outputs": [
    {
     "name": "stdout",
     "output_type": "stream",
     "text": [
      "rm: cannot remove 'simgnn_data/single_distr_sims/train/processed': No such file or directory\n",
      "rm: cannot remove 'simgnn_data/hara_movies/processed': No such file or directory\n",
      "rm: cannot remove 'simgnn_data/hara_movies_as_sep_datasets/hara_seg003/processed/': No such file or directory\n",
      "rm: cannot remove 'simgnn_data/hara_movies_as_sep_datasets/hara_seg005/processed/': No such file or directory\n"
     ]
    }
   ],
   "source": [
    "clear_processed_datasets()"
   ]
  },
  {
   "cell_type": "code",
   "execution_count": 13,
   "metadata": {
    "ExecuteTime": {
     "end_time": "2021-10-25T14:58:32.713277Z",
     "start_time": "2021-10-25T14:58:30.420983Z"
    }
   },
   "outputs": [
    {
     "name": "stdout",
     "output_type": "stream",
     "text": [
      "Processing...\n",
      "Done!\n",
      "Processing...\n",
      "Done!\n",
      "Processing...\n",
      "Done!\n",
      "Processing...\n",
      "Done!\n",
      "Processing...\n",
      "Done!\n"
     ]
    }
   ],
   "source": [
    "hara_abln = HaraAblation('simgnn_data/hara_ablation/', window_size=window_size, transform=Tnrm['abln'],\n",
    "                         smoothing=True, sma_lag_time= 3#sma_lag_time\n",
    "                        )\n",
    "# hara = HaraMovies('simgnn_data/hara_movies/',window_size=window_size, transform=Tnrm['hara'],\n",
    "#                   smoothing=True, sma_lag_time=sma_lag_time)\n",
    "\n",
    "# Hara movie datasets\n",
    "seg001 = HaraMovies('simgnn_data/hara_movies_as_sep_datasets/hara_seg001/', window_size=window_size, transform=Tnrm['hara'], \n",
    "                    smoothing=True, sma_lag_time=sma_lag_time)\n",
    "# seg001_raw = HaraMovies('simgnn_data/hara_movies/', window_size=window_size, transform=Tnorm_hara)\n",
    "# seg003 = HaraMovies('simgnn_data/hara_movies_as_sep_datasets/hara_seg003/', window_size=window_size, transform=Tnrm['hara'],\n",
    "#                     smoothing=True, sma_lag_time=4)\n",
    "# seg005 = HaraMovies('simgnn_data/hara_movies_as_sep_datasets/hara_seg005/', window_size=window_size, transform=Tnrm['hara'],\n",
    "#                     smoothing=True, sma_lag_time=4)\n",
    "\n",
    "# Simulation datasets\n",
    "# rand base contractility\n",
    "sim1 = VertexDynamics('./simgnn_data/unimodal_wbasetens_sims/train/', window_size=window_size,\n",
    "#                       transform=Tnrm['sim']\n",
    "                      transform=Tnrm['unimodal_wbasetens_sims']\n",
    "                     )\n",
    "sim1_val = VertexDynamics('./simgnn_data/unimodal_wbasetens_sims/val/', window_size=window_size,\n",
    "#                           transform=Tnrm['sim']\n",
    "                          transform=Tnrm['unimodal_wbasetens_sims']\n",
    "                         )\n",
    "\n",
    "# w/o base contractility\n",
    "# sim2 = VertexDynamics('./simgnn_data/single_distr_sims/train/', window_size=window_size,\n",
    "# #                       transform=Tnrm['sim']\n",
    "#                       transform=Tnrm['single_distr_sims']\n",
    "#                      )\n",
    "sim2_val = VertexDynamics('./simgnn_data/single_distr_sims/val/', window_size=window_size,\n",
    "#                           transform=Tnrm['sim']\n",
    "                          transform=Tnrm['single_distr_sims']\n",
    "                         )\n",
    "\n",
    "\n",
    "datasets_dict = {'train': sim1,\n",
    "                 'val': sim1_val[:len(sim1_val)//2]+sim1_val[len(sim1_val)//2:-1],\n",
    "                 'val2': sim2_val[:len(sim2_val)//2]+sim1_val[len(sim2_val)//2:-1],\n",
    "                 'H1' : seg001,\n",
    "                 'A': hara_abln,\n",
    "                 'sim1mov': sim1_val,\n",
    "                 'sim2mov': sim2_val\n",
    "                }\n",
    "dataset_legend={'train': 'Train(sim1)',\n",
    "                'val': r'Supervised ($\\mathcal{D}_{sim1}$)',\n",
    "                'val2': r'Sim2sim ($\\mathcal{D}_{sim2})$',\n",
    "                'H1': r'Sim2real ($\\mathcal{H}_1$)',\n",
    "                'A': r'Sim2real ($v_{recoil}$)',\n",
    "                'sim1mov': r'Supervised ($\\mathcal{D}_{sim1}$)',\n",
    "                'sim2mov': r'Sim2sim ($\\mathcal{D}_{sim2})$'\n",
    "               }"
   ]
  },
  {
   "cell_type": "code",
   "execution_count": 11,
   "metadata": {
    "ExecuteTime": {
     "end_time": "2021-10-07T06:39:34.589668Z",
     "start_time": "2021-10-07T06:39:34.556697Z"
    }
   },
   "outputs": [],
   "source": [
    "# k = 'val2'\n",
    "# t = 15\n",
    "# print('{}\\n{} : {}\\nsize:{}\\n\\nFrame {}:\\n{}'.format(dataset_legend[k],k,datasets_dict[k],len(datasets_dict[k]),t,datasets_dict[k][0]))\n",
    "# plt.figure(figsize=[2.5,2.5])\n",
    "# nx.draw(to_networkx(datasets_dict[k][t]),pos=dict(enumerate(datasets_dict[k][t].pos.numpy())), node_size=10)"
   ]
  },
  {
   "cell_type": "markdown",
   "metadata": {},
   "source": [
    "**Persistence Losses**"
   ]
  },
  {
   "cell_type": "code",
   "execution_count": 12,
   "metadata": {
    "ExecuteTime": {
     "end_time": "2021-10-07T06:39:35.234134Z",
     "start_time": "2021-10-07T06:39:35.202061Z"
    }
   },
   "outputs": [],
   "source": [
    "# print('Persistence:')\n",
    "# for k in datasets_dict:\n",
    "#     if k=='abln':print('Ignoring ablation data velocity');continue\n",
    "#     print(f'\\t- {dataset_legend[k]}: {persistence_loss(datasets_dict[k])}')\n",
    "    \n",
    "# print(len(datasets_dict['train']))"
   ]
  },
  {
   "cell_type": "markdown",
   "metadata": {},
   "source": [
    "---"
   ]
  },
  {
   "cell_type": "markdown",
   "metadata": {},
   "source": [
    "## Tension Models"
   ]
  },
  {
   "cell_type": "code",
   "execution_count": 14,
   "metadata": {
    "ExecuteTime": {
     "end_time": "2021-10-07T08:21:02.184243Z",
     "start_time": "2021-10-07T08:21:02.143521Z"
    }
   },
   "outputs": [],
   "source": [
    "from simgnn.train import train_model, write_log, load_log, plot_losses\n",
    "from simgnn.train import predict, predict_batch, plot_velocity_predictions, plot_tension_prediction\n",
    "from simgnn.train import predict_abln_tension, predict_dataset_tension\n",
    "\n",
    "from scipy.stats import pearsonr\n",
    "\n",
    "\n",
    "# from simgnn.nn import mlp, IndependentBlock, MessageBlock, dims_to_dict, Encode_Process_Decode\n",
    "from simgnn.models import get_simple_gnn, construct_simple_gnn, GraphEncoder, GraphDecoder, GraphProcessor"
   ]
  },
  {
   "cell_type": "code",
   "execution_count": 14,
   "metadata": {
    "ExecuteTime": {
     "end_time": "2021-09-28T14:23:14.958823Z",
     "start_time": "2021-09-28T14:23:14.925226Z"
    }
   },
   "outputs": [],
   "source": [
    "# MessageBlock(..., hidden_dims=[16], updt='p')"
   ]
  },
  {
   "cell_type": "code",
   "execution_count": 15,
   "metadata": {},
   "outputs": [],
   "source": [
    "# next(iter(loaders['train']))"
   ]
  },
  {
   "cell_type": "markdown",
   "metadata": {},
   "source": [
    "- Construct a model\n",
    "---\n",
    "GNN(n) models\n",
    "```python\n",
    "input_dims = OrderedDict([('node', 10), ('edge', 2)]) # node_features, edge_features\n",
    "output_dims = OrderedDict([('node', 2), ('edge', 1)]) # velocity:(Nv,2), tensions:(Ne,1)\n",
    "latent_dims = 128\n",
    "\n",
    "encoder_kwrgs    = {'hidden_dims':[128, 128]}\n",
    "\n",
    "processor_kwargs = {'n_blocks': n,\n",
    "                    'block_type': 'message',\n",
    "                    'is_residual': True,\n",
    "                    'seq': 'n', # 'n', 'e', 'p'\n",
    "                    'norm_type': 'ln', # 'ln' or 'bn'\n",
    "                    'block_p': 0,  # block dropout (last layer)\n",
    "                    'dropout_p': 0.1, # dropout for hidden layers (if any)\n",
    "                    'hidden_dims':[latent_dims, latent_dims]\n",
    "                   }\n",
    "\n",
    "decoder_kwargs   = {'hidden_dims':[128, 128, 16]}\n",
    "```"
   ]
  },
  {
   "cell_type": "code",
   "execution_count": 16,
   "metadata": {},
   "outputs": [],
   "source": [
    "# import simgnn.hardcoded as hcmodels # hardcoded models for testing and experimentation\n",
    "\n",
    "# torch.manual_seed(0)\n",
    "# # net, unique_id = hcmodels.get_model_04122021()\n",
    "# net, unique_id = hcmodels.get_model_NoNrmNoDiffX(return_name=True)\n",
    "# net = net.to(device)\n",
    "# # unique_id: 'YesNrmYesDiffX', 'NoNrmNoDiffX', 'YesNrmNoDiffX', 'model_04122021'\n",
    "\n",
    "# # save_dir = './simgnn_data/saved_models/tension_test'\n",
    "# save_dir = './simgnn_data/saved_models/'\n",
    "# unique_id = unique_id #+ '_noise'"
   ]
  },
  {
   "cell_type": "markdown",
   "metadata": {},
   "source": [
    "- Training param-s and loaders:"
   ]
  },
  {
   "cell_type": "code",
   "execution_count": 17,
   "metadata": {},
   "outputs": [
    {
     "data": {
      "text/plain": [
       "CellData(cell2node_index=[2, 480], cell_pressures=[80], edge_attr=[550, 2], edge_id=[550], edge_index=[2, 550], edge_length=[275], edge_tensions=[275], node2cell_index=[2, 480], pos=[196, 2], x=[196, 10], y=[196, 2])"
      ]
     },
     "execution_count": 17,
     "metadata": {},
     "output_type": "execute_result"
    }
   ],
   "source": [
    "sim1[0]"
   ]
  },
  {
   "cell_type": "code",
   "execution_count": null,
   "metadata": {},
   "outputs": [
    {
     "name": "stdout",
     "output_type": "stream",
     "text": [
      "unique_id: GNN150_res_DiffX_noise_dropout0.2\n",
      "ignore_short_edges, edge_len_threshold: False None\n",
      "GNN150_res_DiffX_noise_dropout0.2_bs2w5_5000epochs\n",
      "---\n",
      "Training param-s: #epochs=5000, metric=MSELoss(), batch_size=2, optim=Adam, sch-r=none, return_best=False\n",
      "---\n",
      "Epoch 0/4999: "
     ]
    }
   ],
   "source": [
    "# num_gn = [3, 3, 3, 3, 3]\n",
    "N_GNs = [n for n in [150]]\n",
    "RNG_SEEDS = [k+1234 for k in range(len(N_GNs))]\n",
    "\n",
    "for k, n_gn_blocks in enumerate(N_GNs):\n",
    "    \n",
    "    torch.manual_seed(RNG_SEEDS[k])\n",
    "\n",
    "    # GNN architecture (if dim is `int` latent dims nodes=edges)\n",
    "    # -----\n",
    "    n_blocks = n_gn_blocks # N_blocks\n",
    "    dropout_p = 0.2 # dropout for hidden layers & GN blocks (if any)\n",
    "    is_residual = True\n",
    "\n",
    "    input_dims = OrderedDict([('node', 10), ('edge', 17)])\n",
    "\n",
    "    net = get_simple_gnn(n_blocks=n_blocks, input_dims=input_dims,\n",
    "                         dropout_p=dropout_p, is_residual=is_residual, device=device)\n",
    "\n",
    "    unique_id = f'GNN{n_blocks}{\"_res\" if is_residual else \"\"}'  # unique name for the model\n",
    "    unique_id += f\"_DiffX\"\n",
    "#     unique_id += f\"_IgnrShrtEdge\"\n",
    "    unique_id += f\"_noise\"\n",
    "    unique_id += f\"_dropout{dropout_p}\" if dropout_p>0 else \"\"\n",
    "    print('unique_id:', unique_id)\n",
    "\n",
    "\n",
    "    # Training param-s & Data loaders:\n",
    "    # -----\n",
    "    num_epochs = 5000\n",
    "    lr = 0.0001\n",
    "    bs = 2\n",
    "    loss_func = torch.nn.MSELoss(reduction='mean')\n",
    "\n",
    "    opt = torch.optim.Adam(net.parameters(), lr=lr) # SGD(net.parameters(), lr=0.1, momentum=0.9)\n",
    "    scheduler = None # torch.optim.lr_scheduler.ReduceLROnPlateau(opt, 'min')\n",
    "\n",
    "    # in order to track the batch id for var-s add its key to \"follow_batch\":\n",
    "    loaders = {'train' : DataLoader(datasets_dict['train'], batch_size=bs),\n",
    "               'val':    DataLoader(datasets_dict['val'],  batch_size=bs)\n",
    "              }\n",
    "    # this tracks batch id for \"cell_pressures_batch\" and \"edge_index_batch\" in addition to node batch ids\n",
    "\n",
    "    model_states = list(loaders.keys())\n",
    "    use_force_loss = {'train':[True,False], \n",
    "                      'val':[True, False],\n",
    "                      'val2':[True,False] ,\n",
    "                      'abln':[True,False] ,\n",
    "                      'hara' : [False, False]\n",
    "                     }# [tension, pressure]\n",
    "\n",
    "    return_best = False\n",
    "# #     ignore_short_edges, edge_len_threshold = False, 10**-2\n",
    "    ignore_short_edges, edge_len_threshold = False, None\n",
    "    print('ignore_short_edges, edge_len_threshold:',ignore_short_edges, edge_len_threshold)\n",
    "\n",
    "\n",
    "    model_name = f'{unique_id}_bs{bs}w{window_size}{\"best\" if return_best else \"\"}' # adding date: datetime.datetime.now().strftime('%d%m%Y_%H%M%S')+\n",
    "    model_name = model_name+f'_{num_epochs}epochs'\n",
    "\n",
    "    print(model_name,end='\\n---\\n')\n",
    "\n",
    "    net, train_log = train_model(net, loaders, opt, num_epochs=num_epochs, scheduler=scheduler, device=device, model_states = model_states,\n",
    "                                 loss_func = loss_func, use_force_loss=use_force_loss, return_best=return_best,\n",
    "                                 ignore_short_edges = ignore_short_edges, edge_len_threshold = edge_len_threshold)\n",
    "\n",
    "    # plot losses\n",
    "    plot_losses(train_log, loaders, dataset_legend, figsize=[7,3])\n",
    "    plt.show()\n",
    "    \n",
    "    # # Save trained model # # #\n",
    "    save_dir = 'simgnn_data/saved_models/thesis/tension_GN_sim2sim_deep/'\n",
    "    gnn_fname = f'{path.join(save_dir, model_name)}_net_{k}.pkl'\n",
    "\n",
    "    write_log(f'{path.join(save_dir, model_name)}_train_log_{k}.pkl',train_log)\n",
    "    torch.save(net.state_dict(), gnn_fname)\n",
    "    print(f'Model weights saved in \\n{gnn_fname}')"
   ]
  },
  {
   "cell_type": "code",
   "execution_count": null,
   "metadata": {},
   "outputs": [],
   "source": [
    "# # plot losses\n",
    "# plot_losses(train_log, loaders, dataset_legend)\n",
    "# # plt.show()"
   ]
  },
  {
   "cell_type": "code",
   "execution_count": 14,
   "metadata": {},
   "outputs": [
    {
     "name": "stdout",
     "output_type": "stream",
     "text": [
      "train_loss_tot , 0.02506286724883088\n",
      "train_loss_y , 0.0004293997410035089\n",
      "train_loss_T , 0.02463346750782737\n",
      "train_loss_P , 0.0\n",
      "val_loss_tot , 0.4501092622176212\n",
      "val_loss_y , 0.0005301466355905242\n",
      "val_loss_T , 0.4495791155820307\n",
      "val_loss_P , 0.0\n",
      "val2_loss_tot , 0.48344030126832177\n",
      "val2_loss_y , 0.0006376310086983136\n",
      "val2_loss_T , 0.4828026702596235\n",
      "val2_loss_P , 0.0\n",
      "H1_loss_tot , 0.00011408679567260912\n",
      "H1_loss_y , 0.00011408679567260912\n",
      "H1_loss_T , 0.0\n",
      "H1_loss_P , 0.0\n",
      "\n"
     ]
    },
    {
     "data": {
      "image/png": "[encoded data removed]",
      "text/plain": [
       "<Figure size 432x216 with 2 Axes>"
      ]
     },
     "metadata": {
      "needs_background": "light"
     },
     "output_type": "display_data"
    },
    {
     "data": {
      "image/png": "[encoded data removed]",
      "text/plain": [
       "<Figure size 432x216 with 2 Axes>"
      ]
     },
     "metadata": {
      "needs_background": "light"
     },
     "output_type": "display_data"
    },
    {
     "data": {
      "image/png": "[encoded data removed]",
      "text/plain": [
       "<Figure size 432x216 with 2 Axes>"
      ]
     },
     "metadata": {
      "needs_background": "light"
     },
     "output_type": "display_data"
    },
    {
     "data": {
      "image/png": "[encoded data removed]",
      "text/plain": [
       "<Figure size 432x216 with 2 Axes>"
      ]
     },
     "metadata": {
      "needs_background": "light"
     },
     "output_type": "display_data"
    },
    {
     "data": {
      "image/png": "[encoded data removed]",
      "text/plain": [
       "<Figure size 216x216 with 1 Axes>"
      ]
     },
     "metadata": {
      "needs_background": "light"
     },
     "output_type": "display_data"
    },
    {
     "data": {
      "image/png": "[encoded data removed]",
      "text/plain": [
       "<Figure size 216x216 with 1 Axes>"
      ]
     },
     "metadata": {
      "needs_background": "light"
     },
     "output_type": "display_data"
    },
    {
     "data": {
      "image/png": "[encoded data removed]",
      "text/plain": [
       "<Figure size 216x216 with 1 Axes>"
      ]
     },
     "metadata": {
      "needs_background": "light"
     },
     "output_type": "display_data"
    },
    {
     "data": {
      "image/png": "[encoded data removed]",
      "text/plain": [
       "<Figure size 360x360 with 1 Axes>"
      ]
     },
     "metadata": {
      "needs_background": "light"
     },
     "output_type": "display_data"
    },
    {
     "name": "stdout",
     "output_type": "stream",
     "text": [
      "- - - - - - - - - - -\n",
      "NO___rosettes : R,p=(0.3566019260753303, 0.009461648945573402)\n",
      "WITH_rosettes : R,p=(0.2663103026414385, 0.05159566176829898)\n",
      "- - - - - - - - - - -\n"
     ]
    }
   ],
   "source": [
    "# compute predictions and plot them\n",
    "# vel-y, tens, pres\n",
    "bs = 2\n",
    "\n",
    "pred_out, tgt_out, sample_losses = predict_batch(net,\n",
    "                                                 {'train' : DataLoader(datasets_dict['train'], batch_size=bs),\n",
    "                                                  'val':    DataLoader(datasets_dict['val'],  batch_size=bs),\n",
    "                                                  'val2':   DataLoader(datasets_dict['val2'], batch_size=bs),\n",
    "                                                  'H1':   DataLoader(datasets_dict['H1'], batch_size=bs),\n",
    "#                                                   'A':   DataLoader(datasets_dict['A'], batch_size=bs)\n",
    "                                                 },\n",
    "                                                 loss_func=torch.nn.MSELoss(reduction='sum'),\n",
    "                                                 use_force_loss = {'train': True,\n",
    "                                                                   'val': True,\n",
    "                                                                   'val2': True,\n",
    "                                                                   'H1' : False,\n",
    "                                                                   'A':True\n",
    "                                                                  },\n",
    "                                                 return_losses = True, device=device)\n",
    "print(''.join([f'{k} , {sample_losses[k]}\\n' for k in sample_losses]))\n",
    "\n",
    "plot_velocity_predictions(pred_out[0], tgt_out[0], dataset_legend, subplots_kw={'figsize':[6,3]})\n",
    "\n",
    "plot_tension_prediction(pred_out[1], tgt_out[1], dataset_legend, figure_kw={'figsize':[3,3]})\n",
    "\n",
    "# # # # # # # # # # # # # #\n",
    "# # # Hara Ablation # # # #\n",
    "# # # # # # # # # # # # # #\n",
    "Abln_p, Abln_t, is_ros_ = predict_abln_tension(net, datasets_dict['A'], device=device)\n",
    "\n",
    "m1,m2 = np.polyfit(Abln_t[~is_ros_], Abln_p[~is_ros_], 1)\n",
    "y_fit = np.array([min(Abln_t),max(Abln_t)])*m1+m2\n",
    "\n",
    "plt.figure(figsize=[5,5])\n",
    "ax = plt.gca()\n",
    "ax.plot(Abln_t[~is_ros_], Abln_p[~is_ros_], 'o', mfc='tomato', ms=5, alpha=.5, label='w/o rosettes')\n",
    "ax.plot(Abln_t[is_ros_], Abln_p[is_ros_], 'd', mfc='royalblue', ms=5, alpha=.5, label='rosettes')\n",
    "\n",
    "ax.plot([min(Abln_t),max(Abln_t)], y_fit, 'k--',lw=3, alpha=.5, label=f'$f(x)={m1:.3f}x{\"+\" if m2>0 else \"-\"}{np.abs(m2):.3f}$')\n",
    "ax.set_title('Recoil vs Predicted Tension');\n",
    "ax.set_xlabel('Recoil');\n",
    "ax.set_ylabel('Tension(pred)');\n",
    "ax.legend();\n",
    "ax.axis('square')\n",
    "\n",
    "plt.show()\n",
    "print('- '*10+'-')\n",
    "print(f'NO___rosettes : R,p={pearsonr(Abln_t[~is_ros_], Abln_p[~is_ros_])}')\n",
    "print(f'WITH_rosettes : R,p={pearsonr(Abln_t, Abln_p)}')\n",
    "print('- '*10+'-')"
   ]
  },
  {
   "cell_type": "markdown",
   "metadata": {},
   "source": [
    "---"
   ]
  },
  {
   "cell_type": "markdown",
   "metadata": {},
   "source": [
    "**Check tension prediction, losses, and plots**"
   ]
  },
  {
   "cell_type": "code",
   "execution_count": 128,
   "metadata": {},
   "outputs": [],
   "source": [
    "# # # Predict for each sample w/o batching:\n",
    "\n",
    "# _, axs = plt.subplots(ncols=3, figsize=[20, 6], sharex=True, sharey=True)\n",
    "\n",
    "# tension_preds = {}\n",
    "# tension_trues = {}\n",
    "\n",
    "# for dataset_k, ax in zip(['train', 'val', 'val2'], axs):\n",
    "#     Tp, Tt =  predict_dataset_tension(net, datasets_dict[dataset_k],device=device)\n",
    "#     tension_preds[dataset_k] = Tp\n",
    "#     tension_trues[dataset_k] = Tt\n",
    "\n",
    "#     minmaxY = [np.min(np.concatenate([k.ravel() for k in Tt])),\n",
    "#                np.max(np.concatenate([k.ravel() for k in Tt]))] \n",
    "\n",
    "#     ax.plot(np.concatenate([k.ravel() for k in Tt]),\n",
    "#             np.concatenate([k.ravel() for k in Tp]),\n",
    "#             'o', ms=7, c='c', mfc='teal', alpha=.2)\n",
    "#     ax.plot(minmaxY, minmaxY, '--', color='orange', lw=3, alpha=.8)\n",
    "#     ax.set_title(dataset_legend[dataset_k]);\n",
    "#     ax.set_xlabel('True')\n",
    "#     ax.set_ylabel('Predicted')\n",
    "    \n",
    "#     sum_l2_losses, Nsamples = np.array([(((Tp_k-Tt_k)**2).sum(), Tp_k.shape[1])\n",
    "#                                     for Tp_k, Tt_k in zip(tension_preds[dataset_k], tension_trues[dataset_k])]).sum(axis=0)\n",
    "#     print(f'{dataset_k} MSE:', sum_l2_losses/Nsamples)"
   ]
  },
  {
   "cell_type": "code",
   "execution_count": 129,
   "metadata": {},
   "outputs": [],
   "source": [
    "# dataset_k = 'val2'\n",
    "\n",
    "# l2_loss = torch.nn.MSELoss(reduction='mean')\n",
    "# print('torch.nn.MSE:', l2_loss(torch.from_numpy(np.concatenate([T_k.ravel() for T_k in tension_trues[dataset_k]])),\n",
    "#                                torch.from_numpy(np.concatenate([T_k.ravel() for T_k in tension_preds[dataset_k]]))) )"
   ]
  },
  {
   "cell_type": "code",
   "execution_count": 15,
   "metadata": {},
   "outputs": [],
   "source": [
    "recoils = np.array([d.edge_recoils.numpy()[~np.isnan(d.edge_recoils.numpy())].item()\n",
    "                    for d in datasets_dict['A']])\n",
    "\n",
    "outlier_mask = np.logical_or(np.logical_and(recoils>1, Abln_p<-.9 ),\n",
    "                             np.logical_and(recoils<.45, Abln_p>.42 ))\n",
    "\n",
    "t=[]\n",
    "for k,fname_k  in enumerate(datasets_dict['A'].processed_file_names):\n",
    "    if outlier_mask[k]:\n",
    "        t.append(k)\n",
    "        print(f'({k:3}) {fname_k:35} [{recoils[k]:4.3f}]')\n",
    "\n",
    "# recoils[outlier_mask]"
   ]
  },
  {
   "cell_type": "code",
   "execution_count": 39,
   "metadata": {},
   "outputs": [],
   "source": [
    "# Normalised values\n",
    "# plt.plot(Abln_t, Abln_p, 'rx')\n",
    "# plt.plot(Abln_t[outlier_mask], Abln_p[outlier_mask], 'bo')\n",
    "# plt.plot(Abln_t[is_ros_], Abln_p[is_ros_], 'go')"
   ]
  },
  {
   "cell_type": "markdown",
   "metadata": {},
   "source": [
    "Recoil vs Predicted Tension"
   ]
  },
  {
   "cell_type": "code",
   "execution_count": 22,
   "metadata": {},
   "outputs": [
    {
     "data": {
      "image/png": "[encoded data removed]",
      "text/plain": [
       "<Figure size 432x288 with 1 Axes>"
      ]
     },
     "metadata": {
      "needs_background": "light"
     },
     "output_type": "display_data"
    }
   ],
   "source": [
    "# t=[26, 39, 16]\n",
    "plt.plot(recoils, Abln_p, 'rv')\n",
    "plt.plot(recoils[t], Abln_p[t], 'yo', ms=15, alpha=.25)\n",
    "plt.plot(recoils[outlier_mask], Abln_p[outlier_mask], 'bo')\n",
    "plt.plot(recoils[is_ros_], Abln_p[is_ros_], 'go')\n",
    "\n",
    "m1,m2 = np.polyfit(recoils[~np.logical_or(is_ros_, outlier_mask)], Abln_p[~np.logical_or(is_ros_, outlier_mask)], 1)\n",
    "y_fit = np.array([min(recoils),max(recoils)])*m1+m2\n",
    "plt.plot([min(recoils),max(recoils)], y_fit, 'r--', label=f'y={m1:.2f}x+({m2:.2f})')\n",
    "\n",
    "m1,m2 = np.polyfit(recoils, Abln_p, 1)\n",
    "y_fit = np.array([min(recoils),max(recoils)])*m1+m2\n",
    "plt.plot([min(recoils),max(recoils)], y_fit, 'b', label=f'y={m1:.2f}x+({m2:.2f})')\n",
    "\n",
    "plt.legend()\n",
    "# plt.axis('equal')\n",
    "plt.ylim([-1,1.1])\n",
    "plt.show()"
   ]
  },
  {
   "cell_type": "markdown",
   "metadata": {},
   "source": [
    "- `'140530_Dacat_recoil_sample3_1.pt', 16` is systematically underestimated (potentially recoil has error)"
   ]
  },
  {
   "cell_type": "code",
   "execution_count": 148,
   "metadata": {},
   "outputs": [
    {
     "data": {
      "image/png": "[encoded data removed]",
      "text/plain": [
       "<Figure size 144x144 with 1 Axes>"
      ]
     },
     "metadata": {},
     "output_type": "display_data"
    }
   ],
   "source": [
    "t = 16\n",
    "plt.figure(figsize=[2,2])\n",
    "e_k = np.where(~np.isnan(datasets_dict['A'][t].edge_recoils.numpy()))[0].item()\n",
    "v_st_k = datasets_dict['A'][t].edge_index[:, datasets_dict['A'][t].edge_id==e_k]\n",
    "v_st_pos = datasets_dict['A'][t].pos[v_st_k[:,0]]\n",
    "\n",
    "nx.draw(to_networkx(datasets_dict['A'][t]),pos=dict(enumerate(datasets_dict['A'][t].pos.numpy())), node_size=10)\n",
    "plt.plot(v_st_pos[:,0], v_st_pos[:,1], 'r', lw=4)\n",
    "plt.title(datasets_dict['A'].processed_file_names[t]+f'\\n{datasets_dict[\"A\"][t].edge_recoils[e_k]:6.3f}');\n",
    "plt.gca().invert_yaxis();"
   ]
  },
  {
   "cell_type": "code",
   "execution_count": 17,
   "metadata": {},
   "outputs": [
    {
     "name": "stdout",
     "output_type": "stream",
     "text": [
      "R,p=(0.3566019260753303, 0.009461648945573402)\n"
     ]
    },
    {
     "data": {
      "image/png": "[encoded data removed]",
      "text/plain": [
       "<Figure size 720x216 with 2 Axes>"
      ]
     },
     "metadata": {
      "needs_background": "light"
     },
     "output_type": "display_data"
    }
   ],
   "source": [
    "y_gt, y_pred = Abln_t[~np.logical_or(is_ros_, outlier_mask)], Abln_p[~np.logical_or(is_ros_, outlier_mask)]\n",
    "# y_gt, y_pred = Abln_t[~is_ros_], Abln_p[~is_ros_]\n",
    "# y_gt, y_pred = Abln_t, Abln_p\n",
    "\n",
    "\n",
    "y_pred_scaled = (y_pred- y_pred.mean())/y_pred.std()\n",
    "\n",
    "fig,axs = plt.subplots(nrows=1,ncols=2,figsize=[10,3])\n",
    "axs = axs.ravel()\n",
    "axs[0].plot([y_gt[~np.isnan(y_gt)].min(),y_gt[~np.isnan(y_gt)].max()],\n",
    "            [y_gt[~np.isnan(y_gt)].min(),y_gt[~np.isnan(y_gt)].max()],'--',c='orange',lw=3)\n",
    "axs[0].plot(y_gt[~np.isnan(y_gt)], y_pred_scaled, 'o',ms=5,c='teal')\n",
    "axs[0].set_aspect('equal')\n",
    "axs[0].set_xlabel('Target/Ground truth')\n",
    "axs[0].set_ylabel('Predicted')\n",
    "\n",
    "axs[1].hist(y_gt,alpha=.6, color='darkorange', label='Ground truth');\n",
    "axs[1].hist(y_pred_scaled,alpha=.8,color='teal',label='Predicted')\n",
    "axs[1].set_xlabel('Recoil (normalised)')\n",
    "axs[1].set_ylabel('Count')\n",
    "axs[1].legend();\n",
    "\n",
    "from scipy.stats import pearsonr\n",
    "print(f'R,p={pearsonr(y_gt[~np.isnan(y_gt)], y_pred)}')"
   ]
  },
  {
   "cell_type": "markdown",
   "metadata": {},
   "source": [
    "### Check saved model"
   ]
  },
  {
   "cell_type": "code",
   "execution_count": 19,
   "metadata": {},
   "outputs": [],
   "source": [
    "# Simulation dataset\n",
    "Tnrm = {k: [Pos2Vec(scale=l_0['sim']),\n",
    "            ScaleVelocity(l_0['sim']),\n",
    "            ScaleTension(t_sd[k], shift=t_av[k]),\n",
    "           ]\n",
    "        for k in ['sim', 'single_distr_sims', 'unimodal_wbasetens_sims']}\n",
    "\n",
    "# Hara ablation dataset\n",
    "Tnrm['abln'] = [Pos2Vec(scale=l_0['abln']),\n",
    "                ScaleVelocity(l_0['abln']),\n",
    "                RecoilAsTension(), \n",
    "                ScaleTension(t_sd['abln'], shift=t_av['abln']),\n",
    "               ]\n",
    "\n",
    "# Hara movie dataset\n",
    "Tnrm['hara'] = [Pos2Vec(scale=l_0['hara']), ScaleVelocity(l_0['hara'])]\n",
    "\n",
    "# Convert to undirected graph and append \"edge features\"\n",
    "#\n",
    "# Node and Edge Feature Transforms\n",
    "for k in Tnrm:\n",
    "    # to undirected graph: add e_ji for all e_ij\n",
    "    Tnrm[k].append(AppendReversedEdges())\n",
    "    \n",
    "#     # Add edge features\n",
    "    Tnrm[k].append(AppendDiff_x())\n",
    "#     Tnrm[k].append(AppendEdgeNorm())\n",
    "    Tnrm[k].append(AppendEdgeLen(norm=True, scale=l_0[k])) # for edge masks\n",
    "    \n",
    "    # flatten  node features\n",
    "    Tnrm[k].append(Reshape_x((-1,window_size*2)))\n",
    "    \n",
    "    Tnrm[k] = T.Compose(Tnrm[k])"
   ]
  },
  {
   "cell_type": "code",
   "execution_count": 20,
   "metadata": {},
   "outputs": [
    {
     "name": "stdout",
     "output_type": "stream",
     "text": [
      "rm: cannot remove 'simgnn_data/single_distr_sims/train/processed': No such file or directory\n",
      "rm: cannot remove 'simgnn_data/hara_movies/processed': No such file or directory\n",
      "rm: cannot remove 'simgnn_data/hara_movies_as_sep_datasets/hara_seg003/processed/': No such file or directory\n",
      "rm: cannot remove 'simgnn_data/hara_movies_as_sep_datasets/hara_seg005/processed/': No such file or directory\n"
     ]
    }
   ],
   "source": [
    "clear_processed_datasets()"
   ]
  },
  {
   "cell_type": "code",
   "execution_count": 21,
   "metadata": {},
   "outputs": [
    {
     "name": "stdout",
     "output_type": "stream",
     "text": [
      "Processing...\n",
      "Done!\n",
      "Processing...\n",
      "Done!\n",
      "Processing...\n",
      "Done!\n",
      "Processing...\n",
      "Done!\n",
      "Processing...\n",
      "Done!\n"
     ]
    }
   ],
   "source": [
    "hara_abln = HaraAblation('simgnn_data/hara_ablation/', window_size=window_size,\n",
    "                         transform=Tnrm['abln'], smoothing=True, sma_lag_time=3)\n",
    "\n",
    "# Hara movie datasets\n",
    "seg001 = HaraMovies('simgnn_data/hara_movies_as_sep_datasets/hara_seg001/', window_size=window_size,\n",
    "                    transform=Tnrm['hara'], smoothing=True, sma_lag_time=sma_lag_time)\n",
    "\n",
    "# Simulation datasets\n",
    "# rand base contractility\n",
    "sim1 = VertexDynamics('./simgnn_data/unimodal_wbasetens_sims/train/', window_size=window_size,\n",
    "                      transform=Tnrm['unimodal_wbasetens_sims'])\n",
    "sim1_val = VertexDynamics('./simgnn_data/unimodal_wbasetens_sims/val/', window_size=window_size,\n",
    "                          transform=Tnrm['unimodal_wbasetens_sims'])\n",
    "\n",
    "# w/o base contractility\n",
    "sim2_val = VertexDynamics('./simgnn_data/single_distr_sims/val/', window_size=window_size,\n",
    "                          transform=Tnrm['single_distr_sims']\n",
    "                         )\n",
    "\n",
    "\n",
    "datasets_dict = {'train': sim1,\n",
    "                 'val': sim1_val[:len(sim1_val)//2]+sim1_val[len(sim1_val)//2:-1],\n",
    "                 'val2': sim2_val[:len(sim2_val)//2]+sim1_val[len(sim2_val)//2:-1],\n",
    "                 'H1' : seg001,\n",
    "                 'A': hara_abln,\n",
    "                 'sim1mov': sim1_val,\n",
    "                 'sim2mov': sim2_val\n",
    "                }\n",
    "dataset_legend={'train': 'Train(sim1)',\n",
    "                'val': r'Supervised ($\\mathcal{D}_{sim1}$)',\n",
    "                'val2': r'Sim2sim ($\\mathcal{D}_{sim2})$',\n",
    "                'H1': r'Sim2real ($\\mathcal{H}_1$)',\n",
    "                'A': r'Sim2real ($v_{recoil}$)',\n",
    "                'sim1mov': r'Supervised ($\\mathcal{D}_{sim1}$)',\n",
    "                'sim2mov': r'Sim2sim ($\\mathcal{D}_{sim2})$'\n",
    "               }"
   ]
  },
  {
   "cell_type": "markdown",
   "metadata": {},
   "source": [
    "In `saved_models/thesis/tension_GN_sim2sim_x`:\n",
    "- `GNN3_res_bs2w5_30epochs_net_`: 2-dim-l edge attr `(no norm)`\n",
    "- `GNN3_res_EdgeNorm` : edge attr 3-dims `(2 spatial+norm)`\n",
    "- `GNN3_res_DiffX` : edge attr 17-dims `(2 spatial + 5x2 diff x_vert+ 5 diff_x norms)`\n",
    "- `GNN{k}_res_DiffX_dropout0.2_bs2w5_1000epochs_net_`: GNN(k) with dropout=0.2 trained for 1000 epochs \n",
    "- `GNN{k}_res_DiffX_IgnrShrtEdge_dropout0.2_bs2w5_1000epochs_net_`: GNN(k) with dropout=0.2 trained for 1000 epochs; short edges were ignored during training (threshold `l_k/l_0<1e-3`)"
   ]
  },
  {
   "cell_type": "code",
   "execution_count": 36,
   "metadata": {},
   "outputs": [
    {
     "name": "stdout",
     "output_type": "stream",
     "text": [
      "gnn_n_id: GNN50\n",
      "Loaded :\n",
      "\t GNN50_bs2w5_30epochs_net.pkl\n",
      "train_loss_tot , 1.0001459272573525\n",
      "train_loss_y , 0.002133141853646239\n",
      "train_loss_T , 0.9980127854037063\n",
      "train_loss_P , 0.0\n",
      "val_loss_tot , 0.9524898127698442\n",
      "val_loss_y , 0.0019450096843713644\n",
      "val_loss_T , 0.9505448030854728\n",
      "val_loss_P , 0.0\n",
      "val2_loss_tot , 0.9716436489416501\n",
      "val2_loss_y , 0.0020325982675958145\n",
      "val2_loss_T , 0.9696110506740543\n",
      "val2_loss_P , 0.0\n",
      "H1_loss_tot , 0.0003079240902134955\n",
      "H1_loss_y , 0.0003079240902134955\n",
      "H1_loss_T , 0.0\n",
      "H1_loss_P , 0.0\n",
      "\n"
     ]
    },
    {
     "data": {
      "image/png": "[encoded data removed]",
      "text/plain": [
       "<Figure size 432x216 with 2 Axes>"
      ]
     },
     "metadata": {
      "needs_background": "light"
     },
     "output_type": "display_data"
    },
    {
     "data": {
      "image/png": "[encoded data removed]",
      "text/plain": [
       "<Figure size 432x216 with 2 Axes>"
      ]
     },
     "metadata": {
      "needs_background": "light"
     },
     "output_type": "display_data"
    },
    {
     "data": {
      "image/png": "[encoded data removed]",
      "text/plain": [
       "<Figure size 432x216 with 2 Axes>"
      ]
     },
     "metadata": {
      "needs_background": "light"
     },
     "output_type": "display_data"
    },
    {
     "data": {
      "image/png": "[encoded data removed]",
      "text/plain": [
       "<Figure size 432x216 with 2 Axes>"
      ]
     },
     "metadata": {
      "needs_background": "light"
     },
     "output_type": "display_data"
    },
    {
     "data": {
      "image/png": "[encoded data removed]",
      "text/plain": [
       "<Figure size 216x216 with 1 Axes>"
      ]
     },
     "metadata": {
      "needs_background": "light"
     },
     "output_type": "display_data"
    },
    {
     "data": {
      "image/png": "[encoded data removed]",
      "text/plain": [
       "<Figure size 216x216 with 1 Axes>"
      ]
     },
     "metadata": {
      "needs_background": "light"
     },
     "output_type": "display_data"
    },
    {
     "data": {
      "image/png": "[encoded data removed]",
      "text/plain": [
       "<Figure size 216x216 with 1 Axes>"
      ]
     },
     "metadata": {
      "needs_background": "light"
     },
     "output_type": "display_data"
    },
    {
     "data": {
      "image/png": "[encoded data removed]",
      "text/plain": [
       "<Figure size 360x360 with 1 Axes>"
      ]
     },
     "metadata": {
      "needs_background": "light"
     },
     "output_type": "display_data"
    },
    {
     "name": "stdout",
     "output_type": "stream",
     "text": [
      "- - - - - - - - - - -\n",
      "NO___rosettes : R,p=(nan, nan)\n",
      "WITH_rosettes : R,p=(nan, nan)\n",
      "- - - - - - - - - - -\n"
     ]
    },
    {
     "name": "stderr",
     "output_type": "stream",
     "text": [
      "/mnt/mbi/home/murat/.local/lib/python3.8/site-packages/scipy/stats/stats.py:3913: PearsonRConstantInputWarning: An input array is constant; the correlation coefficent is not defined.\n",
      "  warnings.warn(PearsonRConstantInputWarning())\n"
     ]
    }
   ],
   "source": [
    "# GNN architecture (if dim is `int` latent dims nodes=edges)\n",
    "# -----\n",
    "n_blocks = 50\n",
    "dropout_p = 0 #.1 # dropout for hidden layers & GN blocks (if any)\n",
    "is_residual = False\n",
    "input_dims = OrderedDict([('node', 10), ('edge', 2)])\n",
    "\n",
    "gnn_n = get_simple_gnn(n_blocks=n_blocks, dropout_p=dropout_p, is_residual=is_residual,\n",
    "                       input_dims=input_dims, device=device)\n",
    "\n",
    "gnn_n_id = f'GNN{n_blocks}{\"_res\" if is_residual else \"\"}'  # unique name for the model\n",
    "\n",
    "print('gnn_n_id:', gnn_n_id)\n",
    "\n",
    "save_dir = path.join('simgnn_data/saved_models/thesis','tension_GN_sim2sim')\n",
    "gnn_n_name = gnn_n_id+'_bs2w5_30epochs_net.pkl'\n",
    "\n",
    "# save_dir = path.join('simgnn_data/saved_models/thesis','tension_GN_sim2sim_x')\n",
    "# gnn_n_name = 'GNN3_res_EdgeNorm_bs2w5_30epochs_net_4.pkl'\n",
    "# gnn_n_name = 'GNN3_res_bs2w5_30epochs_net_4.pkl'\n",
    "# gnn_n_name = f'GNN{n_blocks}_res_DiffX_dropout0.2_bs2w5_1000epochs_net_1.pkl'\n",
    "\n",
    "gnn_n_param_dict = torch.load(path.join(save_dir, gnn_n_name), map_location=device)\n",
    "gnn_n.load_state_dict(gnn_n_param_dict)\n",
    "gnn_n.eval();\n",
    "print('Loaded :\\n\\t', gnn_n_name)\n",
    "\n",
    "\n",
    "# compute predictions and plot them\n",
    "# vel-y, tens, pres\n",
    "bs = 2\n",
    "\n",
    "pred_out, tgt_out, sample_losses = predict_batch(gnn_n,\n",
    "                                                 {'train' : DataLoader(datasets_dict['train'], batch_size=bs),\n",
    "                                                  'val':    DataLoader(datasets_dict['val'],  batch_size=bs),\n",
    "                                                  'val2':   DataLoader(datasets_dict['val2'], batch_size=bs),\n",
    "                                                  'H1':   DataLoader(datasets_dict['H1'], batch_size=bs),\n",
    "#                                                   'A':   DataLoader(datasets_dict['A'], batch_size=bs)\n",
    "                                                 },\n",
    "                                                 loss_func=torch.nn.MSELoss(reduction='sum'),\n",
    "                                                 use_force_loss = {'train': True,\n",
    "                                                                   'val': True,\n",
    "                                                                   'val2': True,\n",
    "                                                                   'H1' : False,\n",
    "                                                                   'A':True\n",
    "                                                                  },\n",
    "                                                 return_losses = True, device=device)\n",
    "print(''.join([f'{k} , {sample_losses[k]}\\n' for k in sample_losses]))\n",
    "\n",
    "plot_velocity_predictions(pred_out[0], tgt_out[0], dataset_legend, subplots_kw={'figsize':[6,3]})\n",
    "\n",
    "plot_tension_prediction(pred_out[1], tgt_out[1], dataset_legend, figure_kw={'figsize':[3,3]})\n",
    "\n",
    "# # # # # # # # # # # # # #\n",
    "# # # Hara Ablation # # # #\n",
    "# # # # # # # # # # # # # #\n",
    "Abln_p, Abln_t, is_ros_ = predict_abln_tension(gnn_n, datasets_dict['A'], device=device)\n",
    "\n",
    "m1,m2 = np.polyfit(Abln_t[~is_ros_], Abln_p[~is_ros_], 1)\n",
    "y_fit = np.array([min(Abln_t),max(Abln_t)])*m1+m2\n",
    "\n",
    "plt.figure(figsize=[5,5])\n",
    "ax = plt.gca()\n",
    "ax.plot(Abln_t[~is_ros_], Abln_p[~is_ros_], 'o', mfc='tomato', ms=5, alpha=.5, label='w/o rosettes')\n",
    "ax.plot(Abln_t[is_ros_], Abln_p[is_ros_], 'd', mfc='royalblue', ms=5, alpha=.5, label='rosettes')\n",
    "\n",
    "ax.plot([min(Abln_t),max(Abln_t)], y_fit, 'k--',lw=3, alpha=.5, label=f'$f(x)={m1:.3f}x{\"+\" if m2>0 else \"-\"}{np.abs(m2):.3f}$')\n",
    "ax.set_title('Recoil vs Predicted Tension');\n",
    "ax.set_xlabel('Recoil');\n",
    "ax.set_ylabel('Tension(pred)');\n",
    "ax.legend();\n",
    "ax.axis('square')\n",
    "\n",
    "plt.show()\n",
    "print('- '*10+'-')\n",
    "print(f'NO___rosettes : R,p={pearsonr(Abln_t[~is_ros_], Abln_p[~is_ros_])}')\n",
    "print(f'WITH_rosettes : R,p={pearsonr(Abln_t, Abln_p)}')\n",
    "print('- '*10+'-')"
   ]
  },
  {
   "cell_type": "code",
   "execution_count": 220,
   "metadata": {},
   "outputs": [],
   "source": [
    "# gnn_n_train_log = load_log(path.join(save_dir, gnn_n_id+'_bs2w5_1000epochs_train_log.pkl'))\n",
    "\n",
    "# print(gnn_n_train_log['model'])\n",
    "\n",
    "# # plot losses\n",
    "# plot_losses(gnn_n_train_log, {'train':[],'val':[]}, dataset_legend)"
   ]
  },
  {
   "cell_type": "code",
   "execution_count": 221,
   "metadata": {},
   "outputs": [],
   "source": [
    "# recoils = np.array([d.edge_recoils.numpy()[~np.isnan(d.edge_recoils.numpy())].item()\n",
    "#                     for d in datasets_dict['A']])\n",
    "\n",
    "# outlier_mask = np.logical_or(np.logical_and(recoils>1, Abln_p<-.9 ),\n",
    "#                              np.logical_and(recoils<.45, Abln_p>.42 ))\n",
    "\n",
    "# t=[]\n",
    "# for k,fname_k  in enumerate(datasets_dict['A'].processed_file_names):\n",
    "#     if outlier_mask[k]:\n",
    "#         t.append(k)\n",
    "#         print(f'({k:3}) {fname_k:35} [{recoils[k]:4.3f}]')\n",
    "\n",
    "# # recoils[outlier_mask]"
   ]
  },
  {
   "cell_type": "code",
   "execution_count": 222,
   "metadata": {},
   "outputs": [],
   "source": [
    "# # t=[26, 39, 16]\n",
    "# plt.plot(recoils, Abln_p, 'rv')\n",
    "# plt.plot(recoils[t], Abln_p[t], 'yo', ms=15, alpha=.25)\n",
    "# plt.plot(recoils[outlier_mask], Abln_p[outlier_mask], 'bo')\n",
    "# plt.plot(recoils[is_ros_], Abln_p[is_ros_], 'go')\n",
    "\n",
    "# m1,m2 = np.polyfit(recoils[~np.logical_or(is_ros_, outlier_mask)], Abln_p[~np.logical_or(is_ros_, outlier_mask)], 1)\n",
    "# y_fit = np.array([min(recoils),max(recoils)])*m1+m2\n",
    "# plt.plot([min(recoils),max(recoils)], y_fit, 'r--', label=f'y={m1:.2f}x+({m2:.2f})')\n",
    "\n",
    "# m1,m2 = np.polyfit(recoils, Abln_p, 1)\n",
    "# y_fit = np.array([min(recoils),max(recoils)])*m1+m2\n",
    "# plt.plot([min(recoils),max(recoils)], y_fit, 'b', label=f'y={m1:.2f}x+({m2:.2f})')\n",
    "\n",
    "# plt.legend()\n",
    "# # plt.axis('equal')\n",
    "# plt.show()"
   ]
  },
  {
   "cell_type": "code",
   "execution_count": 223,
   "metadata": {},
   "outputs": [],
   "source": [
    "# y_gt, y_pred = Abln_t[~np.logical_or(is_ros_, outlier_mask)], Abln_p[~np.logical_or(is_ros_, outlier_mask)]\n",
    "# # y_gt, y_pred = Abln_t[~is_ros_], Abln_p[~is_ros_]\n",
    "# # y_gt, y_pred = Abln_t, Abln_p\n",
    "\n",
    "\n",
    "# y_pred_scaled = (y_pred- y_pred.mean())/y_pred.std()\n",
    "\n",
    "# fig,axs = plt.subplots(nrows=1,ncols=2,figsize=[10,3])\n",
    "# axs = axs.ravel()\n",
    "# axs[0].plot([y_gt[~np.isnan(y_gt)].min(),y_gt[~np.isnan(y_gt)].max()],\n",
    "#             [y_gt[~np.isnan(y_gt)].min(),y_gt[~np.isnan(y_gt)].max()],'--',c='orange',lw=3)\n",
    "# axs[0].plot(y_gt[~np.isnan(y_gt)], y_pred_scaled, 'o',ms=5,c='teal')\n",
    "# axs[0].set_aspect('equal')\n",
    "# axs[0].set_xlabel('Target/Ground truth')\n",
    "# axs[0].set_ylabel('Predicted')\n",
    "\n",
    "# axs[1].hist(y_gt,alpha=.6, color='darkorange', label='Ground truth');\n",
    "# axs[1].hist(y_pred_scaled,alpha=.8,color='teal',label='Predicted')\n",
    "# axs[1].set_xlabel('Recoil (normalised)')\n",
    "# axs[1].set_ylabel('Count')\n",
    "# axs[1].legend();\n",
    "\n",
    "# from scipy.stats import pearsonr\n",
    "# print(f'R,p={pearsonr(y_gt[~np.isnan(y_gt)], y_pred)}')"
   ]
  },
  {
   "cell_type": "markdown",
   "metadata": {
    "tags": []
   },
   "source": [
    "### Simulation Datasets as Movies"
   ]
  },
  {
   "cell_type": "code",
   "execution_count": 31,
   "metadata": {},
   "outputs": [
    {
     "name": "stdout",
     "output_type": "stream",
     "text": [
      "sim1mov\n",
      "sim2mov\n"
     ]
    },
    {
     "data": {
      "text/plain": [
       "{'sim1mov': {'sim005': VertexDynamics(56), 'sim006': VertexDynamics(56)},\n",
       " 'sim2mov': {'sim005': VertexDynamics(56), 'sim006': VertexDynamics(56)}}"
      ]
     },
     "execution_count": 31,
     "metadata": {},
     "output_type": "execute_result"
    }
   ],
   "source": [
    "dataset_mov_names = {}\n",
    "dataset_mov_idx = {}\n",
    "dataset_mov = {}\n",
    "\n",
    "for dataset_k in ['sim1mov', 'sim2mov']:\n",
    "    print(dataset_k)\n",
    "\n",
    "    d_names_list = [k.split('_')[2] for k in datasets_dict[dataset_k].processed_file_names]\n",
    "    \n",
    "    dataset_mov_names[dataset_k] = {k : ki for ki, k in enumerate(np.unique(d_names_list))}\n",
    "    \n",
    "    dataset_mov_idx[dataset_k] = torch.tensor([dataset_mov_names[dataset_k][k] for k in d_names_list])\n",
    "    \n",
    "    dataset_mov[dataset_k] = {k:datasets_dict[dataset_k][dataset_mov_names[dataset_k][k]==dataset_mov_idx[dataset_k]]\n",
    "                              for k in dataset_mov_names[dataset_k]}\n",
    "dataset_mov"
   ]
  },
  {
   "cell_type": "markdown",
   "metadata": {},
   "source": [
    "### Model Predictions for Movies\n",
    "> Predict `(Velocity[T+1], Tension[T])` for movies"
   ]
  },
  {
   "cell_type": "code",
   "execution_count": 32,
   "metadata": {},
   "outputs": [],
   "source": [
    "from simgnn.train import np_loss_wrt_time, predict_abln_tension, predict_dataset_tension, predict_dataset\n",
    "\n",
    "from scipy.stats import pearsonr"
   ]
  },
  {
   "cell_type": "code",
   "execution_count": 33,
   "metadata": {},
   "outputs": [],
   "source": [
    "velocity_scale = {'train':l_0['sim'], 'val':l_0['sim'], 'val2':l_0['sim'],\n",
    "                  'sim1mov': l_0['sim'], 'sim2mov': l_0['sim'],\n",
    "                  'H1':l_0['hara'], 'A':l_0['abln'],\n",
    "                 }"
   ]
  },
  {
   "cell_type": "code",
   "execution_count": 34,
   "metadata": {},
   "outputs": [],
   "source": [
    "ignore_short_edges, edge_len_threshold = True, 10**-3"
   ]
  },
  {
   "cell_type": "code",
   "execution_count": 35,
   "metadata": {},
   "outputs": [
    {
     "name": "stdout",
     "output_type": "stream",
     "text": [
      "----------\n",
      "sim1mov\n",
      "\t sim005 : len=56; E_n=339; V_n=240; C_n=100;\n",
      "Losses: Vel-y=0.0009; E_len=0.0013; Tension=0.4126;Tension(mask)=0.3435\n",
      "\t sim006 : len=56; E_n=275; V_n=196; C_n=80;\n",
      "Losses: Vel-y=0.0011; E_len=0.0016; Tension=0.4546;Tension(mask)=0.3698\n",
      "----------\n",
      "sim2mov\n",
      "\t sim005 : len=56; E_n=431; V_n=304; C_n=128;\n",
      "Losses: Vel-y=0.0014; E_len=0.0022; Tension=0.5504;Tension(mask)=0.3445\n",
      "\t sim006 : len=56; E_n=531; V_n=372; C_n=160;\n",
      "Losses: Vel-y=0.0012; E_len=0.0020; Tension=0.5114;Tension(mask)=0.3492\n"
     ]
    }
   ],
   "source": [
    "model_results = {}\n",
    "loss_type = 'mse'\n",
    "\n",
    "for dataset_k in dataset_mov:\n",
    "    print('-'*10+'\\n'+dataset_k)\n",
    "    model_results[dataset_k] = {}\n",
    "    for mov_k in dataset_mov[dataset_k]:\n",
    "        e_num = 0\n",
    "        if dataset_mov[dataset_k][mov_k][0].edge_tensions!=None:\n",
    "            e_num = dataset_mov[dataset_k][mov_k][0].edge_tensions.size(0)\n",
    "        \n",
    "        print('\\t',mov_k,f': len={len(dataset_mov[dataset_k][mov_k])};',\n",
    "              f'E_n={e_num};',\n",
    "              f'V_n={dataset_mov[dataset_k][mov_k][0].num_nodes};',\n",
    "              f'C_n={dataset_mov[dataset_k][mov_k][0].num_cells};')\n",
    "\n",
    "        model_results[dataset_k][mov_k] = predict_dataset(gnn_n, dataset_mov[dataset_k][mov_k],device=device, concat=True)\n",
    "        \n",
    "        edge_index = dataset_mov[dataset_k][mov_k][0].edge_index[:,torch.unique(dataset_mov[dataset_k][mov_k][0].edge_id)]\n",
    "        model_results[dataset_k][mov_k]['edge_index'] = edge_index\n",
    "        \n",
    "        pos = np.concatenate([d.pos.reshape(1,-1,2) for d in dataset_mov[dataset_k][mov_k]],axis=0)\n",
    "        model_results[dataset_k][mov_k]['targets']['pos'] = pos\n",
    "        \n",
    "        edge_lengths = np.linalg.norm(pos[:, edge_index[1],:] - pos[:, edge_index[0],:], axis=-1)\n",
    "        model_results[dataset_k][mov_k]['targets']['edge_lengths'] = edge_lengths\n",
    "        \n",
    "        dx_unnorm = velocity_scale[dataset_k]*model_results[dataset_k][mov_k]['predictions']['velocity']\n",
    "        # pos predictions w/ velocity (except for first pos)\n",
    "        pos_preds = np.concatenate([pos[:1],(pos+dx_unnorm)[:-1]], axis=0)\n",
    "        model_results[dataset_k][mov_k]['predictions']['pos'] = pos_preds\n",
    "\n",
    "        model_results[dataset_k][mov_k]['predictions']['edge_lengths'] = np.linalg.norm(pos_preds[:, edge_index[1],:] - pos_preds[:, edge_index[0],:], axis=-1)\n",
    "        if ignore_short_edges:\n",
    "            edge_mask = np.all(np.concatenate([dk.edge_length.numpy().reshape(1,-1)\n",
    "                                               for dk in dataset_mov[dataset_k][mov_k]], axis=0) > edge_len_threshold, axis=0)\n",
    "            model_results[dataset_k][mov_k]['predictions']['edge_masks'] = edge_mask\n",
    "        else:\n",
    "            model_results[dataset_k][mov_k]['predictions']['edge_masks'] = None\n",
    "        \n",
    "        model_results[dataset_k][mov_k]['loss'] = {}\n",
    "        if len(model_results[dataset_k][mov_k]['targets']['velocity'])>0:\n",
    "            model_results[dataset_k][mov_k]['loss']['velocity'] = np_loss_wrt_time(\n",
    "                model_results[dataset_k][mov_k]['predictions']['velocity'],\n",
    "                model_results[dataset_k][mov_k]['targets']['velocity'])\n",
    "        else:\n",
    "            model_results[dataset_k][mov_k]['loss']['velocity'] = np.array([np.nan])\n",
    "        \n",
    "        if len(model_results[dataset_k][mov_k]['targets']['tension'])>0:\n",
    "            model_results[dataset_k][mov_k]['loss']['tension'] = np_loss_wrt_time(\n",
    "                model_results[dataset_k][mov_k]['predictions']['tension'],\n",
    "                model_results[dataset_k][mov_k]['targets']['tension'])\n",
    "        else:\n",
    "            model_results[dataset_k][mov_k]['loss']['tension'] = np.array([np.nan])\n",
    "        \n",
    "        if ignore_short_edges:\n",
    "            model_results[dataset_k][mov_k]['loss']['tension_mask'] = model_results[dataset_k][mov_k]['loss']['tension'].copy()\n",
    "            if len(edge_mask)==len(model_results[dataset_k][mov_k]['loss']['tension_mask']):\n",
    "                model_results[dataset_k][mov_k]['loss']['tension_mask'][~edge_mask] = np.nan\n",
    "            else:\n",
    "                model_results[dataset_k][mov_k]['loss']['tension_mask'] = np.array([np.nan])\n",
    "        else:\n",
    "            model_results[dataset_k][mov_k]['loss']['tension_mask'] = None\n",
    "        model_results[dataset_k][mov_k]['loss']['edge_lengths'] = np_loss_wrt_time(model_results[dataset_k][mov_k]['predictions']['edge_lengths'],\n",
    "                                                                                   model_results[dataset_k][mov_k]['targets']['edge_lengths'])\n",
    "        print(f\"Losses: Vel-y={model_results[dataset_k][mov_k]['loss']['velocity'].mean():6.4f}; \"+\n",
    "              f\"E_len={model_results[dataset_k][mov_k]['loss']['edge_lengths'].mean():6.4f}; \"+\n",
    "              f\"Tension={model_results[dataset_k][mov_k]['loss']['tension'].mean():6.4f};\"+\n",
    "             f\"Tension(mask)={np.nanmean(model_results[dataset_k][mov_k]['loss']['tension_mask']) if ignore_short_edges else 0.0:6.4f}\")"
   ]
  },
  {
   "cell_type": "markdown",
   "metadata": {},
   "source": [
    "```\n",
    "GNN_1\n",
    "----------\n",
    "sim1mov\n",
    "\t sim005 : len=56; E_n=339; V_n=240; C_n=100;\n",
    "Losses: Vel-y=0.0008; E_len=0.0012; Tension=0.4078;Tension(mask)=0.3510\n",
    "\t sim006 : len=56; E_n=275; V_n=196; C_n=80;\n",
    "Losses: Vel-y=0.0010; E_len=0.0015; Tension=0.4332;Tension(mask)=0.3734\n",
    "----------\n",
    "sim2mov\n",
    "\t sim005 : len=56; E_n=431; V_n=304; C_n=128;\n",
    "Losses: Vel-y=0.0013; E_len=0.0021; Tension=0.5389;Tension(mask)=0.3368\n",
    "\t sim006 : len=56; E_n=531; V_n=372; C_n=160;\n",
    "Losses: Vel-y=0.0011; E_len=0.0018; Tension=0.5039;Tension(mask)=0.3381\n",
    "----------\n",
    "\n",
    "GNN_3\n",
    "----------\n",
    "sim1mov\n",
    "\t sim005 : len=56; E_n=339; V_n=240; C_n=100;\n",
    "Losses: Vel-y=0.0009; E_len=0.0013; Tension=0.4201;Tension(mask)=0.3550\n",
    "\t sim006 : len=56; E_n=275; V_n=196; C_n=80;\n",
    "Losses: Vel-y=0.0011; E_len=0.0016; Tension=0.4497;Tension(mask)=0.3790\n",
    "----------\n",
    "sim2mov\n",
    "\t sim005 : len=56; E_n=431; V_n=304; C_n=128;\n",
    "Losses: Vel-y=0.0014; E_len=0.0023; Tension=0.5496;Tension(mask)=0.3260\n",
    "\t sim006 : len=56; E_n=531; V_n=372; C_n=160;\n",
    "Losses: Vel-y=0.0012; E_len=0.0020; Tension=0.4967;Tension(mask)=0.3277\n",
    "-----------\n",
    "\n",
    "GNN_5\n",
    "----------\n",
    "sim1mov\n",
    "\t sim005 : len=56; E_n=339; V_n=240; C_n=100;\n",
    "Losses: Vel-y=0.0009; E_len=0.0013; Tension=0.4213;Tension(mask)=0.3538\n",
    "\t sim006 : len=56; E_n=275; V_n=196; C_n=80;\n",
    "Losses: Vel-y=0.0011; E_len=0.0016; Tension=0.4505;Tension(mask)=0.3741\n",
    "----------\n",
    "sim2mov\n",
    "\t sim005 : len=56; E_n=431; V_n=304; C_n=128;\n",
    "Losses: Vel-y=0.0014; E_len=0.0023; Tension=0.5056;Tension(mask)=0.2953\n",
    "\t sim006 : len=56; E_n=531; V_n=372; C_n=160;\n",
    "Losses: Vel-y=0.0012; E_len=0.0019; Tension=0.4538;Tension(mask)=0.2926\n",
    "----------\n",
    "\n",
    "GNN_10\n",
    "----------\n",
    "sim1mov\n",
    "\t sim005 : len=56; E_n=339; V_n=240; C_n=100;\n",
    "Losses: Vel-y=0.0010; E_len=0.0014; Tension=0.4306;Tension(mask)=0.3557\n",
    "\t sim006 : len=56; E_n=275; V_n=196; C_n=80;\n",
    "Losses: Vel-y=0.0011; E_len=0.0016; Tension=0.4334;Tension(mask)=0.3670\n",
    "----------\n",
    "sim2mov\n",
    "\t sim005 : len=56; E_n=431; V_n=304; C_n=128;\n",
    "Losses: Vel-y=0.0014; E_len=0.0023; Tension=0.5380;Tension(mask)=0.3405\n",
    "\t sim006 : len=56; E_n=531; V_n=372; C_n=160;\n",
    "Losses: Vel-y=0.0012; E_len=0.0020; Tension=0.5076;Tension(mask)=0.3334\n",
    "```\n"
   ]
  },
  {
   "cell_type": "markdown",
   "metadata": {},
   "source": [
    "### Predicted Dynamics"
   ]
  },
  {
   "cell_type": "code",
   "execution_count": 229,
   "metadata": {},
   "outputs": [],
   "source": [
    "# ['train', 'val', 'val2']['movie_1',...,'movie_N']['predictions', 'targets', 'edge_index']"
   ]
  },
  {
   "cell_type": "code",
   "execution_count": null,
   "metadata": {},
   "outputs": [],
   "source": [
    "dataset_names = ['sim1mov', 'sim2mov'] # list(model_results.keys())\n",
    "\n",
    "fig, axs = plt.subplots(nrows=len(dataset_names), ncols=3, figsize=[25,1+2.5*len(dataset_names)], sharex='col')\n",
    "\n",
    "dataset_var_minmax = {}\n",
    "\n",
    "for dataset_k, ax_k in zip(dataset_names, axs): #zip(, axs):\n",
    "    dataset_var_minmax[dataset_k] = {}\n",
    "    for k, var_k in enumerate(['velocity', 'edge_lengths', 'tension']):\n",
    "        dataset_var_minmax[dataset_k][var_k] = np.array([[np.quantile(model_results[dataset_k][mov_k]['targets'][var_k], 0.01),\n",
    "                                                          np.quantile(model_results[dataset_k][mov_k]['targets'][var_k], 0.995)]\n",
    "                                                         for mov_k in model_results[dataset_k]])\n",
    "        dataset_var_minmax[dataset_k][var_k] = [dataset_var_minmax[dataset_k][var_k][:,0].min(), dataset_var_minmax[dataset_k][var_k][:,1].max()]\n",
    "\n",
    "        ax_k[k].hist([model_results[dataset_k][mov_k]['loss'][var_k] for mov_k in model_results[dataset_k]],\n",
    "                     label=[mov_k for mov_k in model_results[dataset_k]], alpha=.5, density=True, stacked=False)\n",
    "        ax_k[k].legend()\n",
    "        if dataset_k==dataset_names[0]:\n",
    "            ax_k[k].set_title(f'{var_k}')\n",
    "    ax_k[0].set_ylabel(f'{dataset_k}')\n",
    "plt.suptitle('Losses')\n",
    "plt.show()\n",
    "\n",
    "var_limits = {k:np.array([dataset_var_minmax[k_up][k] for k_up in dataset_var_minmax]) for k in ['velocity', 'edge_lengths', 'tension']}\n",
    "var_limits = {var_k:[var_limits[var_k][:,0].min(), var_limits[var_k][:,1].max()] for var_k in var_limits}"
   ]
  },
  {
   "cell_type": "code",
   "execution_count": 37,
   "metadata": {},
   "outputs": [
    {
     "data": {
      "text/plain": [
       "{'velocity': [-0.12831154346466064, 0.15395249962806698],\n",
       " 'edge_lengths': [0.0004144500286201947, 3.003029745817185],\n",
       " 'tension': [-1.4892891240119934, 3.707299780845643]}"
      ]
     },
     "execution_count": 37,
     "metadata": {},
     "output_type": "execute_result"
    }
   ],
   "source": [
    "var_limits"
   ]
  },
  {
   "cell_type": "code",
   "execution_count": 38,
   "metadata": {},
   "outputs": [],
   "source": [
    "# fig, axs = plt.subplots(nrows=len(model_results), ncols=3, figsize=[15,10])\n",
    "# for dataset_k, ax_k in zip(model_results, axs):\n",
    "#     for mov_n in model_results[dataset_k]:\n",
    "#         ax_k[0].plot(model_results[dataset_k][mov_n]['targets']['velocity'][:,:,0].ravel(),\n",
    "#                      model_results[dataset_k][mov_n]['predictions']['velocity'][:,:,0].ravel(), 'o',\n",
    "#                      # label=mov_n,\n",
    "#                      c='tomato',\n",
    "#                      ms=3, alpha=.5)\n",
    "#         ax_k[0].set_ylabel('True')\n",
    "#         ax_k[0].set_xlabel('Predicted')\n",
    "#         ax_k[0].set_title(f'{dataset_k}: '+r'$\\Delta{}x_0$')\n",
    "#         ax_k[0].plot(var_limits['velocity'], var_limits['velocity'], '--', color='b', lw=3, alpha=.25)\n",
    "#         ax_k[0].axis([-.1,.1,-.1,.1])\n",
    "#         ax_k[0].set_aspect('equal')\n",
    "        \n",
    "#         ax_k[1].plot(model_results[dataset_k][mov_n]['targets']['velocity'][:,:,1].ravel(),\n",
    "#                      model_results[dataset_k][mov_n]['predictions']['velocity'][:,:,1].ravel(), 'o',\n",
    "#                      # label=mov_n,\n",
    "#                      c='tomato',\n",
    "#                      ms=3, alpha=.5)\n",
    "#         ax_k[1].set_ylabel('True')\n",
    "#         ax_k[1].set_xlabel('Predicted')\n",
    "#         ax_k[1].set_title(f'{dataset_k}: '+r'$\\Delta{}x_1$')\n",
    "#         ax_k[1].sharex(ax_k[0])\n",
    "#         ax_k[1].sharey(ax_k[0])\n",
    "#         ax_k[1].plot(var_limits['velocity'], var_limits['velocity'], '--', color='b', lw=3, alpha=.25)\n",
    "        \n",
    "#         if len(model_results[dataset_k][mov_n]['targets']['tension'])>0:\n",
    "#             ax_k[2].plot(model_results[dataset_k][mov_n]['targets']['tension'].ravel(),\n",
    "#                          model_results[dataset_k][mov_n]['predictions']['tension'].ravel(), 'd',\n",
    "#                          # label=mov_n,\n",
    "#                          c='b',\n",
    "#                          ms=5, alpha=.15)\n",
    "            \n",
    "#             edge_masks = model_results[dataset_k][mov_n]['predictions']['edge_masks']\n",
    "\n",
    "#             ax_k[2].plot(model_results[dataset_k][mov_n]['targets']['tension'][:,edge_masks].ravel(),\n",
    "#                          model_results[dataset_k][mov_n]['predictions']['tension'][:,edge_masks].ravel(), 'o',\n",
    "#                          # label=mov_n,\n",
    "#                          c='darkorange',\n",
    "#                          ms=5, alpha=.3)\n",
    "            \n",
    "#         ax_k[2].set_ylabel('True')\n",
    "#         ax_k[2].set_xlabel('Predicted')\n",
    "#         ax_k[2].set_title(f'{dataset_k}: tension')\n",
    "#         ax_k[2].plot(var_limits['tension'], var_limits['tension'], '--', color='teal', lw=3, alpha=.5)\n",
    "#         ax_k[2].set_aspect('equal')\n",
    "        \n",
    "#     # ax_k[0].legend()\n",
    "#     # ax_k[1].legend()\n",
    "#     # ax_k[2].legend()"
   ]
  },
  {
   "cell_type": "markdown",
   "metadata": {},
   "source": [
    "**Select edges based on trajectopry errors:**"
   ]
  },
  {
   "cell_type": "code",
   "execution_count": 39,
   "metadata": {},
   "outputs": [
    {
     "name": "stdout",
     "output_type": "stream",
     "text": [
      "sim1mov :\n",
      "   sim005 : [ 19  28  29  80  91 121 138 208 228 237 325]\n",
      "   sim006 : [  1  19  25  47 115 145 154 184 215]\n",
      "sim2mov :\n",
      "   sim005 : [ 29  35  53  67  73  76  87  91  92 105 139 167 170 195 196 198 199 201\n",
      " 261 276 279 280 283 306 321 332 352 354 365 370 371 419 425 428 430]\n",
      "   sim006 : [ 13  14  21  35  55  67 124 132 159 177 187 190 207 221 242 289 295 296\n",
      " 307 343 370 376 380 384 386 433 440 445 449 483 489]\n"
     ]
    }
   ],
   "source": [
    "MIN_TENSION_ERROR = 1.4\n",
    "# edge ids for selected loss thresholds\n",
    "tension_errors_model = {dataname_k:{} for dataname_k in ['sim1mov', 'sim2mov']}\n",
    "for dataname_k in ['sim1mov', 'sim2mov']:\n",
    "    print(dataname_k, ':')\n",
    "    for mov_k in model_results[dataname_k]:\n",
    "        tension_errors_model[dataname_k][mov_k] = (model_results[dataname_k][mov_k]['loss']['tension']>MIN_TENSION_ERROR).nonzero()[0]\n",
    "        print('  ',mov_k, ':', tension_errors_model[dataname_k][mov_k])"
   ]
  },
  {
   "cell_type": "code",
   "execution_count": 40,
   "metadata": {},
   "outputs": [],
   "source": [
    "# tension_errors = tension_errors_model"
   ]
  },
  {
   "cell_type": "code",
   "execution_count": 41,
   "metadata": {},
   "outputs": [],
   "source": [
    "# edge ids for selected loss >2 for model:\"07122021_202217_model_04122021_bs2w5\"\n",
    "tension_errors = {'sim1mov': {'sim005': [19, 65, 91, 121, 214, 237, 325],\n",
    "                          'sim006': [4, 17, 25, 47, 99, 115, 137, 145, 215, 256]},\n",
    "                  'sim2mov':{'sim005': [53, 73, 87, 92, 97, 105, 133, 139, 196, 199, 261, 280, 344, 352, 371, 404, 419, 425],\n",
    "                          'sim006': [21, 55, 67, 89, 159, 190, 207, 221, 242, 289, 295, 343, 370, 380, 384, 445, 483]}\n",
    "                 }"
   ]
  },
  {
   "cell_type": "code",
   "execution_count": null,
   "metadata": {},
   "outputs": [],
   "source": [
    "np.random.seed(0)\n",
    "for dataname_k in tension_errors:\n",
    "    for mov_k in tension_errors[dataname_k]:\n",
    "        print('-'*10+'\\n',f'{dataname_k}:{mov_k}\\n')\n",
    "        N_plots = min([3*(len(tension_errors[dataname_k][mov_k])//3), 15])\n",
    "        \n",
    "        e_ids = np.sort(np.random.choice(tension_errors[dataname_k][mov_k], size=(N_plots,), replace=False))\n",
    "        \n",
    "        fig, axs = plt.subplots(nrows=N_plots//3, ncols=3, figsize=[20, 6*(N_plots//3)+1], gridspec_kw={'wspace':.5, 'hspace':.5})\n",
    "\n",
    "        for k, ax in zip(e_ids, axs.ravel()):\n",
    "            # Edge tensions\n",
    "            Te_tgt = model_results[dataname_k][mov_k]['targets']['tension'][:,k]\n",
    "            Te_pred = model_results[dataname_k][mov_k]['predictions']['tension'][:,k]\n",
    "            Te_loss = model_results[dataname_k][mov_k]['loss']['tension'][k] # Tension pred-n loss\n",
    "            # Edge lengths\n",
    "            Le_tgt = model_results[dataname_k][mov_k]['targets']['edge_lengths'][:,k]\n",
    "            Le_pred = model_results[dataname_k][mov_k]['predictions']['edge_lengths'][:,k]\n",
    "            \n",
    "            p1, = ax.plot(Te_tgt, '--', c='royalblue', alpha=0.7, lw=3, label=r'$T_{tgt}$')\n",
    "            ax.plot(Te_pred, c='teal', alpha=0.4, lw=3, label=r'$T_{pred}$')\n",
    "            \n",
    "            ax2 = ax.twinx()\n",
    "            p2, = ax2.plot(Le_tgt, c='crimson', alpha=0.7, lw=3, label=r'$L_{tgt}$')\n",
    "            ax2.plot(Le_pred, c='darkorange', alpha=0.7, lw=3, label=r'$L_{pred}$')\n",
    "            \n",
    "            ax.set_xlabel(f'Frames (edge {k})', fontsize=12)\n",
    "            ax.set_title(f'MSE_t={Te_loss:.3f}', fontsize=12)\n",
    "            ax.set_ylabel(r'Tension', color=p1.get_color())\n",
    "            ax.tick_params(axis='y', labelcolor=p1.get_color())\n",
    "            ax.set_ylim(var_limits['tension'][0], var_limits['tension'][1])\n",
    "            \n",
    "            ax2.set_ylabel(r'Edge Length', color=p2.get_color())\n",
    "            ax2.tick_params(axis='y', labelcolor=p2.get_color())\n",
    "            ax2.set_ylim(var_limits['edge_lengths'][0], var_limits['edge_lengths'][1])\n",
    "            \n",
    "            ax2.legend(loc='upper right')\n",
    "            ax.legend(loc='upper left')\n",
    "        plt.suptitle(f'{dataname_k}:{mov_k}', fontsize=15, y=0.93)\n",
    "        # plt.savefig(f'./{dataname_k}_{mov_k}_tension_dynamics_prediction_LOW_error.png',dpi=100, bbox_inches=\"tight\")\n",
    "        plt.show()\n",
    "        plt.close()"
   ]
  },
  {
   "cell_type": "code",
   "execution_count": null,
   "metadata": {},
   "outputs": [],
   "source": []
  }
 ],
 "metadata": {
  "hide_input": false,
  "kernelspec": {
   "display_name": "Python 3",
   "language": "python",
   "name": "python3"
  },
  "language_info": {
   "codemirror_mode": {
    "name": "ipython",
    "version": 3
   },
   "file_extension": ".py",
   "mimetype": "text/x-python",
   "name": "python",
   "nbconvert_exporter": "python",
   "pygments_lexer": "ipython3",
   "version": "3.8.5"
  },
  "toc": {
   "base_numbering": 1,
   "nav_menu": {},
   "number_sections": true,
   "sideBar": true,
   "skip_h1_title": true,
   "title_cell": "Table of Contents",
   "title_sidebar": "Contents",
   "toc_cell": false,
   "toc_position": {
    "height": "calc(100% - 180px)",
    "left": "10px",
    "top": "150px",
    "width": "211.796875px"
   },
   "toc_section_display": true,
   "toc_window_display": false
  }
 },
 "nbformat": 4,
 "nbformat_minor": 4
}
